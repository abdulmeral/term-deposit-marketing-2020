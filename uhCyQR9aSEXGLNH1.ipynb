{
 "cells": [
  {
   "cell_type": "markdown",
   "metadata": {},
   "source": [
    "<h1>Content</h1>\n",
    "<h3>You can display on "https://nbviewer.jupyter.org/" properly</h3>\n"
    "\n",
    "<div class=\"alert alert-block alert-info\" style=\"margin-top: 10px\">\n",
    "    <ol>\n",
    "        <li><a href=\"#1\">Load Libraries</a></li>\n",
    "        <li><a href=\"#2\">Load Dataset</a></li>\n",
    "        <li><a href=\"#3\">Exploratory Data Analysis (EDA)</a></li>\n",
    "        <li><a href=\"#4\">Visualizing — Categorical Variables</a></li>\n",
    "        <li><a href=\"#5\">Visualizing — Numeric Variables</a></li>\n",
    "        <li><a href=\"#6\">Feature Engineering</a></li>\n",
    "            <ol>\n",
    "                <li><a href=\"#15\">Drop Outliers</a></li>\n",
    "                <li><a href=\"#7\">Define Inputs</a></li>\n",
    "                <li><a href=\"#8\">Log Transformations</a></li>              \n",
    "                <li><a href=\"#9\">One Hot Encoding</a></li>\n",
    "                <li><a href=\"#10\">Define Target Feature and One Hot Encoding</a></li>\n",
    "            </ol>        \n",
    "        <li><a href=\"#11\">Prepare Imbalanced Dataset for Classification</a></li>\n",
    "            <ol>\n",
    "                <li><a href=\"#12\">Evaluate Data Oversampling Models</a></li>\n",
    "                <li><a href=\"#13\">Evaluate Machine Learning Models</a></li>\n",
    "                <li><a href=\"#14\">Choose Best Models</a></li>                \n",
    "                <li><a href=\"#16\">Results On Graph</a></li>\n",
    "                <li><a href=\"#17\">Choose The Best Models and Make Hyper Parameters Tuning</a></li>\n",
    "            </ol>\n",
    "        <li><a href=\"#18\">Customer Segmentation</a></li>\n",
    "            <ol>\n",
    "                <li><a href=\"#19\">Find Recency, Monetary and Frequency</a></li>\n",
    "                <li><a href=\"#20\">RFM Segmentation</a></li>\n",
    "                <li><a href=\"#21\">Who are my best customers?</a></li>                \n",
    "                <li><a href=\"#22\">Summing the RFM Score</a></li>\n",
    "                <li><a href=\"#23\">Making Segmentation For Customers Depends On RFM Sum Score</a></li>\n",
    "            </ol>\n",
    "    </ol>\n",
    "</div>\n",
    "<br>\n",
    "<hr>"
   ]
  },
  {
   "cell_type": "markdown",
   "metadata": {},
   "source": [
    "<a id=\"1\"></a>\n",
    "## Load Libraries"
   ]
  },
  {
   "cell_type": "code",
   "execution_count": 23,
   "metadata": {},
   "outputs": [
    {
     "data": {
      "text/html": [
       "        <script type=\"text/javascript\">\n",
       "        window.PlotlyConfig = {MathJaxConfig: 'local'};\n",
       "        if (window.MathJax) {MathJax.Hub.Config({SVG: {font: \"STIX-Web\"}});}\n",
       "        if (typeof require !== 'undefined') {\n",
       "        require.undef(\"plotly\");\n",
       "        requirejs.config({\n",
       "            paths: {\n",
       "                'plotly': ['https://cdn.plot.ly/plotly-latest.min']\n",
       "            }\n",
       "        });\n",
       "        require(['plotly'], function(Plotly) {\n",
       "            window._Plotly = Plotly;\n",
       "        });\n",
       "        }\n",
       "        </script>\n",
       "        "
      ]
     },
     "metadata": {},
     "output_type": "display_data"
    }
   ],
   "source": [
    "import numpy as np\n",
    "import pandas as pd\n",
    "import matplotlib.pyplot as plt\n",
    "import plotly\n",
    "import plotly.figure_factory as ff\n",
    "from plotly.graph_objs import Scatter, Layout\n",
    "import plotly.offline as pyo \n",
    "import plotly.graph_objs as go \n",
    "%matplotlib inline\n",
    "#\n",
    "from sklearn.model_selection import RepeatedStratifiedKFold\n",
    "from sklearn.model_selection import KFold \n",
    "from sklearn.model_selection import cross_val_score\n",
    "from sklearn.model_selection import train_test_split \n",
    "from sklearn.preprocessing import StandardScaler\n",
    "from sklearn.model_selection import GridSearchCV \n",
    "#\n",
    "from sklearn.linear_model import LogisticRegression \n",
    "from sklearn.tree import DecisionTreeClassifier \n",
    "from sklearn.neighbors import KNeighborsClassifier \n",
    "from sklearn.ensemble import RandomForestClassifier\n",
    "from sklearn.naive_bayes import GaussianNB \n",
    "from sklearn.svm import SVC\n",
    "from sklearn.tree import DecisionTreeClassifier \n",
    "#\n",
    "from sklearn.ensemble import AdaBoostClassifier \n",
    "from sklearn.ensemble import GradientBoostingClassifier \n",
    "from sklearn.ensemble import RandomForestClassifier \n",
    "from sklearn.ensemble import ExtraTreesClassifier\n",
    "#\n",
    "from xgboost import XGBClassifier\n",
    "from sklearn.neural_network import MLPClassifier\n",
    "#\n",
    "from imblearn.over_sampling import RandomOverSampler\n",
    "from imblearn.over_sampling import SMOTE\n",
    "from imblearn.over_sampling import BorderlineSMOTE\n",
    "from imblearn.over_sampling import SVMSMOTE\n",
    "from imblearn.over_sampling import ADASYN\n",
    "#\n",
    "from sklearn.metrics import classification_report \n",
    "from sklearn.metrics import confusion_matrix \n",
    "from sklearn.metrics import accuracy_score \n",
    "#\n",
    "from imblearn.pipeline import Pipeline\n",
    "from sklearn.preprocessing import MinMaxScaler\n",
    "import itertools\n",
    "import seaborn as sns\n",
    "plotly.offline.init_notebook_mode(connected=True)\n",
    "from plotly.offline import download_plotlyjs, init_notebook_mode, plot, iplot\n",
    "#\n",
    "pd.set_option('display.max_columns', None)\n",
    "pd.set_option('display.max_rows', None)\n",
    "#\n",
    "import warnings\n",
    "warnings.filterwarnings(\"ignore\")"
   ]
  },
  {
   "cell_type": "markdown",
   "metadata": {},
   "source": [
    "<a id=\"2\"></a>\n",
    "## Load Dataset"
   ]
  },
  {
   "cell_type": "code",
   "execution_count": 13,
   "metadata": {
    "scrolled": true
   },
   "outputs": [
    {
     "data": {
      "text/html": [
       "<div>\n",
       "<style scoped>\n",
       "    .dataframe tbody tr th:only-of-type {\n",
       "        vertical-align: middle;\n",
       "    }\n",
       "\n",
       "    .dataframe tbody tr th {\n",
       "        vertical-align: top;\n",
       "    }\n",
       "\n",
       "    .dataframe thead th {\n",
       "        text-align: right;\n",
       "    }\n",
       "</style>\n",
       "<table border=\"1\" class=\"dataframe\">\n",
       "  <thead>\n",
       "    <tr style=\"text-align: right;\">\n",
       "      <th></th>\n",
       "      <th>age</th>\n",
       "      <th>job</th>\n",
       "      <th>marital</th>\n",
       "      <th>education</th>\n",
       "      <th>default</th>\n",
       "      <th>balance</th>\n",
       "      <th>housing</th>\n",
       "      <th>loan</th>\n",
       "      <th>contact</th>\n",
       "      <th>day</th>\n",
       "      <th>month</th>\n",
       "      <th>duration</th>\n",
       "      <th>campaign</th>\n",
       "      <th>y</th>\n",
       "    </tr>\n",
       "  </thead>\n",
       "  <tbody>\n",
       "    <tr>\n",
       "      <th>0</th>\n",
       "      <td>58</td>\n",
       "      <td>management</td>\n",
       "      <td>married</td>\n",
       "      <td>tertiary</td>\n",
       "      <td>no</td>\n",
       "      <td>2143</td>\n",
       "      <td>yes</td>\n",
       "      <td>no</td>\n",
       "      <td>unknown</td>\n",
       "      <td>5</td>\n",
       "      <td>may</td>\n",
       "      <td>261</td>\n",
       "      <td>1</td>\n",
       "      <td>no</td>\n",
       "    </tr>\n",
       "    <tr>\n",
       "      <th>1</th>\n",
       "      <td>44</td>\n",
       "      <td>technician</td>\n",
       "      <td>single</td>\n",
       "      <td>secondary</td>\n",
       "      <td>no</td>\n",
       "      <td>29</td>\n",
       "      <td>yes</td>\n",
       "      <td>no</td>\n",
       "      <td>unknown</td>\n",
       "      <td>5</td>\n",
       "      <td>may</td>\n",
       "      <td>151</td>\n",
       "      <td>1</td>\n",
       "      <td>no</td>\n",
       "    </tr>\n",
       "    <tr>\n",
       "      <th>2</th>\n",
       "      <td>33</td>\n",
       "      <td>entrepreneur</td>\n",
       "      <td>married</td>\n",
       "      <td>secondary</td>\n",
       "      <td>no</td>\n",
       "      <td>2</td>\n",
       "      <td>yes</td>\n",
       "      <td>yes</td>\n",
       "      <td>unknown</td>\n",
       "      <td>5</td>\n",
       "      <td>may</td>\n",
       "      <td>76</td>\n",
       "      <td>1</td>\n",
       "      <td>no</td>\n",
       "    </tr>\n",
       "    <tr>\n",
       "      <th>3</th>\n",
       "      <td>47</td>\n",
       "      <td>blue-collar</td>\n",
       "      <td>married</td>\n",
       "      <td>unknown</td>\n",
       "      <td>no</td>\n",
       "      <td>1506</td>\n",
       "      <td>yes</td>\n",
       "      <td>no</td>\n",
       "      <td>unknown</td>\n",
       "      <td>5</td>\n",
       "      <td>may</td>\n",
       "      <td>92</td>\n",
       "      <td>1</td>\n",
       "      <td>no</td>\n",
       "    </tr>\n",
       "    <tr>\n",
       "      <th>4</th>\n",
       "      <td>33</td>\n",
       "      <td>unknown</td>\n",
       "      <td>single</td>\n",
       "      <td>unknown</td>\n",
       "      <td>no</td>\n",
       "      <td>1</td>\n",
       "      <td>no</td>\n",
       "      <td>no</td>\n",
       "      <td>unknown</td>\n",
       "      <td>5</td>\n",
       "      <td>may</td>\n",
       "      <td>198</td>\n",
       "      <td>1</td>\n",
       "      <td>no</td>\n",
       "    </tr>\n",
       "  </tbody>\n",
       "</table>\n",
       "</div>"
      ],
      "text/plain": [
       "   age           job  marital  education default  balance housing loan  \\\n",
       "0   58    management  married   tertiary      no     2143     yes   no   \n",
       "1   44    technician   single  secondary      no       29     yes   no   \n",
       "2   33  entrepreneur  married  secondary      no        2     yes  yes   \n",
       "3   47   blue-collar  married    unknown      no     1506     yes   no   \n",
       "4   33       unknown   single    unknown      no        1      no   no   \n",
       "\n",
       "   contact  day month  duration  campaign   y  \n",
       "0  unknown    5   may       261         1  no  \n",
       "1  unknown    5   may       151         1  no  \n",
       "2  unknown    5   may        76         1  no  \n",
       "3  unknown    5   may        92         1  no  \n",
       "4  unknown    5   may       198         1  no  "
      ]
     },
     "execution_count": 13,
     "metadata": {},
     "output_type": "execute_result"
    }
   ],
   "source": [
    "df = pd.read_csv(\"term-deposit-marketing-2020.csv\")\n",
    "df.head()"
   ]
  },
  {
   "cell_type": "markdown",
   "metadata": {},
   "source": [
    "* Data Description:\n",
    "\n",
    "    * The marketing campaign involves making a phone call to a customer, often multiple times to ensure a product subscription, in this case a term deposit. Term deposits are usually short-term deposits with maturities ranging from one month to a few years. The customer must understand when buying a term deposit that they can withdraw their funds only after the term ends. All customer information that might reveal personal information is removed due to privacy concerns.\n",
    "\n",
    "* Attributes:\n",
    "    * age : age of customer (numeric)\n",
    "    * job : type of job (categorical)\n",
    "    * marital : marital status (categorical)\n",
    "    * education (categorical)\n",
    "    * default: has credit in default? (binary)\n",
    "    * balance: average yearly balance, in euros (numeric)\n",
    "    * housing: has a housing loan? (binary)\n",
    "    * loan: has personal loan? (binary)\n",
    "    * contact: contact communication type (categorical)\n",
    "    * day: last contact day of the month (numeric)\n",
    "    * month: last contact month of year (categorical)\n",
    "    * duration: last contact duration, in seconds (numeric)\n",
    "    * campaign: number of contacts performed during this campaign and for this client (numeric, includes last contact)\n",
    "\n",
    "* Output (desired target):\n",
    "    * y - has the client subscribed to a term deposit? (binary)"
   ]
  },
  {
   "cell_type": "markdown",
   "metadata": {},
   "source": [
    "* Goal(s):\n",
    "\n",
    "    * Predict if the customer will subscribe (yes/no) to a term deposit (variable y)\n"
   ]
  },
  {
   "cell_type": "markdown",
   "metadata": {},
   "source": [
    "* Success Metric(s):\n",
    "\n",
    "    * Hit %81 or above accuracy by evaluating with 5-fold cross validation and reporting the average performance score."
   ]
  },
  {
   "cell_type": "markdown",
   "metadata": {},
   "source": [
    "* Bonus(es):\n",
    "\n",
    "    * We are also interested in finding customers who are more likely to buy the investment product. Determine the segment(s) of customers our client should prioritize.\n",
    "\n",
    "    * What makes the customers buy? Tell us which feature we should be focusing more on."
   ]
  },
  {
   "cell_type": "markdown",
   "metadata": {},
   "source": [
    "<a id=\"3\"></a>\n",
    "## Exploratory Data Analysis (EDA)"
   ]
  },
  {
   "cell_type": "code",
   "execution_count": 3,
   "metadata": {},
   "outputs": [
    {
     "data": {
      "text/plain": [
       "(40000, 14)"
      ]
     },
     "execution_count": 3,
     "metadata": {},
     "output_type": "execute_result"
    }
   ],
   "source": [
    "# Shape of Dataset\n",
    "df.shape"
   ]
  },
  {
   "cell_type": "code",
   "execution_count": 4,
   "metadata": {},
   "outputs": [
    {
     "name": "stdout",
     "output_type": "stream",
     "text": [
      "<class 'pandas.core.frame.DataFrame'>\n",
      "RangeIndex: 40000 entries, 0 to 39999\n",
      "Data columns (total 14 columns):\n",
      " #   Column     Non-Null Count  Dtype \n",
      "---  ------     --------------  ----- \n",
      " 0   age        40000 non-null  int64 \n",
      " 1   job        40000 non-null  object\n",
      " 2   marital    40000 non-null  object\n",
      " 3   education  40000 non-null  object\n",
      " 4   default    40000 non-null  object\n",
      " 5   balance    40000 non-null  int64 \n",
      " 6   housing    40000 non-null  object\n",
      " 7   loan       40000 non-null  object\n",
      " 8   contact    40000 non-null  object\n",
      " 9   day        40000 non-null  int64 \n",
      " 10  month      40000 non-null  object\n",
      " 11  duration   40000 non-null  int64 \n",
      " 12  campaign   40000 non-null  int64 \n",
      " 13  y          40000 non-null  object\n",
      "dtypes: int64(5), object(9)\n",
      "memory usage: 4.3+ MB\n"
     ]
    }
   ],
   "source": [
    "# Info of Dataset\n",
    "df.info()"
   ]
  },
  {
   "cell_type": "code",
   "execution_count": 5,
   "metadata": {},
   "outputs": [
    {
     "data": {
      "text/html": [
       "<div>\n",
       "<style scoped>\n",
       "    .dataframe tbody tr th:only-of-type {\n",
       "        vertical-align: middle;\n",
       "    }\n",
       "\n",
       "    .dataframe tbody tr th {\n",
       "        vertical-align: top;\n",
       "    }\n",
       "\n",
       "    .dataframe thead th {\n",
       "        text-align: right;\n",
       "    }\n",
       "</style>\n",
       "<table border=\"1\" class=\"dataframe\">\n",
       "  <thead>\n",
       "    <tr style=\"text-align: right;\">\n",
       "      <th></th>\n",
       "      <th>count</th>\n",
       "      <th>mean</th>\n",
       "      <th>std</th>\n",
       "      <th>min</th>\n",
       "      <th>25%</th>\n",
       "      <th>50%</th>\n",
       "      <th>75%</th>\n",
       "      <th>max</th>\n",
       "    </tr>\n",
       "  </thead>\n",
       "  <tbody>\n",
       "    <tr>\n",
       "      <th>age</th>\n",
       "      <td>40000.0</td>\n",
       "      <td>40.544600</td>\n",
       "      <td>9.641776</td>\n",
       "      <td>19.0</td>\n",
       "      <td>33.0</td>\n",
       "      <td>39.0</td>\n",
       "      <td>48.0</td>\n",
       "      <td>95.0</td>\n",
       "    </tr>\n",
       "    <tr>\n",
       "      <th>balance</th>\n",
       "      <td>40000.0</td>\n",
       "      <td>1274.277550</td>\n",
       "      <td>2903.769716</td>\n",
       "      <td>-8019.0</td>\n",
       "      <td>54.0</td>\n",
       "      <td>407.0</td>\n",
       "      <td>1319.0</td>\n",
       "      <td>102127.0</td>\n",
       "    </tr>\n",
       "    <tr>\n",
       "      <th>day</th>\n",
       "      <td>40000.0</td>\n",
       "      <td>16.017225</td>\n",
       "      <td>8.278127</td>\n",
       "      <td>1.0</td>\n",
       "      <td>8.0</td>\n",
       "      <td>17.0</td>\n",
       "      <td>21.0</td>\n",
       "      <td>31.0</td>\n",
       "    </tr>\n",
       "    <tr>\n",
       "      <th>duration</th>\n",
       "      <td>40000.0</td>\n",
       "      <td>254.824300</td>\n",
       "      <td>259.366498</td>\n",
       "      <td>0.0</td>\n",
       "      <td>100.0</td>\n",
       "      <td>175.0</td>\n",
       "      <td>313.0</td>\n",
       "      <td>4918.0</td>\n",
       "    </tr>\n",
       "    <tr>\n",
       "      <th>campaign</th>\n",
       "      <td>40000.0</td>\n",
       "      <td>2.882175</td>\n",
       "      <td>3.239051</td>\n",
       "      <td>1.0</td>\n",
       "      <td>1.0</td>\n",
       "      <td>2.0</td>\n",
       "      <td>3.0</td>\n",
       "      <td>63.0</td>\n",
       "    </tr>\n",
       "  </tbody>\n",
       "</table>\n",
       "</div>"
      ],
      "text/plain": [
       "            count         mean          std     min    25%    50%     75%  \\\n",
       "age       40000.0    40.544600     9.641776    19.0   33.0   39.0    48.0   \n",
       "balance   40000.0  1274.277550  2903.769716 -8019.0   54.0  407.0  1319.0   \n",
       "day       40000.0    16.017225     8.278127     1.0    8.0   17.0    21.0   \n",
       "duration  40000.0   254.824300   259.366498     0.0  100.0  175.0   313.0   \n",
       "campaign  40000.0     2.882175     3.239051     1.0    1.0    2.0     3.0   \n",
       "\n",
       "               max  \n",
       "age           95.0  \n",
       "balance   102127.0  \n",
       "day           31.0  \n",
       "duration    4918.0  \n",
       "campaign      63.0  "
      ]
     },
     "execution_count": 5,
     "metadata": {},
     "output_type": "execute_result"
    }
   ],
   "source": [
    "# Describe of Dataset\n",
    "df.describe().T"
   ]
  },
  {
   "cell_type": "code",
   "execution_count": 6,
   "metadata": {},
   "outputs": [
    {
     "data": {
      "text/html": [
       "<div>\n",
       "<style scoped>\n",
       "    .dataframe tbody tr th:only-of-type {\n",
       "        vertical-align: middle;\n",
       "    }\n",
       "\n",
       "    .dataframe tbody tr th {\n",
       "        vertical-align: top;\n",
       "    }\n",
       "\n",
       "    .dataframe thead th {\n",
       "        text-align: right;\n",
       "    }\n",
       "</style>\n",
       "<table border=\"1\" class=\"dataframe\">\n",
       "  <thead>\n",
       "    <tr style=\"text-align: right;\">\n",
       "      <th></th>\n",
       "      <th>age</th>\n",
       "      <th>balance</th>\n",
       "      <th>day</th>\n",
       "      <th>duration</th>\n",
       "      <th>campaign</th>\n",
       "    </tr>\n",
       "  </thead>\n",
       "  <tbody>\n",
       "    <tr>\n",
       "      <th>age</th>\n",
       "      <td>1.000000</td>\n",
       "      <td>0.081517</td>\n",
       "      <td>-0.011689</td>\n",
       "      <td>-0.036270</td>\n",
       "      <td>0.016204</td>\n",
       "    </tr>\n",
       "    <tr>\n",
       "      <th>balance</th>\n",
       "      <td>0.081517</td>\n",
       "      <td>1.000000</td>\n",
       "      <td>0.011662</td>\n",
       "      <td>0.014072</td>\n",
       "      <td>-0.008137</td>\n",
       "    </tr>\n",
       "    <tr>\n",
       "      <th>day</th>\n",
       "      <td>-0.011689</td>\n",
       "      <td>0.011662</td>\n",
       "      <td>1.000000</td>\n",
       "      <td>-0.032983</td>\n",
       "      <td>0.165429</td>\n",
       "    </tr>\n",
       "    <tr>\n",
       "      <th>duration</th>\n",
       "      <td>-0.036270</td>\n",
       "      <td>0.014072</td>\n",
       "      <td>-0.032983</td>\n",
       "      <td>1.000000</td>\n",
       "      <td>-0.088387</td>\n",
       "    </tr>\n",
       "    <tr>\n",
       "      <th>campaign</th>\n",
       "      <td>0.016204</td>\n",
       "      <td>-0.008137</td>\n",
       "      <td>0.165429</td>\n",
       "      <td>-0.088387</td>\n",
       "      <td>1.000000</td>\n",
       "    </tr>\n",
       "  </tbody>\n",
       "</table>\n",
       "</div>"
      ],
      "text/plain": [
       "               age   balance       day  duration  campaign\n",
       "age       1.000000  0.081517 -0.011689 -0.036270  0.016204\n",
       "balance   0.081517  1.000000  0.011662  0.014072 -0.008137\n",
       "day      -0.011689  0.011662  1.000000 -0.032983  0.165429\n",
       "duration -0.036270  0.014072 -0.032983  1.000000 -0.088387\n",
       "campaign  0.016204 -0.008137  0.165429 -0.088387  1.000000"
      ]
     },
     "execution_count": 6,
     "metadata": {},
     "output_type": "execute_result"
    }
   ],
   "source": [
    "# Correlation\n",
    "df.corr()"
   ]
  },
  {
   "cell_type": "code",
   "execution_count": 7,
   "metadata": {},
   "outputs": [
    {
     "data": {
      "text/plain": [
       "no     0.9276\n",
       "yes    0.0724\n",
       "Name: y, dtype: float64"
      ]
     },
     "execution_count": 7,
     "metadata": {},
     "output_type": "execute_result"
    }
   ],
   "source": [
    "# Distribution of Target\n",
    "df.y.value_counts(normalize=True)"
   ]
  },
  {
   "cell_type": "markdown",
   "metadata": {},
   "source": [
    "<a id=\"4\"></a>\n",
    "## Visualizing — Categorical Variables"
   ]
  },
  {
   "cell_type": "code",
   "execution_count": 14,
   "metadata": {},
   "outputs": [
    {
     "data": {
      "application/vnd.plotly.v1+json": {
       "config": {
        "linkText": "Export to plot.ly",
        "plotlyServerURL": "https://plot.ly",
        "showLink": false
       },
       "data": [
        {
         "text": [
          "24386",
          "10889",
          "4725"
         ],
         "textposition": "auto",
         "type": "bar",
         "x": [
          "married",
          "single",
          "divorced"
         ],
         "y": [
          24386,
          10889,
          4725
         ]
        }
       ],
       "layout": {
        "template": {
         "data": {
          "bar": [
           {
            "error_x": {
             "color": "#2a3f5f"
            },
            "error_y": {
             "color": "#2a3f5f"
            },
            "marker": {
             "line": {
              "color": "#E5ECF6",
              "width": 0.5
             }
            },
            "type": "bar"
           }
          ],
          "barpolar": [
           {
            "marker": {
             "line": {
              "color": "#E5ECF6",
              "width": 0.5
             }
            },
            "type": "barpolar"
           }
          ],
          "carpet": [
           {
            "aaxis": {
             "endlinecolor": "#2a3f5f",
             "gridcolor": "white",
             "linecolor": "white",
             "minorgridcolor": "white",
             "startlinecolor": "#2a3f5f"
            },
            "baxis": {
             "endlinecolor": "#2a3f5f",
             "gridcolor": "white",
             "linecolor": "white",
             "minorgridcolor": "white",
             "startlinecolor": "#2a3f5f"
            },
            "type": "carpet"
           }
          ],
          "choropleth": [
           {
            "colorbar": {
             "outlinewidth": 0,
             "ticks": ""
            },
            "type": "choropleth"
           }
          ],
          "contour": [
           {
            "colorbar": {
             "outlinewidth": 0,
             "ticks": ""
            },
            "colorscale": [
             [
              0,
              "#0d0887"
             ],
             [
              0.1111111111111111,
              "#46039f"
             ],
             [
              0.2222222222222222,
              "#7201a8"
             ],
             [
              0.3333333333333333,
              "#9c179e"
             ],
             [
              0.4444444444444444,
              "#bd3786"
             ],
             [
              0.5555555555555556,
              "#d8576b"
             ],
             [
              0.6666666666666666,
              "#ed7953"
             ],
             [
              0.7777777777777778,
              "#fb9f3a"
             ],
             [
              0.8888888888888888,
              "#fdca26"
             ],
             [
              1,
              "#f0f921"
             ]
            ],
            "type": "contour"
           }
          ],
          "contourcarpet": [
           {
            "colorbar": {
             "outlinewidth": 0,
             "ticks": ""
            },
            "type": "contourcarpet"
           }
          ],
          "heatmap": [
           {
            "colorbar": {
             "outlinewidth": 0,
             "ticks": ""
            },
            "colorscale": [
             [
              0,
              "#0d0887"
             ],
             [
              0.1111111111111111,
              "#46039f"
             ],
             [
              0.2222222222222222,
              "#7201a8"
             ],
             [
              0.3333333333333333,
              "#9c179e"
             ],
             [
              0.4444444444444444,
              "#bd3786"
             ],
             [
              0.5555555555555556,
              "#d8576b"
             ],
             [
              0.6666666666666666,
              "#ed7953"
             ],
             [
              0.7777777777777778,
              "#fb9f3a"
             ],
             [
              0.8888888888888888,
              "#fdca26"
             ],
             [
              1,
              "#f0f921"
             ]
            ],
            "type": "heatmap"
           }
          ],
          "heatmapgl": [
           {
            "colorbar": {
             "outlinewidth": 0,
             "ticks": ""
            },
            "colorscale": [
             [
              0,
              "#0d0887"
             ],
             [
              0.1111111111111111,
              "#46039f"
             ],
             [
              0.2222222222222222,
              "#7201a8"
             ],
             [
              0.3333333333333333,
              "#9c179e"
             ],
             [
              0.4444444444444444,
              "#bd3786"
             ],
             [
              0.5555555555555556,
              "#d8576b"
             ],
             [
              0.6666666666666666,
              "#ed7953"
             ],
             [
              0.7777777777777778,
              "#fb9f3a"
             ],
             [
              0.8888888888888888,
              "#fdca26"
             ],
             [
              1,
              "#f0f921"
             ]
            ],
            "type": "heatmapgl"
           }
          ],
          "histogram": [
           {
            "marker": {
             "colorbar": {
              "outlinewidth": 0,
              "ticks": ""
             }
            },
            "type": "histogram"
           }
          ],
          "histogram2d": [
           {
            "colorbar": {
             "outlinewidth": 0,
             "ticks": ""
            },
            "colorscale": [
             [
              0,
              "#0d0887"
             ],
             [
              0.1111111111111111,
              "#46039f"
             ],
             [
              0.2222222222222222,
              "#7201a8"
             ],
             [
              0.3333333333333333,
              "#9c179e"
             ],
             [
              0.4444444444444444,
              "#bd3786"
             ],
             [
              0.5555555555555556,
              "#d8576b"
             ],
             [
              0.6666666666666666,
              "#ed7953"
             ],
             [
              0.7777777777777778,
              "#fb9f3a"
             ],
             [
              0.8888888888888888,
              "#fdca26"
             ],
             [
              1,
              "#f0f921"
             ]
            ],
            "type": "histogram2d"
           }
          ],
          "histogram2dcontour": [
           {
            "colorbar": {
             "outlinewidth": 0,
             "ticks": ""
            },
            "colorscale": [
             [
              0,
              "#0d0887"
             ],
             [
              0.1111111111111111,
              "#46039f"
             ],
             [
              0.2222222222222222,
              "#7201a8"
             ],
             [
              0.3333333333333333,
              "#9c179e"
             ],
             [
              0.4444444444444444,
              "#bd3786"
             ],
             [
              0.5555555555555556,
              "#d8576b"
             ],
             [
              0.6666666666666666,
              "#ed7953"
             ],
             [
              0.7777777777777778,
              "#fb9f3a"
             ],
             [
              0.8888888888888888,
              "#fdca26"
             ],
             [
              1,
              "#f0f921"
             ]
            ],
            "type": "histogram2dcontour"
           }
          ],
          "mesh3d": [
           {
            "colorbar": {
             "outlinewidth": 0,
             "ticks": ""
            },
            "type": "mesh3d"
           }
          ],
          "parcoords": [
           {
            "line": {
             "colorbar": {
              "outlinewidth": 0,
              "ticks": ""
             }
            },
            "type": "parcoords"
           }
          ],
          "pie": [
           {
            "automargin": true,
            "type": "pie"
           }
          ],
          "scatter": [
           {
            "marker": {
             "colorbar": {
              "outlinewidth": 0,
              "ticks": ""
             }
            },
            "type": "scatter"
           }
          ],
          "scatter3d": [
           {
            "line": {
             "colorbar": {
              "outlinewidth": 0,
              "ticks": ""
             }
            },
            "marker": {
             "colorbar": {
              "outlinewidth": 0,
              "ticks": ""
             }
            },
            "type": "scatter3d"
           }
          ],
          "scattercarpet": [
           {
            "marker": {
             "colorbar": {
              "outlinewidth": 0,
              "ticks": ""
             }
            },
            "type": "scattercarpet"
           }
          ],
          "scattergeo": [
           {
            "marker": {
             "colorbar": {
              "outlinewidth": 0,
              "ticks": ""
             }
            },
            "type": "scattergeo"
           }
          ],
          "scattergl": [
           {
            "marker": {
             "colorbar": {
              "outlinewidth": 0,
              "ticks": ""
             }
            },
            "type": "scattergl"
           }
          ],
          "scattermapbox": [
           {
            "marker": {
             "colorbar": {
              "outlinewidth": 0,
              "ticks": ""
             }
            },
            "type": "scattermapbox"
           }
          ],
          "scatterpolar": [
           {
            "marker": {
             "colorbar": {
              "outlinewidth": 0,
              "ticks": ""
             }
            },
            "type": "scatterpolar"
           }
          ],
          "scatterpolargl": [
           {
            "marker": {
             "colorbar": {
              "outlinewidth": 0,
              "ticks": ""
             }
            },
            "type": "scatterpolargl"
           }
          ],
          "scatterternary": [
           {
            "marker": {
             "colorbar": {
              "outlinewidth": 0,
              "ticks": ""
             }
            },
            "type": "scatterternary"
           }
          ],
          "surface": [
           {
            "colorbar": {
             "outlinewidth": 0,
             "ticks": ""
            },
            "colorscale": [
             [
              0,
              "#0d0887"
             ],
             [
              0.1111111111111111,
              "#46039f"
             ],
             [
              0.2222222222222222,
              "#7201a8"
             ],
             [
              0.3333333333333333,
              "#9c179e"
             ],
             [
              0.4444444444444444,
              "#bd3786"
             ],
             [
              0.5555555555555556,
              "#d8576b"
             ],
             [
              0.6666666666666666,
              "#ed7953"
             ],
             [
              0.7777777777777778,
              "#fb9f3a"
             ],
             [
              0.8888888888888888,
              "#fdca26"
             ],
             [
              1,
              "#f0f921"
             ]
            ],
            "type": "surface"
           }
          ],
          "table": [
           {
            "cells": {
             "fill": {
              "color": "#EBF0F8"
             },
             "line": {
              "color": "white"
             }
            },
            "header": {
             "fill": {
              "color": "#C8D4E3"
             },
             "line": {
              "color": "white"
             }
            },
            "type": "table"
           }
          ]
         },
         "layout": {
          "annotationdefaults": {
           "arrowcolor": "#2a3f5f",
           "arrowhead": 0,
           "arrowwidth": 1
          },
          "coloraxis": {
           "colorbar": {
            "outlinewidth": 0,
            "ticks": ""
           }
          },
          "colorscale": {
           "diverging": [
            [
             0,
             "#8e0152"
            ],
            [
             0.1,
             "#c51b7d"
            ],
            [
             0.2,
             "#de77ae"
            ],
            [
             0.3,
             "#f1b6da"
            ],
            [
             0.4,
             "#fde0ef"
            ],
            [
             0.5,
             "#f7f7f7"
            ],
            [
             0.6,
             "#e6f5d0"
            ],
            [
             0.7,
             "#b8e186"
            ],
            [
             0.8,
             "#7fbc41"
            ],
            [
             0.9,
             "#4d9221"
            ],
            [
             1,
             "#276419"
            ]
           ],
           "sequential": [
            [
             0,
             "#0d0887"
            ],
            [
             0.1111111111111111,
             "#46039f"
            ],
            [
             0.2222222222222222,
             "#7201a8"
            ],
            [
             0.3333333333333333,
             "#9c179e"
            ],
            [
             0.4444444444444444,
             "#bd3786"
            ],
            [
             0.5555555555555556,
             "#d8576b"
            ],
            [
             0.6666666666666666,
             "#ed7953"
            ],
            [
             0.7777777777777778,
             "#fb9f3a"
            ],
            [
             0.8888888888888888,
             "#fdca26"
            ],
            [
             1,
             "#f0f921"
            ]
           ],
           "sequentialminus": [
            [
             0,
             "#0d0887"
            ],
            [
             0.1111111111111111,
             "#46039f"
            ],
            [
             0.2222222222222222,
             "#7201a8"
            ],
            [
             0.3333333333333333,
             "#9c179e"
            ],
            [
             0.4444444444444444,
             "#bd3786"
            ],
            [
             0.5555555555555556,
             "#d8576b"
            ],
            [
             0.6666666666666666,
             "#ed7953"
            ],
            [
             0.7777777777777778,
             "#fb9f3a"
            ],
            [
             0.8888888888888888,
             "#fdca26"
            ],
            [
             1,
             "#f0f921"
            ]
           ]
          },
          "colorway": [
           "#636efa",
           "#EF553B",
           "#00cc96",
           "#ab63fa",
           "#FFA15A",
           "#19d3f3",
           "#FF6692",
           "#B6E880",
           "#FF97FF",
           "#FECB52"
          ],
          "font": {
           "color": "#2a3f5f"
          },
          "geo": {
           "bgcolor": "white",
           "lakecolor": "white",
           "landcolor": "#E5ECF6",
           "showlakes": true,
           "showland": true,
           "subunitcolor": "white"
          },
          "hoverlabel": {
           "align": "left"
          },
          "hovermode": "closest",
          "mapbox": {
           "style": "light"
          },
          "paper_bgcolor": "white",
          "plot_bgcolor": "#E5ECF6",
          "polar": {
           "angularaxis": {
            "gridcolor": "white",
            "linecolor": "white",
            "ticks": ""
           },
           "bgcolor": "#E5ECF6",
           "radialaxis": {
            "gridcolor": "white",
            "linecolor": "white",
            "ticks": ""
           }
          },
          "scene": {
           "xaxis": {
            "backgroundcolor": "#E5ECF6",
            "gridcolor": "white",
            "gridwidth": 2,
            "linecolor": "white",
            "showbackground": true,
            "ticks": "",
            "zerolinecolor": "white"
           },
           "yaxis": {
            "backgroundcolor": "#E5ECF6",
            "gridcolor": "white",
            "gridwidth": 2,
            "linecolor": "white",
            "showbackground": true,
            "ticks": "",
            "zerolinecolor": "white"
           },
           "zaxis": {
            "backgroundcolor": "#E5ECF6",
            "gridcolor": "white",
            "gridwidth": 2,
            "linecolor": "white",
            "showbackground": true,
            "ticks": "",
            "zerolinecolor": "white"
           }
          },
          "shapedefaults": {
           "line": {
            "color": "#2a3f5f"
           }
          },
          "ternary": {
           "aaxis": {
            "gridcolor": "white",
            "linecolor": "white",
            "ticks": ""
           },
           "baxis": {
            "gridcolor": "white",
            "linecolor": "white",
            "ticks": ""
           },
           "bgcolor": "#E5ECF6",
           "caxis": {
            "gridcolor": "white",
            "linecolor": "white",
            "ticks": ""
           }
          },
          "title": {
           "x": 0.05
          },
          "xaxis": {
           "automargin": true,
           "gridcolor": "white",
           "linecolor": "white",
           "ticks": "",
           "title": {
            "standoff": 15
           },
           "zerolinecolor": "white",
           "zerolinewidth": 2
          },
          "yaxis": {
           "automargin": true,
           "gridcolor": "white",
           "linecolor": "white",
           "ticks": "",
           "title": {
            "standoff": 15
           },
           "zerolinecolor": "white",
           "zerolinewidth": 2
          }
         }
        },
        "title": {
         "text": "Marital Counts"
        }
       }
      },
      "text/html": [
       "<div>\n",
       "        \n",
       "        \n",
       "            <div id=\"d61a046c-037a-47d2-8e68-650de6f5fbb9\" class=\"plotly-graph-div\" style=\"height:525px; width:100%;\"></div>\n",
       "            <script type=\"text/javascript\">\n",
       "                require([\"plotly\"], function(Plotly) {\n",
       "                    window.PLOTLYENV=window.PLOTLYENV || {};\n",
       "                    \n",
       "                if (document.getElementById(\"d61a046c-037a-47d2-8e68-650de6f5fbb9\")) {\n",
       "                    Plotly.newPlot(\n",
       "                        'd61a046c-037a-47d2-8e68-650de6f5fbb9',\n",
       "                        [{\"text\": [\"24386\", \"10889\", \"4725\"], \"textposition\": \"auto\", \"type\": \"bar\", \"x\": [\"married\", \"single\", \"divorced\"], \"y\": [24386, 10889, 4725]}],\n",
       "                        {\"template\": {\"data\": {\"bar\": [{\"error_x\": {\"color\": \"#2a3f5f\"}, \"error_y\": {\"color\": \"#2a3f5f\"}, \"marker\": {\"line\": {\"color\": \"#E5ECF6\", \"width\": 0.5}}, \"type\": \"bar\"}], \"barpolar\": [{\"marker\": {\"line\": {\"color\": \"#E5ECF6\", \"width\": 0.5}}, \"type\": \"barpolar\"}], \"carpet\": [{\"aaxis\": {\"endlinecolor\": \"#2a3f5f\", \"gridcolor\": \"white\", \"linecolor\": \"white\", \"minorgridcolor\": \"white\", \"startlinecolor\": \"#2a3f5f\"}, \"baxis\": {\"endlinecolor\": \"#2a3f5f\", \"gridcolor\": \"white\", \"linecolor\": \"white\", \"minorgridcolor\": \"white\", \"startlinecolor\": \"#2a3f5f\"}, \"type\": \"carpet\"}], \"choropleth\": [{\"colorbar\": {\"outlinewidth\": 0, \"ticks\": \"\"}, \"type\": \"choropleth\"}], \"contour\": [{\"colorbar\": {\"outlinewidth\": 0, \"ticks\": \"\"}, \"colorscale\": [[0.0, \"#0d0887\"], [0.1111111111111111, \"#46039f\"], [0.2222222222222222, \"#7201a8\"], [0.3333333333333333, \"#9c179e\"], [0.4444444444444444, \"#bd3786\"], [0.5555555555555556, \"#d8576b\"], [0.6666666666666666, \"#ed7953\"], [0.7777777777777778, \"#fb9f3a\"], [0.8888888888888888, \"#fdca26\"], [1.0, \"#f0f921\"]], \"type\": \"contour\"}], \"contourcarpet\": [{\"colorbar\": {\"outlinewidth\": 0, \"ticks\": \"\"}, \"type\": \"contourcarpet\"}], \"heatmap\": [{\"colorbar\": {\"outlinewidth\": 0, \"ticks\": \"\"}, \"colorscale\": [[0.0, \"#0d0887\"], [0.1111111111111111, \"#46039f\"], [0.2222222222222222, \"#7201a8\"], [0.3333333333333333, \"#9c179e\"], [0.4444444444444444, \"#bd3786\"], [0.5555555555555556, \"#d8576b\"], [0.6666666666666666, \"#ed7953\"], [0.7777777777777778, \"#fb9f3a\"], [0.8888888888888888, \"#fdca26\"], [1.0, \"#f0f921\"]], \"type\": \"heatmap\"}], \"heatmapgl\": [{\"colorbar\": {\"outlinewidth\": 0, \"ticks\": \"\"}, \"colorscale\": [[0.0, \"#0d0887\"], [0.1111111111111111, \"#46039f\"], [0.2222222222222222, \"#7201a8\"], [0.3333333333333333, \"#9c179e\"], [0.4444444444444444, \"#bd3786\"], [0.5555555555555556, \"#d8576b\"], [0.6666666666666666, \"#ed7953\"], [0.7777777777777778, \"#fb9f3a\"], [0.8888888888888888, \"#fdca26\"], [1.0, \"#f0f921\"]], \"type\": \"heatmapgl\"}], \"histogram\": [{\"marker\": {\"colorbar\": {\"outlinewidth\": 0, \"ticks\": \"\"}}, \"type\": \"histogram\"}], \"histogram2d\": [{\"colorbar\": {\"outlinewidth\": 0, \"ticks\": \"\"}, \"colorscale\": [[0.0, \"#0d0887\"], [0.1111111111111111, \"#46039f\"], [0.2222222222222222, \"#7201a8\"], [0.3333333333333333, \"#9c179e\"], [0.4444444444444444, \"#bd3786\"], [0.5555555555555556, \"#d8576b\"], [0.6666666666666666, \"#ed7953\"], [0.7777777777777778, \"#fb9f3a\"], [0.8888888888888888, \"#fdca26\"], [1.0, \"#f0f921\"]], \"type\": \"histogram2d\"}], \"histogram2dcontour\": [{\"colorbar\": {\"outlinewidth\": 0, \"ticks\": \"\"}, \"colorscale\": [[0.0, \"#0d0887\"], [0.1111111111111111, \"#46039f\"], [0.2222222222222222, \"#7201a8\"], [0.3333333333333333, \"#9c179e\"], [0.4444444444444444, \"#bd3786\"], [0.5555555555555556, \"#d8576b\"], [0.6666666666666666, \"#ed7953\"], [0.7777777777777778, \"#fb9f3a\"], [0.8888888888888888, \"#fdca26\"], [1.0, \"#f0f921\"]], \"type\": \"histogram2dcontour\"}], \"mesh3d\": [{\"colorbar\": {\"outlinewidth\": 0, \"ticks\": \"\"}, \"type\": \"mesh3d\"}], \"parcoords\": [{\"line\": {\"colorbar\": {\"outlinewidth\": 0, \"ticks\": \"\"}}, \"type\": \"parcoords\"}], \"pie\": [{\"automargin\": true, \"type\": \"pie\"}], \"scatter\": [{\"marker\": {\"colorbar\": {\"outlinewidth\": 0, \"ticks\": \"\"}}, \"type\": \"scatter\"}], \"scatter3d\": [{\"line\": {\"colorbar\": {\"outlinewidth\": 0, \"ticks\": \"\"}}, \"marker\": {\"colorbar\": {\"outlinewidth\": 0, \"ticks\": \"\"}}, \"type\": \"scatter3d\"}], \"scattercarpet\": [{\"marker\": {\"colorbar\": {\"outlinewidth\": 0, \"ticks\": \"\"}}, \"type\": \"scattercarpet\"}], \"scattergeo\": [{\"marker\": {\"colorbar\": {\"outlinewidth\": 0, \"ticks\": \"\"}}, \"type\": \"scattergeo\"}], \"scattergl\": [{\"marker\": {\"colorbar\": {\"outlinewidth\": 0, \"ticks\": \"\"}}, \"type\": \"scattergl\"}], \"scattermapbox\": [{\"marker\": {\"colorbar\": {\"outlinewidth\": 0, \"ticks\": \"\"}}, \"type\": \"scattermapbox\"}], \"scatterpolar\": [{\"marker\": {\"colorbar\": {\"outlinewidth\": 0, \"ticks\": \"\"}}, \"type\": \"scatterpolar\"}], \"scatterpolargl\": [{\"marker\": {\"colorbar\": {\"outlinewidth\": 0, \"ticks\": \"\"}}, \"type\": \"scatterpolargl\"}], \"scatterternary\": [{\"marker\": {\"colorbar\": {\"outlinewidth\": 0, \"ticks\": \"\"}}, \"type\": \"scatterternary\"}], \"surface\": [{\"colorbar\": {\"outlinewidth\": 0, \"ticks\": \"\"}, \"colorscale\": [[0.0, \"#0d0887\"], [0.1111111111111111, \"#46039f\"], [0.2222222222222222, \"#7201a8\"], [0.3333333333333333, \"#9c179e\"], [0.4444444444444444, \"#bd3786\"], [0.5555555555555556, \"#d8576b\"], [0.6666666666666666, \"#ed7953\"], [0.7777777777777778, \"#fb9f3a\"], [0.8888888888888888, \"#fdca26\"], [1.0, \"#f0f921\"]], \"type\": \"surface\"}], \"table\": [{\"cells\": {\"fill\": {\"color\": \"#EBF0F8\"}, \"line\": {\"color\": \"white\"}}, \"header\": {\"fill\": {\"color\": \"#C8D4E3\"}, \"line\": {\"color\": \"white\"}}, \"type\": \"table\"}]}, \"layout\": {\"annotationdefaults\": {\"arrowcolor\": \"#2a3f5f\", \"arrowhead\": 0, \"arrowwidth\": 1}, \"coloraxis\": {\"colorbar\": {\"outlinewidth\": 0, \"ticks\": \"\"}}, \"colorscale\": {\"diverging\": [[0, \"#8e0152\"], [0.1, \"#c51b7d\"], [0.2, \"#de77ae\"], [0.3, \"#f1b6da\"], [0.4, \"#fde0ef\"], [0.5, \"#f7f7f7\"], [0.6, \"#e6f5d0\"], [0.7, \"#b8e186\"], [0.8, \"#7fbc41\"], [0.9, \"#4d9221\"], [1, \"#276419\"]], \"sequential\": [[0.0, \"#0d0887\"], [0.1111111111111111, \"#46039f\"], [0.2222222222222222, \"#7201a8\"], [0.3333333333333333, \"#9c179e\"], [0.4444444444444444, \"#bd3786\"], [0.5555555555555556, \"#d8576b\"], [0.6666666666666666, \"#ed7953\"], [0.7777777777777778, \"#fb9f3a\"], [0.8888888888888888, \"#fdca26\"], [1.0, \"#f0f921\"]], \"sequentialminus\": [[0.0, \"#0d0887\"], [0.1111111111111111, \"#46039f\"], [0.2222222222222222, \"#7201a8\"], [0.3333333333333333, \"#9c179e\"], [0.4444444444444444, \"#bd3786\"], [0.5555555555555556, \"#d8576b\"], [0.6666666666666666, \"#ed7953\"], [0.7777777777777778, \"#fb9f3a\"], [0.8888888888888888, \"#fdca26\"], [1.0, \"#f0f921\"]]}, \"colorway\": [\"#636efa\", \"#EF553B\", \"#00cc96\", \"#ab63fa\", \"#FFA15A\", \"#19d3f3\", \"#FF6692\", \"#B6E880\", \"#FF97FF\", \"#FECB52\"], \"font\": {\"color\": \"#2a3f5f\"}, \"geo\": {\"bgcolor\": \"white\", \"lakecolor\": \"white\", \"landcolor\": \"#E5ECF6\", \"showlakes\": true, \"showland\": true, \"subunitcolor\": \"white\"}, \"hoverlabel\": {\"align\": \"left\"}, \"hovermode\": \"closest\", \"mapbox\": {\"style\": \"light\"}, \"paper_bgcolor\": \"white\", \"plot_bgcolor\": \"#E5ECF6\", \"polar\": {\"angularaxis\": {\"gridcolor\": \"white\", \"linecolor\": \"white\", \"ticks\": \"\"}, \"bgcolor\": \"#E5ECF6\", \"radialaxis\": {\"gridcolor\": \"white\", \"linecolor\": \"white\", \"ticks\": \"\"}}, \"scene\": {\"xaxis\": {\"backgroundcolor\": \"#E5ECF6\", \"gridcolor\": \"white\", \"gridwidth\": 2, \"linecolor\": \"white\", \"showbackground\": true, \"ticks\": \"\", \"zerolinecolor\": \"white\"}, \"yaxis\": {\"backgroundcolor\": \"#E5ECF6\", \"gridcolor\": \"white\", \"gridwidth\": 2, \"linecolor\": \"white\", \"showbackground\": true, \"ticks\": \"\", \"zerolinecolor\": \"white\"}, \"zaxis\": {\"backgroundcolor\": \"#E5ECF6\", \"gridcolor\": \"white\", \"gridwidth\": 2, \"linecolor\": \"white\", \"showbackground\": true, \"ticks\": \"\", \"zerolinecolor\": \"white\"}}, \"shapedefaults\": {\"line\": {\"color\": \"#2a3f5f\"}}, \"ternary\": {\"aaxis\": {\"gridcolor\": \"white\", \"linecolor\": \"white\", \"ticks\": \"\"}, \"baxis\": {\"gridcolor\": \"white\", \"linecolor\": \"white\", \"ticks\": \"\"}, \"bgcolor\": \"#E5ECF6\", \"caxis\": {\"gridcolor\": \"white\", \"linecolor\": \"white\", \"ticks\": \"\"}}, \"title\": {\"x\": 0.05}, \"xaxis\": {\"automargin\": true, \"gridcolor\": \"white\", \"linecolor\": \"white\", \"ticks\": \"\", \"title\": {\"standoff\": 15}, \"zerolinecolor\": \"white\", \"zerolinewidth\": 2}, \"yaxis\": {\"automargin\": true, \"gridcolor\": \"white\", \"linecolor\": \"white\", \"ticks\": \"\", \"title\": {\"standoff\": 15}, \"zerolinecolor\": \"white\", \"zerolinewidth\": 2}}}, \"title\": {\"text\": \"Marital Counts\"}},\n",
       "                        {\"responsive\": true}\n",
       "                    ).then(function(){\n",
       "                            \n",
       "var gd = document.getElementById('d61a046c-037a-47d2-8e68-650de6f5fbb9');\n",
       "var x = new MutationObserver(function (mutations, observer) {{\n",
       "        var display = window.getComputedStyle(gd).display;\n",
       "        if (!display || display === 'none') {{\n",
       "            console.log([gd, 'removed!']);\n",
       "            Plotly.purge(gd);\n",
       "            observer.disconnect();\n",
       "        }}\n",
       "}});\n",
       "\n",
       "// Listen for the removal of the full notebook cells\n",
       "var notebookContainer = gd.closest('#notebook-container');\n",
       "if (notebookContainer) {{\n",
       "    x.observe(notebookContainer, {childList: true});\n",
       "}}\n",
       "\n",
       "// Listen for the clearing of the current output cell\n",
       "var outputEl = gd.closest('.output');\n",
       "if (outputEl) {{\n",
       "    x.observe(outputEl, {childList: true});\n",
       "}}\n",
       "\n",
       "                        })\n",
       "                };\n",
       "                });\n",
       "            </script>\n",
       "        </div>"
      ]
     },
     "metadata": {},
     "output_type": "display_data"
    }
   ],
   "source": [
    "data = [go.Bar(\n",
    "    x=df.marital.value_counts().index.tolist(),\n",
    "    y=df.marital.value_counts().tolist(),\n",
    "    text=df.marital.value_counts().tolist(),\n",
    "    textposition='auto'\n",
    ")]\n",
    "layout = go.Layout(\n",
    "    title='Marital Counts'\n",
    ")\n",
    "fig = go.Figure(data=data, layout=layout)\n",
    "iplot(fig)"
   ]
  },
  {
   "cell_type": "code",
   "execution_count": 15,
   "metadata": {},
   "outputs": [
    {
     "data": {
      "application/vnd.plotly.v1+json": {
       "config": {
        "linkText": "Export to plot.ly",
        "plotlyServerURL": "https://plot.ly",
        "showLink": false
       },
       "data": [
        {
         "text": [
          "9383",
          "8166",
          "6852",
          "4483",
          "3910",
          "1437",
          "1414",
          "1405",
          "1104",
          "1087",
          "524",
          "235"
         ],
         "textposition": "auto",
         "type": "bar",
         "x": [
          "blue-collar",
          "management",
          "technician",
          "admin",
          "services",
          "retired",
          "self-employed",
          "entrepreneur",
          "unemployed",
          "housemaid",
          "student",
          "unknown"
         ],
         "y": [
          9383,
          8166,
          6852,
          4483,
          3910,
          1437,
          1414,
          1405,
          1104,
          1087,
          524,
          235
         ]
        }
       ],
       "layout": {
        "template": {
         "data": {
          "bar": [
           {
            "error_x": {
             "color": "#2a3f5f"
            },
            "error_y": {
             "color": "#2a3f5f"
            },
            "marker": {
             "line": {
              "color": "#E5ECF6",
              "width": 0.5
             }
            },
            "type": "bar"
           }
          ],
          "barpolar": [
           {
            "marker": {
             "line": {
              "color": "#E5ECF6",
              "width": 0.5
             }
            },
            "type": "barpolar"
           }
          ],
          "carpet": [
           {
            "aaxis": {
             "endlinecolor": "#2a3f5f",
             "gridcolor": "white",
             "linecolor": "white",
             "minorgridcolor": "white",
             "startlinecolor": "#2a3f5f"
            },
            "baxis": {
             "endlinecolor": "#2a3f5f",
             "gridcolor": "white",
             "linecolor": "white",
             "minorgridcolor": "white",
             "startlinecolor": "#2a3f5f"
            },
            "type": "carpet"
           }
          ],
          "choropleth": [
           {
            "colorbar": {
             "outlinewidth": 0,
             "ticks": ""
            },
            "type": "choropleth"
           }
          ],
          "contour": [
           {
            "colorbar": {
             "outlinewidth": 0,
             "ticks": ""
            },
            "colorscale": [
             [
              0,
              "#0d0887"
             ],
             [
              0.1111111111111111,
              "#46039f"
             ],
             [
              0.2222222222222222,
              "#7201a8"
             ],
             [
              0.3333333333333333,
              "#9c179e"
             ],
             [
              0.4444444444444444,
              "#bd3786"
             ],
             [
              0.5555555555555556,
              "#d8576b"
             ],
             [
              0.6666666666666666,
              "#ed7953"
             ],
             [
              0.7777777777777778,
              "#fb9f3a"
             ],
             [
              0.8888888888888888,
              "#fdca26"
             ],
             [
              1,
              "#f0f921"
             ]
            ],
            "type": "contour"
           }
          ],
          "contourcarpet": [
           {
            "colorbar": {
             "outlinewidth": 0,
             "ticks": ""
            },
            "type": "contourcarpet"
           }
          ],
          "heatmap": [
           {
            "colorbar": {
             "outlinewidth": 0,
             "ticks": ""
            },
            "colorscale": [
             [
              0,
              "#0d0887"
             ],
             [
              0.1111111111111111,
              "#46039f"
             ],
             [
              0.2222222222222222,
              "#7201a8"
             ],
             [
              0.3333333333333333,
              "#9c179e"
             ],
             [
              0.4444444444444444,
              "#bd3786"
             ],
             [
              0.5555555555555556,
              "#d8576b"
             ],
             [
              0.6666666666666666,
              "#ed7953"
             ],
             [
              0.7777777777777778,
              "#fb9f3a"
             ],
             [
              0.8888888888888888,
              "#fdca26"
             ],
             [
              1,
              "#f0f921"
             ]
            ],
            "type": "heatmap"
           }
          ],
          "heatmapgl": [
           {
            "colorbar": {
             "outlinewidth": 0,
             "ticks": ""
            },
            "colorscale": [
             [
              0,
              "#0d0887"
             ],
             [
              0.1111111111111111,
              "#46039f"
             ],
             [
              0.2222222222222222,
              "#7201a8"
             ],
             [
              0.3333333333333333,
              "#9c179e"
             ],
             [
              0.4444444444444444,
              "#bd3786"
             ],
             [
              0.5555555555555556,
              "#d8576b"
             ],
             [
              0.6666666666666666,
              "#ed7953"
             ],
             [
              0.7777777777777778,
              "#fb9f3a"
             ],
             [
              0.8888888888888888,
              "#fdca26"
             ],
             [
              1,
              "#f0f921"
             ]
            ],
            "type": "heatmapgl"
           }
          ],
          "histogram": [
           {
            "marker": {
             "colorbar": {
              "outlinewidth": 0,
              "ticks": ""
             }
            },
            "type": "histogram"
           }
          ],
          "histogram2d": [
           {
            "colorbar": {
             "outlinewidth": 0,
             "ticks": ""
            },
            "colorscale": [
             [
              0,
              "#0d0887"
             ],
             [
              0.1111111111111111,
              "#46039f"
             ],
             [
              0.2222222222222222,
              "#7201a8"
             ],
             [
              0.3333333333333333,
              "#9c179e"
             ],
             [
              0.4444444444444444,
              "#bd3786"
             ],
             [
              0.5555555555555556,
              "#d8576b"
             ],
             [
              0.6666666666666666,
              "#ed7953"
             ],
             [
              0.7777777777777778,
              "#fb9f3a"
             ],
             [
              0.8888888888888888,
              "#fdca26"
             ],
             [
              1,
              "#f0f921"
             ]
            ],
            "type": "histogram2d"
           }
          ],
          "histogram2dcontour": [
           {
            "colorbar": {
             "outlinewidth": 0,
             "ticks": ""
            },
            "colorscale": [
             [
              0,
              "#0d0887"
             ],
             [
              0.1111111111111111,
              "#46039f"
             ],
             [
              0.2222222222222222,
              "#7201a8"
             ],
             [
              0.3333333333333333,
              "#9c179e"
             ],
             [
              0.4444444444444444,
              "#bd3786"
             ],
             [
              0.5555555555555556,
              "#d8576b"
             ],
             [
              0.6666666666666666,
              "#ed7953"
             ],
             [
              0.7777777777777778,
              "#fb9f3a"
             ],
             [
              0.8888888888888888,
              "#fdca26"
             ],
             [
              1,
              "#f0f921"
             ]
            ],
            "type": "histogram2dcontour"
           }
          ],
          "mesh3d": [
           {
            "colorbar": {
             "outlinewidth": 0,
             "ticks": ""
            },
            "type": "mesh3d"
           }
          ],
          "parcoords": [
           {
            "line": {
             "colorbar": {
              "outlinewidth": 0,
              "ticks": ""
             }
            },
            "type": "parcoords"
           }
          ],
          "pie": [
           {
            "automargin": true,
            "type": "pie"
           }
          ],
          "scatter": [
           {
            "marker": {
             "colorbar": {
              "outlinewidth": 0,
              "ticks": ""
             }
            },
            "type": "scatter"
           }
          ],
          "scatter3d": [
           {
            "line": {
             "colorbar": {
              "outlinewidth": 0,
              "ticks": ""
             }
            },
            "marker": {
             "colorbar": {
              "outlinewidth": 0,
              "ticks": ""
             }
            },
            "type": "scatter3d"
           }
          ],
          "scattercarpet": [
           {
            "marker": {
             "colorbar": {
              "outlinewidth": 0,
              "ticks": ""
             }
            },
            "type": "scattercarpet"
           }
          ],
          "scattergeo": [
           {
            "marker": {
             "colorbar": {
              "outlinewidth": 0,
              "ticks": ""
             }
            },
            "type": "scattergeo"
           }
          ],
          "scattergl": [
           {
            "marker": {
             "colorbar": {
              "outlinewidth": 0,
              "ticks": ""
             }
            },
            "type": "scattergl"
           }
          ],
          "scattermapbox": [
           {
            "marker": {
             "colorbar": {
              "outlinewidth": 0,
              "ticks": ""
             }
            },
            "type": "scattermapbox"
           }
          ],
          "scatterpolar": [
           {
            "marker": {
             "colorbar": {
              "outlinewidth": 0,
              "ticks": ""
             }
            },
            "type": "scatterpolar"
           }
          ],
          "scatterpolargl": [
           {
            "marker": {
             "colorbar": {
              "outlinewidth": 0,
              "ticks": ""
             }
            },
            "type": "scatterpolargl"
           }
          ],
          "scatterternary": [
           {
            "marker": {
             "colorbar": {
              "outlinewidth": 0,
              "ticks": ""
             }
            },
            "type": "scatterternary"
           }
          ],
          "surface": [
           {
            "colorbar": {
             "outlinewidth": 0,
             "ticks": ""
            },
            "colorscale": [
             [
              0,
              "#0d0887"
             ],
             [
              0.1111111111111111,
              "#46039f"
             ],
             [
              0.2222222222222222,
              "#7201a8"
             ],
             [
              0.3333333333333333,
              "#9c179e"
             ],
             [
              0.4444444444444444,
              "#bd3786"
             ],
             [
              0.5555555555555556,
              "#d8576b"
             ],
             [
              0.6666666666666666,
              "#ed7953"
             ],
             [
              0.7777777777777778,
              "#fb9f3a"
             ],
             [
              0.8888888888888888,
              "#fdca26"
             ],
             [
              1,
              "#f0f921"
             ]
            ],
            "type": "surface"
           }
          ],
          "table": [
           {
            "cells": {
             "fill": {
              "color": "#EBF0F8"
             },
             "line": {
              "color": "white"
             }
            },
            "header": {
             "fill": {
              "color": "#C8D4E3"
             },
             "line": {
              "color": "white"
             }
            },
            "type": "table"
           }
          ]
         },
         "layout": {
          "annotationdefaults": {
           "arrowcolor": "#2a3f5f",
           "arrowhead": 0,
           "arrowwidth": 1
          },
          "coloraxis": {
           "colorbar": {
            "outlinewidth": 0,
            "ticks": ""
           }
          },
          "colorscale": {
           "diverging": [
            [
             0,
             "#8e0152"
            ],
            [
             0.1,
             "#c51b7d"
            ],
            [
             0.2,
             "#de77ae"
            ],
            [
             0.3,
             "#f1b6da"
            ],
            [
             0.4,
             "#fde0ef"
            ],
            [
             0.5,
             "#f7f7f7"
            ],
            [
             0.6,
             "#e6f5d0"
            ],
            [
             0.7,
             "#b8e186"
            ],
            [
             0.8,
             "#7fbc41"
            ],
            [
             0.9,
             "#4d9221"
            ],
            [
             1,
             "#276419"
            ]
           ],
           "sequential": [
            [
             0,
             "#0d0887"
            ],
            [
             0.1111111111111111,
             "#46039f"
            ],
            [
             0.2222222222222222,
             "#7201a8"
            ],
            [
             0.3333333333333333,
             "#9c179e"
            ],
            [
             0.4444444444444444,
             "#bd3786"
            ],
            [
             0.5555555555555556,
             "#d8576b"
            ],
            [
             0.6666666666666666,
             "#ed7953"
            ],
            [
             0.7777777777777778,
             "#fb9f3a"
            ],
            [
             0.8888888888888888,
             "#fdca26"
            ],
            [
             1,
             "#f0f921"
            ]
           ],
           "sequentialminus": [
            [
             0,
             "#0d0887"
            ],
            [
             0.1111111111111111,
             "#46039f"
            ],
            [
             0.2222222222222222,
             "#7201a8"
            ],
            [
             0.3333333333333333,
             "#9c179e"
            ],
            [
             0.4444444444444444,
             "#bd3786"
            ],
            [
             0.5555555555555556,
             "#d8576b"
            ],
            [
             0.6666666666666666,
             "#ed7953"
            ],
            [
             0.7777777777777778,
             "#fb9f3a"
            ],
            [
             0.8888888888888888,
             "#fdca26"
            ],
            [
             1,
             "#f0f921"
            ]
           ]
          },
          "colorway": [
           "#636efa",
           "#EF553B",
           "#00cc96",
           "#ab63fa",
           "#FFA15A",
           "#19d3f3",
           "#FF6692",
           "#B6E880",
           "#FF97FF",
           "#FECB52"
          ],
          "font": {
           "color": "#2a3f5f"
          },
          "geo": {
           "bgcolor": "white",
           "lakecolor": "white",
           "landcolor": "#E5ECF6",
           "showlakes": true,
           "showland": true,
           "subunitcolor": "white"
          },
          "hoverlabel": {
           "align": "left"
          },
          "hovermode": "closest",
          "mapbox": {
           "style": "light"
          },
          "paper_bgcolor": "white",
          "plot_bgcolor": "#E5ECF6",
          "polar": {
           "angularaxis": {
            "gridcolor": "white",
            "linecolor": "white",
            "ticks": ""
           },
           "bgcolor": "#E5ECF6",
           "radialaxis": {
            "gridcolor": "white",
            "linecolor": "white",
            "ticks": ""
           }
          },
          "scene": {
           "xaxis": {
            "backgroundcolor": "#E5ECF6",
            "gridcolor": "white",
            "gridwidth": 2,
            "linecolor": "white",
            "showbackground": true,
            "ticks": "",
            "zerolinecolor": "white"
           },
           "yaxis": {
            "backgroundcolor": "#E5ECF6",
            "gridcolor": "white",
            "gridwidth": 2,
            "linecolor": "white",
            "showbackground": true,
            "ticks": "",
            "zerolinecolor": "white"
           },
           "zaxis": {
            "backgroundcolor": "#E5ECF6",
            "gridcolor": "white",
            "gridwidth": 2,
            "linecolor": "white",
            "showbackground": true,
            "ticks": "",
            "zerolinecolor": "white"
           }
          },
          "shapedefaults": {
           "line": {
            "color": "#2a3f5f"
           }
          },
          "ternary": {
           "aaxis": {
            "gridcolor": "white",
            "linecolor": "white",
            "ticks": ""
           },
           "baxis": {
            "gridcolor": "white",
            "linecolor": "white",
            "ticks": ""
           },
           "bgcolor": "#E5ECF6",
           "caxis": {
            "gridcolor": "white",
            "linecolor": "white",
            "ticks": ""
           }
          },
          "title": {
           "x": 0.05
          },
          "xaxis": {
           "automargin": true,
           "gridcolor": "white",
           "linecolor": "white",
           "ticks": "",
           "title": {
            "standoff": 15
           },
           "zerolinecolor": "white",
           "zerolinewidth": 2
          },
          "yaxis": {
           "automargin": true,
           "gridcolor": "white",
           "linecolor": "white",
           "ticks": "",
           "title": {
            "standoff": 15
           },
           "zerolinecolor": "white",
           "zerolinewidth": 2
          }
         }
        },
        "title": {
         "text": "Job Distribution"
        }
       }
      },
      "text/html": [
       "<div>\n",
       "        \n",
       "        \n",
       "            <div id=\"93b9e37c-ec68-49c5-9661-5affb312889a\" class=\"plotly-graph-div\" style=\"height:525px; width:100%;\"></div>\n",
       "            <script type=\"text/javascript\">\n",
       "                require([\"plotly\"], function(Plotly) {\n",
       "                    window.PLOTLYENV=window.PLOTLYENV || {};\n",
       "                    \n",
       "                if (document.getElementById(\"93b9e37c-ec68-49c5-9661-5affb312889a\")) {\n",
       "                    Plotly.newPlot(\n",
       "                        '93b9e37c-ec68-49c5-9661-5affb312889a',\n",
       "                        [{\"text\": [\"9383\", \"8166\", \"6852\", \"4483\", \"3910\", \"1437\", \"1414\", \"1405\", \"1104\", \"1087\", \"524\", \"235\"], \"textposition\": \"auto\", \"type\": \"bar\", \"x\": [\"blue-collar\", \"management\", \"technician\", \"admin\", \"services\", \"retired\", \"self-employed\", \"entrepreneur\", \"unemployed\", \"housemaid\", \"student\", \"unknown\"], \"y\": [9383, 8166, 6852, 4483, 3910, 1437, 1414, 1405, 1104, 1087, 524, 235]}],\n",
       "                        {\"template\": {\"data\": {\"bar\": [{\"error_x\": {\"color\": \"#2a3f5f\"}, \"error_y\": {\"color\": \"#2a3f5f\"}, \"marker\": {\"line\": {\"color\": \"#E5ECF6\", \"width\": 0.5}}, \"type\": \"bar\"}], \"barpolar\": [{\"marker\": {\"line\": {\"color\": \"#E5ECF6\", \"width\": 0.5}}, \"type\": \"barpolar\"}], \"carpet\": [{\"aaxis\": {\"endlinecolor\": \"#2a3f5f\", \"gridcolor\": \"white\", \"linecolor\": \"white\", \"minorgridcolor\": \"white\", \"startlinecolor\": \"#2a3f5f\"}, \"baxis\": {\"endlinecolor\": \"#2a3f5f\", \"gridcolor\": \"white\", \"linecolor\": \"white\", \"minorgridcolor\": \"white\", \"startlinecolor\": \"#2a3f5f\"}, \"type\": \"carpet\"}], \"choropleth\": [{\"colorbar\": {\"outlinewidth\": 0, \"ticks\": \"\"}, \"type\": \"choropleth\"}], \"contour\": [{\"colorbar\": {\"outlinewidth\": 0, \"ticks\": \"\"}, \"colorscale\": [[0.0, \"#0d0887\"], [0.1111111111111111, \"#46039f\"], [0.2222222222222222, \"#7201a8\"], [0.3333333333333333, \"#9c179e\"], [0.4444444444444444, \"#bd3786\"], [0.5555555555555556, \"#d8576b\"], [0.6666666666666666, \"#ed7953\"], [0.7777777777777778, \"#fb9f3a\"], [0.8888888888888888, \"#fdca26\"], [1.0, \"#f0f921\"]], \"type\": \"contour\"}], \"contourcarpet\": [{\"colorbar\": {\"outlinewidth\": 0, \"ticks\": \"\"}, \"type\": \"contourcarpet\"}], \"heatmap\": [{\"colorbar\": {\"outlinewidth\": 0, \"ticks\": \"\"}, \"colorscale\": [[0.0, \"#0d0887\"], [0.1111111111111111, \"#46039f\"], [0.2222222222222222, \"#7201a8\"], [0.3333333333333333, \"#9c179e\"], [0.4444444444444444, \"#bd3786\"], [0.5555555555555556, \"#d8576b\"], [0.6666666666666666, \"#ed7953\"], [0.7777777777777778, \"#fb9f3a\"], [0.8888888888888888, \"#fdca26\"], [1.0, \"#f0f921\"]], \"type\": \"heatmap\"}], \"heatmapgl\": [{\"colorbar\": {\"outlinewidth\": 0, \"ticks\": \"\"}, \"colorscale\": [[0.0, \"#0d0887\"], [0.1111111111111111, \"#46039f\"], [0.2222222222222222, \"#7201a8\"], [0.3333333333333333, \"#9c179e\"], [0.4444444444444444, \"#bd3786\"], [0.5555555555555556, \"#d8576b\"], [0.6666666666666666, \"#ed7953\"], [0.7777777777777778, \"#fb9f3a\"], [0.8888888888888888, \"#fdca26\"], [1.0, \"#f0f921\"]], \"type\": \"heatmapgl\"}], \"histogram\": [{\"marker\": {\"colorbar\": {\"outlinewidth\": 0, \"ticks\": \"\"}}, \"type\": \"histogram\"}], \"histogram2d\": [{\"colorbar\": {\"outlinewidth\": 0, \"ticks\": \"\"}, \"colorscale\": [[0.0, \"#0d0887\"], [0.1111111111111111, \"#46039f\"], [0.2222222222222222, \"#7201a8\"], [0.3333333333333333, \"#9c179e\"], [0.4444444444444444, \"#bd3786\"], [0.5555555555555556, \"#d8576b\"], [0.6666666666666666, \"#ed7953\"], [0.7777777777777778, \"#fb9f3a\"], [0.8888888888888888, \"#fdca26\"], [1.0, \"#f0f921\"]], \"type\": \"histogram2d\"}], \"histogram2dcontour\": [{\"colorbar\": {\"outlinewidth\": 0, \"ticks\": \"\"}, \"colorscale\": [[0.0, \"#0d0887\"], [0.1111111111111111, \"#46039f\"], [0.2222222222222222, \"#7201a8\"], [0.3333333333333333, \"#9c179e\"], [0.4444444444444444, \"#bd3786\"], [0.5555555555555556, \"#d8576b\"], [0.6666666666666666, \"#ed7953\"], [0.7777777777777778, \"#fb9f3a\"], [0.8888888888888888, \"#fdca26\"], [1.0, \"#f0f921\"]], \"type\": \"histogram2dcontour\"}], \"mesh3d\": [{\"colorbar\": {\"outlinewidth\": 0, \"ticks\": \"\"}, \"type\": \"mesh3d\"}], \"parcoords\": [{\"line\": {\"colorbar\": {\"outlinewidth\": 0, \"ticks\": \"\"}}, \"type\": \"parcoords\"}], \"pie\": [{\"automargin\": true, \"type\": \"pie\"}], \"scatter\": [{\"marker\": {\"colorbar\": {\"outlinewidth\": 0, \"ticks\": \"\"}}, \"type\": \"scatter\"}], \"scatter3d\": [{\"line\": {\"colorbar\": {\"outlinewidth\": 0, \"ticks\": \"\"}}, \"marker\": {\"colorbar\": {\"outlinewidth\": 0, \"ticks\": \"\"}}, \"type\": \"scatter3d\"}], \"scattercarpet\": [{\"marker\": {\"colorbar\": {\"outlinewidth\": 0, \"ticks\": \"\"}}, \"type\": \"scattercarpet\"}], \"scattergeo\": [{\"marker\": {\"colorbar\": {\"outlinewidth\": 0, \"ticks\": \"\"}}, \"type\": \"scattergeo\"}], \"scattergl\": [{\"marker\": {\"colorbar\": {\"outlinewidth\": 0, \"ticks\": \"\"}}, \"type\": \"scattergl\"}], \"scattermapbox\": [{\"marker\": {\"colorbar\": {\"outlinewidth\": 0, \"ticks\": \"\"}}, \"type\": \"scattermapbox\"}], \"scatterpolar\": [{\"marker\": {\"colorbar\": {\"outlinewidth\": 0, \"ticks\": \"\"}}, \"type\": \"scatterpolar\"}], \"scatterpolargl\": [{\"marker\": {\"colorbar\": {\"outlinewidth\": 0, \"ticks\": \"\"}}, \"type\": \"scatterpolargl\"}], \"scatterternary\": [{\"marker\": {\"colorbar\": {\"outlinewidth\": 0, \"ticks\": \"\"}}, \"type\": \"scatterternary\"}], \"surface\": [{\"colorbar\": {\"outlinewidth\": 0, \"ticks\": \"\"}, \"colorscale\": [[0.0, \"#0d0887\"], [0.1111111111111111, \"#46039f\"], [0.2222222222222222, \"#7201a8\"], [0.3333333333333333, \"#9c179e\"], [0.4444444444444444, \"#bd3786\"], [0.5555555555555556, \"#d8576b\"], [0.6666666666666666, \"#ed7953\"], [0.7777777777777778, \"#fb9f3a\"], [0.8888888888888888, \"#fdca26\"], [1.0, \"#f0f921\"]], \"type\": \"surface\"}], \"table\": [{\"cells\": {\"fill\": {\"color\": \"#EBF0F8\"}, \"line\": {\"color\": \"white\"}}, \"header\": {\"fill\": {\"color\": \"#C8D4E3\"}, \"line\": {\"color\": \"white\"}}, \"type\": \"table\"}]}, \"layout\": {\"annotationdefaults\": {\"arrowcolor\": \"#2a3f5f\", \"arrowhead\": 0, \"arrowwidth\": 1}, \"coloraxis\": {\"colorbar\": {\"outlinewidth\": 0, \"ticks\": \"\"}}, \"colorscale\": {\"diverging\": [[0, \"#8e0152\"], [0.1, \"#c51b7d\"], [0.2, \"#de77ae\"], [0.3, \"#f1b6da\"], [0.4, \"#fde0ef\"], [0.5, \"#f7f7f7\"], [0.6, \"#e6f5d0\"], [0.7, \"#b8e186\"], [0.8, \"#7fbc41\"], [0.9, \"#4d9221\"], [1, \"#276419\"]], \"sequential\": [[0.0, \"#0d0887\"], [0.1111111111111111, \"#46039f\"], [0.2222222222222222, \"#7201a8\"], [0.3333333333333333, \"#9c179e\"], [0.4444444444444444, \"#bd3786\"], [0.5555555555555556, \"#d8576b\"], [0.6666666666666666, \"#ed7953\"], [0.7777777777777778, \"#fb9f3a\"], [0.8888888888888888, \"#fdca26\"], [1.0, \"#f0f921\"]], \"sequentialminus\": [[0.0, \"#0d0887\"], [0.1111111111111111, \"#46039f\"], [0.2222222222222222, \"#7201a8\"], [0.3333333333333333, \"#9c179e\"], [0.4444444444444444, \"#bd3786\"], [0.5555555555555556, \"#d8576b\"], [0.6666666666666666, \"#ed7953\"], [0.7777777777777778, \"#fb9f3a\"], [0.8888888888888888, \"#fdca26\"], [1.0, \"#f0f921\"]]}, \"colorway\": [\"#636efa\", \"#EF553B\", \"#00cc96\", \"#ab63fa\", \"#FFA15A\", \"#19d3f3\", \"#FF6692\", \"#B6E880\", \"#FF97FF\", \"#FECB52\"], \"font\": {\"color\": \"#2a3f5f\"}, \"geo\": {\"bgcolor\": \"white\", \"lakecolor\": \"white\", \"landcolor\": \"#E5ECF6\", \"showlakes\": true, \"showland\": true, \"subunitcolor\": \"white\"}, \"hoverlabel\": {\"align\": \"left\"}, \"hovermode\": \"closest\", \"mapbox\": {\"style\": \"light\"}, \"paper_bgcolor\": \"white\", \"plot_bgcolor\": \"#E5ECF6\", \"polar\": {\"angularaxis\": {\"gridcolor\": \"white\", \"linecolor\": \"white\", \"ticks\": \"\"}, \"bgcolor\": \"#E5ECF6\", \"radialaxis\": {\"gridcolor\": \"white\", \"linecolor\": \"white\", \"ticks\": \"\"}}, \"scene\": {\"xaxis\": {\"backgroundcolor\": \"#E5ECF6\", \"gridcolor\": \"white\", \"gridwidth\": 2, \"linecolor\": \"white\", \"showbackground\": true, \"ticks\": \"\", \"zerolinecolor\": \"white\"}, \"yaxis\": {\"backgroundcolor\": \"#E5ECF6\", \"gridcolor\": \"white\", \"gridwidth\": 2, \"linecolor\": \"white\", \"showbackground\": true, \"ticks\": \"\", \"zerolinecolor\": \"white\"}, \"zaxis\": {\"backgroundcolor\": \"#E5ECF6\", \"gridcolor\": \"white\", \"gridwidth\": 2, \"linecolor\": \"white\", \"showbackground\": true, \"ticks\": \"\", \"zerolinecolor\": \"white\"}}, \"shapedefaults\": {\"line\": {\"color\": \"#2a3f5f\"}}, \"ternary\": {\"aaxis\": {\"gridcolor\": \"white\", \"linecolor\": \"white\", \"ticks\": \"\"}, \"baxis\": {\"gridcolor\": \"white\", \"linecolor\": \"white\", \"ticks\": \"\"}, \"bgcolor\": \"#E5ECF6\", \"caxis\": {\"gridcolor\": \"white\", \"linecolor\": \"white\", \"ticks\": \"\"}}, \"title\": {\"x\": 0.05}, \"xaxis\": {\"automargin\": true, \"gridcolor\": \"white\", \"linecolor\": \"white\", \"ticks\": \"\", \"title\": {\"standoff\": 15}, \"zerolinecolor\": \"white\", \"zerolinewidth\": 2}, \"yaxis\": {\"automargin\": true, \"gridcolor\": \"white\", \"linecolor\": \"white\", \"ticks\": \"\", \"title\": {\"standoff\": 15}, \"zerolinecolor\": \"white\", \"zerolinewidth\": 2}}}, \"title\": {\"text\": \"Job Distribution\"}},\n",
       "                        {\"responsive\": true}\n",
       "                    ).then(function(){\n",
       "                            \n",
       "var gd = document.getElementById('93b9e37c-ec68-49c5-9661-5affb312889a');\n",
       "var x = new MutationObserver(function (mutations, observer) {{\n",
       "        var display = window.getComputedStyle(gd).display;\n",
       "        if (!display || display === 'none') {{\n",
       "            console.log([gd, 'removed!']);\n",
       "            Plotly.purge(gd);\n",
       "            observer.disconnect();\n",
       "        }}\n",
       "}});\n",
       "\n",
       "// Listen for the removal of the full notebook cells\n",
       "var notebookContainer = gd.closest('#notebook-container');\n",
       "if (notebookContainer) {{\n",
       "    x.observe(notebookContainer, {childList: true});\n",
       "}}\n",
       "\n",
       "// Listen for the clearing of the current output cell\n",
       "var outputEl = gd.closest('.output');\n",
       "if (outputEl) {{\n",
       "    x.observe(outputEl, {childList: true});\n",
       "}}\n",
       "\n",
       "                        })\n",
       "                };\n",
       "                });\n",
       "            </script>\n",
       "        </div>"
      ]
     },
     "metadata": {},
     "output_type": "display_data"
    }
   ],
   "source": [
    "data = [go.Bar(\n",
    "    x=df.job.value_counts().index.tolist(),\n",
    "    y=df.job.value_counts().tolist(),\n",
    "    text=df.job.value_counts().tolist(),\n",
    "    textposition='auto'\n",
    ")]\n",
    "layout = go.Layout(\n",
    "    title='Job Distribution'\n",
    ")\n",
    "fig = go.Figure(data=data, layout=layout)\n",
    "iplot(fig)"
   ]
  },
  {
   "cell_type": "code",
   "execution_count": 16,
   "metadata": {},
   "outputs": [
    {
     "data": {
      "application/vnd.plotly.v1+json": {
       "config": {
        "linkText": "Export to plot.ly",
        "plotlyServerURL": "https://plot.ly",
        "showLink": false
       },
       "data": [
        {
         "text": [
          "20993",
          "11206",
          "6270",
          "1531"
         ],
         "textposition": "auto",
         "type": "bar",
         "x": [
          "secondary",
          "tertiary",
          "primary",
          "unknown"
         ],
         "y": [
          20993,
          11206,
          6270,
          1531
         ]
        }
       ],
       "layout": {
        "template": {
         "data": {
          "bar": [
           {
            "error_x": {
             "color": "#2a3f5f"
            },
            "error_y": {
             "color": "#2a3f5f"
            },
            "marker": {
             "line": {
              "color": "#E5ECF6",
              "width": 0.5
             }
            },
            "type": "bar"
           }
          ],
          "barpolar": [
           {
            "marker": {
             "line": {
              "color": "#E5ECF6",
              "width": 0.5
             }
            },
            "type": "barpolar"
           }
          ],
          "carpet": [
           {
            "aaxis": {
             "endlinecolor": "#2a3f5f",
             "gridcolor": "white",
             "linecolor": "white",
             "minorgridcolor": "white",
             "startlinecolor": "#2a3f5f"
            },
            "baxis": {
             "endlinecolor": "#2a3f5f",
             "gridcolor": "white",
             "linecolor": "white",
             "minorgridcolor": "white",
             "startlinecolor": "#2a3f5f"
            },
            "type": "carpet"
           }
          ],
          "choropleth": [
           {
            "colorbar": {
             "outlinewidth": 0,
             "ticks": ""
            },
            "type": "choropleth"
           }
          ],
          "contour": [
           {
            "colorbar": {
             "outlinewidth": 0,
             "ticks": ""
            },
            "colorscale": [
             [
              0,
              "#0d0887"
             ],
             [
              0.1111111111111111,
              "#46039f"
             ],
             [
              0.2222222222222222,
              "#7201a8"
             ],
             [
              0.3333333333333333,
              "#9c179e"
             ],
             [
              0.4444444444444444,
              "#bd3786"
             ],
             [
              0.5555555555555556,
              "#d8576b"
             ],
             [
              0.6666666666666666,
              "#ed7953"
             ],
             [
              0.7777777777777778,
              "#fb9f3a"
             ],
             [
              0.8888888888888888,
              "#fdca26"
             ],
             [
              1,
              "#f0f921"
             ]
            ],
            "type": "contour"
           }
          ],
          "contourcarpet": [
           {
            "colorbar": {
             "outlinewidth": 0,
             "ticks": ""
            },
            "type": "contourcarpet"
           }
          ],
          "heatmap": [
           {
            "colorbar": {
             "outlinewidth": 0,
             "ticks": ""
            },
            "colorscale": [
             [
              0,
              "#0d0887"
             ],
             [
              0.1111111111111111,
              "#46039f"
             ],
             [
              0.2222222222222222,
              "#7201a8"
             ],
             [
              0.3333333333333333,
              "#9c179e"
             ],
             [
              0.4444444444444444,
              "#bd3786"
             ],
             [
              0.5555555555555556,
              "#d8576b"
             ],
             [
              0.6666666666666666,
              "#ed7953"
             ],
             [
              0.7777777777777778,
              "#fb9f3a"
             ],
             [
              0.8888888888888888,
              "#fdca26"
             ],
             [
              1,
              "#f0f921"
             ]
            ],
            "type": "heatmap"
           }
          ],
          "heatmapgl": [
           {
            "colorbar": {
             "outlinewidth": 0,
             "ticks": ""
            },
            "colorscale": [
             [
              0,
              "#0d0887"
             ],
             [
              0.1111111111111111,
              "#46039f"
             ],
             [
              0.2222222222222222,
              "#7201a8"
             ],
             [
              0.3333333333333333,
              "#9c179e"
             ],
             [
              0.4444444444444444,
              "#bd3786"
             ],
             [
              0.5555555555555556,
              "#d8576b"
             ],
             [
              0.6666666666666666,
              "#ed7953"
             ],
             [
              0.7777777777777778,
              "#fb9f3a"
             ],
             [
              0.8888888888888888,
              "#fdca26"
             ],
             [
              1,
              "#f0f921"
             ]
            ],
            "type": "heatmapgl"
           }
          ],
          "histogram": [
           {
            "marker": {
             "colorbar": {
              "outlinewidth": 0,
              "ticks": ""
             }
            },
            "type": "histogram"
           }
          ],
          "histogram2d": [
           {
            "colorbar": {
             "outlinewidth": 0,
             "ticks": ""
            },
            "colorscale": [
             [
              0,
              "#0d0887"
             ],
             [
              0.1111111111111111,
              "#46039f"
             ],
             [
              0.2222222222222222,
              "#7201a8"
             ],
             [
              0.3333333333333333,
              "#9c179e"
             ],
             [
              0.4444444444444444,
              "#bd3786"
             ],
             [
              0.5555555555555556,
              "#d8576b"
             ],
             [
              0.6666666666666666,
              "#ed7953"
             ],
             [
              0.7777777777777778,
              "#fb9f3a"
             ],
             [
              0.8888888888888888,
              "#fdca26"
             ],
             [
              1,
              "#f0f921"
             ]
            ],
            "type": "histogram2d"
           }
          ],
          "histogram2dcontour": [
           {
            "colorbar": {
             "outlinewidth": 0,
             "ticks": ""
            },
            "colorscale": [
             [
              0,
              "#0d0887"
             ],
             [
              0.1111111111111111,
              "#46039f"
             ],
             [
              0.2222222222222222,
              "#7201a8"
             ],
             [
              0.3333333333333333,
              "#9c179e"
             ],
             [
              0.4444444444444444,
              "#bd3786"
             ],
             [
              0.5555555555555556,
              "#d8576b"
             ],
             [
              0.6666666666666666,
              "#ed7953"
             ],
             [
              0.7777777777777778,
              "#fb9f3a"
             ],
             [
              0.8888888888888888,
              "#fdca26"
             ],
             [
              1,
              "#f0f921"
             ]
            ],
            "type": "histogram2dcontour"
           }
          ],
          "mesh3d": [
           {
            "colorbar": {
             "outlinewidth": 0,
             "ticks": ""
            },
            "type": "mesh3d"
           }
          ],
          "parcoords": [
           {
            "line": {
             "colorbar": {
              "outlinewidth": 0,
              "ticks": ""
             }
            },
            "type": "parcoords"
           }
          ],
          "pie": [
           {
            "automargin": true,
            "type": "pie"
           }
          ],
          "scatter": [
           {
            "marker": {
             "colorbar": {
              "outlinewidth": 0,
              "ticks": ""
             }
            },
            "type": "scatter"
           }
          ],
          "scatter3d": [
           {
            "line": {
             "colorbar": {
              "outlinewidth": 0,
              "ticks": ""
             }
            },
            "marker": {
             "colorbar": {
              "outlinewidth": 0,
              "ticks": ""
             }
            },
            "type": "scatter3d"
           }
          ],
          "scattercarpet": [
           {
            "marker": {
             "colorbar": {
              "outlinewidth": 0,
              "ticks": ""
             }
            },
            "type": "scattercarpet"
           }
          ],
          "scattergeo": [
           {
            "marker": {
             "colorbar": {
              "outlinewidth": 0,
              "ticks": ""
             }
            },
            "type": "scattergeo"
           }
          ],
          "scattergl": [
           {
            "marker": {
             "colorbar": {
              "outlinewidth": 0,
              "ticks": ""
             }
            },
            "type": "scattergl"
           }
          ],
          "scattermapbox": [
           {
            "marker": {
             "colorbar": {
              "outlinewidth": 0,
              "ticks": ""
             }
            },
            "type": "scattermapbox"
           }
          ],
          "scatterpolar": [
           {
            "marker": {
             "colorbar": {
              "outlinewidth": 0,
              "ticks": ""
             }
            },
            "type": "scatterpolar"
           }
          ],
          "scatterpolargl": [
           {
            "marker": {
             "colorbar": {
              "outlinewidth": 0,
              "ticks": ""
             }
            },
            "type": "scatterpolargl"
           }
          ],
          "scatterternary": [
           {
            "marker": {
             "colorbar": {
              "outlinewidth": 0,
              "ticks": ""
             }
            },
            "type": "scatterternary"
           }
          ],
          "surface": [
           {
            "colorbar": {
             "outlinewidth": 0,
             "ticks": ""
            },
            "colorscale": [
             [
              0,
              "#0d0887"
             ],
             [
              0.1111111111111111,
              "#46039f"
             ],
             [
              0.2222222222222222,
              "#7201a8"
             ],
             [
              0.3333333333333333,
              "#9c179e"
             ],
             [
              0.4444444444444444,
              "#bd3786"
             ],
             [
              0.5555555555555556,
              "#d8576b"
             ],
             [
              0.6666666666666666,
              "#ed7953"
             ],
             [
              0.7777777777777778,
              "#fb9f3a"
             ],
             [
              0.8888888888888888,
              "#fdca26"
             ],
             [
              1,
              "#f0f921"
             ]
            ],
            "type": "surface"
           }
          ],
          "table": [
           {
            "cells": {
             "fill": {
              "color": "#EBF0F8"
             },
             "line": {
              "color": "white"
             }
            },
            "header": {
             "fill": {
              "color": "#C8D4E3"
             },
             "line": {
              "color": "white"
             }
            },
            "type": "table"
           }
          ]
         },
         "layout": {
          "annotationdefaults": {
           "arrowcolor": "#2a3f5f",
           "arrowhead": 0,
           "arrowwidth": 1
          },
          "coloraxis": {
           "colorbar": {
            "outlinewidth": 0,
            "ticks": ""
           }
          },
          "colorscale": {
           "diverging": [
            [
             0,
             "#8e0152"
            ],
            [
             0.1,
             "#c51b7d"
            ],
            [
             0.2,
             "#de77ae"
            ],
            [
             0.3,
             "#f1b6da"
            ],
            [
             0.4,
             "#fde0ef"
            ],
            [
             0.5,
             "#f7f7f7"
            ],
            [
             0.6,
             "#e6f5d0"
            ],
            [
             0.7,
             "#b8e186"
            ],
            [
             0.8,
             "#7fbc41"
            ],
            [
             0.9,
             "#4d9221"
            ],
            [
             1,
             "#276419"
            ]
           ],
           "sequential": [
            [
             0,
             "#0d0887"
            ],
            [
             0.1111111111111111,
             "#46039f"
            ],
            [
             0.2222222222222222,
             "#7201a8"
            ],
            [
             0.3333333333333333,
             "#9c179e"
            ],
            [
             0.4444444444444444,
             "#bd3786"
            ],
            [
             0.5555555555555556,
             "#d8576b"
            ],
            [
             0.6666666666666666,
             "#ed7953"
            ],
            [
             0.7777777777777778,
             "#fb9f3a"
            ],
            [
             0.8888888888888888,
             "#fdca26"
            ],
            [
             1,
             "#f0f921"
            ]
           ],
           "sequentialminus": [
            [
             0,
             "#0d0887"
            ],
            [
             0.1111111111111111,
             "#46039f"
            ],
            [
             0.2222222222222222,
             "#7201a8"
            ],
            [
             0.3333333333333333,
             "#9c179e"
            ],
            [
             0.4444444444444444,
             "#bd3786"
            ],
            [
             0.5555555555555556,
             "#d8576b"
            ],
            [
             0.6666666666666666,
             "#ed7953"
            ],
            [
             0.7777777777777778,
             "#fb9f3a"
            ],
            [
             0.8888888888888888,
             "#fdca26"
            ],
            [
             1,
             "#f0f921"
            ]
           ]
          },
          "colorway": [
           "#636efa",
           "#EF553B",
           "#00cc96",
           "#ab63fa",
           "#FFA15A",
           "#19d3f3",
           "#FF6692",
           "#B6E880",
           "#FF97FF",
           "#FECB52"
          ],
          "font": {
           "color": "#2a3f5f"
          },
          "geo": {
           "bgcolor": "white",
           "lakecolor": "white",
           "landcolor": "#E5ECF6",
           "showlakes": true,
           "showland": true,
           "subunitcolor": "white"
          },
          "hoverlabel": {
           "align": "left"
          },
          "hovermode": "closest",
          "mapbox": {
           "style": "light"
          },
          "paper_bgcolor": "white",
          "plot_bgcolor": "#E5ECF6",
          "polar": {
           "angularaxis": {
            "gridcolor": "white",
            "linecolor": "white",
            "ticks": ""
           },
           "bgcolor": "#E5ECF6",
           "radialaxis": {
            "gridcolor": "white",
            "linecolor": "white",
            "ticks": ""
           }
          },
          "scene": {
           "xaxis": {
            "backgroundcolor": "#E5ECF6",
            "gridcolor": "white",
            "gridwidth": 2,
            "linecolor": "white",
            "showbackground": true,
            "ticks": "",
            "zerolinecolor": "white"
           },
           "yaxis": {
            "backgroundcolor": "#E5ECF6",
            "gridcolor": "white",
            "gridwidth": 2,
            "linecolor": "white",
            "showbackground": true,
            "ticks": "",
            "zerolinecolor": "white"
           },
           "zaxis": {
            "backgroundcolor": "#E5ECF6",
            "gridcolor": "white",
            "gridwidth": 2,
            "linecolor": "white",
            "showbackground": true,
            "ticks": "",
            "zerolinecolor": "white"
           }
          },
          "shapedefaults": {
           "line": {
            "color": "#2a3f5f"
           }
          },
          "ternary": {
           "aaxis": {
            "gridcolor": "white",
            "linecolor": "white",
            "ticks": ""
           },
           "baxis": {
            "gridcolor": "white",
            "linecolor": "white",
            "ticks": ""
           },
           "bgcolor": "#E5ECF6",
           "caxis": {
            "gridcolor": "white",
            "linecolor": "white",
            "ticks": ""
           }
          },
          "title": {
           "x": 0.05
          },
          "xaxis": {
           "automargin": true,
           "gridcolor": "white",
           "linecolor": "white",
           "ticks": "",
           "title": {
            "standoff": 15
           },
           "zerolinecolor": "white",
           "zerolinewidth": 2
          },
          "yaxis": {
           "automargin": true,
           "gridcolor": "white",
           "linecolor": "white",
           "ticks": "",
           "title": {
            "standoff": 15
           },
           "zerolinecolor": "white",
           "zerolinewidth": 2
          }
         }
        },
        "title": {
         "text": "Education Distribution"
        }
       }
      },
      "text/html": [
       "<div>\n",
       "        \n",
       "        \n",
       "            <div id=\"c719c806-e1f2-4193-ae91-aa462aca684f\" class=\"plotly-graph-div\" style=\"height:525px; width:100%;\"></div>\n",
       "            <script type=\"text/javascript\">\n",
       "                require([\"plotly\"], function(Plotly) {\n",
       "                    window.PLOTLYENV=window.PLOTLYENV || {};\n",
       "                    \n",
       "                if (document.getElementById(\"c719c806-e1f2-4193-ae91-aa462aca684f\")) {\n",
       "                    Plotly.newPlot(\n",
       "                        'c719c806-e1f2-4193-ae91-aa462aca684f',\n",
       "                        [{\"text\": [\"20993\", \"11206\", \"6270\", \"1531\"], \"textposition\": \"auto\", \"type\": \"bar\", \"x\": [\"secondary\", \"tertiary\", \"primary\", \"unknown\"], \"y\": [20993, 11206, 6270, 1531]}],\n",
       "                        {\"template\": {\"data\": {\"bar\": [{\"error_x\": {\"color\": \"#2a3f5f\"}, \"error_y\": {\"color\": \"#2a3f5f\"}, \"marker\": {\"line\": {\"color\": \"#E5ECF6\", \"width\": 0.5}}, \"type\": \"bar\"}], \"barpolar\": [{\"marker\": {\"line\": {\"color\": \"#E5ECF6\", \"width\": 0.5}}, \"type\": \"barpolar\"}], \"carpet\": [{\"aaxis\": {\"endlinecolor\": \"#2a3f5f\", \"gridcolor\": \"white\", \"linecolor\": \"white\", \"minorgridcolor\": \"white\", \"startlinecolor\": \"#2a3f5f\"}, \"baxis\": {\"endlinecolor\": \"#2a3f5f\", \"gridcolor\": \"white\", \"linecolor\": \"white\", \"minorgridcolor\": \"white\", \"startlinecolor\": \"#2a3f5f\"}, \"type\": \"carpet\"}], \"choropleth\": [{\"colorbar\": {\"outlinewidth\": 0, \"ticks\": \"\"}, \"type\": \"choropleth\"}], \"contour\": [{\"colorbar\": {\"outlinewidth\": 0, \"ticks\": \"\"}, \"colorscale\": [[0.0, \"#0d0887\"], [0.1111111111111111, \"#46039f\"], [0.2222222222222222, \"#7201a8\"], [0.3333333333333333, \"#9c179e\"], [0.4444444444444444, \"#bd3786\"], [0.5555555555555556, \"#d8576b\"], [0.6666666666666666, \"#ed7953\"], [0.7777777777777778, \"#fb9f3a\"], [0.8888888888888888, \"#fdca26\"], [1.0, \"#f0f921\"]], \"type\": \"contour\"}], \"contourcarpet\": [{\"colorbar\": {\"outlinewidth\": 0, \"ticks\": \"\"}, \"type\": \"contourcarpet\"}], \"heatmap\": [{\"colorbar\": {\"outlinewidth\": 0, \"ticks\": \"\"}, \"colorscale\": [[0.0, \"#0d0887\"], [0.1111111111111111, \"#46039f\"], [0.2222222222222222, \"#7201a8\"], [0.3333333333333333, \"#9c179e\"], [0.4444444444444444, \"#bd3786\"], [0.5555555555555556, \"#d8576b\"], [0.6666666666666666, \"#ed7953\"], [0.7777777777777778, \"#fb9f3a\"], [0.8888888888888888, \"#fdca26\"], [1.0, \"#f0f921\"]], \"type\": \"heatmap\"}], \"heatmapgl\": [{\"colorbar\": {\"outlinewidth\": 0, \"ticks\": \"\"}, \"colorscale\": [[0.0, \"#0d0887\"], [0.1111111111111111, \"#46039f\"], [0.2222222222222222, \"#7201a8\"], [0.3333333333333333, \"#9c179e\"], [0.4444444444444444, \"#bd3786\"], [0.5555555555555556, \"#d8576b\"], [0.6666666666666666, \"#ed7953\"], [0.7777777777777778, \"#fb9f3a\"], [0.8888888888888888, \"#fdca26\"], [1.0, \"#f0f921\"]], \"type\": \"heatmapgl\"}], \"histogram\": [{\"marker\": {\"colorbar\": {\"outlinewidth\": 0, \"ticks\": \"\"}}, \"type\": \"histogram\"}], \"histogram2d\": [{\"colorbar\": {\"outlinewidth\": 0, \"ticks\": \"\"}, \"colorscale\": [[0.0, \"#0d0887\"], [0.1111111111111111, \"#46039f\"], [0.2222222222222222, \"#7201a8\"], [0.3333333333333333, \"#9c179e\"], [0.4444444444444444, \"#bd3786\"], [0.5555555555555556, \"#d8576b\"], [0.6666666666666666, \"#ed7953\"], [0.7777777777777778, \"#fb9f3a\"], [0.8888888888888888, \"#fdca26\"], [1.0, \"#f0f921\"]], \"type\": \"histogram2d\"}], \"histogram2dcontour\": [{\"colorbar\": {\"outlinewidth\": 0, \"ticks\": \"\"}, \"colorscale\": [[0.0, \"#0d0887\"], [0.1111111111111111, \"#46039f\"], [0.2222222222222222, \"#7201a8\"], [0.3333333333333333, \"#9c179e\"], [0.4444444444444444, \"#bd3786\"], [0.5555555555555556, \"#d8576b\"], [0.6666666666666666, \"#ed7953\"], [0.7777777777777778, \"#fb9f3a\"], [0.8888888888888888, \"#fdca26\"], [1.0, \"#f0f921\"]], \"type\": \"histogram2dcontour\"}], \"mesh3d\": [{\"colorbar\": {\"outlinewidth\": 0, \"ticks\": \"\"}, \"type\": \"mesh3d\"}], \"parcoords\": [{\"line\": {\"colorbar\": {\"outlinewidth\": 0, \"ticks\": \"\"}}, \"type\": \"parcoords\"}], \"pie\": [{\"automargin\": true, \"type\": \"pie\"}], \"scatter\": [{\"marker\": {\"colorbar\": {\"outlinewidth\": 0, \"ticks\": \"\"}}, \"type\": \"scatter\"}], \"scatter3d\": [{\"line\": {\"colorbar\": {\"outlinewidth\": 0, \"ticks\": \"\"}}, \"marker\": {\"colorbar\": {\"outlinewidth\": 0, \"ticks\": \"\"}}, \"type\": \"scatter3d\"}], \"scattercarpet\": [{\"marker\": {\"colorbar\": {\"outlinewidth\": 0, \"ticks\": \"\"}}, \"type\": \"scattercarpet\"}], \"scattergeo\": [{\"marker\": {\"colorbar\": {\"outlinewidth\": 0, \"ticks\": \"\"}}, \"type\": \"scattergeo\"}], \"scattergl\": [{\"marker\": {\"colorbar\": {\"outlinewidth\": 0, \"ticks\": \"\"}}, \"type\": \"scattergl\"}], \"scattermapbox\": [{\"marker\": {\"colorbar\": {\"outlinewidth\": 0, \"ticks\": \"\"}}, \"type\": \"scattermapbox\"}], \"scatterpolar\": [{\"marker\": {\"colorbar\": {\"outlinewidth\": 0, \"ticks\": \"\"}}, \"type\": \"scatterpolar\"}], \"scatterpolargl\": [{\"marker\": {\"colorbar\": {\"outlinewidth\": 0, \"ticks\": \"\"}}, \"type\": \"scatterpolargl\"}], \"scatterternary\": [{\"marker\": {\"colorbar\": {\"outlinewidth\": 0, \"ticks\": \"\"}}, \"type\": \"scatterternary\"}], \"surface\": [{\"colorbar\": {\"outlinewidth\": 0, \"ticks\": \"\"}, \"colorscale\": [[0.0, \"#0d0887\"], [0.1111111111111111, \"#46039f\"], [0.2222222222222222, \"#7201a8\"], [0.3333333333333333, \"#9c179e\"], [0.4444444444444444, \"#bd3786\"], [0.5555555555555556, \"#d8576b\"], [0.6666666666666666, \"#ed7953\"], [0.7777777777777778, \"#fb9f3a\"], [0.8888888888888888, \"#fdca26\"], [1.0, \"#f0f921\"]], \"type\": \"surface\"}], \"table\": [{\"cells\": {\"fill\": {\"color\": \"#EBF0F8\"}, \"line\": {\"color\": \"white\"}}, \"header\": {\"fill\": {\"color\": \"#C8D4E3\"}, \"line\": {\"color\": \"white\"}}, \"type\": \"table\"}]}, \"layout\": {\"annotationdefaults\": {\"arrowcolor\": \"#2a3f5f\", \"arrowhead\": 0, \"arrowwidth\": 1}, \"coloraxis\": {\"colorbar\": {\"outlinewidth\": 0, \"ticks\": \"\"}}, \"colorscale\": {\"diverging\": [[0, \"#8e0152\"], [0.1, \"#c51b7d\"], [0.2, \"#de77ae\"], [0.3, \"#f1b6da\"], [0.4, \"#fde0ef\"], [0.5, \"#f7f7f7\"], [0.6, \"#e6f5d0\"], [0.7, \"#b8e186\"], [0.8, \"#7fbc41\"], [0.9, \"#4d9221\"], [1, \"#276419\"]], \"sequential\": [[0.0, \"#0d0887\"], [0.1111111111111111, \"#46039f\"], [0.2222222222222222, \"#7201a8\"], [0.3333333333333333, \"#9c179e\"], [0.4444444444444444, \"#bd3786\"], [0.5555555555555556, \"#d8576b\"], [0.6666666666666666, \"#ed7953\"], [0.7777777777777778, \"#fb9f3a\"], [0.8888888888888888, \"#fdca26\"], [1.0, \"#f0f921\"]], \"sequentialminus\": [[0.0, \"#0d0887\"], [0.1111111111111111, \"#46039f\"], [0.2222222222222222, \"#7201a8\"], [0.3333333333333333, \"#9c179e\"], [0.4444444444444444, \"#bd3786\"], [0.5555555555555556, \"#d8576b\"], [0.6666666666666666, \"#ed7953\"], [0.7777777777777778, \"#fb9f3a\"], [0.8888888888888888, \"#fdca26\"], [1.0, \"#f0f921\"]]}, \"colorway\": [\"#636efa\", \"#EF553B\", \"#00cc96\", \"#ab63fa\", \"#FFA15A\", \"#19d3f3\", \"#FF6692\", \"#B6E880\", \"#FF97FF\", \"#FECB52\"], \"font\": {\"color\": \"#2a3f5f\"}, \"geo\": {\"bgcolor\": \"white\", \"lakecolor\": \"white\", \"landcolor\": \"#E5ECF6\", \"showlakes\": true, \"showland\": true, \"subunitcolor\": \"white\"}, \"hoverlabel\": {\"align\": \"left\"}, \"hovermode\": \"closest\", \"mapbox\": {\"style\": \"light\"}, \"paper_bgcolor\": \"white\", \"plot_bgcolor\": \"#E5ECF6\", \"polar\": {\"angularaxis\": {\"gridcolor\": \"white\", \"linecolor\": \"white\", \"ticks\": \"\"}, \"bgcolor\": \"#E5ECF6\", \"radialaxis\": {\"gridcolor\": \"white\", \"linecolor\": \"white\", \"ticks\": \"\"}}, \"scene\": {\"xaxis\": {\"backgroundcolor\": \"#E5ECF6\", \"gridcolor\": \"white\", \"gridwidth\": 2, \"linecolor\": \"white\", \"showbackground\": true, \"ticks\": \"\", \"zerolinecolor\": \"white\"}, \"yaxis\": {\"backgroundcolor\": \"#E5ECF6\", \"gridcolor\": \"white\", \"gridwidth\": 2, \"linecolor\": \"white\", \"showbackground\": true, \"ticks\": \"\", \"zerolinecolor\": \"white\"}, \"zaxis\": {\"backgroundcolor\": \"#E5ECF6\", \"gridcolor\": \"white\", \"gridwidth\": 2, \"linecolor\": \"white\", \"showbackground\": true, \"ticks\": \"\", \"zerolinecolor\": \"white\"}}, \"shapedefaults\": {\"line\": {\"color\": \"#2a3f5f\"}}, \"ternary\": {\"aaxis\": {\"gridcolor\": \"white\", \"linecolor\": \"white\", \"ticks\": \"\"}, \"baxis\": {\"gridcolor\": \"white\", \"linecolor\": \"white\", \"ticks\": \"\"}, \"bgcolor\": \"#E5ECF6\", \"caxis\": {\"gridcolor\": \"white\", \"linecolor\": \"white\", \"ticks\": \"\"}}, \"title\": {\"x\": 0.05}, \"xaxis\": {\"automargin\": true, \"gridcolor\": \"white\", \"linecolor\": \"white\", \"ticks\": \"\", \"title\": {\"standoff\": 15}, \"zerolinecolor\": \"white\", \"zerolinewidth\": 2}, \"yaxis\": {\"automargin\": true, \"gridcolor\": \"white\", \"linecolor\": \"white\", \"ticks\": \"\", \"title\": {\"standoff\": 15}, \"zerolinecolor\": \"white\", \"zerolinewidth\": 2}}}, \"title\": {\"text\": \"Education Distribution\"}},\n",
       "                        {\"responsive\": true}\n",
       "                    ).then(function(){\n",
       "                            \n",
       "var gd = document.getElementById('c719c806-e1f2-4193-ae91-aa462aca684f');\n",
       "var x = new MutationObserver(function (mutations, observer) {{\n",
       "        var display = window.getComputedStyle(gd).display;\n",
       "        if (!display || display === 'none') {{\n",
       "            console.log([gd, 'removed!']);\n",
       "            Plotly.purge(gd);\n",
       "            observer.disconnect();\n",
       "        }}\n",
       "}});\n",
       "\n",
       "// Listen for the removal of the full notebook cells\n",
       "var notebookContainer = gd.closest('#notebook-container');\n",
       "if (notebookContainer) {{\n",
       "    x.observe(notebookContainer, {childList: true});\n",
       "}}\n",
       "\n",
       "// Listen for the clearing of the current output cell\n",
       "var outputEl = gd.closest('.output');\n",
       "if (outputEl) {{\n",
       "    x.observe(outputEl, {childList: true});\n",
       "}}\n",
       "\n",
       "                        })\n",
       "                };\n",
       "                });\n",
       "            </script>\n",
       "        </div>"
      ]
     },
     "metadata": {},
     "output_type": "display_data"
    }
   ],
   "source": [
    "data = [go.Bar(\n",
    "    x=df.education.value_counts().index.tolist(),\n",
    "    y=df.education.value_counts().tolist(),\n",
    "    text=df.education.value_counts().tolist(),\n",
    "    textposition='auto'\n",
    ")]\n",
    "layout = go.Layout(\n",
    "    title='Education Distribution'\n",
    ")\n",
    "fig = go.Figure(data=data, layout=layout)\n",
    "iplot(fig)"
   ]
  },
  {
   "cell_type": "code",
   "execution_count": 17,
   "metadata": {},
   "outputs": [
    {
     "data": {
      "application/vnd.plotly.v1+json": {
       "config": {
        "linkText": "Export to plot.ly",
        "plotlyServerURL": "https://plot.ly",
        "showLink": false
       },
       "data": [
        {
         "text": [
          "39191",
          "809"
         ],
         "textposition": "auto",
         "type": "bar",
         "x": [
          "no",
          "yes"
         ],
         "y": [
          39191,
          809
         ]
        }
       ],
       "layout": {
        "template": {
         "data": {
          "bar": [
           {
            "error_x": {
             "color": "#2a3f5f"
            },
            "error_y": {
             "color": "#2a3f5f"
            },
            "marker": {
             "line": {
              "color": "#E5ECF6",
              "width": 0.5
             }
            },
            "type": "bar"
           }
          ],
          "barpolar": [
           {
            "marker": {
             "line": {
              "color": "#E5ECF6",
              "width": 0.5
             }
            },
            "type": "barpolar"
           }
          ],
          "carpet": [
           {
            "aaxis": {
             "endlinecolor": "#2a3f5f",
             "gridcolor": "white",
             "linecolor": "white",
             "minorgridcolor": "white",
             "startlinecolor": "#2a3f5f"
            },
            "baxis": {
             "endlinecolor": "#2a3f5f",
             "gridcolor": "white",
             "linecolor": "white",
             "minorgridcolor": "white",
             "startlinecolor": "#2a3f5f"
            },
            "type": "carpet"
           }
          ],
          "choropleth": [
           {
            "colorbar": {
             "outlinewidth": 0,
             "ticks": ""
            },
            "type": "choropleth"
           }
          ],
          "contour": [
           {
            "colorbar": {
             "outlinewidth": 0,
             "ticks": ""
            },
            "colorscale": [
             [
              0,
              "#0d0887"
             ],
             [
              0.1111111111111111,
              "#46039f"
             ],
             [
              0.2222222222222222,
              "#7201a8"
             ],
             [
              0.3333333333333333,
              "#9c179e"
             ],
             [
              0.4444444444444444,
              "#bd3786"
             ],
             [
              0.5555555555555556,
              "#d8576b"
             ],
             [
              0.6666666666666666,
              "#ed7953"
             ],
             [
              0.7777777777777778,
              "#fb9f3a"
             ],
             [
              0.8888888888888888,
              "#fdca26"
             ],
             [
              1,
              "#f0f921"
             ]
            ],
            "type": "contour"
           }
          ],
          "contourcarpet": [
           {
            "colorbar": {
             "outlinewidth": 0,
             "ticks": ""
            },
            "type": "contourcarpet"
           }
          ],
          "heatmap": [
           {
            "colorbar": {
             "outlinewidth": 0,
             "ticks": ""
            },
            "colorscale": [
             [
              0,
              "#0d0887"
             ],
             [
              0.1111111111111111,
              "#46039f"
             ],
             [
              0.2222222222222222,
              "#7201a8"
             ],
             [
              0.3333333333333333,
              "#9c179e"
             ],
             [
              0.4444444444444444,
              "#bd3786"
             ],
             [
              0.5555555555555556,
              "#d8576b"
             ],
             [
              0.6666666666666666,
              "#ed7953"
             ],
             [
              0.7777777777777778,
              "#fb9f3a"
             ],
             [
              0.8888888888888888,
              "#fdca26"
             ],
             [
              1,
              "#f0f921"
             ]
            ],
            "type": "heatmap"
           }
          ],
          "heatmapgl": [
           {
            "colorbar": {
             "outlinewidth": 0,
             "ticks": ""
            },
            "colorscale": [
             [
              0,
              "#0d0887"
             ],
             [
              0.1111111111111111,
              "#46039f"
             ],
             [
              0.2222222222222222,
              "#7201a8"
             ],
             [
              0.3333333333333333,
              "#9c179e"
             ],
             [
              0.4444444444444444,
              "#bd3786"
             ],
             [
              0.5555555555555556,
              "#d8576b"
             ],
             [
              0.6666666666666666,
              "#ed7953"
             ],
             [
              0.7777777777777778,
              "#fb9f3a"
             ],
             [
              0.8888888888888888,
              "#fdca26"
             ],
             [
              1,
              "#f0f921"
             ]
            ],
            "type": "heatmapgl"
           }
          ],
          "histogram": [
           {
            "marker": {
             "colorbar": {
              "outlinewidth": 0,
              "ticks": ""
             }
            },
            "type": "histogram"
           }
          ],
          "histogram2d": [
           {
            "colorbar": {
             "outlinewidth": 0,
             "ticks": ""
            },
            "colorscale": [
             [
              0,
              "#0d0887"
             ],
             [
              0.1111111111111111,
              "#46039f"
             ],
             [
              0.2222222222222222,
              "#7201a8"
             ],
             [
              0.3333333333333333,
              "#9c179e"
             ],
             [
              0.4444444444444444,
              "#bd3786"
             ],
             [
              0.5555555555555556,
              "#d8576b"
             ],
             [
              0.6666666666666666,
              "#ed7953"
             ],
             [
              0.7777777777777778,
              "#fb9f3a"
             ],
             [
              0.8888888888888888,
              "#fdca26"
             ],
             [
              1,
              "#f0f921"
             ]
            ],
            "type": "histogram2d"
           }
          ],
          "histogram2dcontour": [
           {
            "colorbar": {
             "outlinewidth": 0,
             "ticks": ""
            },
            "colorscale": [
             [
              0,
              "#0d0887"
             ],
             [
              0.1111111111111111,
              "#46039f"
             ],
             [
              0.2222222222222222,
              "#7201a8"
             ],
             [
              0.3333333333333333,
              "#9c179e"
             ],
             [
              0.4444444444444444,
              "#bd3786"
             ],
             [
              0.5555555555555556,
              "#d8576b"
             ],
             [
              0.6666666666666666,
              "#ed7953"
             ],
             [
              0.7777777777777778,
              "#fb9f3a"
             ],
             [
              0.8888888888888888,
              "#fdca26"
             ],
             [
              1,
              "#f0f921"
             ]
            ],
            "type": "histogram2dcontour"
           }
          ],
          "mesh3d": [
           {
            "colorbar": {
             "outlinewidth": 0,
             "ticks": ""
            },
            "type": "mesh3d"
           }
          ],
          "parcoords": [
           {
            "line": {
             "colorbar": {
              "outlinewidth": 0,
              "ticks": ""
             }
            },
            "type": "parcoords"
           }
          ],
          "pie": [
           {
            "automargin": true,
            "type": "pie"
           }
          ],
          "scatter": [
           {
            "marker": {
             "colorbar": {
              "outlinewidth": 0,
              "ticks": ""
             }
            },
            "type": "scatter"
           }
          ],
          "scatter3d": [
           {
            "line": {
             "colorbar": {
              "outlinewidth": 0,
              "ticks": ""
             }
            },
            "marker": {
             "colorbar": {
              "outlinewidth": 0,
              "ticks": ""
             }
            },
            "type": "scatter3d"
           }
          ],
          "scattercarpet": [
           {
            "marker": {
             "colorbar": {
              "outlinewidth": 0,
              "ticks": ""
             }
            },
            "type": "scattercarpet"
           }
          ],
          "scattergeo": [
           {
            "marker": {
             "colorbar": {
              "outlinewidth": 0,
              "ticks": ""
             }
            },
            "type": "scattergeo"
           }
          ],
          "scattergl": [
           {
            "marker": {
             "colorbar": {
              "outlinewidth": 0,
              "ticks": ""
             }
            },
            "type": "scattergl"
           }
          ],
          "scattermapbox": [
           {
            "marker": {
             "colorbar": {
              "outlinewidth": 0,
              "ticks": ""
             }
            },
            "type": "scattermapbox"
           }
          ],
          "scatterpolar": [
           {
            "marker": {
             "colorbar": {
              "outlinewidth": 0,
              "ticks": ""
             }
            },
            "type": "scatterpolar"
           }
          ],
          "scatterpolargl": [
           {
            "marker": {
             "colorbar": {
              "outlinewidth": 0,
              "ticks": ""
             }
            },
            "type": "scatterpolargl"
           }
          ],
          "scatterternary": [
           {
            "marker": {
             "colorbar": {
              "outlinewidth": 0,
              "ticks": ""
             }
            },
            "type": "scatterternary"
           }
          ],
          "surface": [
           {
            "colorbar": {
             "outlinewidth": 0,
             "ticks": ""
            },
            "colorscale": [
             [
              0,
              "#0d0887"
             ],
             [
              0.1111111111111111,
              "#46039f"
             ],
             [
              0.2222222222222222,
              "#7201a8"
             ],
             [
              0.3333333333333333,
              "#9c179e"
             ],
             [
              0.4444444444444444,
              "#bd3786"
             ],
             [
              0.5555555555555556,
              "#d8576b"
             ],
             [
              0.6666666666666666,
              "#ed7953"
             ],
             [
              0.7777777777777778,
              "#fb9f3a"
             ],
             [
              0.8888888888888888,
              "#fdca26"
             ],
             [
              1,
              "#f0f921"
             ]
            ],
            "type": "surface"
           }
          ],
          "table": [
           {
            "cells": {
             "fill": {
              "color": "#EBF0F8"
             },
             "line": {
              "color": "white"
             }
            },
            "header": {
             "fill": {
              "color": "#C8D4E3"
             },
             "line": {
              "color": "white"
             }
            },
            "type": "table"
           }
          ]
         },
         "layout": {
          "annotationdefaults": {
           "arrowcolor": "#2a3f5f",
           "arrowhead": 0,
           "arrowwidth": 1
          },
          "coloraxis": {
           "colorbar": {
            "outlinewidth": 0,
            "ticks": ""
           }
          },
          "colorscale": {
           "diverging": [
            [
             0,
             "#8e0152"
            ],
            [
             0.1,
             "#c51b7d"
            ],
            [
             0.2,
             "#de77ae"
            ],
            [
             0.3,
             "#f1b6da"
            ],
            [
             0.4,
             "#fde0ef"
            ],
            [
             0.5,
             "#f7f7f7"
            ],
            [
             0.6,
             "#e6f5d0"
            ],
            [
             0.7,
             "#b8e186"
            ],
            [
             0.8,
             "#7fbc41"
            ],
            [
             0.9,
             "#4d9221"
            ],
            [
             1,
             "#276419"
            ]
           ],
           "sequential": [
            [
             0,
             "#0d0887"
            ],
            [
             0.1111111111111111,
             "#46039f"
            ],
            [
             0.2222222222222222,
             "#7201a8"
            ],
            [
             0.3333333333333333,
             "#9c179e"
            ],
            [
             0.4444444444444444,
             "#bd3786"
            ],
            [
             0.5555555555555556,
             "#d8576b"
            ],
            [
             0.6666666666666666,
             "#ed7953"
            ],
            [
             0.7777777777777778,
             "#fb9f3a"
            ],
            [
             0.8888888888888888,
             "#fdca26"
            ],
            [
             1,
             "#f0f921"
            ]
           ],
           "sequentialminus": [
            [
             0,
             "#0d0887"
            ],
            [
             0.1111111111111111,
             "#46039f"
            ],
            [
             0.2222222222222222,
             "#7201a8"
            ],
            [
             0.3333333333333333,
             "#9c179e"
            ],
            [
             0.4444444444444444,
             "#bd3786"
            ],
            [
             0.5555555555555556,
             "#d8576b"
            ],
            [
             0.6666666666666666,
             "#ed7953"
            ],
            [
             0.7777777777777778,
             "#fb9f3a"
            ],
            [
             0.8888888888888888,
             "#fdca26"
            ],
            [
             1,
             "#f0f921"
            ]
           ]
          },
          "colorway": [
           "#636efa",
           "#EF553B",
           "#00cc96",
           "#ab63fa",
           "#FFA15A",
           "#19d3f3",
           "#FF6692",
           "#B6E880",
           "#FF97FF",
           "#FECB52"
          ],
          "font": {
           "color": "#2a3f5f"
          },
          "geo": {
           "bgcolor": "white",
           "lakecolor": "white",
           "landcolor": "#E5ECF6",
           "showlakes": true,
           "showland": true,
           "subunitcolor": "white"
          },
          "hoverlabel": {
           "align": "left"
          },
          "hovermode": "closest",
          "mapbox": {
           "style": "light"
          },
          "paper_bgcolor": "white",
          "plot_bgcolor": "#E5ECF6",
          "polar": {
           "angularaxis": {
            "gridcolor": "white",
            "linecolor": "white",
            "ticks": ""
           },
           "bgcolor": "#E5ECF6",
           "radialaxis": {
            "gridcolor": "white",
            "linecolor": "white",
            "ticks": ""
           }
          },
          "scene": {
           "xaxis": {
            "backgroundcolor": "#E5ECF6",
            "gridcolor": "white",
            "gridwidth": 2,
            "linecolor": "white",
            "showbackground": true,
            "ticks": "",
            "zerolinecolor": "white"
           },
           "yaxis": {
            "backgroundcolor": "#E5ECF6",
            "gridcolor": "white",
            "gridwidth": 2,
            "linecolor": "white",
            "showbackground": true,
            "ticks": "",
            "zerolinecolor": "white"
           },
           "zaxis": {
            "backgroundcolor": "#E5ECF6",
            "gridcolor": "white",
            "gridwidth": 2,
            "linecolor": "white",
            "showbackground": true,
            "ticks": "",
            "zerolinecolor": "white"
           }
          },
          "shapedefaults": {
           "line": {
            "color": "#2a3f5f"
           }
          },
          "ternary": {
           "aaxis": {
            "gridcolor": "white",
            "linecolor": "white",
            "ticks": ""
           },
           "baxis": {
            "gridcolor": "white",
            "linecolor": "white",
            "ticks": ""
           },
           "bgcolor": "#E5ECF6",
           "caxis": {
            "gridcolor": "white",
            "linecolor": "white",
            "ticks": ""
           }
          },
          "title": {
           "x": 0.05
          },
          "xaxis": {
           "automargin": true,
           "gridcolor": "white",
           "linecolor": "white",
           "ticks": "",
           "title": {
            "standoff": 15
           },
           "zerolinecolor": "white",
           "zerolinewidth": 2
          },
          "yaxis": {
           "automargin": true,
           "gridcolor": "white",
           "linecolor": "white",
           "ticks": "",
           "title": {
            "standoff": 15
           },
           "zerolinecolor": "white",
           "zerolinewidth": 2
          }
         }
        },
        "title": {
         "text": "Has a Housing Loan?"
        }
       }
      },
      "text/html": [
       "<div>\n",
       "        \n",
       "        \n",
       "            <div id=\"8e4e6e72-b1c7-4bdc-9a3d-cd015cad06eb\" class=\"plotly-graph-div\" style=\"height:525px; width:100%;\"></div>\n",
       "            <script type=\"text/javascript\">\n",
       "                require([\"plotly\"], function(Plotly) {\n",
       "                    window.PLOTLYENV=window.PLOTLYENV || {};\n",
       "                    \n",
       "                if (document.getElementById(\"8e4e6e72-b1c7-4bdc-9a3d-cd015cad06eb\")) {\n",
       "                    Plotly.newPlot(\n",
       "                        '8e4e6e72-b1c7-4bdc-9a3d-cd015cad06eb',\n",
       "                        [{\"text\": [\"39191\", \"809\"], \"textposition\": \"auto\", \"type\": \"bar\", \"x\": [\"no\", \"yes\"], \"y\": [39191, 809]}],\n",
       "                        {\"template\": {\"data\": {\"bar\": [{\"error_x\": {\"color\": \"#2a3f5f\"}, \"error_y\": {\"color\": \"#2a3f5f\"}, \"marker\": {\"line\": {\"color\": \"#E5ECF6\", \"width\": 0.5}}, \"type\": \"bar\"}], \"barpolar\": [{\"marker\": {\"line\": {\"color\": \"#E5ECF6\", \"width\": 0.5}}, \"type\": \"barpolar\"}], \"carpet\": [{\"aaxis\": {\"endlinecolor\": \"#2a3f5f\", \"gridcolor\": \"white\", \"linecolor\": \"white\", \"minorgridcolor\": \"white\", \"startlinecolor\": \"#2a3f5f\"}, \"baxis\": {\"endlinecolor\": \"#2a3f5f\", \"gridcolor\": \"white\", \"linecolor\": \"white\", \"minorgridcolor\": \"white\", \"startlinecolor\": \"#2a3f5f\"}, \"type\": \"carpet\"}], \"choropleth\": [{\"colorbar\": {\"outlinewidth\": 0, \"ticks\": \"\"}, \"type\": \"choropleth\"}], \"contour\": [{\"colorbar\": {\"outlinewidth\": 0, \"ticks\": \"\"}, \"colorscale\": [[0.0, \"#0d0887\"], [0.1111111111111111, \"#46039f\"], [0.2222222222222222, \"#7201a8\"], [0.3333333333333333, \"#9c179e\"], [0.4444444444444444, \"#bd3786\"], [0.5555555555555556, \"#d8576b\"], [0.6666666666666666, \"#ed7953\"], [0.7777777777777778, \"#fb9f3a\"], [0.8888888888888888, \"#fdca26\"], [1.0, \"#f0f921\"]], \"type\": \"contour\"}], \"contourcarpet\": [{\"colorbar\": {\"outlinewidth\": 0, \"ticks\": \"\"}, \"type\": \"contourcarpet\"}], \"heatmap\": [{\"colorbar\": {\"outlinewidth\": 0, \"ticks\": \"\"}, \"colorscale\": [[0.0, \"#0d0887\"], [0.1111111111111111, \"#46039f\"], [0.2222222222222222, \"#7201a8\"], [0.3333333333333333, \"#9c179e\"], [0.4444444444444444, \"#bd3786\"], [0.5555555555555556, \"#d8576b\"], [0.6666666666666666, \"#ed7953\"], [0.7777777777777778, \"#fb9f3a\"], [0.8888888888888888, \"#fdca26\"], [1.0, \"#f0f921\"]], \"type\": \"heatmap\"}], \"heatmapgl\": [{\"colorbar\": {\"outlinewidth\": 0, \"ticks\": \"\"}, \"colorscale\": [[0.0, \"#0d0887\"], [0.1111111111111111, \"#46039f\"], [0.2222222222222222, \"#7201a8\"], [0.3333333333333333, \"#9c179e\"], [0.4444444444444444, \"#bd3786\"], [0.5555555555555556, \"#d8576b\"], [0.6666666666666666, \"#ed7953\"], [0.7777777777777778, \"#fb9f3a\"], [0.8888888888888888, \"#fdca26\"], [1.0, \"#f0f921\"]], \"type\": \"heatmapgl\"}], \"histogram\": [{\"marker\": {\"colorbar\": {\"outlinewidth\": 0, \"ticks\": \"\"}}, \"type\": \"histogram\"}], \"histogram2d\": [{\"colorbar\": {\"outlinewidth\": 0, \"ticks\": \"\"}, \"colorscale\": [[0.0, \"#0d0887\"], [0.1111111111111111, \"#46039f\"], [0.2222222222222222, \"#7201a8\"], [0.3333333333333333, \"#9c179e\"], [0.4444444444444444, \"#bd3786\"], [0.5555555555555556, \"#d8576b\"], [0.6666666666666666, \"#ed7953\"], [0.7777777777777778, \"#fb9f3a\"], [0.8888888888888888, \"#fdca26\"], [1.0, \"#f0f921\"]], \"type\": \"histogram2d\"}], \"histogram2dcontour\": [{\"colorbar\": {\"outlinewidth\": 0, \"ticks\": \"\"}, \"colorscale\": [[0.0, \"#0d0887\"], [0.1111111111111111, \"#46039f\"], [0.2222222222222222, \"#7201a8\"], [0.3333333333333333, \"#9c179e\"], [0.4444444444444444, \"#bd3786\"], [0.5555555555555556, \"#d8576b\"], [0.6666666666666666, \"#ed7953\"], [0.7777777777777778, \"#fb9f3a\"], [0.8888888888888888, \"#fdca26\"], [1.0, \"#f0f921\"]], \"type\": \"histogram2dcontour\"}], \"mesh3d\": [{\"colorbar\": {\"outlinewidth\": 0, \"ticks\": \"\"}, \"type\": \"mesh3d\"}], \"parcoords\": [{\"line\": {\"colorbar\": {\"outlinewidth\": 0, \"ticks\": \"\"}}, \"type\": \"parcoords\"}], \"pie\": [{\"automargin\": true, \"type\": \"pie\"}], \"scatter\": [{\"marker\": {\"colorbar\": {\"outlinewidth\": 0, \"ticks\": \"\"}}, \"type\": \"scatter\"}], \"scatter3d\": [{\"line\": {\"colorbar\": {\"outlinewidth\": 0, \"ticks\": \"\"}}, \"marker\": {\"colorbar\": {\"outlinewidth\": 0, \"ticks\": \"\"}}, \"type\": \"scatter3d\"}], \"scattercarpet\": [{\"marker\": {\"colorbar\": {\"outlinewidth\": 0, \"ticks\": \"\"}}, \"type\": \"scattercarpet\"}], \"scattergeo\": [{\"marker\": {\"colorbar\": {\"outlinewidth\": 0, \"ticks\": \"\"}}, \"type\": \"scattergeo\"}], \"scattergl\": [{\"marker\": {\"colorbar\": {\"outlinewidth\": 0, \"ticks\": \"\"}}, \"type\": \"scattergl\"}], \"scattermapbox\": [{\"marker\": {\"colorbar\": {\"outlinewidth\": 0, \"ticks\": \"\"}}, \"type\": \"scattermapbox\"}], \"scatterpolar\": [{\"marker\": {\"colorbar\": {\"outlinewidth\": 0, \"ticks\": \"\"}}, \"type\": \"scatterpolar\"}], \"scatterpolargl\": [{\"marker\": {\"colorbar\": {\"outlinewidth\": 0, \"ticks\": \"\"}}, \"type\": \"scatterpolargl\"}], \"scatterternary\": [{\"marker\": {\"colorbar\": {\"outlinewidth\": 0, \"ticks\": \"\"}}, \"type\": \"scatterternary\"}], \"surface\": [{\"colorbar\": {\"outlinewidth\": 0, \"ticks\": \"\"}, \"colorscale\": [[0.0, \"#0d0887\"], [0.1111111111111111, \"#46039f\"], [0.2222222222222222, \"#7201a8\"], [0.3333333333333333, \"#9c179e\"], [0.4444444444444444, \"#bd3786\"], [0.5555555555555556, \"#d8576b\"], [0.6666666666666666, \"#ed7953\"], [0.7777777777777778, \"#fb9f3a\"], [0.8888888888888888, \"#fdca26\"], [1.0, \"#f0f921\"]], \"type\": \"surface\"}], \"table\": [{\"cells\": {\"fill\": {\"color\": \"#EBF0F8\"}, \"line\": {\"color\": \"white\"}}, \"header\": {\"fill\": {\"color\": \"#C8D4E3\"}, \"line\": {\"color\": \"white\"}}, \"type\": \"table\"}]}, \"layout\": {\"annotationdefaults\": {\"arrowcolor\": \"#2a3f5f\", \"arrowhead\": 0, \"arrowwidth\": 1}, \"coloraxis\": {\"colorbar\": {\"outlinewidth\": 0, \"ticks\": \"\"}}, \"colorscale\": {\"diverging\": [[0, \"#8e0152\"], [0.1, \"#c51b7d\"], [0.2, \"#de77ae\"], [0.3, \"#f1b6da\"], [0.4, \"#fde0ef\"], [0.5, \"#f7f7f7\"], [0.6, \"#e6f5d0\"], [0.7, \"#b8e186\"], [0.8, \"#7fbc41\"], [0.9, \"#4d9221\"], [1, \"#276419\"]], \"sequential\": [[0.0, \"#0d0887\"], [0.1111111111111111, \"#46039f\"], [0.2222222222222222, \"#7201a8\"], [0.3333333333333333, \"#9c179e\"], [0.4444444444444444, \"#bd3786\"], [0.5555555555555556, \"#d8576b\"], [0.6666666666666666, \"#ed7953\"], [0.7777777777777778, \"#fb9f3a\"], [0.8888888888888888, \"#fdca26\"], [1.0, \"#f0f921\"]], \"sequentialminus\": [[0.0, \"#0d0887\"], [0.1111111111111111, \"#46039f\"], [0.2222222222222222, \"#7201a8\"], [0.3333333333333333, \"#9c179e\"], [0.4444444444444444, \"#bd3786\"], [0.5555555555555556, \"#d8576b\"], [0.6666666666666666, \"#ed7953\"], [0.7777777777777778, \"#fb9f3a\"], [0.8888888888888888, \"#fdca26\"], [1.0, \"#f0f921\"]]}, \"colorway\": [\"#636efa\", \"#EF553B\", \"#00cc96\", \"#ab63fa\", \"#FFA15A\", \"#19d3f3\", \"#FF6692\", \"#B6E880\", \"#FF97FF\", \"#FECB52\"], \"font\": {\"color\": \"#2a3f5f\"}, \"geo\": {\"bgcolor\": \"white\", \"lakecolor\": \"white\", \"landcolor\": \"#E5ECF6\", \"showlakes\": true, \"showland\": true, \"subunitcolor\": \"white\"}, \"hoverlabel\": {\"align\": \"left\"}, \"hovermode\": \"closest\", \"mapbox\": {\"style\": \"light\"}, \"paper_bgcolor\": \"white\", \"plot_bgcolor\": \"#E5ECF6\", \"polar\": {\"angularaxis\": {\"gridcolor\": \"white\", \"linecolor\": \"white\", \"ticks\": \"\"}, \"bgcolor\": \"#E5ECF6\", \"radialaxis\": {\"gridcolor\": \"white\", \"linecolor\": \"white\", \"ticks\": \"\"}}, \"scene\": {\"xaxis\": {\"backgroundcolor\": \"#E5ECF6\", \"gridcolor\": \"white\", \"gridwidth\": 2, \"linecolor\": \"white\", \"showbackground\": true, \"ticks\": \"\", \"zerolinecolor\": \"white\"}, \"yaxis\": {\"backgroundcolor\": \"#E5ECF6\", \"gridcolor\": \"white\", \"gridwidth\": 2, \"linecolor\": \"white\", \"showbackground\": true, \"ticks\": \"\", \"zerolinecolor\": \"white\"}, \"zaxis\": {\"backgroundcolor\": \"#E5ECF6\", \"gridcolor\": \"white\", \"gridwidth\": 2, \"linecolor\": \"white\", \"showbackground\": true, \"ticks\": \"\", \"zerolinecolor\": \"white\"}}, \"shapedefaults\": {\"line\": {\"color\": \"#2a3f5f\"}}, \"ternary\": {\"aaxis\": {\"gridcolor\": \"white\", \"linecolor\": \"white\", \"ticks\": \"\"}, \"baxis\": {\"gridcolor\": \"white\", \"linecolor\": \"white\", \"ticks\": \"\"}, \"bgcolor\": \"#E5ECF6\", \"caxis\": {\"gridcolor\": \"white\", \"linecolor\": \"white\", \"ticks\": \"\"}}, \"title\": {\"x\": 0.05}, \"xaxis\": {\"automargin\": true, \"gridcolor\": \"white\", \"linecolor\": \"white\", \"ticks\": \"\", \"title\": {\"standoff\": 15}, \"zerolinecolor\": \"white\", \"zerolinewidth\": 2}, \"yaxis\": {\"automargin\": true, \"gridcolor\": \"white\", \"linecolor\": \"white\", \"ticks\": \"\", \"title\": {\"standoff\": 15}, \"zerolinecolor\": \"white\", \"zerolinewidth\": 2}}}, \"title\": {\"text\": \"Has a Housing Loan?\"}},\n",
       "                        {\"responsive\": true}\n",
       "                    ).then(function(){\n",
       "                            \n",
       "var gd = document.getElementById('8e4e6e72-b1c7-4bdc-9a3d-cd015cad06eb');\n",
       "var x = new MutationObserver(function (mutations, observer) {{\n",
       "        var display = window.getComputedStyle(gd).display;\n",
       "        if (!display || display === 'none') {{\n",
       "            console.log([gd, 'removed!']);\n",
       "            Plotly.purge(gd);\n",
       "            observer.disconnect();\n",
       "        }}\n",
       "}});\n",
       "\n",
       "// Listen for the removal of the full notebook cells\n",
       "var notebookContainer = gd.closest('#notebook-container');\n",
       "if (notebookContainer) {{\n",
       "    x.observe(notebookContainer, {childList: true});\n",
       "}}\n",
       "\n",
       "// Listen for the clearing of the current output cell\n",
       "var outputEl = gd.closest('.output');\n",
       "if (outputEl) {{\n",
       "    x.observe(outputEl, {childList: true});\n",
       "}}\n",
       "\n",
       "                        })\n",
       "                };\n",
       "                });\n",
       "            </script>\n",
       "        </div>"
      ]
     },
     "metadata": {},
     "output_type": "display_data"
    }
   ],
   "source": [
    "data = [go.Bar(\n",
    "    x=df.default.value_counts().index.tolist(),\n",
    "    y=df.default.value_counts().tolist(),\n",
    "    text=df.default.value_counts().tolist(),\n",
    "    textposition='auto'\n",
    ")]\n",
    "layout = go.Layout(\n",
    "    title='Has a Housing Loan?'\n",
    ")\n",
    "fig = go.Figure(data=data, layout=layout)\n",
    "iplot(fig)"
   ]
  },
  {
   "cell_type": "code",
   "execution_count": 18,
   "metadata": {},
   "outputs": [
    {
     "data": {
      "application/vnd.plotly.v1+json": {
       "config": {
        "linkText": "Export to plot.ly",
        "plotlyServerURL": "https://plot.ly",
        "showLink": false
       },
       "data": [
        {
         "text": [
          "24031",
          "15969"
         ],
         "textposition": "auto",
         "type": "bar",
         "x": [
          "yes",
          "no"
         ],
         "y": [
          24031,
          15969
         ]
        }
       ],
       "layout": {
        "template": {
         "data": {
          "bar": [
           {
            "error_x": {
             "color": "#2a3f5f"
            },
            "error_y": {
             "color": "#2a3f5f"
            },
            "marker": {
             "line": {
              "color": "#E5ECF6",
              "width": 0.5
             }
            },
            "type": "bar"
           }
          ],
          "barpolar": [
           {
            "marker": {
             "line": {
              "color": "#E5ECF6",
              "width": 0.5
             }
            },
            "type": "barpolar"
           }
          ],
          "carpet": [
           {
            "aaxis": {
             "endlinecolor": "#2a3f5f",
             "gridcolor": "white",
             "linecolor": "white",
             "minorgridcolor": "white",
             "startlinecolor": "#2a3f5f"
            },
            "baxis": {
             "endlinecolor": "#2a3f5f",
             "gridcolor": "white",
             "linecolor": "white",
             "minorgridcolor": "white",
             "startlinecolor": "#2a3f5f"
            },
            "type": "carpet"
           }
          ],
          "choropleth": [
           {
            "colorbar": {
             "outlinewidth": 0,
             "ticks": ""
            },
            "type": "choropleth"
           }
          ],
          "contour": [
           {
            "colorbar": {
             "outlinewidth": 0,
             "ticks": ""
            },
            "colorscale": [
             [
              0,
              "#0d0887"
             ],
             [
              0.1111111111111111,
              "#46039f"
             ],
             [
              0.2222222222222222,
              "#7201a8"
             ],
             [
              0.3333333333333333,
              "#9c179e"
             ],
             [
              0.4444444444444444,
              "#bd3786"
             ],
             [
              0.5555555555555556,
              "#d8576b"
             ],
             [
              0.6666666666666666,
              "#ed7953"
             ],
             [
              0.7777777777777778,
              "#fb9f3a"
             ],
             [
              0.8888888888888888,
              "#fdca26"
             ],
             [
              1,
              "#f0f921"
             ]
            ],
            "type": "contour"
           }
          ],
          "contourcarpet": [
           {
            "colorbar": {
             "outlinewidth": 0,
             "ticks": ""
            },
            "type": "contourcarpet"
           }
          ],
          "heatmap": [
           {
            "colorbar": {
             "outlinewidth": 0,
             "ticks": ""
            },
            "colorscale": [
             [
              0,
              "#0d0887"
             ],
             [
              0.1111111111111111,
              "#46039f"
             ],
             [
              0.2222222222222222,
              "#7201a8"
             ],
             [
              0.3333333333333333,
              "#9c179e"
             ],
             [
              0.4444444444444444,
              "#bd3786"
             ],
             [
              0.5555555555555556,
              "#d8576b"
             ],
             [
              0.6666666666666666,
              "#ed7953"
             ],
             [
              0.7777777777777778,
              "#fb9f3a"
             ],
             [
              0.8888888888888888,
              "#fdca26"
             ],
             [
              1,
              "#f0f921"
             ]
            ],
            "type": "heatmap"
           }
          ],
          "heatmapgl": [
           {
            "colorbar": {
             "outlinewidth": 0,
             "ticks": ""
            },
            "colorscale": [
             [
              0,
              "#0d0887"
             ],
             [
              0.1111111111111111,
              "#46039f"
             ],
             [
              0.2222222222222222,
              "#7201a8"
             ],
             [
              0.3333333333333333,
              "#9c179e"
             ],
             [
              0.4444444444444444,
              "#bd3786"
             ],
             [
              0.5555555555555556,
              "#d8576b"
             ],
             [
              0.6666666666666666,
              "#ed7953"
             ],
             [
              0.7777777777777778,
              "#fb9f3a"
             ],
             [
              0.8888888888888888,
              "#fdca26"
             ],
             [
              1,
              "#f0f921"
             ]
            ],
            "type": "heatmapgl"
           }
          ],
          "histogram": [
           {
            "marker": {
             "colorbar": {
              "outlinewidth": 0,
              "ticks": ""
             }
            },
            "type": "histogram"
           }
          ],
          "histogram2d": [
           {
            "colorbar": {
             "outlinewidth": 0,
             "ticks": ""
            },
            "colorscale": [
             [
              0,
              "#0d0887"
             ],
             [
              0.1111111111111111,
              "#46039f"
             ],
             [
              0.2222222222222222,
              "#7201a8"
             ],
             [
              0.3333333333333333,
              "#9c179e"
             ],
             [
              0.4444444444444444,
              "#bd3786"
             ],
             [
              0.5555555555555556,
              "#d8576b"
             ],
             [
              0.6666666666666666,
              "#ed7953"
             ],
             [
              0.7777777777777778,
              "#fb9f3a"
             ],
             [
              0.8888888888888888,
              "#fdca26"
             ],
             [
              1,
              "#f0f921"
             ]
            ],
            "type": "histogram2d"
           }
          ],
          "histogram2dcontour": [
           {
            "colorbar": {
             "outlinewidth": 0,
             "ticks": ""
            },
            "colorscale": [
             [
              0,
              "#0d0887"
             ],
             [
              0.1111111111111111,
              "#46039f"
             ],
             [
              0.2222222222222222,
              "#7201a8"
             ],
             [
              0.3333333333333333,
              "#9c179e"
             ],
             [
              0.4444444444444444,
              "#bd3786"
             ],
             [
              0.5555555555555556,
              "#d8576b"
             ],
             [
              0.6666666666666666,
              "#ed7953"
             ],
             [
              0.7777777777777778,
              "#fb9f3a"
             ],
             [
              0.8888888888888888,
              "#fdca26"
             ],
             [
              1,
              "#f0f921"
             ]
            ],
            "type": "histogram2dcontour"
           }
          ],
          "mesh3d": [
           {
            "colorbar": {
             "outlinewidth": 0,
             "ticks": ""
            },
            "type": "mesh3d"
           }
          ],
          "parcoords": [
           {
            "line": {
             "colorbar": {
              "outlinewidth": 0,
              "ticks": ""
             }
            },
            "type": "parcoords"
           }
          ],
          "pie": [
           {
            "automargin": true,
            "type": "pie"
           }
          ],
          "scatter": [
           {
            "marker": {
             "colorbar": {
              "outlinewidth": 0,
              "ticks": ""
             }
            },
            "type": "scatter"
           }
          ],
          "scatter3d": [
           {
            "line": {
             "colorbar": {
              "outlinewidth": 0,
              "ticks": ""
             }
            },
            "marker": {
             "colorbar": {
              "outlinewidth": 0,
              "ticks": ""
             }
            },
            "type": "scatter3d"
           }
          ],
          "scattercarpet": [
           {
            "marker": {
             "colorbar": {
              "outlinewidth": 0,
              "ticks": ""
             }
            },
            "type": "scattercarpet"
           }
          ],
          "scattergeo": [
           {
            "marker": {
             "colorbar": {
              "outlinewidth": 0,
              "ticks": ""
             }
            },
            "type": "scattergeo"
           }
          ],
          "scattergl": [
           {
            "marker": {
             "colorbar": {
              "outlinewidth": 0,
              "ticks": ""
             }
            },
            "type": "scattergl"
           }
          ],
          "scattermapbox": [
           {
            "marker": {
             "colorbar": {
              "outlinewidth": 0,
              "ticks": ""
             }
            },
            "type": "scattermapbox"
           }
          ],
          "scatterpolar": [
           {
            "marker": {
             "colorbar": {
              "outlinewidth": 0,
              "ticks": ""
             }
            },
            "type": "scatterpolar"
           }
          ],
          "scatterpolargl": [
           {
            "marker": {
             "colorbar": {
              "outlinewidth": 0,
              "ticks": ""
             }
            },
            "type": "scatterpolargl"
           }
          ],
          "scatterternary": [
           {
            "marker": {
             "colorbar": {
              "outlinewidth": 0,
              "ticks": ""
             }
            },
            "type": "scatterternary"
           }
          ],
          "surface": [
           {
            "colorbar": {
             "outlinewidth": 0,
             "ticks": ""
            },
            "colorscale": [
             [
              0,
              "#0d0887"
             ],
             [
              0.1111111111111111,
              "#46039f"
             ],
             [
              0.2222222222222222,
              "#7201a8"
             ],
             [
              0.3333333333333333,
              "#9c179e"
             ],
             [
              0.4444444444444444,
              "#bd3786"
             ],
             [
              0.5555555555555556,
              "#d8576b"
             ],
             [
              0.6666666666666666,
              "#ed7953"
             ],
             [
              0.7777777777777778,
              "#fb9f3a"
             ],
             [
              0.8888888888888888,
              "#fdca26"
             ],
             [
              1,
              "#f0f921"
             ]
            ],
            "type": "surface"
           }
          ],
          "table": [
           {
            "cells": {
             "fill": {
              "color": "#EBF0F8"
             },
             "line": {
              "color": "white"
             }
            },
            "header": {
             "fill": {
              "color": "#C8D4E3"
             },
             "line": {
              "color": "white"
             }
            },
            "type": "table"
           }
          ]
         },
         "layout": {
          "annotationdefaults": {
           "arrowcolor": "#2a3f5f",
           "arrowhead": 0,
           "arrowwidth": 1
          },
          "coloraxis": {
           "colorbar": {
            "outlinewidth": 0,
            "ticks": ""
           }
          },
          "colorscale": {
           "diverging": [
            [
             0,
             "#8e0152"
            ],
            [
             0.1,
             "#c51b7d"
            ],
            [
             0.2,
             "#de77ae"
            ],
            [
             0.3,
             "#f1b6da"
            ],
            [
             0.4,
             "#fde0ef"
            ],
            [
             0.5,
             "#f7f7f7"
            ],
            [
             0.6,
             "#e6f5d0"
            ],
            [
             0.7,
             "#b8e186"
            ],
            [
             0.8,
             "#7fbc41"
            ],
            [
             0.9,
             "#4d9221"
            ],
            [
             1,
             "#276419"
            ]
           ],
           "sequential": [
            [
             0,
             "#0d0887"
            ],
            [
             0.1111111111111111,
             "#46039f"
            ],
            [
             0.2222222222222222,
             "#7201a8"
            ],
            [
             0.3333333333333333,
             "#9c179e"
            ],
            [
             0.4444444444444444,
             "#bd3786"
            ],
            [
             0.5555555555555556,
             "#d8576b"
            ],
            [
             0.6666666666666666,
             "#ed7953"
            ],
            [
             0.7777777777777778,
             "#fb9f3a"
            ],
            [
             0.8888888888888888,
             "#fdca26"
            ],
            [
             1,
             "#f0f921"
            ]
           ],
           "sequentialminus": [
            [
             0,
             "#0d0887"
            ],
            [
             0.1111111111111111,
             "#46039f"
            ],
            [
             0.2222222222222222,
             "#7201a8"
            ],
            [
             0.3333333333333333,
             "#9c179e"
            ],
            [
             0.4444444444444444,
             "#bd3786"
            ],
            [
             0.5555555555555556,
             "#d8576b"
            ],
            [
             0.6666666666666666,
             "#ed7953"
            ],
            [
             0.7777777777777778,
             "#fb9f3a"
            ],
            [
             0.8888888888888888,
             "#fdca26"
            ],
            [
             1,
             "#f0f921"
            ]
           ]
          },
          "colorway": [
           "#636efa",
           "#EF553B",
           "#00cc96",
           "#ab63fa",
           "#FFA15A",
           "#19d3f3",
           "#FF6692",
           "#B6E880",
           "#FF97FF",
           "#FECB52"
          ],
          "font": {
           "color": "#2a3f5f"
          },
          "geo": {
           "bgcolor": "white",
           "lakecolor": "white",
           "landcolor": "#E5ECF6",
           "showlakes": true,
           "showland": true,
           "subunitcolor": "white"
          },
          "hoverlabel": {
           "align": "left"
          },
          "hovermode": "closest",
          "mapbox": {
           "style": "light"
          },
          "paper_bgcolor": "white",
          "plot_bgcolor": "#E5ECF6",
          "polar": {
           "angularaxis": {
            "gridcolor": "white",
            "linecolor": "white",
            "ticks": ""
           },
           "bgcolor": "#E5ECF6",
           "radialaxis": {
            "gridcolor": "white",
            "linecolor": "white",
            "ticks": ""
           }
          },
          "scene": {
           "xaxis": {
            "backgroundcolor": "#E5ECF6",
            "gridcolor": "white",
            "gridwidth": 2,
            "linecolor": "white",
            "showbackground": true,
            "ticks": "",
            "zerolinecolor": "white"
           },
           "yaxis": {
            "backgroundcolor": "#E5ECF6",
            "gridcolor": "white",
            "gridwidth": 2,
            "linecolor": "white",
            "showbackground": true,
            "ticks": "",
            "zerolinecolor": "white"
           },
           "zaxis": {
            "backgroundcolor": "#E5ECF6",
            "gridcolor": "white",
            "gridwidth": 2,
            "linecolor": "white",
            "showbackground": true,
            "ticks": "",
            "zerolinecolor": "white"
           }
          },
          "shapedefaults": {
           "line": {
            "color": "#2a3f5f"
           }
          },
          "ternary": {
           "aaxis": {
            "gridcolor": "white",
            "linecolor": "white",
            "ticks": ""
           },
           "baxis": {
            "gridcolor": "white",
            "linecolor": "white",
            "ticks": ""
           },
           "bgcolor": "#E5ECF6",
           "caxis": {
            "gridcolor": "white",
            "linecolor": "white",
            "ticks": ""
           }
          },
          "title": {
           "x": 0.05
          },
          "xaxis": {
           "automargin": true,
           "gridcolor": "white",
           "linecolor": "white",
           "ticks": "",
           "title": {
            "standoff": 15
           },
           "zerolinecolor": "white",
           "zerolinewidth": 2
          },
          "yaxis": {
           "automargin": true,
           "gridcolor": "white",
           "linecolor": "white",
           "ticks": "",
           "title": {
            "standoff": 15
           },
           "zerolinecolor": "white",
           "zerolinewidth": 2
          }
         }
        },
        "title": {
         "text": "Has a Housing Loan?"
        }
       }
      },
      "text/html": [
       "<div>\n",
       "        \n",
       "        \n",
       "            <div id=\"4ba116fe-9244-473e-9c2f-17243c183673\" class=\"plotly-graph-div\" style=\"height:525px; width:100%;\"></div>\n",
       "            <script type=\"text/javascript\">\n",
       "                require([\"plotly\"], function(Plotly) {\n",
       "                    window.PLOTLYENV=window.PLOTLYENV || {};\n",
       "                    \n",
       "                if (document.getElementById(\"4ba116fe-9244-473e-9c2f-17243c183673\")) {\n",
       "                    Plotly.newPlot(\n",
       "                        '4ba116fe-9244-473e-9c2f-17243c183673',\n",
       "                        [{\"text\": [\"24031\", \"15969\"], \"textposition\": \"auto\", \"type\": \"bar\", \"x\": [\"yes\", \"no\"], \"y\": [24031, 15969]}],\n",
       "                        {\"template\": {\"data\": {\"bar\": [{\"error_x\": {\"color\": \"#2a3f5f\"}, \"error_y\": {\"color\": \"#2a3f5f\"}, \"marker\": {\"line\": {\"color\": \"#E5ECF6\", \"width\": 0.5}}, \"type\": \"bar\"}], \"barpolar\": [{\"marker\": {\"line\": {\"color\": \"#E5ECF6\", \"width\": 0.5}}, \"type\": \"barpolar\"}], \"carpet\": [{\"aaxis\": {\"endlinecolor\": \"#2a3f5f\", \"gridcolor\": \"white\", \"linecolor\": \"white\", \"minorgridcolor\": \"white\", \"startlinecolor\": \"#2a3f5f\"}, \"baxis\": {\"endlinecolor\": \"#2a3f5f\", \"gridcolor\": \"white\", \"linecolor\": \"white\", \"minorgridcolor\": \"white\", \"startlinecolor\": \"#2a3f5f\"}, \"type\": \"carpet\"}], \"choropleth\": [{\"colorbar\": {\"outlinewidth\": 0, \"ticks\": \"\"}, \"type\": \"choropleth\"}], \"contour\": [{\"colorbar\": {\"outlinewidth\": 0, \"ticks\": \"\"}, \"colorscale\": [[0.0, \"#0d0887\"], [0.1111111111111111, \"#46039f\"], [0.2222222222222222, \"#7201a8\"], [0.3333333333333333, \"#9c179e\"], [0.4444444444444444, \"#bd3786\"], [0.5555555555555556, \"#d8576b\"], [0.6666666666666666, \"#ed7953\"], [0.7777777777777778, \"#fb9f3a\"], [0.8888888888888888, \"#fdca26\"], [1.0, \"#f0f921\"]], \"type\": \"contour\"}], \"contourcarpet\": [{\"colorbar\": {\"outlinewidth\": 0, \"ticks\": \"\"}, \"type\": \"contourcarpet\"}], \"heatmap\": [{\"colorbar\": {\"outlinewidth\": 0, \"ticks\": \"\"}, \"colorscale\": [[0.0, \"#0d0887\"], [0.1111111111111111, \"#46039f\"], [0.2222222222222222, \"#7201a8\"], [0.3333333333333333, \"#9c179e\"], [0.4444444444444444, \"#bd3786\"], [0.5555555555555556, \"#d8576b\"], [0.6666666666666666, \"#ed7953\"], [0.7777777777777778, \"#fb9f3a\"], [0.8888888888888888, \"#fdca26\"], [1.0, \"#f0f921\"]], \"type\": \"heatmap\"}], \"heatmapgl\": [{\"colorbar\": {\"outlinewidth\": 0, \"ticks\": \"\"}, \"colorscale\": [[0.0, \"#0d0887\"], [0.1111111111111111, \"#46039f\"], [0.2222222222222222, \"#7201a8\"], [0.3333333333333333, \"#9c179e\"], [0.4444444444444444, \"#bd3786\"], [0.5555555555555556, \"#d8576b\"], [0.6666666666666666, \"#ed7953\"], [0.7777777777777778, \"#fb9f3a\"], [0.8888888888888888, \"#fdca26\"], [1.0, \"#f0f921\"]], \"type\": \"heatmapgl\"}], \"histogram\": [{\"marker\": {\"colorbar\": {\"outlinewidth\": 0, \"ticks\": \"\"}}, \"type\": \"histogram\"}], \"histogram2d\": [{\"colorbar\": {\"outlinewidth\": 0, \"ticks\": \"\"}, \"colorscale\": [[0.0, \"#0d0887\"], [0.1111111111111111, \"#46039f\"], [0.2222222222222222, \"#7201a8\"], [0.3333333333333333, \"#9c179e\"], [0.4444444444444444, \"#bd3786\"], [0.5555555555555556, \"#d8576b\"], [0.6666666666666666, \"#ed7953\"], [0.7777777777777778, \"#fb9f3a\"], [0.8888888888888888, \"#fdca26\"], [1.0, \"#f0f921\"]], \"type\": \"histogram2d\"}], \"histogram2dcontour\": [{\"colorbar\": {\"outlinewidth\": 0, \"ticks\": \"\"}, \"colorscale\": [[0.0, \"#0d0887\"], [0.1111111111111111, \"#46039f\"], [0.2222222222222222, \"#7201a8\"], [0.3333333333333333, \"#9c179e\"], [0.4444444444444444, \"#bd3786\"], [0.5555555555555556, \"#d8576b\"], [0.6666666666666666, \"#ed7953\"], [0.7777777777777778, \"#fb9f3a\"], [0.8888888888888888, \"#fdca26\"], [1.0, \"#f0f921\"]], \"type\": \"histogram2dcontour\"}], \"mesh3d\": [{\"colorbar\": {\"outlinewidth\": 0, \"ticks\": \"\"}, \"type\": \"mesh3d\"}], \"parcoords\": [{\"line\": {\"colorbar\": {\"outlinewidth\": 0, \"ticks\": \"\"}}, \"type\": \"parcoords\"}], \"pie\": [{\"automargin\": true, \"type\": \"pie\"}], \"scatter\": [{\"marker\": {\"colorbar\": {\"outlinewidth\": 0, \"ticks\": \"\"}}, \"type\": \"scatter\"}], \"scatter3d\": [{\"line\": {\"colorbar\": {\"outlinewidth\": 0, \"ticks\": \"\"}}, \"marker\": {\"colorbar\": {\"outlinewidth\": 0, \"ticks\": \"\"}}, \"type\": \"scatter3d\"}], \"scattercarpet\": [{\"marker\": {\"colorbar\": {\"outlinewidth\": 0, \"ticks\": \"\"}}, \"type\": \"scattercarpet\"}], \"scattergeo\": [{\"marker\": {\"colorbar\": {\"outlinewidth\": 0, \"ticks\": \"\"}}, \"type\": \"scattergeo\"}], \"scattergl\": [{\"marker\": {\"colorbar\": {\"outlinewidth\": 0, \"ticks\": \"\"}}, \"type\": \"scattergl\"}], \"scattermapbox\": [{\"marker\": {\"colorbar\": {\"outlinewidth\": 0, \"ticks\": \"\"}}, \"type\": \"scattermapbox\"}], \"scatterpolar\": [{\"marker\": {\"colorbar\": {\"outlinewidth\": 0, \"ticks\": \"\"}}, \"type\": \"scatterpolar\"}], \"scatterpolargl\": [{\"marker\": {\"colorbar\": {\"outlinewidth\": 0, \"ticks\": \"\"}}, \"type\": \"scatterpolargl\"}], \"scatterternary\": [{\"marker\": {\"colorbar\": {\"outlinewidth\": 0, \"ticks\": \"\"}}, \"type\": \"scatterternary\"}], \"surface\": [{\"colorbar\": {\"outlinewidth\": 0, \"ticks\": \"\"}, \"colorscale\": [[0.0, \"#0d0887\"], [0.1111111111111111, \"#46039f\"], [0.2222222222222222, \"#7201a8\"], [0.3333333333333333, \"#9c179e\"], [0.4444444444444444, \"#bd3786\"], [0.5555555555555556, \"#d8576b\"], [0.6666666666666666, \"#ed7953\"], [0.7777777777777778, \"#fb9f3a\"], [0.8888888888888888, \"#fdca26\"], [1.0, \"#f0f921\"]], \"type\": \"surface\"}], \"table\": [{\"cells\": {\"fill\": {\"color\": \"#EBF0F8\"}, \"line\": {\"color\": \"white\"}}, \"header\": {\"fill\": {\"color\": \"#C8D4E3\"}, \"line\": {\"color\": \"white\"}}, \"type\": \"table\"}]}, \"layout\": {\"annotationdefaults\": {\"arrowcolor\": \"#2a3f5f\", \"arrowhead\": 0, \"arrowwidth\": 1}, \"coloraxis\": {\"colorbar\": {\"outlinewidth\": 0, \"ticks\": \"\"}}, \"colorscale\": {\"diverging\": [[0, \"#8e0152\"], [0.1, \"#c51b7d\"], [0.2, \"#de77ae\"], [0.3, \"#f1b6da\"], [0.4, \"#fde0ef\"], [0.5, \"#f7f7f7\"], [0.6, \"#e6f5d0\"], [0.7, \"#b8e186\"], [0.8, \"#7fbc41\"], [0.9, \"#4d9221\"], [1, \"#276419\"]], \"sequential\": [[0.0, \"#0d0887\"], [0.1111111111111111, \"#46039f\"], [0.2222222222222222, \"#7201a8\"], [0.3333333333333333, \"#9c179e\"], [0.4444444444444444, \"#bd3786\"], [0.5555555555555556, \"#d8576b\"], [0.6666666666666666, \"#ed7953\"], [0.7777777777777778, \"#fb9f3a\"], [0.8888888888888888, \"#fdca26\"], [1.0, \"#f0f921\"]], \"sequentialminus\": [[0.0, \"#0d0887\"], [0.1111111111111111, \"#46039f\"], [0.2222222222222222, \"#7201a8\"], [0.3333333333333333, \"#9c179e\"], [0.4444444444444444, \"#bd3786\"], [0.5555555555555556, \"#d8576b\"], [0.6666666666666666, \"#ed7953\"], [0.7777777777777778, \"#fb9f3a\"], [0.8888888888888888, \"#fdca26\"], [1.0, \"#f0f921\"]]}, \"colorway\": [\"#636efa\", \"#EF553B\", \"#00cc96\", \"#ab63fa\", \"#FFA15A\", \"#19d3f3\", \"#FF6692\", \"#B6E880\", \"#FF97FF\", \"#FECB52\"], \"font\": {\"color\": \"#2a3f5f\"}, \"geo\": {\"bgcolor\": \"white\", \"lakecolor\": \"white\", \"landcolor\": \"#E5ECF6\", \"showlakes\": true, \"showland\": true, \"subunitcolor\": \"white\"}, \"hoverlabel\": {\"align\": \"left\"}, \"hovermode\": \"closest\", \"mapbox\": {\"style\": \"light\"}, \"paper_bgcolor\": \"white\", \"plot_bgcolor\": \"#E5ECF6\", \"polar\": {\"angularaxis\": {\"gridcolor\": \"white\", \"linecolor\": \"white\", \"ticks\": \"\"}, \"bgcolor\": \"#E5ECF6\", \"radialaxis\": {\"gridcolor\": \"white\", \"linecolor\": \"white\", \"ticks\": \"\"}}, \"scene\": {\"xaxis\": {\"backgroundcolor\": \"#E5ECF6\", \"gridcolor\": \"white\", \"gridwidth\": 2, \"linecolor\": \"white\", \"showbackground\": true, \"ticks\": \"\", \"zerolinecolor\": \"white\"}, \"yaxis\": {\"backgroundcolor\": \"#E5ECF6\", \"gridcolor\": \"white\", \"gridwidth\": 2, \"linecolor\": \"white\", \"showbackground\": true, \"ticks\": \"\", \"zerolinecolor\": \"white\"}, \"zaxis\": {\"backgroundcolor\": \"#E5ECF6\", \"gridcolor\": \"white\", \"gridwidth\": 2, \"linecolor\": \"white\", \"showbackground\": true, \"ticks\": \"\", \"zerolinecolor\": \"white\"}}, \"shapedefaults\": {\"line\": {\"color\": \"#2a3f5f\"}}, \"ternary\": {\"aaxis\": {\"gridcolor\": \"white\", \"linecolor\": \"white\", \"ticks\": \"\"}, \"baxis\": {\"gridcolor\": \"white\", \"linecolor\": \"white\", \"ticks\": \"\"}, \"bgcolor\": \"#E5ECF6\", \"caxis\": {\"gridcolor\": \"white\", \"linecolor\": \"white\", \"ticks\": \"\"}}, \"title\": {\"x\": 0.05}, \"xaxis\": {\"automargin\": true, \"gridcolor\": \"white\", \"linecolor\": \"white\", \"ticks\": \"\", \"title\": {\"standoff\": 15}, \"zerolinecolor\": \"white\", \"zerolinewidth\": 2}, \"yaxis\": {\"automargin\": true, \"gridcolor\": \"white\", \"linecolor\": \"white\", \"ticks\": \"\", \"title\": {\"standoff\": 15}, \"zerolinecolor\": \"white\", \"zerolinewidth\": 2}}}, \"title\": {\"text\": \"Has a Housing Loan?\"}},\n",
       "                        {\"responsive\": true}\n",
       "                    ).then(function(){\n",
       "                            \n",
       "var gd = document.getElementById('4ba116fe-9244-473e-9c2f-17243c183673');\n",
       "var x = new MutationObserver(function (mutations, observer) {{\n",
       "        var display = window.getComputedStyle(gd).display;\n",
       "        if (!display || display === 'none') {{\n",
       "            console.log([gd, 'removed!']);\n",
       "            Plotly.purge(gd);\n",
       "            observer.disconnect();\n",
       "        }}\n",
       "}});\n",
       "\n",
       "// Listen for the removal of the full notebook cells\n",
       "var notebookContainer = gd.closest('#notebook-container');\n",
       "if (notebookContainer) {{\n",
       "    x.observe(notebookContainer, {childList: true});\n",
       "}}\n",
       "\n",
       "// Listen for the clearing of the current output cell\n",
       "var outputEl = gd.closest('.output');\n",
       "if (outputEl) {{\n",
       "    x.observe(outputEl, {childList: true});\n",
       "}}\n",
       "\n",
       "                        })\n",
       "                };\n",
       "                });\n",
       "            </script>\n",
       "        </div>"
      ]
     },
     "metadata": {},
     "output_type": "display_data"
    }
   ],
   "source": [
    "data = [go.Bar(\n",
    "    x=df.housing.value_counts().index.tolist(),\n",
    "    y=df.housing.value_counts().tolist(),\n",
    "    text=df.housing.value_counts().tolist(),\n",
    "    textposition='auto'\n",
    ")]\n",
    "layout = go.Layout(\n",
    "    title='Has a Housing Loan?'\n",
    ")\n",
    "fig = go.Figure(data=data, layout=layout)\n",
    "iplot(fig)"
   ]
  },
  {
   "cell_type": "code",
   "execution_count": 19,
   "metadata": {},
   "outputs": [
    {
     "data": {
      "application/vnd.plotly.v1+json": {
       "config": {
        "linkText": "Export to plot.ly",
        "plotlyServerURL": "https://plot.ly",
        "showLink": false
       },
       "data": [
        {
         "text": [
          "33070",
          "6930"
         ],
         "textposition": "auto",
         "type": "bar",
         "x": [
          "no",
          "yes"
         ],
         "y": [
          33070,
          6930
         ]
        }
       ],
       "layout": {
        "template": {
         "data": {
          "bar": [
           {
            "error_x": {
             "color": "#2a3f5f"
            },
            "error_y": {
             "color": "#2a3f5f"
            },
            "marker": {
             "line": {
              "color": "#E5ECF6",
              "width": 0.5
             }
            },
            "type": "bar"
           }
          ],
          "barpolar": [
           {
            "marker": {
             "line": {
              "color": "#E5ECF6",
              "width": 0.5
             }
            },
            "type": "barpolar"
           }
          ],
          "carpet": [
           {
            "aaxis": {
             "endlinecolor": "#2a3f5f",
             "gridcolor": "white",
             "linecolor": "white",
             "minorgridcolor": "white",
             "startlinecolor": "#2a3f5f"
            },
            "baxis": {
             "endlinecolor": "#2a3f5f",
             "gridcolor": "white",
             "linecolor": "white",
             "minorgridcolor": "white",
             "startlinecolor": "#2a3f5f"
            },
            "type": "carpet"
           }
          ],
          "choropleth": [
           {
            "colorbar": {
             "outlinewidth": 0,
             "ticks": ""
            },
            "type": "choropleth"
           }
          ],
          "contour": [
           {
            "colorbar": {
             "outlinewidth": 0,
             "ticks": ""
            },
            "colorscale": [
             [
              0,
              "#0d0887"
             ],
             [
              0.1111111111111111,
              "#46039f"
             ],
             [
              0.2222222222222222,
              "#7201a8"
             ],
             [
              0.3333333333333333,
              "#9c179e"
             ],
             [
              0.4444444444444444,
              "#bd3786"
             ],
             [
              0.5555555555555556,
              "#d8576b"
             ],
             [
              0.6666666666666666,
              "#ed7953"
             ],
             [
              0.7777777777777778,
              "#fb9f3a"
             ],
             [
              0.8888888888888888,
              "#fdca26"
             ],
             [
              1,
              "#f0f921"
             ]
            ],
            "type": "contour"
           }
          ],
          "contourcarpet": [
           {
            "colorbar": {
             "outlinewidth": 0,
             "ticks": ""
            },
            "type": "contourcarpet"
           }
          ],
          "heatmap": [
           {
            "colorbar": {
             "outlinewidth": 0,
             "ticks": ""
            },
            "colorscale": [
             [
              0,
              "#0d0887"
             ],
             [
              0.1111111111111111,
              "#46039f"
             ],
             [
              0.2222222222222222,
              "#7201a8"
             ],
             [
              0.3333333333333333,
              "#9c179e"
             ],
             [
              0.4444444444444444,
              "#bd3786"
             ],
             [
              0.5555555555555556,
              "#d8576b"
             ],
             [
              0.6666666666666666,
              "#ed7953"
             ],
             [
              0.7777777777777778,
              "#fb9f3a"
             ],
             [
              0.8888888888888888,
              "#fdca26"
             ],
             [
              1,
              "#f0f921"
             ]
            ],
            "type": "heatmap"
           }
          ],
          "heatmapgl": [
           {
            "colorbar": {
             "outlinewidth": 0,
             "ticks": ""
            },
            "colorscale": [
             [
              0,
              "#0d0887"
             ],
             [
              0.1111111111111111,
              "#46039f"
             ],
             [
              0.2222222222222222,
              "#7201a8"
             ],
             [
              0.3333333333333333,
              "#9c179e"
             ],
             [
              0.4444444444444444,
              "#bd3786"
             ],
             [
              0.5555555555555556,
              "#d8576b"
             ],
             [
              0.6666666666666666,
              "#ed7953"
             ],
             [
              0.7777777777777778,
              "#fb9f3a"
             ],
             [
              0.8888888888888888,
              "#fdca26"
             ],
             [
              1,
              "#f0f921"
             ]
            ],
            "type": "heatmapgl"
           }
          ],
          "histogram": [
           {
            "marker": {
             "colorbar": {
              "outlinewidth": 0,
              "ticks": ""
             }
            },
            "type": "histogram"
           }
          ],
          "histogram2d": [
           {
            "colorbar": {
             "outlinewidth": 0,
             "ticks": ""
            },
            "colorscale": [
             [
              0,
              "#0d0887"
             ],
             [
              0.1111111111111111,
              "#46039f"
             ],
             [
              0.2222222222222222,
              "#7201a8"
             ],
             [
              0.3333333333333333,
              "#9c179e"
             ],
             [
              0.4444444444444444,
              "#bd3786"
             ],
             [
              0.5555555555555556,
              "#d8576b"
             ],
             [
              0.6666666666666666,
              "#ed7953"
             ],
             [
              0.7777777777777778,
              "#fb9f3a"
             ],
             [
              0.8888888888888888,
              "#fdca26"
             ],
             [
              1,
              "#f0f921"
             ]
            ],
            "type": "histogram2d"
           }
          ],
          "histogram2dcontour": [
           {
            "colorbar": {
             "outlinewidth": 0,
             "ticks": ""
            },
            "colorscale": [
             [
              0,
              "#0d0887"
             ],
             [
              0.1111111111111111,
              "#46039f"
             ],
             [
              0.2222222222222222,
              "#7201a8"
             ],
             [
              0.3333333333333333,
              "#9c179e"
             ],
             [
              0.4444444444444444,
              "#bd3786"
             ],
             [
              0.5555555555555556,
              "#d8576b"
             ],
             [
              0.6666666666666666,
              "#ed7953"
             ],
             [
              0.7777777777777778,
              "#fb9f3a"
             ],
             [
              0.8888888888888888,
              "#fdca26"
             ],
             [
              1,
              "#f0f921"
             ]
            ],
            "type": "histogram2dcontour"
           }
          ],
          "mesh3d": [
           {
            "colorbar": {
             "outlinewidth": 0,
             "ticks": ""
            },
            "type": "mesh3d"
           }
          ],
          "parcoords": [
           {
            "line": {
             "colorbar": {
              "outlinewidth": 0,
              "ticks": ""
             }
            },
            "type": "parcoords"
           }
          ],
          "pie": [
           {
            "automargin": true,
            "type": "pie"
           }
          ],
          "scatter": [
           {
            "marker": {
             "colorbar": {
              "outlinewidth": 0,
              "ticks": ""
             }
            },
            "type": "scatter"
           }
          ],
          "scatter3d": [
           {
            "line": {
             "colorbar": {
              "outlinewidth": 0,
              "ticks": ""
             }
            },
            "marker": {
             "colorbar": {
              "outlinewidth": 0,
              "ticks": ""
             }
            },
            "type": "scatter3d"
           }
          ],
          "scattercarpet": [
           {
            "marker": {
             "colorbar": {
              "outlinewidth": 0,
              "ticks": ""
             }
            },
            "type": "scattercarpet"
           }
          ],
          "scattergeo": [
           {
            "marker": {
             "colorbar": {
              "outlinewidth": 0,
              "ticks": ""
             }
            },
            "type": "scattergeo"
           }
          ],
          "scattergl": [
           {
            "marker": {
             "colorbar": {
              "outlinewidth": 0,
              "ticks": ""
             }
            },
            "type": "scattergl"
           }
          ],
          "scattermapbox": [
           {
            "marker": {
             "colorbar": {
              "outlinewidth": 0,
              "ticks": ""
             }
            },
            "type": "scattermapbox"
           }
          ],
          "scatterpolar": [
           {
            "marker": {
             "colorbar": {
              "outlinewidth": 0,
              "ticks": ""
             }
            },
            "type": "scatterpolar"
           }
          ],
          "scatterpolargl": [
           {
            "marker": {
             "colorbar": {
              "outlinewidth": 0,
              "ticks": ""
             }
            },
            "type": "scatterpolargl"
           }
          ],
          "scatterternary": [
           {
            "marker": {
             "colorbar": {
              "outlinewidth": 0,
              "ticks": ""
             }
            },
            "type": "scatterternary"
           }
          ],
          "surface": [
           {
            "colorbar": {
             "outlinewidth": 0,
             "ticks": ""
            },
            "colorscale": [
             [
              0,
              "#0d0887"
             ],
             [
              0.1111111111111111,
              "#46039f"
             ],
             [
              0.2222222222222222,
              "#7201a8"
             ],
             [
              0.3333333333333333,
              "#9c179e"
             ],
             [
              0.4444444444444444,
              "#bd3786"
             ],
             [
              0.5555555555555556,
              "#d8576b"
             ],
             [
              0.6666666666666666,
              "#ed7953"
             ],
             [
              0.7777777777777778,
              "#fb9f3a"
             ],
             [
              0.8888888888888888,
              "#fdca26"
             ],
             [
              1,
              "#f0f921"
             ]
            ],
            "type": "surface"
           }
          ],
          "table": [
           {
            "cells": {
             "fill": {
              "color": "#EBF0F8"
             },
             "line": {
              "color": "white"
             }
            },
            "header": {
             "fill": {
              "color": "#C8D4E3"
             },
             "line": {
              "color": "white"
             }
            },
            "type": "table"
           }
          ]
         },
         "layout": {
          "annotationdefaults": {
           "arrowcolor": "#2a3f5f",
           "arrowhead": 0,
           "arrowwidth": 1
          },
          "coloraxis": {
           "colorbar": {
            "outlinewidth": 0,
            "ticks": ""
           }
          },
          "colorscale": {
           "diverging": [
            [
             0,
             "#8e0152"
            ],
            [
             0.1,
             "#c51b7d"
            ],
            [
             0.2,
             "#de77ae"
            ],
            [
             0.3,
             "#f1b6da"
            ],
            [
             0.4,
             "#fde0ef"
            ],
            [
             0.5,
             "#f7f7f7"
            ],
            [
             0.6,
             "#e6f5d0"
            ],
            [
             0.7,
             "#b8e186"
            ],
            [
             0.8,
             "#7fbc41"
            ],
            [
             0.9,
             "#4d9221"
            ],
            [
             1,
             "#276419"
            ]
           ],
           "sequential": [
            [
             0,
             "#0d0887"
            ],
            [
             0.1111111111111111,
             "#46039f"
            ],
            [
             0.2222222222222222,
             "#7201a8"
            ],
            [
             0.3333333333333333,
             "#9c179e"
            ],
            [
             0.4444444444444444,
             "#bd3786"
            ],
            [
             0.5555555555555556,
             "#d8576b"
            ],
            [
             0.6666666666666666,
             "#ed7953"
            ],
            [
             0.7777777777777778,
             "#fb9f3a"
            ],
            [
             0.8888888888888888,
             "#fdca26"
            ],
            [
             1,
             "#f0f921"
            ]
           ],
           "sequentialminus": [
            [
             0,
             "#0d0887"
            ],
            [
             0.1111111111111111,
             "#46039f"
            ],
            [
             0.2222222222222222,
             "#7201a8"
            ],
            [
             0.3333333333333333,
             "#9c179e"
            ],
            [
             0.4444444444444444,
             "#bd3786"
            ],
            [
             0.5555555555555556,
             "#d8576b"
            ],
            [
             0.6666666666666666,
             "#ed7953"
            ],
            [
             0.7777777777777778,
             "#fb9f3a"
            ],
            [
             0.8888888888888888,
             "#fdca26"
            ],
            [
             1,
             "#f0f921"
            ]
           ]
          },
          "colorway": [
           "#636efa",
           "#EF553B",
           "#00cc96",
           "#ab63fa",
           "#FFA15A",
           "#19d3f3",
           "#FF6692",
           "#B6E880",
           "#FF97FF",
           "#FECB52"
          ],
          "font": {
           "color": "#2a3f5f"
          },
          "geo": {
           "bgcolor": "white",
           "lakecolor": "white",
           "landcolor": "#E5ECF6",
           "showlakes": true,
           "showland": true,
           "subunitcolor": "white"
          },
          "hoverlabel": {
           "align": "left"
          },
          "hovermode": "closest",
          "mapbox": {
           "style": "light"
          },
          "paper_bgcolor": "white",
          "plot_bgcolor": "#E5ECF6",
          "polar": {
           "angularaxis": {
            "gridcolor": "white",
            "linecolor": "white",
            "ticks": ""
           },
           "bgcolor": "#E5ECF6",
           "radialaxis": {
            "gridcolor": "white",
            "linecolor": "white",
            "ticks": ""
           }
          },
          "scene": {
           "xaxis": {
            "backgroundcolor": "#E5ECF6",
            "gridcolor": "white",
            "gridwidth": 2,
            "linecolor": "white",
            "showbackground": true,
            "ticks": "",
            "zerolinecolor": "white"
           },
           "yaxis": {
            "backgroundcolor": "#E5ECF6",
            "gridcolor": "white",
            "gridwidth": 2,
            "linecolor": "white",
            "showbackground": true,
            "ticks": "",
            "zerolinecolor": "white"
           },
           "zaxis": {
            "backgroundcolor": "#E5ECF6",
            "gridcolor": "white",
            "gridwidth": 2,
            "linecolor": "white",
            "showbackground": true,
            "ticks": "",
            "zerolinecolor": "white"
           }
          },
          "shapedefaults": {
           "line": {
            "color": "#2a3f5f"
           }
          },
          "ternary": {
           "aaxis": {
            "gridcolor": "white",
            "linecolor": "white",
            "ticks": ""
           },
           "baxis": {
            "gridcolor": "white",
            "linecolor": "white",
            "ticks": ""
           },
           "bgcolor": "#E5ECF6",
           "caxis": {
            "gridcolor": "white",
            "linecolor": "white",
            "ticks": ""
           }
          },
          "title": {
           "x": 0.05
          },
          "xaxis": {
           "automargin": true,
           "gridcolor": "white",
           "linecolor": "white",
           "ticks": "",
           "title": {
            "standoff": 15
           },
           "zerolinecolor": "white",
           "zerolinewidth": 2
          },
          "yaxis": {
           "automargin": true,
           "gridcolor": "white",
           "linecolor": "white",
           "ticks": "",
           "title": {
            "standoff": 15
           },
           "zerolinecolor": "white",
           "zerolinewidth": 2
          }
         }
        },
        "title": {
         "text": "Has Personal Loan?"
        }
       }
      },
      "text/html": [
       "<div>\n",
       "        \n",
       "        \n",
       "            <div id=\"9ec21205-bb33-4fed-993a-b5b6fdac2771\" class=\"plotly-graph-div\" style=\"height:525px; width:100%;\"></div>\n",
       "            <script type=\"text/javascript\">\n",
       "                require([\"plotly\"], function(Plotly) {\n",
       "                    window.PLOTLYENV=window.PLOTLYENV || {};\n",
       "                    \n",
       "                if (document.getElementById(\"9ec21205-bb33-4fed-993a-b5b6fdac2771\")) {\n",
       "                    Plotly.newPlot(\n",
       "                        '9ec21205-bb33-4fed-993a-b5b6fdac2771',\n",
       "                        [{\"text\": [\"33070\", \"6930\"], \"textposition\": \"auto\", \"type\": \"bar\", \"x\": [\"no\", \"yes\"], \"y\": [33070, 6930]}],\n",
       "                        {\"template\": {\"data\": {\"bar\": [{\"error_x\": {\"color\": \"#2a3f5f\"}, \"error_y\": {\"color\": \"#2a3f5f\"}, \"marker\": {\"line\": {\"color\": \"#E5ECF6\", \"width\": 0.5}}, \"type\": \"bar\"}], \"barpolar\": [{\"marker\": {\"line\": {\"color\": \"#E5ECF6\", \"width\": 0.5}}, \"type\": \"barpolar\"}], \"carpet\": [{\"aaxis\": {\"endlinecolor\": \"#2a3f5f\", \"gridcolor\": \"white\", \"linecolor\": \"white\", \"minorgridcolor\": \"white\", \"startlinecolor\": \"#2a3f5f\"}, \"baxis\": {\"endlinecolor\": \"#2a3f5f\", \"gridcolor\": \"white\", \"linecolor\": \"white\", \"minorgridcolor\": \"white\", \"startlinecolor\": \"#2a3f5f\"}, \"type\": \"carpet\"}], \"choropleth\": [{\"colorbar\": {\"outlinewidth\": 0, \"ticks\": \"\"}, \"type\": \"choropleth\"}], \"contour\": [{\"colorbar\": {\"outlinewidth\": 0, \"ticks\": \"\"}, \"colorscale\": [[0.0, \"#0d0887\"], [0.1111111111111111, \"#46039f\"], [0.2222222222222222, \"#7201a8\"], [0.3333333333333333, \"#9c179e\"], [0.4444444444444444, \"#bd3786\"], [0.5555555555555556, \"#d8576b\"], [0.6666666666666666, \"#ed7953\"], [0.7777777777777778, \"#fb9f3a\"], [0.8888888888888888, \"#fdca26\"], [1.0, \"#f0f921\"]], \"type\": \"contour\"}], \"contourcarpet\": [{\"colorbar\": {\"outlinewidth\": 0, \"ticks\": \"\"}, \"type\": \"contourcarpet\"}], \"heatmap\": [{\"colorbar\": {\"outlinewidth\": 0, \"ticks\": \"\"}, \"colorscale\": [[0.0, \"#0d0887\"], [0.1111111111111111, \"#46039f\"], [0.2222222222222222, \"#7201a8\"], [0.3333333333333333, \"#9c179e\"], [0.4444444444444444, \"#bd3786\"], [0.5555555555555556, \"#d8576b\"], [0.6666666666666666, \"#ed7953\"], [0.7777777777777778, \"#fb9f3a\"], [0.8888888888888888, \"#fdca26\"], [1.0, \"#f0f921\"]], \"type\": \"heatmap\"}], \"heatmapgl\": [{\"colorbar\": {\"outlinewidth\": 0, \"ticks\": \"\"}, \"colorscale\": [[0.0, \"#0d0887\"], [0.1111111111111111, \"#46039f\"], [0.2222222222222222, \"#7201a8\"], [0.3333333333333333, \"#9c179e\"], [0.4444444444444444, \"#bd3786\"], [0.5555555555555556, \"#d8576b\"], [0.6666666666666666, \"#ed7953\"], [0.7777777777777778, \"#fb9f3a\"], [0.8888888888888888, \"#fdca26\"], [1.0, \"#f0f921\"]], \"type\": \"heatmapgl\"}], \"histogram\": [{\"marker\": {\"colorbar\": {\"outlinewidth\": 0, \"ticks\": \"\"}}, \"type\": \"histogram\"}], \"histogram2d\": [{\"colorbar\": {\"outlinewidth\": 0, \"ticks\": \"\"}, \"colorscale\": [[0.0, \"#0d0887\"], [0.1111111111111111, \"#46039f\"], [0.2222222222222222, \"#7201a8\"], [0.3333333333333333, \"#9c179e\"], [0.4444444444444444, \"#bd3786\"], [0.5555555555555556, \"#d8576b\"], [0.6666666666666666, \"#ed7953\"], [0.7777777777777778, \"#fb9f3a\"], [0.8888888888888888, \"#fdca26\"], [1.0, \"#f0f921\"]], \"type\": \"histogram2d\"}], \"histogram2dcontour\": [{\"colorbar\": {\"outlinewidth\": 0, \"ticks\": \"\"}, \"colorscale\": [[0.0, \"#0d0887\"], [0.1111111111111111, \"#46039f\"], [0.2222222222222222, \"#7201a8\"], [0.3333333333333333, \"#9c179e\"], [0.4444444444444444, \"#bd3786\"], [0.5555555555555556, \"#d8576b\"], [0.6666666666666666, \"#ed7953\"], [0.7777777777777778, \"#fb9f3a\"], [0.8888888888888888, \"#fdca26\"], [1.0, \"#f0f921\"]], \"type\": \"histogram2dcontour\"}], \"mesh3d\": [{\"colorbar\": {\"outlinewidth\": 0, \"ticks\": \"\"}, \"type\": \"mesh3d\"}], \"parcoords\": [{\"line\": {\"colorbar\": {\"outlinewidth\": 0, \"ticks\": \"\"}}, \"type\": \"parcoords\"}], \"pie\": [{\"automargin\": true, \"type\": \"pie\"}], \"scatter\": [{\"marker\": {\"colorbar\": {\"outlinewidth\": 0, \"ticks\": \"\"}}, \"type\": \"scatter\"}], \"scatter3d\": [{\"line\": {\"colorbar\": {\"outlinewidth\": 0, \"ticks\": \"\"}}, \"marker\": {\"colorbar\": {\"outlinewidth\": 0, \"ticks\": \"\"}}, \"type\": \"scatter3d\"}], \"scattercarpet\": [{\"marker\": {\"colorbar\": {\"outlinewidth\": 0, \"ticks\": \"\"}}, \"type\": \"scattercarpet\"}], \"scattergeo\": [{\"marker\": {\"colorbar\": {\"outlinewidth\": 0, \"ticks\": \"\"}}, \"type\": \"scattergeo\"}], \"scattergl\": [{\"marker\": {\"colorbar\": {\"outlinewidth\": 0, \"ticks\": \"\"}}, \"type\": \"scattergl\"}], \"scattermapbox\": [{\"marker\": {\"colorbar\": {\"outlinewidth\": 0, \"ticks\": \"\"}}, \"type\": \"scattermapbox\"}], \"scatterpolar\": [{\"marker\": {\"colorbar\": {\"outlinewidth\": 0, \"ticks\": \"\"}}, \"type\": \"scatterpolar\"}], \"scatterpolargl\": [{\"marker\": {\"colorbar\": {\"outlinewidth\": 0, \"ticks\": \"\"}}, \"type\": \"scatterpolargl\"}], \"scatterternary\": [{\"marker\": {\"colorbar\": {\"outlinewidth\": 0, \"ticks\": \"\"}}, \"type\": \"scatterternary\"}], \"surface\": [{\"colorbar\": {\"outlinewidth\": 0, \"ticks\": \"\"}, \"colorscale\": [[0.0, \"#0d0887\"], [0.1111111111111111, \"#46039f\"], [0.2222222222222222, \"#7201a8\"], [0.3333333333333333, \"#9c179e\"], [0.4444444444444444, \"#bd3786\"], [0.5555555555555556, \"#d8576b\"], [0.6666666666666666, \"#ed7953\"], [0.7777777777777778, \"#fb9f3a\"], [0.8888888888888888, \"#fdca26\"], [1.0, \"#f0f921\"]], \"type\": \"surface\"}], \"table\": [{\"cells\": {\"fill\": {\"color\": \"#EBF0F8\"}, \"line\": {\"color\": \"white\"}}, \"header\": {\"fill\": {\"color\": \"#C8D4E3\"}, \"line\": {\"color\": \"white\"}}, \"type\": \"table\"}]}, \"layout\": {\"annotationdefaults\": {\"arrowcolor\": \"#2a3f5f\", \"arrowhead\": 0, \"arrowwidth\": 1}, \"coloraxis\": {\"colorbar\": {\"outlinewidth\": 0, \"ticks\": \"\"}}, \"colorscale\": {\"diverging\": [[0, \"#8e0152\"], [0.1, \"#c51b7d\"], [0.2, \"#de77ae\"], [0.3, \"#f1b6da\"], [0.4, \"#fde0ef\"], [0.5, \"#f7f7f7\"], [0.6, \"#e6f5d0\"], [0.7, \"#b8e186\"], [0.8, \"#7fbc41\"], [0.9, \"#4d9221\"], [1, \"#276419\"]], \"sequential\": [[0.0, \"#0d0887\"], [0.1111111111111111, \"#46039f\"], [0.2222222222222222, \"#7201a8\"], [0.3333333333333333, \"#9c179e\"], [0.4444444444444444, \"#bd3786\"], [0.5555555555555556, \"#d8576b\"], [0.6666666666666666, \"#ed7953\"], [0.7777777777777778, \"#fb9f3a\"], [0.8888888888888888, \"#fdca26\"], [1.0, \"#f0f921\"]], \"sequentialminus\": [[0.0, \"#0d0887\"], [0.1111111111111111, \"#46039f\"], [0.2222222222222222, \"#7201a8\"], [0.3333333333333333, \"#9c179e\"], [0.4444444444444444, \"#bd3786\"], [0.5555555555555556, \"#d8576b\"], [0.6666666666666666, \"#ed7953\"], [0.7777777777777778, \"#fb9f3a\"], [0.8888888888888888, \"#fdca26\"], [1.0, \"#f0f921\"]]}, \"colorway\": [\"#636efa\", \"#EF553B\", \"#00cc96\", \"#ab63fa\", \"#FFA15A\", \"#19d3f3\", \"#FF6692\", \"#B6E880\", \"#FF97FF\", \"#FECB52\"], \"font\": {\"color\": \"#2a3f5f\"}, \"geo\": {\"bgcolor\": \"white\", \"lakecolor\": \"white\", \"landcolor\": \"#E5ECF6\", \"showlakes\": true, \"showland\": true, \"subunitcolor\": \"white\"}, \"hoverlabel\": {\"align\": \"left\"}, \"hovermode\": \"closest\", \"mapbox\": {\"style\": \"light\"}, \"paper_bgcolor\": \"white\", \"plot_bgcolor\": \"#E5ECF6\", \"polar\": {\"angularaxis\": {\"gridcolor\": \"white\", \"linecolor\": \"white\", \"ticks\": \"\"}, \"bgcolor\": \"#E5ECF6\", \"radialaxis\": {\"gridcolor\": \"white\", \"linecolor\": \"white\", \"ticks\": \"\"}}, \"scene\": {\"xaxis\": {\"backgroundcolor\": \"#E5ECF6\", \"gridcolor\": \"white\", \"gridwidth\": 2, \"linecolor\": \"white\", \"showbackground\": true, \"ticks\": \"\", \"zerolinecolor\": \"white\"}, \"yaxis\": {\"backgroundcolor\": \"#E5ECF6\", \"gridcolor\": \"white\", \"gridwidth\": 2, \"linecolor\": \"white\", \"showbackground\": true, \"ticks\": \"\", \"zerolinecolor\": \"white\"}, \"zaxis\": {\"backgroundcolor\": \"#E5ECF6\", \"gridcolor\": \"white\", \"gridwidth\": 2, \"linecolor\": \"white\", \"showbackground\": true, \"ticks\": \"\", \"zerolinecolor\": \"white\"}}, \"shapedefaults\": {\"line\": {\"color\": \"#2a3f5f\"}}, \"ternary\": {\"aaxis\": {\"gridcolor\": \"white\", \"linecolor\": \"white\", \"ticks\": \"\"}, \"baxis\": {\"gridcolor\": \"white\", \"linecolor\": \"white\", \"ticks\": \"\"}, \"bgcolor\": \"#E5ECF6\", \"caxis\": {\"gridcolor\": \"white\", \"linecolor\": \"white\", \"ticks\": \"\"}}, \"title\": {\"x\": 0.05}, \"xaxis\": {\"automargin\": true, \"gridcolor\": \"white\", \"linecolor\": \"white\", \"ticks\": \"\", \"title\": {\"standoff\": 15}, \"zerolinecolor\": \"white\", \"zerolinewidth\": 2}, \"yaxis\": {\"automargin\": true, \"gridcolor\": \"white\", \"linecolor\": \"white\", \"ticks\": \"\", \"title\": {\"standoff\": 15}, \"zerolinecolor\": \"white\", \"zerolinewidth\": 2}}}, \"title\": {\"text\": \"Has Personal Loan?\"}},\n",
       "                        {\"responsive\": true}\n",
       "                    ).then(function(){\n",
       "                            \n",
       "var gd = document.getElementById('9ec21205-bb33-4fed-993a-b5b6fdac2771');\n",
       "var x = new MutationObserver(function (mutations, observer) {{\n",
       "        var display = window.getComputedStyle(gd).display;\n",
       "        if (!display || display === 'none') {{\n",
       "            console.log([gd, 'removed!']);\n",
       "            Plotly.purge(gd);\n",
       "            observer.disconnect();\n",
       "        }}\n",
       "}});\n",
       "\n",
       "// Listen for the removal of the full notebook cells\n",
       "var notebookContainer = gd.closest('#notebook-container');\n",
       "if (notebookContainer) {{\n",
       "    x.observe(notebookContainer, {childList: true});\n",
       "}}\n",
       "\n",
       "// Listen for the clearing of the current output cell\n",
       "var outputEl = gd.closest('.output');\n",
       "if (outputEl) {{\n",
       "    x.observe(outputEl, {childList: true});\n",
       "}}\n",
       "\n",
       "                        })\n",
       "                };\n",
       "                });\n",
       "            </script>\n",
       "        </div>"
      ]
     },
     "metadata": {},
     "output_type": "display_data"
    }
   ],
   "source": [
    "data = [go.Bar(\n",
    "    x=df.loan.value_counts().index.tolist(),\n",
    "    y=df.loan.value_counts().tolist(),\n",
    "    text=df.loan.value_counts().tolist(),\n",
    "    textposition='auto'\n",
    ")]\n",
    "layout = go.Layout(\n",
    "    title='Has Personal Loan?'\n",
    ")\n",
    "fig = go.Figure(data=data, layout=layout)\n",
    "iplot(fig)"
   ]
  },
  {
   "cell_type": "code",
   "execution_count": 20,
   "metadata": {},
   "outputs": [
    {
     "data": {
      "application/vnd.plotly.v1+json": {
       "config": {
        "linkText": "Export to plot.ly",
        "plotlyServerURL": "https://plot.ly",
        "showLink": false
       },
       "data": [
        {
         "text": [
          "24914",
          "12765",
          "2321"
         ],
         "textposition": "auto",
         "type": "bar",
         "x": [
          "cellular",
          "unknown",
          "telephone"
         ],
         "y": [
          24914,
          12765,
          2321
         ]
        }
       ],
       "layout": {
        "template": {
         "data": {
          "bar": [
           {
            "error_x": {
             "color": "#2a3f5f"
            },
            "error_y": {
             "color": "#2a3f5f"
            },
            "marker": {
             "line": {
              "color": "#E5ECF6",
              "width": 0.5
             }
            },
            "type": "bar"
           }
          ],
          "barpolar": [
           {
            "marker": {
             "line": {
              "color": "#E5ECF6",
              "width": 0.5
             }
            },
            "type": "barpolar"
           }
          ],
          "carpet": [
           {
            "aaxis": {
             "endlinecolor": "#2a3f5f",
             "gridcolor": "white",
             "linecolor": "white",
             "minorgridcolor": "white",
             "startlinecolor": "#2a3f5f"
            },
            "baxis": {
             "endlinecolor": "#2a3f5f",
             "gridcolor": "white",
             "linecolor": "white",
             "minorgridcolor": "white",
             "startlinecolor": "#2a3f5f"
            },
            "type": "carpet"
           }
          ],
          "choropleth": [
           {
            "colorbar": {
             "outlinewidth": 0,
             "ticks": ""
            },
            "type": "choropleth"
           }
          ],
          "contour": [
           {
            "colorbar": {
             "outlinewidth": 0,
             "ticks": ""
            },
            "colorscale": [
             [
              0,
              "#0d0887"
             ],
             [
              0.1111111111111111,
              "#46039f"
             ],
             [
              0.2222222222222222,
              "#7201a8"
             ],
             [
              0.3333333333333333,
              "#9c179e"
             ],
             [
              0.4444444444444444,
              "#bd3786"
             ],
             [
              0.5555555555555556,
              "#d8576b"
             ],
             [
              0.6666666666666666,
              "#ed7953"
             ],
             [
              0.7777777777777778,
              "#fb9f3a"
             ],
             [
              0.8888888888888888,
              "#fdca26"
             ],
             [
              1,
              "#f0f921"
             ]
            ],
            "type": "contour"
           }
          ],
          "contourcarpet": [
           {
            "colorbar": {
             "outlinewidth": 0,
             "ticks": ""
            },
            "type": "contourcarpet"
           }
          ],
          "heatmap": [
           {
            "colorbar": {
             "outlinewidth": 0,
             "ticks": ""
            },
            "colorscale": [
             [
              0,
              "#0d0887"
             ],
             [
              0.1111111111111111,
              "#46039f"
             ],
             [
              0.2222222222222222,
              "#7201a8"
             ],
             [
              0.3333333333333333,
              "#9c179e"
             ],
             [
              0.4444444444444444,
              "#bd3786"
             ],
             [
              0.5555555555555556,
              "#d8576b"
             ],
             [
              0.6666666666666666,
              "#ed7953"
             ],
             [
              0.7777777777777778,
              "#fb9f3a"
             ],
             [
              0.8888888888888888,
              "#fdca26"
             ],
             [
              1,
              "#f0f921"
             ]
            ],
            "type": "heatmap"
           }
          ],
          "heatmapgl": [
           {
            "colorbar": {
             "outlinewidth": 0,
             "ticks": ""
            },
            "colorscale": [
             [
              0,
              "#0d0887"
             ],
             [
              0.1111111111111111,
              "#46039f"
             ],
             [
              0.2222222222222222,
              "#7201a8"
             ],
             [
              0.3333333333333333,
              "#9c179e"
             ],
             [
              0.4444444444444444,
              "#bd3786"
             ],
             [
              0.5555555555555556,
              "#d8576b"
             ],
             [
              0.6666666666666666,
              "#ed7953"
             ],
             [
              0.7777777777777778,
              "#fb9f3a"
             ],
             [
              0.8888888888888888,
              "#fdca26"
             ],
             [
              1,
              "#f0f921"
             ]
            ],
            "type": "heatmapgl"
           }
          ],
          "histogram": [
           {
            "marker": {
             "colorbar": {
              "outlinewidth": 0,
              "ticks": ""
             }
            },
            "type": "histogram"
           }
          ],
          "histogram2d": [
           {
            "colorbar": {
             "outlinewidth": 0,
             "ticks": ""
            },
            "colorscale": [
             [
              0,
              "#0d0887"
             ],
             [
              0.1111111111111111,
              "#46039f"
             ],
             [
              0.2222222222222222,
              "#7201a8"
             ],
             [
              0.3333333333333333,
              "#9c179e"
             ],
             [
              0.4444444444444444,
              "#bd3786"
             ],
             [
              0.5555555555555556,
              "#d8576b"
             ],
             [
              0.6666666666666666,
              "#ed7953"
             ],
             [
              0.7777777777777778,
              "#fb9f3a"
             ],
             [
              0.8888888888888888,
              "#fdca26"
             ],
             [
              1,
              "#f0f921"
             ]
            ],
            "type": "histogram2d"
           }
          ],
          "histogram2dcontour": [
           {
            "colorbar": {
             "outlinewidth": 0,
             "ticks": ""
            },
            "colorscale": [
             [
              0,
              "#0d0887"
             ],
             [
              0.1111111111111111,
              "#46039f"
             ],
             [
              0.2222222222222222,
              "#7201a8"
             ],
             [
              0.3333333333333333,
              "#9c179e"
             ],
             [
              0.4444444444444444,
              "#bd3786"
             ],
             [
              0.5555555555555556,
              "#d8576b"
             ],
             [
              0.6666666666666666,
              "#ed7953"
             ],
             [
              0.7777777777777778,
              "#fb9f3a"
             ],
             [
              0.8888888888888888,
              "#fdca26"
             ],
             [
              1,
              "#f0f921"
             ]
            ],
            "type": "histogram2dcontour"
           }
          ],
          "mesh3d": [
           {
            "colorbar": {
             "outlinewidth": 0,
             "ticks": ""
            },
            "type": "mesh3d"
           }
          ],
          "parcoords": [
           {
            "line": {
             "colorbar": {
              "outlinewidth": 0,
              "ticks": ""
             }
            },
            "type": "parcoords"
           }
          ],
          "pie": [
           {
            "automargin": true,
            "type": "pie"
           }
          ],
          "scatter": [
           {
            "marker": {
             "colorbar": {
              "outlinewidth": 0,
              "ticks": ""
             }
            },
            "type": "scatter"
           }
          ],
          "scatter3d": [
           {
            "line": {
             "colorbar": {
              "outlinewidth": 0,
              "ticks": ""
             }
            },
            "marker": {
             "colorbar": {
              "outlinewidth": 0,
              "ticks": ""
             }
            },
            "type": "scatter3d"
           }
          ],
          "scattercarpet": [
           {
            "marker": {
             "colorbar": {
              "outlinewidth": 0,
              "ticks": ""
             }
            },
            "type": "scattercarpet"
           }
          ],
          "scattergeo": [
           {
            "marker": {
             "colorbar": {
              "outlinewidth": 0,
              "ticks": ""
             }
            },
            "type": "scattergeo"
           }
          ],
          "scattergl": [
           {
            "marker": {
             "colorbar": {
              "outlinewidth": 0,
              "ticks": ""
             }
            },
            "type": "scattergl"
           }
          ],
          "scattermapbox": [
           {
            "marker": {
             "colorbar": {
              "outlinewidth": 0,
              "ticks": ""
             }
            },
            "type": "scattermapbox"
           }
          ],
          "scatterpolar": [
           {
            "marker": {
             "colorbar": {
              "outlinewidth": 0,
              "ticks": ""
             }
            },
            "type": "scatterpolar"
           }
          ],
          "scatterpolargl": [
           {
            "marker": {
             "colorbar": {
              "outlinewidth": 0,
              "ticks": ""
             }
            },
            "type": "scatterpolargl"
           }
          ],
          "scatterternary": [
           {
            "marker": {
             "colorbar": {
              "outlinewidth": 0,
              "ticks": ""
             }
            },
            "type": "scatterternary"
           }
          ],
          "surface": [
           {
            "colorbar": {
             "outlinewidth": 0,
             "ticks": ""
            },
            "colorscale": [
             [
              0,
              "#0d0887"
             ],
             [
              0.1111111111111111,
              "#46039f"
             ],
             [
              0.2222222222222222,
              "#7201a8"
             ],
             [
              0.3333333333333333,
              "#9c179e"
             ],
             [
              0.4444444444444444,
              "#bd3786"
             ],
             [
              0.5555555555555556,
              "#d8576b"
             ],
             [
              0.6666666666666666,
              "#ed7953"
             ],
             [
              0.7777777777777778,
              "#fb9f3a"
             ],
             [
              0.8888888888888888,
              "#fdca26"
             ],
             [
              1,
              "#f0f921"
             ]
            ],
            "type": "surface"
           }
          ],
          "table": [
           {
            "cells": {
             "fill": {
              "color": "#EBF0F8"
             },
             "line": {
              "color": "white"
             }
            },
            "header": {
             "fill": {
              "color": "#C8D4E3"
             },
             "line": {
              "color": "white"
             }
            },
            "type": "table"
           }
          ]
         },
         "layout": {
          "annotationdefaults": {
           "arrowcolor": "#2a3f5f",
           "arrowhead": 0,
           "arrowwidth": 1
          },
          "coloraxis": {
           "colorbar": {
            "outlinewidth": 0,
            "ticks": ""
           }
          },
          "colorscale": {
           "diverging": [
            [
             0,
             "#8e0152"
            ],
            [
             0.1,
             "#c51b7d"
            ],
            [
             0.2,
             "#de77ae"
            ],
            [
             0.3,
             "#f1b6da"
            ],
            [
             0.4,
             "#fde0ef"
            ],
            [
             0.5,
             "#f7f7f7"
            ],
            [
             0.6,
             "#e6f5d0"
            ],
            [
             0.7,
             "#b8e186"
            ],
            [
             0.8,
             "#7fbc41"
            ],
            [
             0.9,
             "#4d9221"
            ],
            [
             1,
             "#276419"
            ]
           ],
           "sequential": [
            [
             0,
             "#0d0887"
            ],
            [
             0.1111111111111111,
             "#46039f"
            ],
            [
             0.2222222222222222,
             "#7201a8"
            ],
            [
             0.3333333333333333,
             "#9c179e"
            ],
            [
             0.4444444444444444,
             "#bd3786"
            ],
            [
             0.5555555555555556,
             "#d8576b"
            ],
            [
             0.6666666666666666,
             "#ed7953"
            ],
            [
             0.7777777777777778,
             "#fb9f3a"
            ],
            [
             0.8888888888888888,
             "#fdca26"
            ],
            [
             1,
             "#f0f921"
            ]
           ],
           "sequentialminus": [
            [
             0,
             "#0d0887"
            ],
            [
             0.1111111111111111,
             "#46039f"
            ],
            [
             0.2222222222222222,
             "#7201a8"
            ],
            [
             0.3333333333333333,
             "#9c179e"
            ],
            [
             0.4444444444444444,
             "#bd3786"
            ],
            [
             0.5555555555555556,
             "#d8576b"
            ],
            [
             0.6666666666666666,
             "#ed7953"
            ],
            [
             0.7777777777777778,
             "#fb9f3a"
            ],
            [
             0.8888888888888888,
             "#fdca26"
            ],
            [
             1,
             "#f0f921"
            ]
           ]
          },
          "colorway": [
           "#636efa",
           "#EF553B",
           "#00cc96",
           "#ab63fa",
           "#FFA15A",
           "#19d3f3",
           "#FF6692",
           "#B6E880",
           "#FF97FF",
           "#FECB52"
          ],
          "font": {
           "color": "#2a3f5f"
          },
          "geo": {
           "bgcolor": "white",
           "lakecolor": "white",
           "landcolor": "#E5ECF6",
           "showlakes": true,
           "showland": true,
           "subunitcolor": "white"
          },
          "hoverlabel": {
           "align": "left"
          },
          "hovermode": "closest",
          "mapbox": {
           "style": "light"
          },
          "paper_bgcolor": "white",
          "plot_bgcolor": "#E5ECF6",
          "polar": {
           "angularaxis": {
            "gridcolor": "white",
            "linecolor": "white",
            "ticks": ""
           },
           "bgcolor": "#E5ECF6",
           "radialaxis": {
            "gridcolor": "white",
            "linecolor": "white",
            "ticks": ""
           }
          },
          "scene": {
           "xaxis": {
            "backgroundcolor": "#E5ECF6",
            "gridcolor": "white",
            "gridwidth": 2,
            "linecolor": "white",
            "showbackground": true,
            "ticks": "",
            "zerolinecolor": "white"
           },
           "yaxis": {
            "backgroundcolor": "#E5ECF6",
            "gridcolor": "white",
            "gridwidth": 2,
            "linecolor": "white",
            "showbackground": true,
            "ticks": "",
            "zerolinecolor": "white"
           },
           "zaxis": {
            "backgroundcolor": "#E5ECF6",
            "gridcolor": "white",
            "gridwidth": 2,
            "linecolor": "white",
            "showbackground": true,
            "ticks": "",
            "zerolinecolor": "white"
           }
          },
          "shapedefaults": {
           "line": {
            "color": "#2a3f5f"
           }
          },
          "ternary": {
           "aaxis": {
            "gridcolor": "white",
            "linecolor": "white",
            "ticks": ""
           },
           "baxis": {
            "gridcolor": "white",
            "linecolor": "white",
            "ticks": ""
           },
           "bgcolor": "#E5ECF6",
           "caxis": {
            "gridcolor": "white",
            "linecolor": "white",
            "ticks": ""
           }
          },
          "title": {
           "x": 0.05
          },
          "xaxis": {
           "automargin": true,
           "gridcolor": "white",
           "linecolor": "white",
           "ticks": "",
           "title": {
            "standoff": 15
           },
           "zerolinecolor": "white",
           "zerolinewidth": 2
          },
          "yaxis": {
           "automargin": true,
           "gridcolor": "white",
           "linecolor": "white",
           "ticks": "",
           "title": {
            "standoff": 15
           },
           "zerolinecolor": "white",
           "zerolinewidth": 2
          }
         }
        },
        "title": {
         "text": "Contact Communication Type"
        }
       }
      },
      "text/html": [
       "<div>\n",
       "        \n",
       "        \n",
       "            <div id=\"dce56f11-be37-45f2-bcb7-5cc636a8c14d\" class=\"plotly-graph-div\" style=\"height:525px; width:100%;\"></div>\n",
       "            <script type=\"text/javascript\">\n",
       "                require([\"plotly\"], function(Plotly) {\n",
       "                    window.PLOTLYENV=window.PLOTLYENV || {};\n",
       "                    \n",
       "                if (document.getElementById(\"dce56f11-be37-45f2-bcb7-5cc636a8c14d\")) {\n",
       "                    Plotly.newPlot(\n",
       "                        'dce56f11-be37-45f2-bcb7-5cc636a8c14d',\n",
       "                        [{\"text\": [\"24914\", \"12765\", \"2321\"], \"textposition\": \"auto\", \"type\": \"bar\", \"x\": [\"cellular\", \"unknown\", \"telephone\"], \"y\": [24914, 12765, 2321]}],\n",
       "                        {\"template\": {\"data\": {\"bar\": [{\"error_x\": {\"color\": \"#2a3f5f\"}, \"error_y\": {\"color\": \"#2a3f5f\"}, \"marker\": {\"line\": {\"color\": \"#E5ECF6\", \"width\": 0.5}}, \"type\": \"bar\"}], \"barpolar\": [{\"marker\": {\"line\": {\"color\": \"#E5ECF6\", \"width\": 0.5}}, \"type\": \"barpolar\"}], \"carpet\": [{\"aaxis\": {\"endlinecolor\": \"#2a3f5f\", \"gridcolor\": \"white\", \"linecolor\": \"white\", \"minorgridcolor\": \"white\", \"startlinecolor\": \"#2a3f5f\"}, \"baxis\": {\"endlinecolor\": \"#2a3f5f\", \"gridcolor\": \"white\", \"linecolor\": \"white\", \"minorgridcolor\": \"white\", \"startlinecolor\": \"#2a3f5f\"}, \"type\": \"carpet\"}], \"choropleth\": [{\"colorbar\": {\"outlinewidth\": 0, \"ticks\": \"\"}, \"type\": \"choropleth\"}], \"contour\": [{\"colorbar\": {\"outlinewidth\": 0, \"ticks\": \"\"}, \"colorscale\": [[0.0, \"#0d0887\"], [0.1111111111111111, \"#46039f\"], [0.2222222222222222, \"#7201a8\"], [0.3333333333333333, \"#9c179e\"], [0.4444444444444444, \"#bd3786\"], [0.5555555555555556, \"#d8576b\"], [0.6666666666666666, \"#ed7953\"], [0.7777777777777778, \"#fb9f3a\"], [0.8888888888888888, \"#fdca26\"], [1.0, \"#f0f921\"]], \"type\": \"contour\"}], \"contourcarpet\": [{\"colorbar\": {\"outlinewidth\": 0, \"ticks\": \"\"}, \"type\": \"contourcarpet\"}], \"heatmap\": [{\"colorbar\": {\"outlinewidth\": 0, \"ticks\": \"\"}, \"colorscale\": [[0.0, \"#0d0887\"], [0.1111111111111111, \"#46039f\"], [0.2222222222222222, \"#7201a8\"], [0.3333333333333333, \"#9c179e\"], [0.4444444444444444, \"#bd3786\"], [0.5555555555555556, \"#d8576b\"], [0.6666666666666666, \"#ed7953\"], [0.7777777777777778, \"#fb9f3a\"], [0.8888888888888888, \"#fdca26\"], [1.0, \"#f0f921\"]], \"type\": \"heatmap\"}], \"heatmapgl\": [{\"colorbar\": {\"outlinewidth\": 0, \"ticks\": \"\"}, \"colorscale\": [[0.0, \"#0d0887\"], [0.1111111111111111, \"#46039f\"], [0.2222222222222222, \"#7201a8\"], [0.3333333333333333, \"#9c179e\"], [0.4444444444444444, \"#bd3786\"], [0.5555555555555556, \"#d8576b\"], [0.6666666666666666, \"#ed7953\"], [0.7777777777777778, \"#fb9f3a\"], [0.8888888888888888, \"#fdca26\"], [1.0, \"#f0f921\"]], \"type\": \"heatmapgl\"}], \"histogram\": [{\"marker\": {\"colorbar\": {\"outlinewidth\": 0, \"ticks\": \"\"}}, \"type\": \"histogram\"}], \"histogram2d\": [{\"colorbar\": {\"outlinewidth\": 0, \"ticks\": \"\"}, \"colorscale\": [[0.0, \"#0d0887\"], [0.1111111111111111, \"#46039f\"], [0.2222222222222222, \"#7201a8\"], [0.3333333333333333, \"#9c179e\"], [0.4444444444444444, \"#bd3786\"], [0.5555555555555556, \"#d8576b\"], [0.6666666666666666, \"#ed7953\"], [0.7777777777777778, \"#fb9f3a\"], [0.8888888888888888, \"#fdca26\"], [1.0, \"#f0f921\"]], \"type\": \"histogram2d\"}], \"histogram2dcontour\": [{\"colorbar\": {\"outlinewidth\": 0, \"ticks\": \"\"}, \"colorscale\": [[0.0, \"#0d0887\"], [0.1111111111111111, \"#46039f\"], [0.2222222222222222, \"#7201a8\"], [0.3333333333333333, \"#9c179e\"], [0.4444444444444444, \"#bd3786\"], [0.5555555555555556, \"#d8576b\"], [0.6666666666666666, \"#ed7953\"], [0.7777777777777778, \"#fb9f3a\"], [0.8888888888888888, \"#fdca26\"], [1.0, \"#f0f921\"]], \"type\": \"histogram2dcontour\"}], \"mesh3d\": [{\"colorbar\": {\"outlinewidth\": 0, \"ticks\": \"\"}, \"type\": \"mesh3d\"}], \"parcoords\": [{\"line\": {\"colorbar\": {\"outlinewidth\": 0, \"ticks\": \"\"}}, \"type\": \"parcoords\"}], \"pie\": [{\"automargin\": true, \"type\": \"pie\"}], \"scatter\": [{\"marker\": {\"colorbar\": {\"outlinewidth\": 0, \"ticks\": \"\"}}, \"type\": \"scatter\"}], \"scatter3d\": [{\"line\": {\"colorbar\": {\"outlinewidth\": 0, \"ticks\": \"\"}}, \"marker\": {\"colorbar\": {\"outlinewidth\": 0, \"ticks\": \"\"}}, \"type\": \"scatter3d\"}], \"scattercarpet\": [{\"marker\": {\"colorbar\": {\"outlinewidth\": 0, \"ticks\": \"\"}}, \"type\": \"scattercarpet\"}], \"scattergeo\": [{\"marker\": {\"colorbar\": {\"outlinewidth\": 0, \"ticks\": \"\"}}, \"type\": \"scattergeo\"}], \"scattergl\": [{\"marker\": {\"colorbar\": {\"outlinewidth\": 0, \"ticks\": \"\"}}, \"type\": \"scattergl\"}], \"scattermapbox\": [{\"marker\": {\"colorbar\": {\"outlinewidth\": 0, \"ticks\": \"\"}}, \"type\": \"scattermapbox\"}], \"scatterpolar\": [{\"marker\": {\"colorbar\": {\"outlinewidth\": 0, \"ticks\": \"\"}}, \"type\": \"scatterpolar\"}], \"scatterpolargl\": [{\"marker\": {\"colorbar\": {\"outlinewidth\": 0, \"ticks\": \"\"}}, \"type\": \"scatterpolargl\"}], \"scatterternary\": [{\"marker\": {\"colorbar\": {\"outlinewidth\": 0, \"ticks\": \"\"}}, \"type\": \"scatterternary\"}], \"surface\": [{\"colorbar\": {\"outlinewidth\": 0, \"ticks\": \"\"}, \"colorscale\": [[0.0, \"#0d0887\"], [0.1111111111111111, \"#46039f\"], [0.2222222222222222, \"#7201a8\"], [0.3333333333333333, \"#9c179e\"], [0.4444444444444444, \"#bd3786\"], [0.5555555555555556, \"#d8576b\"], [0.6666666666666666, \"#ed7953\"], [0.7777777777777778, \"#fb9f3a\"], [0.8888888888888888, \"#fdca26\"], [1.0, \"#f0f921\"]], \"type\": \"surface\"}], \"table\": [{\"cells\": {\"fill\": {\"color\": \"#EBF0F8\"}, \"line\": {\"color\": \"white\"}}, \"header\": {\"fill\": {\"color\": \"#C8D4E3\"}, \"line\": {\"color\": \"white\"}}, \"type\": \"table\"}]}, \"layout\": {\"annotationdefaults\": {\"arrowcolor\": \"#2a3f5f\", \"arrowhead\": 0, \"arrowwidth\": 1}, \"coloraxis\": {\"colorbar\": {\"outlinewidth\": 0, \"ticks\": \"\"}}, \"colorscale\": {\"diverging\": [[0, \"#8e0152\"], [0.1, \"#c51b7d\"], [0.2, \"#de77ae\"], [0.3, \"#f1b6da\"], [0.4, \"#fde0ef\"], [0.5, \"#f7f7f7\"], [0.6, \"#e6f5d0\"], [0.7, \"#b8e186\"], [0.8, \"#7fbc41\"], [0.9, \"#4d9221\"], [1, \"#276419\"]], \"sequential\": [[0.0, \"#0d0887\"], [0.1111111111111111, \"#46039f\"], [0.2222222222222222, \"#7201a8\"], [0.3333333333333333, \"#9c179e\"], [0.4444444444444444, \"#bd3786\"], [0.5555555555555556, \"#d8576b\"], [0.6666666666666666, \"#ed7953\"], [0.7777777777777778, \"#fb9f3a\"], [0.8888888888888888, \"#fdca26\"], [1.0, \"#f0f921\"]], \"sequentialminus\": [[0.0, \"#0d0887\"], [0.1111111111111111, \"#46039f\"], [0.2222222222222222, \"#7201a8\"], [0.3333333333333333, \"#9c179e\"], [0.4444444444444444, \"#bd3786\"], [0.5555555555555556, \"#d8576b\"], [0.6666666666666666, \"#ed7953\"], [0.7777777777777778, \"#fb9f3a\"], [0.8888888888888888, \"#fdca26\"], [1.0, \"#f0f921\"]]}, \"colorway\": [\"#636efa\", \"#EF553B\", \"#00cc96\", \"#ab63fa\", \"#FFA15A\", \"#19d3f3\", \"#FF6692\", \"#B6E880\", \"#FF97FF\", \"#FECB52\"], \"font\": {\"color\": \"#2a3f5f\"}, \"geo\": {\"bgcolor\": \"white\", \"lakecolor\": \"white\", \"landcolor\": \"#E5ECF6\", \"showlakes\": true, \"showland\": true, \"subunitcolor\": \"white\"}, \"hoverlabel\": {\"align\": \"left\"}, \"hovermode\": \"closest\", \"mapbox\": {\"style\": \"light\"}, \"paper_bgcolor\": \"white\", \"plot_bgcolor\": \"#E5ECF6\", \"polar\": {\"angularaxis\": {\"gridcolor\": \"white\", \"linecolor\": \"white\", \"ticks\": \"\"}, \"bgcolor\": \"#E5ECF6\", \"radialaxis\": {\"gridcolor\": \"white\", \"linecolor\": \"white\", \"ticks\": \"\"}}, \"scene\": {\"xaxis\": {\"backgroundcolor\": \"#E5ECF6\", \"gridcolor\": \"white\", \"gridwidth\": 2, \"linecolor\": \"white\", \"showbackground\": true, \"ticks\": \"\", \"zerolinecolor\": \"white\"}, \"yaxis\": {\"backgroundcolor\": \"#E5ECF6\", \"gridcolor\": \"white\", \"gridwidth\": 2, \"linecolor\": \"white\", \"showbackground\": true, \"ticks\": \"\", \"zerolinecolor\": \"white\"}, \"zaxis\": {\"backgroundcolor\": \"#E5ECF6\", \"gridcolor\": \"white\", \"gridwidth\": 2, \"linecolor\": \"white\", \"showbackground\": true, \"ticks\": \"\", \"zerolinecolor\": \"white\"}}, \"shapedefaults\": {\"line\": {\"color\": \"#2a3f5f\"}}, \"ternary\": {\"aaxis\": {\"gridcolor\": \"white\", \"linecolor\": \"white\", \"ticks\": \"\"}, \"baxis\": {\"gridcolor\": \"white\", \"linecolor\": \"white\", \"ticks\": \"\"}, \"bgcolor\": \"#E5ECF6\", \"caxis\": {\"gridcolor\": \"white\", \"linecolor\": \"white\", \"ticks\": \"\"}}, \"title\": {\"x\": 0.05}, \"xaxis\": {\"automargin\": true, \"gridcolor\": \"white\", \"linecolor\": \"white\", \"ticks\": \"\", \"title\": {\"standoff\": 15}, \"zerolinecolor\": \"white\", \"zerolinewidth\": 2}, \"yaxis\": {\"automargin\": true, \"gridcolor\": \"white\", \"linecolor\": \"white\", \"ticks\": \"\", \"title\": {\"standoff\": 15}, \"zerolinecolor\": \"white\", \"zerolinewidth\": 2}}}, \"title\": {\"text\": \"Contact Communication Type\"}},\n",
       "                        {\"responsive\": true}\n",
       "                    ).then(function(){\n",
       "                            \n",
       "var gd = document.getElementById('dce56f11-be37-45f2-bcb7-5cc636a8c14d');\n",
       "var x = new MutationObserver(function (mutations, observer) {{\n",
       "        var display = window.getComputedStyle(gd).display;\n",
       "        if (!display || display === 'none') {{\n",
       "            console.log([gd, 'removed!']);\n",
       "            Plotly.purge(gd);\n",
       "            observer.disconnect();\n",
       "        }}\n",
       "}});\n",
       "\n",
       "// Listen for the removal of the full notebook cells\n",
       "var notebookContainer = gd.closest('#notebook-container');\n",
       "if (notebookContainer) {{\n",
       "    x.observe(notebookContainer, {childList: true});\n",
       "}}\n",
       "\n",
       "// Listen for the clearing of the current output cell\n",
       "var outputEl = gd.closest('.output');\n",
       "if (outputEl) {{\n",
       "    x.observe(outputEl, {childList: true});\n",
       "}}\n",
       "\n",
       "                        })\n",
       "                };\n",
       "                });\n",
       "            </script>\n",
       "        </div>"
      ]
     },
     "metadata": {},
     "output_type": "display_data"
    }
   ],
   "source": [
    "data = [go.Bar(\n",
    "    x=df.contact.value_counts().index.tolist(),\n",
    "    y=df.contact.value_counts().tolist(),\n",
    "    text=df.contact.value_counts().tolist(),\n",
    "    textposition='auto'\n",
    ")]\n",
    "layout = go.Layout(\n",
    "    title='Contact Communication Type'\n",
    ")\n",
    "fig = go.Figure(data=data, layout=layout)\n",
    "iplot(fig)"
   ]
  },
  {
   "cell_type": "code",
   "execution_count": 21,
   "metadata": {},
   "outputs": [
    {
     "data": {
      "application/vnd.plotly.v1+json": {
       "config": {
        "linkText": "Export to plot.ly",
        "plotlyServerURL": "https://plot.ly",
        "showLink": false
       },
       "data": [
        {
         "text": [
          "13532",
          "6380",
          "5215",
          "4734",
          "3598",
          "2718",
          "2296",
          "1176",
          "258",
          "80",
          "13"
         ],
         "textposition": "auto",
         "type": "bar",
         "x": [
          "may",
          "jul",
          "aug",
          "jun",
          "nov",
          "apr",
          "feb",
          "jan",
          "mar",
          "oct",
          "dec"
         ],
         "y": [
          13532,
          6380,
          5215,
          4734,
          3598,
          2718,
          2296,
          1176,
          258,
          80,
          13
         ]
        }
       ],
       "layout": {
        "template": {
         "data": {
          "bar": [
           {
            "error_x": {
             "color": "#2a3f5f"
            },
            "error_y": {
             "color": "#2a3f5f"
            },
            "marker": {
             "line": {
              "color": "#E5ECF6",
              "width": 0.5
             }
            },
            "type": "bar"
           }
          ],
          "barpolar": [
           {
            "marker": {
             "line": {
              "color": "#E5ECF6",
              "width": 0.5
             }
            },
            "type": "barpolar"
           }
          ],
          "carpet": [
           {
            "aaxis": {
             "endlinecolor": "#2a3f5f",
             "gridcolor": "white",
             "linecolor": "white",
             "minorgridcolor": "white",
             "startlinecolor": "#2a3f5f"
            },
            "baxis": {
             "endlinecolor": "#2a3f5f",
             "gridcolor": "white",
             "linecolor": "white",
             "minorgridcolor": "white",
             "startlinecolor": "#2a3f5f"
            },
            "type": "carpet"
           }
          ],
          "choropleth": [
           {
            "colorbar": {
             "outlinewidth": 0,
             "ticks": ""
            },
            "type": "choropleth"
           }
          ],
          "contour": [
           {
            "colorbar": {
             "outlinewidth": 0,
             "ticks": ""
            },
            "colorscale": [
             [
              0,
              "#0d0887"
             ],
             [
              0.1111111111111111,
              "#46039f"
             ],
             [
              0.2222222222222222,
              "#7201a8"
             ],
             [
              0.3333333333333333,
              "#9c179e"
             ],
             [
              0.4444444444444444,
              "#bd3786"
             ],
             [
              0.5555555555555556,
              "#d8576b"
             ],
             [
              0.6666666666666666,
              "#ed7953"
             ],
             [
              0.7777777777777778,
              "#fb9f3a"
             ],
             [
              0.8888888888888888,
              "#fdca26"
             ],
             [
              1,
              "#f0f921"
             ]
            ],
            "type": "contour"
           }
          ],
          "contourcarpet": [
           {
            "colorbar": {
             "outlinewidth": 0,
             "ticks": ""
            },
            "type": "contourcarpet"
           }
          ],
          "heatmap": [
           {
            "colorbar": {
             "outlinewidth": 0,
             "ticks": ""
            },
            "colorscale": [
             [
              0,
              "#0d0887"
             ],
             [
              0.1111111111111111,
              "#46039f"
             ],
             [
              0.2222222222222222,
              "#7201a8"
             ],
             [
              0.3333333333333333,
              "#9c179e"
             ],
             [
              0.4444444444444444,
              "#bd3786"
             ],
             [
              0.5555555555555556,
              "#d8576b"
             ],
             [
              0.6666666666666666,
              "#ed7953"
             ],
             [
              0.7777777777777778,
              "#fb9f3a"
             ],
             [
              0.8888888888888888,
              "#fdca26"
             ],
             [
              1,
              "#f0f921"
             ]
            ],
            "type": "heatmap"
           }
          ],
          "heatmapgl": [
           {
            "colorbar": {
             "outlinewidth": 0,
             "ticks": ""
            },
            "colorscale": [
             [
              0,
              "#0d0887"
             ],
             [
              0.1111111111111111,
              "#46039f"
             ],
             [
              0.2222222222222222,
              "#7201a8"
             ],
             [
              0.3333333333333333,
              "#9c179e"
             ],
             [
              0.4444444444444444,
              "#bd3786"
             ],
             [
              0.5555555555555556,
              "#d8576b"
             ],
             [
              0.6666666666666666,
              "#ed7953"
             ],
             [
              0.7777777777777778,
              "#fb9f3a"
             ],
             [
              0.8888888888888888,
              "#fdca26"
             ],
             [
              1,
              "#f0f921"
             ]
            ],
            "type": "heatmapgl"
           }
          ],
          "histogram": [
           {
            "marker": {
             "colorbar": {
              "outlinewidth": 0,
              "ticks": ""
             }
            },
            "type": "histogram"
           }
          ],
          "histogram2d": [
           {
            "colorbar": {
             "outlinewidth": 0,
             "ticks": ""
            },
            "colorscale": [
             [
              0,
              "#0d0887"
             ],
             [
              0.1111111111111111,
              "#46039f"
             ],
             [
              0.2222222222222222,
              "#7201a8"
             ],
             [
              0.3333333333333333,
              "#9c179e"
             ],
             [
              0.4444444444444444,
              "#bd3786"
             ],
             [
              0.5555555555555556,
              "#d8576b"
             ],
             [
              0.6666666666666666,
              "#ed7953"
             ],
             [
              0.7777777777777778,
              "#fb9f3a"
             ],
             [
              0.8888888888888888,
              "#fdca26"
             ],
             [
              1,
              "#f0f921"
             ]
            ],
            "type": "histogram2d"
           }
          ],
          "histogram2dcontour": [
           {
            "colorbar": {
             "outlinewidth": 0,
             "ticks": ""
            },
            "colorscale": [
             [
              0,
              "#0d0887"
             ],
             [
              0.1111111111111111,
              "#46039f"
             ],
             [
              0.2222222222222222,
              "#7201a8"
             ],
             [
              0.3333333333333333,
              "#9c179e"
             ],
             [
              0.4444444444444444,
              "#bd3786"
             ],
             [
              0.5555555555555556,
              "#d8576b"
             ],
             [
              0.6666666666666666,
              "#ed7953"
             ],
             [
              0.7777777777777778,
              "#fb9f3a"
             ],
             [
              0.8888888888888888,
              "#fdca26"
             ],
             [
              1,
              "#f0f921"
             ]
            ],
            "type": "histogram2dcontour"
           }
          ],
          "mesh3d": [
           {
            "colorbar": {
             "outlinewidth": 0,
             "ticks": ""
            },
            "type": "mesh3d"
           }
          ],
          "parcoords": [
           {
            "line": {
             "colorbar": {
              "outlinewidth": 0,
              "ticks": ""
             }
            },
            "type": "parcoords"
           }
          ],
          "pie": [
           {
            "automargin": true,
            "type": "pie"
           }
          ],
          "scatter": [
           {
            "marker": {
             "colorbar": {
              "outlinewidth": 0,
              "ticks": ""
             }
            },
            "type": "scatter"
           }
          ],
          "scatter3d": [
           {
            "line": {
             "colorbar": {
              "outlinewidth": 0,
              "ticks": ""
             }
            },
            "marker": {
             "colorbar": {
              "outlinewidth": 0,
              "ticks": ""
             }
            },
            "type": "scatter3d"
           }
          ],
          "scattercarpet": [
           {
            "marker": {
             "colorbar": {
              "outlinewidth": 0,
              "ticks": ""
             }
            },
            "type": "scattercarpet"
           }
          ],
          "scattergeo": [
           {
            "marker": {
             "colorbar": {
              "outlinewidth": 0,
              "ticks": ""
             }
            },
            "type": "scattergeo"
           }
          ],
          "scattergl": [
           {
            "marker": {
             "colorbar": {
              "outlinewidth": 0,
              "ticks": ""
             }
            },
            "type": "scattergl"
           }
          ],
          "scattermapbox": [
           {
            "marker": {
             "colorbar": {
              "outlinewidth": 0,
              "ticks": ""
             }
            },
            "type": "scattermapbox"
           }
          ],
          "scatterpolar": [
           {
            "marker": {
             "colorbar": {
              "outlinewidth": 0,
              "ticks": ""
             }
            },
            "type": "scatterpolar"
           }
          ],
          "scatterpolargl": [
           {
            "marker": {
             "colorbar": {
              "outlinewidth": 0,
              "ticks": ""
             }
            },
            "type": "scatterpolargl"
           }
          ],
          "scatterternary": [
           {
            "marker": {
             "colorbar": {
              "outlinewidth": 0,
              "ticks": ""
             }
            },
            "type": "scatterternary"
           }
          ],
          "surface": [
           {
            "colorbar": {
             "outlinewidth": 0,
             "ticks": ""
            },
            "colorscale": [
             [
              0,
              "#0d0887"
             ],
             [
              0.1111111111111111,
              "#46039f"
             ],
             [
              0.2222222222222222,
              "#7201a8"
             ],
             [
              0.3333333333333333,
              "#9c179e"
             ],
             [
              0.4444444444444444,
              "#bd3786"
             ],
             [
              0.5555555555555556,
              "#d8576b"
             ],
             [
              0.6666666666666666,
              "#ed7953"
             ],
             [
              0.7777777777777778,
              "#fb9f3a"
             ],
             [
              0.8888888888888888,
              "#fdca26"
             ],
             [
              1,
              "#f0f921"
             ]
            ],
            "type": "surface"
           }
          ],
          "table": [
           {
            "cells": {
             "fill": {
              "color": "#EBF0F8"
             },
             "line": {
              "color": "white"
             }
            },
            "header": {
             "fill": {
              "color": "#C8D4E3"
             },
             "line": {
              "color": "white"
             }
            },
            "type": "table"
           }
          ]
         },
         "layout": {
          "annotationdefaults": {
           "arrowcolor": "#2a3f5f",
           "arrowhead": 0,
           "arrowwidth": 1
          },
          "coloraxis": {
           "colorbar": {
            "outlinewidth": 0,
            "ticks": ""
           }
          },
          "colorscale": {
           "diverging": [
            [
             0,
             "#8e0152"
            ],
            [
             0.1,
             "#c51b7d"
            ],
            [
             0.2,
             "#de77ae"
            ],
            [
             0.3,
             "#f1b6da"
            ],
            [
             0.4,
             "#fde0ef"
            ],
            [
             0.5,
             "#f7f7f7"
            ],
            [
             0.6,
             "#e6f5d0"
            ],
            [
             0.7,
             "#b8e186"
            ],
            [
             0.8,
             "#7fbc41"
            ],
            [
             0.9,
             "#4d9221"
            ],
            [
             1,
             "#276419"
            ]
           ],
           "sequential": [
            [
             0,
             "#0d0887"
            ],
            [
             0.1111111111111111,
             "#46039f"
            ],
            [
             0.2222222222222222,
             "#7201a8"
            ],
            [
             0.3333333333333333,
             "#9c179e"
            ],
            [
             0.4444444444444444,
             "#bd3786"
            ],
            [
             0.5555555555555556,
             "#d8576b"
            ],
            [
             0.6666666666666666,
             "#ed7953"
            ],
            [
             0.7777777777777778,
             "#fb9f3a"
            ],
            [
             0.8888888888888888,
             "#fdca26"
            ],
            [
             1,
             "#f0f921"
            ]
           ],
           "sequentialminus": [
            [
             0,
             "#0d0887"
            ],
            [
             0.1111111111111111,
             "#46039f"
            ],
            [
             0.2222222222222222,
             "#7201a8"
            ],
            [
             0.3333333333333333,
             "#9c179e"
            ],
            [
             0.4444444444444444,
             "#bd3786"
            ],
            [
             0.5555555555555556,
             "#d8576b"
            ],
            [
             0.6666666666666666,
             "#ed7953"
            ],
            [
             0.7777777777777778,
             "#fb9f3a"
            ],
            [
             0.8888888888888888,
             "#fdca26"
            ],
            [
             1,
             "#f0f921"
            ]
           ]
          },
          "colorway": [
           "#636efa",
           "#EF553B",
           "#00cc96",
           "#ab63fa",
           "#FFA15A",
           "#19d3f3",
           "#FF6692",
           "#B6E880",
           "#FF97FF",
           "#FECB52"
          ],
          "font": {
           "color": "#2a3f5f"
          },
          "geo": {
           "bgcolor": "white",
           "lakecolor": "white",
           "landcolor": "#E5ECF6",
           "showlakes": true,
           "showland": true,
           "subunitcolor": "white"
          },
          "hoverlabel": {
           "align": "left"
          },
          "hovermode": "closest",
          "mapbox": {
           "style": "light"
          },
          "paper_bgcolor": "white",
          "plot_bgcolor": "#E5ECF6",
          "polar": {
           "angularaxis": {
            "gridcolor": "white",
            "linecolor": "white",
            "ticks": ""
           },
           "bgcolor": "#E5ECF6",
           "radialaxis": {
            "gridcolor": "white",
            "linecolor": "white",
            "ticks": ""
           }
          },
          "scene": {
           "xaxis": {
            "backgroundcolor": "#E5ECF6",
            "gridcolor": "white",
            "gridwidth": 2,
            "linecolor": "white",
            "showbackground": true,
            "ticks": "",
            "zerolinecolor": "white"
           },
           "yaxis": {
            "backgroundcolor": "#E5ECF6",
            "gridcolor": "white",
            "gridwidth": 2,
            "linecolor": "white",
            "showbackground": true,
            "ticks": "",
            "zerolinecolor": "white"
           },
           "zaxis": {
            "backgroundcolor": "#E5ECF6",
            "gridcolor": "white",
            "gridwidth": 2,
            "linecolor": "white",
            "showbackground": true,
            "ticks": "",
            "zerolinecolor": "white"
           }
          },
          "shapedefaults": {
           "line": {
            "color": "#2a3f5f"
           }
          },
          "ternary": {
           "aaxis": {
            "gridcolor": "white",
            "linecolor": "white",
            "ticks": ""
           },
           "baxis": {
            "gridcolor": "white",
            "linecolor": "white",
            "ticks": ""
           },
           "bgcolor": "#E5ECF6",
           "caxis": {
            "gridcolor": "white",
            "linecolor": "white",
            "ticks": ""
           }
          },
          "title": {
           "x": 0.05
          },
          "xaxis": {
           "automargin": true,
           "gridcolor": "white",
           "linecolor": "white",
           "ticks": "",
           "title": {
            "standoff": 15
           },
           "zerolinecolor": "white",
           "zerolinewidth": 2
          },
          "yaxis": {
           "automargin": true,
           "gridcolor": "white",
           "linecolor": "white",
           "ticks": "",
           "title": {
            "standoff": 15
           },
           "zerolinecolor": "white",
           "zerolinewidth": 2
          }
         }
        },
        "title": {
         "text": "Last Contact Month of Year "
        }
       }
      },
      "text/html": [
       "<div>\n",
       "        \n",
       "        \n",
       "            <div id=\"2b6ee937-cd5b-45bc-a942-3042c95fe854\" class=\"plotly-graph-div\" style=\"height:525px; width:100%;\"></div>\n",
       "            <script type=\"text/javascript\">\n",
       "                require([\"plotly\"], function(Plotly) {\n",
       "                    window.PLOTLYENV=window.PLOTLYENV || {};\n",
       "                    \n",
       "                if (document.getElementById(\"2b6ee937-cd5b-45bc-a942-3042c95fe854\")) {\n",
       "                    Plotly.newPlot(\n",
       "                        '2b6ee937-cd5b-45bc-a942-3042c95fe854',\n",
       "                        [{\"text\": [\"13532\", \"6380\", \"5215\", \"4734\", \"3598\", \"2718\", \"2296\", \"1176\", \"258\", \"80\", \"13\"], \"textposition\": \"auto\", \"type\": \"bar\", \"x\": [\"may\", \"jul\", \"aug\", \"jun\", \"nov\", \"apr\", \"feb\", \"jan\", \"mar\", \"oct\", \"dec\"], \"y\": [13532, 6380, 5215, 4734, 3598, 2718, 2296, 1176, 258, 80, 13]}],\n",
       "                        {\"template\": {\"data\": {\"bar\": [{\"error_x\": {\"color\": \"#2a3f5f\"}, \"error_y\": {\"color\": \"#2a3f5f\"}, \"marker\": {\"line\": {\"color\": \"#E5ECF6\", \"width\": 0.5}}, \"type\": \"bar\"}], \"barpolar\": [{\"marker\": {\"line\": {\"color\": \"#E5ECF6\", \"width\": 0.5}}, \"type\": \"barpolar\"}], \"carpet\": [{\"aaxis\": {\"endlinecolor\": \"#2a3f5f\", \"gridcolor\": \"white\", \"linecolor\": \"white\", \"minorgridcolor\": \"white\", \"startlinecolor\": \"#2a3f5f\"}, \"baxis\": {\"endlinecolor\": \"#2a3f5f\", \"gridcolor\": \"white\", \"linecolor\": \"white\", \"minorgridcolor\": \"white\", \"startlinecolor\": \"#2a3f5f\"}, \"type\": \"carpet\"}], \"choropleth\": [{\"colorbar\": {\"outlinewidth\": 0, \"ticks\": \"\"}, \"type\": \"choropleth\"}], \"contour\": [{\"colorbar\": {\"outlinewidth\": 0, \"ticks\": \"\"}, \"colorscale\": [[0.0, \"#0d0887\"], [0.1111111111111111, \"#46039f\"], [0.2222222222222222, \"#7201a8\"], [0.3333333333333333, \"#9c179e\"], [0.4444444444444444, \"#bd3786\"], [0.5555555555555556, \"#d8576b\"], [0.6666666666666666, \"#ed7953\"], [0.7777777777777778, \"#fb9f3a\"], [0.8888888888888888, \"#fdca26\"], [1.0, \"#f0f921\"]], \"type\": \"contour\"}], \"contourcarpet\": [{\"colorbar\": {\"outlinewidth\": 0, \"ticks\": \"\"}, \"type\": \"contourcarpet\"}], \"heatmap\": [{\"colorbar\": {\"outlinewidth\": 0, \"ticks\": \"\"}, \"colorscale\": [[0.0, \"#0d0887\"], [0.1111111111111111, \"#46039f\"], [0.2222222222222222, \"#7201a8\"], [0.3333333333333333, \"#9c179e\"], [0.4444444444444444, \"#bd3786\"], [0.5555555555555556, \"#d8576b\"], [0.6666666666666666, \"#ed7953\"], [0.7777777777777778, \"#fb9f3a\"], [0.8888888888888888, \"#fdca26\"], [1.0, \"#f0f921\"]], \"type\": \"heatmap\"}], \"heatmapgl\": [{\"colorbar\": {\"outlinewidth\": 0, \"ticks\": \"\"}, \"colorscale\": [[0.0, \"#0d0887\"], [0.1111111111111111, \"#46039f\"], [0.2222222222222222, \"#7201a8\"], [0.3333333333333333, \"#9c179e\"], [0.4444444444444444, \"#bd3786\"], [0.5555555555555556, \"#d8576b\"], [0.6666666666666666, \"#ed7953\"], [0.7777777777777778, \"#fb9f3a\"], [0.8888888888888888, \"#fdca26\"], [1.0, \"#f0f921\"]], \"type\": \"heatmapgl\"}], \"histogram\": [{\"marker\": {\"colorbar\": {\"outlinewidth\": 0, \"ticks\": \"\"}}, \"type\": \"histogram\"}], \"histogram2d\": [{\"colorbar\": {\"outlinewidth\": 0, \"ticks\": \"\"}, \"colorscale\": [[0.0, \"#0d0887\"], [0.1111111111111111, \"#46039f\"], [0.2222222222222222, \"#7201a8\"], [0.3333333333333333, \"#9c179e\"], [0.4444444444444444, \"#bd3786\"], [0.5555555555555556, \"#d8576b\"], [0.6666666666666666, \"#ed7953\"], [0.7777777777777778, \"#fb9f3a\"], [0.8888888888888888, \"#fdca26\"], [1.0, \"#f0f921\"]], \"type\": \"histogram2d\"}], \"histogram2dcontour\": [{\"colorbar\": {\"outlinewidth\": 0, \"ticks\": \"\"}, \"colorscale\": [[0.0, \"#0d0887\"], [0.1111111111111111, \"#46039f\"], [0.2222222222222222, \"#7201a8\"], [0.3333333333333333, \"#9c179e\"], [0.4444444444444444, \"#bd3786\"], [0.5555555555555556, \"#d8576b\"], [0.6666666666666666, \"#ed7953\"], [0.7777777777777778, \"#fb9f3a\"], [0.8888888888888888, \"#fdca26\"], [1.0, \"#f0f921\"]], \"type\": \"histogram2dcontour\"}], \"mesh3d\": [{\"colorbar\": {\"outlinewidth\": 0, \"ticks\": \"\"}, \"type\": \"mesh3d\"}], \"parcoords\": [{\"line\": {\"colorbar\": {\"outlinewidth\": 0, \"ticks\": \"\"}}, \"type\": \"parcoords\"}], \"pie\": [{\"automargin\": true, \"type\": \"pie\"}], \"scatter\": [{\"marker\": {\"colorbar\": {\"outlinewidth\": 0, \"ticks\": \"\"}}, \"type\": \"scatter\"}], \"scatter3d\": [{\"line\": {\"colorbar\": {\"outlinewidth\": 0, \"ticks\": \"\"}}, \"marker\": {\"colorbar\": {\"outlinewidth\": 0, \"ticks\": \"\"}}, \"type\": \"scatter3d\"}], \"scattercarpet\": [{\"marker\": {\"colorbar\": {\"outlinewidth\": 0, \"ticks\": \"\"}}, \"type\": \"scattercarpet\"}], \"scattergeo\": [{\"marker\": {\"colorbar\": {\"outlinewidth\": 0, \"ticks\": \"\"}}, \"type\": \"scattergeo\"}], \"scattergl\": [{\"marker\": {\"colorbar\": {\"outlinewidth\": 0, \"ticks\": \"\"}}, \"type\": \"scattergl\"}], \"scattermapbox\": [{\"marker\": {\"colorbar\": {\"outlinewidth\": 0, \"ticks\": \"\"}}, \"type\": \"scattermapbox\"}], \"scatterpolar\": [{\"marker\": {\"colorbar\": {\"outlinewidth\": 0, \"ticks\": \"\"}}, \"type\": \"scatterpolar\"}], \"scatterpolargl\": [{\"marker\": {\"colorbar\": {\"outlinewidth\": 0, \"ticks\": \"\"}}, \"type\": \"scatterpolargl\"}], \"scatterternary\": [{\"marker\": {\"colorbar\": {\"outlinewidth\": 0, \"ticks\": \"\"}}, \"type\": \"scatterternary\"}], \"surface\": [{\"colorbar\": {\"outlinewidth\": 0, \"ticks\": \"\"}, \"colorscale\": [[0.0, \"#0d0887\"], [0.1111111111111111, \"#46039f\"], [0.2222222222222222, \"#7201a8\"], [0.3333333333333333, \"#9c179e\"], [0.4444444444444444, \"#bd3786\"], [0.5555555555555556, \"#d8576b\"], [0.6666666666666666, \"#ed7953\"], [0.7777777777777778, \"#fb9f3a\"], [0.8888888888888888, \"#fdca26\"], [1.0, \"#f0f921\"]], \"type\": \"surface\"}], \"table\": [{\"cells\": {\"fill\": {\"color\": \"#EBF0F8\"}, \"line\": {\"color\": \"white\"}}, \"header\": {\"fill\": {\"color\": \"#C8D4E3\"}, \"line\": {\"color\": \"white\"}}, \"type\": \"table\"}]}, \"layout\": {\"annotationdefaults\": {\"arrowcolor\": \"#2a3f5f\", \"arrowhead\": 0, \"arrowwidth\": 1}, \"coloraxis\": {\"colorbar\": {\"outlinewidth\": 0, \"ticks\": \"\"}}, \"colorscale\": {\"diverging\": [[0, \"#8e0152\"], [0.1, \"#c51b7d\"], [0.2, \"#de77ae\"], [0.3, \"#f1b6da\"], [0.4, \"#fde0ef\"], [0.5, \"#f7f7f7\"], [0.6, \"#e6f5d0\"], [0.7, \"#b8e186\"], [0.8, \"#7fbc41\"], [0.9, \"#4d9221\"], [1, \"#276419\"]], \"sequential\": [[0.0, \"#0d0887\"], [0.1111111111111111, \"#46039f\"], [0.2222222222222222, \"#7201a8\"], [0.3333333333333333, \"#9c179e\"], [0.4444444444444444, \"#bd3786\"], [0.5555555555555556, \"#d8576b\"], [0.6666666666666666, \"#ed7953\"], [0.7777777777777778, \"#fb9f3a\"], [0.8888888888888888, \"#fdca26\"], [1.0, \"#f0f921\"]], \"sequentialminus\": [[0.0, \"#0d0887\"], [0.1111111111111111, \"#46039f\"], [0.2222222222222222, \"#7201a8\"], [0.3333333333333333, \"#9c179e\"], [0.4444444444444444, \"#bd3786\"], [0.5555555555555556, \"#d8576b\"], [0.6666666666666666, \"#ed7953\"], [0.7777777777777778, \"#fb9f3a\"], [0.8888888888888888, \"#fdca26\"], [1.0, \"#f0f921\"]]}, \"colorway\": [\"#636efa\", \"#EF553B\", \"#00cc96\", \"#ab63fa\", \"#FFA15A\", \"#19d3f3\", \"#FF6692\", \"#B6E880\", \"#FF97FF\", \"#FECB52\"], \"font\": {\"color\": \"#2a3f5f\"}, \"geo\": {\"bgcolor\": \"white\", \"lakecolor\": \"white\", \"landcolor\": \"#E5ECF6\", \"showlakes\": true, \"showland\": true, \"subunitcolor\": \"white\"}, \"hoverlabel\": {\"align\": \"left\"}, \"hovermode\": \"closest\", \"mapbox\": {\"style\": \"light\"}, \"paper_bgcolor\": \"white\", \"plot_bgcolor\": \"#E5ECF6\", \"polar\": {\"angularaxis\": {\"gridcolor\": \"white\", \"linecolor\": \"white\", \"ticks\": \"\"}, \"bgcolor\": \"#E5ECF6\", \"radialaxis\": {\"gridcolor\": \"white\", \"linecolor\": \"white\", \"ticks\": \"\"}}, \"scene\": {\"xaxis\": {\"backgroundcolor\": \"#E5ECF6\", \"gridcolor\": \"white\", \"gridwidth\": 2, \"linecolor\": \"white\", \"showbackground\": true, \"ticks\": \"\", \"zerolinecolor\": \"white\"}, \"yaxis\": {\"backgroundcolor\": \"#E5ECF6\", \"gridcolor\": \"white\", \"gridwidth\": 2, \"linecolor\": \"white\", \"showbackground\": true, \"ticks\": \"\", \"zerolinecolor\": \"white\"}, \"zaxis\": {\"backgroundcolor\": \"#E5ECF6\", \"gridcolor\": \"white\", \"gridwidth\": 2, \"linecolor\": \"white\", \"showbackground\": true, \"ticks\": \"\", \"zerolinecolor\": \"white\"}}, \"shapedefaults\": {\"line\": {\"color\": \"#2a3f5f\"}}, \"ternary\": {\"aaxis\": {\"gridcolor\": \"white\", \"linecolor\": \"white\", \"ticks\": \"\"}, \"baxis\": {\"gridcolor\": \"white\", \"linecolor\": \"white\", \"ticks\": \"\"}, \"bgcolor\": \"#E5ECF6\", \"caxis\": {\"gridcolor\": \"white\", \"linecolor\": \"white\", \"ticks\": \"\"}}, \"title\": {\"x\": 0.05}, \"xaxis\": {\"automargin\": true, \"gridcolor\": \"white\", \"linecolor\": \"white\", \"ticks\": \"\", \"title\": {\"standoff\": 15}, \"zerolinecolor\": \"white\", \"zerolinewidth\": 2}, \"yaxis\": {\"automargin\": true, \"gridcolor\": \"white\", \"linecolor\": \"white\", \"ticks\": \"\", \"title\": {\"standoff\": 15}, \"zerolinecolor\": \"white\", \"zerolinewidth\": 2}}}, \"title\": {\"text\": \"Last Contact Month of Year \"}},\n",
       "                        {\"responsive\": true}\n",
       "                    ).then(function(){\n",
       "                            \n",
       "var gd = document.getElementById('2b6ee937-cd5b-45bc-a942-3042c95fe854');\n",
       "var x = new MutationObserver(function (mutations, observer) {{\n",
       "        var display = window.getComputedStyle(gd).display;\n",
       "        if (!display || display === 'none') {{\n",
       "            console.log([gd, 'removed!']);\n",
       "            Plotly.purge(gd);\n",
       "            observer.disconnect();\n",
       "        }}\n",
       "}});\n",
       "\n",
       "// Listen for the removal of the full notebook cells\n",
       "var notebookContainer = gd.closest('#notebook-container');\n",
       "if (notebookContainer) {{\n",
       "    x.observe(notebookContainer, {childList: true});\n",
       "}}\n",
       "\n",
       "// Listen for the clearing of the current output cell\n",
       "var outputEl = gd.closest('.output');\n",
       "if (outputEl) {{\n",
       "    x.observe(outputEl, {childList: true});\n",
       "}}\n",
       "\n",
       "                        })\n",
       "                };\n",
       "                });\n",
       "            </script>\n",
       "        </div>"
      ]
     },
     "metadata": {},
     "output_type": "display_data"
    }
   ],
   "source": [
    "data = [go.Bar(\n",
    "    x=df.month.value_counts().index.tolist(),\n",
    "    y=df.month.value_counts().tolist(),\n",
    "    text=df.month.value_counts().tolist(),\n",
    "    textposition='auto'\n",
    ")]\n",
    "layout = go.Layout(\n",
    "    title='Last Contact Month of Year '\n",
    ")\n",
    "fig = go.Figure(data=data, layout=layout)\n",
    "iplot(fig)"
   ]
  },
  {
   "cell_type": "code",
   "execution_count": 22,
   "metadata": {},
   "outputs": [
    {
     "data": {
      "application/vnd.plotly.v1+json": {
       "config": {
        "linkText": "Export to plot.ly",
        "plotlyServerURL": "https://plot.ly",
        "showLink": false
       },
       "data": [
        {
         "text": [
          92.75999999999999,
          7.24
         ],
         "textposition": "auto",
         "type": "bar",
         "x": [
          "no",
          "yes"
         ],
         "y": [
          37104,
          2896
         ]
        }
       ],
       "layout": {
        "template": {
         "data": {
          "bar": [
           {
            "error_x": {
             "color": "#2a3f5f"
            },
            "error_y": {
             "color": "#2a3f5f"
            },
            "marker": {
             "line": {
              "color": "#E5ECF6",
              "width": 0.5
             }
            },
            "type": "bar"
           }
          ],
          "barpolar": [
           {
            "marker": {
             "line": {
              "color": "#E5ECF6",
              "width": 0.5
             }
            },
            "type": "barpolar"
           }
          ],
          "carpet": [
           {
            "aaxis": {
             "endlinecolor": "#2a3f5f",
             "gridcolor": "white",
             "linecolor": "white",
             "minorgridcolor": "white",
             "startlinecolor": "#2a3f5f"
            },
            "baxis": {
             "endlinecolor": "#2a3f5f",
             "gridcolor": "white",
             "linecolor": "white",
             "minorgridcolor": "white",
             "startlinecolor": "#2a3f5f"
            },
            "type": "carpet"
           }
          ],
          "choropleth": [
           {
            "colorbar": {
             "outlinewidth": 0,
             "ticks": ""
            },
            "type": "choropleth"
           }
          ],
          "contour": [
           {
            "colorbar": {
             "outlinewidth": 0,
             "ticks": ""
            },
            "colorscale": [
             [
              0,
              "#0d0887"
             ],
             [
              0.1111111111111111,
              "#46039f"
             ],
             [
              0.2222222222222222,
              "#7201a8"
             ],
             [
              0.3333333333333333,
              "#9c179e"
             ],
             [
              0.4444444444444444,
              "#bd3786"
             ],
             [
              0.5555555555555556,
              "#d8576b"
             ],
             [
              0.6666666666666666,
              "#ed7953"
             ],
             [
              0.7777777777777778,
              "#fb9f3a"
             ],
             [
              0.8888888888888888,
              "#fdca26"
             ],
             [
              1,
              "#f0f921"
             ]
            ],
            "type": "contour"
           }
          ],
          "contourcarpet": [
           {
            "colorbar": {
             "outlinewidth": 0,
             "ticks": ""
            },
            "type": "contourcarpet"
           }
          ],
          "heatmap": [
           {
            "colorbar": {
             "outlinewidth": 0,
             "ticks": ""
            },
            "colorscale": [
             [
              0,
              "#0d0887"
             ],
             [
              0.1111111111111111,
              "#46039f"
             ],
             [
              0.2222222222222222,
              "#7201a8"
             ],
             [
              0.3333333333333333,
              "#9c179e"
             ],
             [
              0.4444444444444444,
              "#bd3786"
             ],
             [
              0.5555555555555556,
              "#d8576b"
             ],
             [
              0.6666666666666666,
              "#ed7953"
             ],
             [
              0.7777777777777778,
              "#fb9f3a"
             ],
             [
              0.8888888888888888,
              "#fdca26"
             ],
             [
              1,
              "#f0f921"
             ]
            ],
            "type": "heatmap"
           }
          ],
          "heatmapgl": [
           {
            "colorbar": {
             "outlinewidth": 0,
             "ticks": ""
            },
            "colorscale": [
             [
              0,
              "#0d0887"
             ],
             [
              0.1111111111111111,
              "#46039f"
             ],
             [
              0.2222222222222222,
              "#7201a8"
             ],
             [
              0.3333333333333333,
              "#9c179e"
             ],
             [
              0.4444444444444444,
              "#bd3786"
             ],
             [
              0.5555555555555556,
              "#d8576b"
             ],
             [
              0.6666666666666666,
              "#ed7953"
             ],
             [
              0.7777777777777778,
              "#fb9f3a"
             ],
             [
              0.8888888888888888,
              "#fdca26"
             ],
             [
              1,
              "#f0f921"
             ]
            ],
            "type": "heatmapgl"
           }
          ],
          "histogram": [
           {
            "marker": {
             "colorbar": {
              "outlinewidth": 0,
              "ticks": ""
             }
            },
            "type": "histogram"
           }
          ],
          "histogram2d": [
           {
            "colorbar": {
             "outlinewidth": 0,
             "ticks": ""
            },
            "colorscale": [
             [
              0,
              "#0d0887"
             ],
             [
              0.1111111111111111,
              "#46039f"
             ],
             [
              0.2222222222222222,
              "#7201a8"
             ],
             [
              0.3333333333333333,
              "#9c179e"
             ],
             [
              0.4444444444444444,
              "#bd3786"
             ],
             [
              0.5555555555555556,
              "#d8576b"
             ],
             [
              0.6666666666666666,
              "#ed7953"
             ],
             [
              0.7777777777777778,
              "#fb9f3a"
             ],
             [
              0.8888888888888888,
              "#fdca26"
             ],
             [
              1,
              "#f0f921"
             ]
            ],
            "type": "histogram2d"
           }
          ],
          "histogram2dcontour": [
           {
            "colorbar": {
             "outlinewidth": 0,
             "ticks": ""
            },
            "colorscale": [
             [
              0,
              "#0d0887"
             ],
             [
              0.1111111111111111,
              "#46039f"
             ],
             [
              0.2222222222222222,
              "#7201a8"
             ],
             [
              0.3333333333333333,
              "#9c179e"
             ],
             [
              0.4444444444444444,
              "#bd3786"
             ],
             [
              0.5555555555555556,
              "#d8576b"
             ],
             [
              0.6666666666666666,
              "#ed7953"
             ],
             [
              0.7777777777777778,
              "#fb9f3a"
             ],
             [
              0.8888888888888888,
              "#fdca26"
             ],
             [
              1,
              "#f0f921"
             ]
            ],
            "type": "histogram2dcontour"
           }
          ],
          "mesh3d": [
           {
            "colorbar": {
             "outlinewidth": 0,
             "ticks": ""
            },
            "type": "mesh3d"
           }
          ],
          "parcoords": [
           {
            "line": {
             "colorbar": {
              "outlinewidth": 0,
              "ticks": ""
             }
            },
            "type": "parcoords"
           }
          ],
          "pie": [
           {
            "automargin": true,
            "type": "pie"
           }
          ],
          "scatter": [
           {
            "marker": {
             "colorbar": {
              "outlinewidth": 0,
              "ticks": ""
             }
            },
            "type": "scatter"
           }
          ],
          "scatter3d": [
           {
            "line": {
             "colorbar": {
              "outlinewidth": 0,
              "ticks": ""
             }
            },
            "marker": {
             "colorbar": {
              "outlinewidth": 0,
              "ticks": ""
             }
            },
            "type": "scatter3d"
           }
          ],
          "scattercarpet": [
           {
            "marker": {
             "colorbar": {
              "outlinewidth": 0,
              "ticks": ""
             }
            },
            "type": "scattercarpet"
           }
          ],
          "scattergeo": [
           {
            "marker": {
             "colorbar": {
              "outlinewidth": 0,
              "ticks": ""
             }
            },
            "type": "scattergeo"
           }
          ],
          "scattergl": [
           {
            "marker": {
             "colorbar": {
              "outlinewidth": 0,
              "ticks": ""
             }
            },
            "type": "scattergl"
           }
          ],
          "scattermapbox": [
           {
            "marker": {
             "colorbar": {
              "outlinewidth": 0,
              "ticks": ""
             }
            },
            "type": "scattermapbox"
           }
          ],
          "scatterpolar": [
           {
            "marker": {
             "colorbar": {
              "outlinewidth": 0,
              "ticks": ""
             }
            },
            "type": "scatterpolar"
           }
          ],
          "scatterpolargl": [
           {
            "marker": {
             "colorbar": {
              "outlinewidth": 0,
              "ticks": ""
             }
            },
            "type": "scatterpolargl"
           }
          ],
          "scatterternary": [
           {
            "marker": {
             "colorbar": {
              "outlinewidth": 0,
              "ticks": ""
             }
            },
            "type": "scatterternary"
           }
          ],
          "surface": [
           {
            "colorbar": {
             "outlinewidth": 0,
             "ticks": ""
            },
            "colorscale": [
             [
              0,
              "#0d0887"
             ],
             [
              0.1111111111111111,
              "#46039f"
             ],
             [
              0.2222222222222222,
              "#7201a8"
             ],
             [
              0.3333333333333333,
              "#9c179e"
             ],
             [
              0.4444444444444444,
              "#bd3786"
             ],
             [
              0.5555555555555556,
              "#d8576b"
             ],
             [
              0.6666666666666666,
              "#ed7953"
             ],
             [
              0.7777777777777778,
              "#fb9f3a"
             ],
             [
              0.8888888888888888,
              "#fdca26"
             ],
             [
              1,
              "#f0f921"
             ]
            ],
            "type": "surface"
           }
          ],
          "table": [
           {
            "cells": {
             "fill": {
              "color": "#EBF0F8"
             },
             "line": {
              "color": "white"
             }
            },
            "header": {
             "fill": {
              "color": "#C8D4E3"
             },
             "line": {
              "color": "white"
             }
            },
            "type": "table"
           }
          ]
         },
         "layout": {
          "annotationdefaults": {
           "arrowcolor": "#2a3f5f",
           "arrowhead": 0,
           "arrowwidth": 1
          },
          "coloraxis": {
           "colorbar": {
            "outlinewidth": 0,
            "ticks": ""
           }
          },
          "colorscale": {
           "diverging": [
            [
             0,
             "#8e0152"
            ],
            [
             0.1,
             "#c51b7d"
            ],
            [
             0.2,
             "#de77ae"
            ],
            [
             0.3,
             "#f1b6da"
            ],
            [
             0.4,
             "#fde0ef"
            ],
            [
             0.5,
             "#f7f7f7"
            ],
            [
             0.6,
             "#e6f5d0"
            ],
            [
             0.7,
             "#b8e186"
            ],
            [
             0.8,
             "#7fbc41"
            ],
            [
             0.9,
             "#4d9221"
            ],
            [
             1,
             "#276419"
            ]
           ],
           "sequential": [
            [
             0,
             "#0d0887"
            ],
            [
             0.1111111111111111,
             "#46039f"
            ],
            [
             0.2222222222222222,
             "#7201a8"
            ],
            [
             0.3333333333333333,
             "#9c179e"
            ],
            [
             0.4444444444444444,
             "#bd3786"
            ],
            [
             0.5555555555555556,
             "#d8576b"
            ],
            [
             0.6666666666666666,
             "#ed7953"
            ],
            [
             0.7777777777777778,
             "#fb9f3a"
            ],
            [
             0.8888888888888888,
             "#fdca26"
            ],
            [
             1,
             "#f0f921"
            ]
           ],
           "sequentialminus": [
            [
             0,
             "#0d0887"
            ],
            [
             0.1111111111111111,
             "#46039f"
            ],
            [
             0.2222222222222222,
             "#7201a8"
            ],
            [
             0.3333333333333333,
             "#9c179e"
            ],
            [
             0.4444444444444444,
             "#bd3786"
            ],
            [
             0.5555555555555556,
             "#d8576b"
            ],
            [
             0.6666666666666666,
             "#ed7953"
            ],
            [
             0.7777777777777778,
             "#fb9f3a"
            ],
            [
             0.8888888888888888,
             "#fdca26"
            ],
            [
             1,
             "#f0f921"
            ]
           ]
          },
          "colorway": [
           "#636efa",
           "#EF553B",
           "#00cc96",
           "#ab63fa",
           "#FFA15A",
           "#19d3f3",
           "#FF6692",
           "#B6E880",
           "#FF97FF",
           "#FECB52"
          ],
          "font": {
           "color": "#2a3f5f"
          },
          "geo": {
           "bgcolor": "white",
           "lakecolor": "white",
           "landcolor": "#E5ECF6",
           "showlakes": true,
           "showland": true,
           "subunitcolor": "white"
          },
          "hoverlabel": {
           "align": "left"
          },
          "hovermode": "closest",
          "mapbox": {
           "style": "light"
          },
          "paper_bgcolor": "white",
          "plot_bgcolor": "#E5ECF6",
          "polar": {
           "angularaxis": {
            "gridcolor": "white",
            "linecolor": "white",
            "ticks": ""
           },
           "bgcolor": "#E5ECF6",
           "radialaxis": {
            "gridcolor": "white",
            "linecolor": "white",
            "ticks": ""
           }
          },
          "scene": {
           "xaxis": {
            "backgroundcolor": "#E5ECF6",
            "gridcolor": "white",
            "gridwidth": 2,
            "linecolor": "white",
            "showbackground": true,
            "ticks": "",
            "zerolinecolor": "white"
           },
           "yaxis": {
            "backgroundcolor": "#E5ECF6",
            "gridcolor": "white",
            "gridwidth": 2,
            "linecolor": "white",
            "showbackground": true,
            "ticks": "",
            "zerolinecolor": "white"
           },
           "zaxis": {
            "backgroundcolor": "#E5ECF6",
            "gridcolor": "white",
            "gridwidth": 2,
            "linecolor": "white",
            "showbackground": true,
            "ticks": "",
            "zerolinecolor": "white"
           }
          },
          "shapedefaults": {
           "line": {
            "color": "#2a3f5f"
           }
          },
          "ternary": {
           "aaxis": {
            "gridcolor": "white",
            "linecolor": "white",
            "ticks": ""
           },
           "baxis": {
            "gridcolor": "white",
            "linecolor": "white",
            "ticks": ""
           },
           "bgcolor": "#E5ECF6",
           "caxis": {
            "gridcolor": "white",
            "linecolor": "white",
            "ticks": ""
           }
          },
          "title": {
           "x": 0.05
          },
          "xaxis": {
           "automargin": true,
           "gridcolor": "white",
           "linecolor": "white",
           "ticks": "",
           "title": {
            "standoff": 15
           },
           "zerolinecolor": "white",
           "zerolinewidth": 2
          },
          "yaxis": {
           "automargin": true,
           "gridcolor": "white",
           "linecolor": "white",
           "ticks": "",
           "title": {
            "standoff": 15
           },
           "zerolinecolor": "white",
           "zerolinewidth": 2
          }
         }
        },
        "title": {
         "text": "Has The Client Subscribed to a Term Deposit?"
        }
       }
      },
      "text/html": [
       "<div>\n",
       "        \n",
       "        \n",
       "            <div id=\"444be6f1-b810-4660-bb5b-3102b9ae42be\" class=\"plotly-graph-div\" style=\"height:525px; width:100%;\"></div>\n",
       "            <script type=\"text/javascript\">\n",
       "                require([\"plotly\"], function(Plotly) {\n",
       "                    window.PLOTLYENV=window.PLOTLYENV || {};\n",
       "                    \n",
       "                if (document.getElementById(\"444be6f1-b810-4660-bb5b-3102b9ae42be\")) {\n",
       "                    Plotly.newPlot(\n",
       "                        '444be6f1-b810-4660-bb5b-3102b9ae42be',\n",
       "                        [{\"text\": [92.75999999999999, 7.24], \"textposition\": \"auto\", \"type\": \"bar\", \"x\": [\"no\", \"yes\"], \"y\": [37104, 2896]}],\n",
       "                        {\"template\": {\"data\": {\"bar\": [{\"error_x\": {\"color\": \"#2a3f5f\"}, \"error_y\": {\"color\": \"#2a3f5f\"}, \"marker\": {\"line\": {\"color\": \"#E5ECF6\", \"width\": 0.5}}, \"type\": \"bar\"}], \"barpolar\": [{\"marker\": {\"line\": {\"color\": \"#E5ECF6\", \"width\": 0.5}}, \"type\": \"barpolar\"}], \"carpet\": [{\"aaxis\": {\"endlinecolor\": \"#2a3f5f\", \"gridcolor\": \"white\", \"linecolor\": \"white\", \"minorgridcolor\": \"white\", \"startlinecolor\": \"#2a3f5f\"}, \"baxis\": {\"endlinecolor\": \"#2a3f5f\", \"gridcolor\": \"white\", \"linecolor\": \"white\", \"minorgridcolor\": \"white\", \"startlinecolor\": \"#2a3f5f\"}, \"type\": \"carpet\"}], \"choropleth\": [{\"colorbar\": {\"outlinewidth\": 0, \"ticks\": \"\"}, \"type\": \"choropleth\"}], \"contour\": [{\"colorbar\": {\"outlinewidth\": 0, \"ticks\": \"\"}, \"colorscale\": [[0.0, \"#0d0887\"], [0.1111111111111111, \"#46039f\"], [0.2222222222222222, \"#7201a8\"], [0.3333333333333333, \"#9c179e\"], [0.4444444444444444, \"#bd3786\"], [0.5555555555555556, \"#d8576b\"], [0.6666666666666666, \"#ed7953\"], [0.7777777777777778, \"#fb9f3a\"], [0.8888888888888888, \"#fdca26\"], [1.0, \"#f0f921\"]], \"type\": \"contour\"}], \"contourcarpet\": [{\"colorbar\": {\"outlinewidth\": 0, \"ticks\": \"\"}, \"type\": \"contourcarpet\"}], \"heatmap\": [{\"colorbar\": {\"outlinewidth\": 0, \"ticks\": \"\"}, \"colorscale\": [[0.0, \"#0d0887\"], [0.1111111111111111, \"#46039f\"], [0.2222222222222222, \"#7201a8\"], [0.3333333333333333, \"#9c179e\"], [0.4444444444444444, \"#bd3786\"], [0.5555555555555556, \"#d8576b\"], [0.6666666666666666, \"#ed7953\"], [0.7777777777777778, \"#fb9f3a\"], [0.8888888888888888, \"#fdca26\"], [1.0, \"#f0f921\"]], \"type\": \"heatmap\"}], \"heatmapgl\": [{\"colorbar\": {\"outlinewidth\": 0, \"ticks\": \"\"}, \"colorscale\": [[0.0, \"#0d0887\"], [0.1111111111111111, \"#46039f\"], [0.2222222222222222, \"#7201a8\"], [0.3333333333333333, \"#9c179e\"], [0.4444444444444444, \"#bd3786\"], [0.5555555555555556, \"#d8576b\"], [0.6666666666666666, \"#ed7953\"], [0.7777777777777778, \"#fb9f3a\"], [0.8888888888888888, \"#fdca26\"], [1.0, \"#f0f921\"]], \"type\": \"heatmapgl\"}], \"histogram\": [{\"marker\": {\"colorbar\": {\"outlinewidth\": 0, \"ticks\": \"\"}}, \"type\": \"histogram\"}], \"histogram2d\": [{\"colorbar\": {\"outlinewidth\": 0, \"ticks\": \"\"}, \"colorscale\": [[0.0, \"#0d0887\"], [0.1111111111111111, \"#46039f\"], [0.2222222222222222, \"#7201a8\"], [0.3333333333333333, \"#9c179e\"], [0.4444444444444444, \"#bd3786\"], [0.5555555555555556, \"#d8576b\"], [0.6666666666666666, \"#ed7953\"], [0.7777777777777778, \"#fb9f3a\"], [0.8888888888888888, \"#fdca26\"], [1.0, \"#f0f921\"]], \"type\": \"histogram2d\"}], \"histogram2dcontour\": [{\"colorbar\": {\"outlinewidth\": 0, \"ticks\": \"\"}, \"colorscale\": [[0.0, \"#0d0887\"], [0.1111111111111111, \"#46039f\"], [0.2222222222222222, \"#7201a8\"], [0.3333333333333333, \"#9c179e\"], [0.4444444444444444, \"#bd3786\"], [0.5555555555555556, \"#d8576b\"], [0.6666666666666666, \"#ed7953\"], [0.7777777777777778, \"#fb9f3a\"], [0.8888888888888888, \"#fdca26\"], [1.0, \"#f0f921\"]], \"type\": \"histogram2dcontour\"}], \"mesh3d\": [{\"colorbar\": {\"outlinewidth\": 0, \"ticks\": \"\"}, \"type\": \"mesh3d\"}], \"parcoords\": [{\"line\": {\"colorbar\": {\"outlinewidth\": 0, \"ticks\": \"\"}}, \"type\": \"parcoords\"}], \"pie\": [{\"automargin\": true, \"type\": \"pie\"}], \"scatter\": [{\"marker\": {\"colorbar\": {\"outlinewidth\": 0, \"ticks\": \"\"}}, \"type\": \"scatter\"}], \"scatter3d\": [{\"line\": {\"colorbar\": {\"outlinewidth\": 0, \"ticks\": \"\"}}, \"marker\": {\"colorbar\": {\"outlinewidth\": 0, \"ticks\": \"\"}}, \"type\": \"scatter3d\"}], \"scattercarpet\": [{\"marker\": {\"colorbar\": {\"outlinewidth\": 0, \"ticks\": \"\"}}, \"type\": \"scattercarpet\"}], \"scattergeo\": [{\"marker\": {\"colorbar\": {\"outlinewidth\": 0, \"ticks\": \"\"}}, \"type\": \"scattergeo\"}], \"scattergl\": [{\"marker\": {\"colorbar\": {\"outlinewidth\": 0, \"ticks\": \"\"}}, \"type\": \"scattergl\"}], \"scattermapbox\": [{\"marker\": {\"colorbar\": {\"outlinewidth\": 0, \"ticks\": \"\"}}, \"type\": \"scattermapbox\"}], \"scatterpolar\": [{\"marker\": {\"colorbar\": {\"outlinewidth\": 0, \"ticks\": \"\"}}, \"type\": \"scatterpolar\"}], \"scatterpolargl\": [{\"marker\": {\"colorbar\": {\"outlinewidth\": 0, \"ticks\": \"\"}}, \"type\": \"scatterpolargl\"}], \"scatterternary\": [{\"marker\": {\"colorbar\": {\"outlinewidth\": 0, \"ticks\": \"\"}}, \"type\": \"scatterternary\"}], \"surface\": [{\"colorbar\": {\"outlinewidth\": 0, \"ticks\": \"\"}, \"colorscale\": [[0.0, \"#0d0887\"], [0.1111111111111111, \"#46039f\"], [0.2222222222222222, \"#7201a8\"], [0.3333333333333333, \"#9c179e\"], [0.4444444444444444, \"#bd3786\"], [0.5555555555555556, \"#d8576b\"], [0.6666666666666666, \"#ed7953\"], [0.7777777777777778, \"#fb9f3a\"], [0.8888888888888888, \"#fdca26\"], [1.0, \"#f0f921\"]], \"type\": \"surface\"}], \"table\": [{\"cells\": {\"fill\": {\"color\": \"#EBF0F8\"}, \"line\": {\"color\": \"white\"}}, \"header\": {\"fill\": {\"color\": \"#C8D4E3\"}, \"line\": {\"color\": \"white\"}}, \"type\": \"table\"}]}, \"layout\": {\"annotationdefaults\": {\"arrowcolor\": \"#2a3f5f\", \"arrowhead\": 0, \"arrowwidth\": 1}, \"coloraxis\": {\"colorbar\": {\"outlinewidth\": 0, \"ticks\": \"\"}}, \"colorscale\": {\"diverging\": [[0, \"#8e0152\"], [0.1, \"#c51b7d\"], [0.2, \"#de77ae\"], [0.3, \"#f1b6da\"], [0.4, \"#fde0ef\"], [0.5, \"#f7f7f7\"], [0.6, \"#e6f5d0\"], [0.7, \"#b8e186\"], [0.8, \"#7fbc41\"], [0.9, \"#4d9221\"], [1, \"#276419\"]], \"sequential\": [[0.0, \"#0d0887\"], [0.1111111111111111, \"#46039f\"], [0.2222222222222222, \"#7201a8\"], [0.3333333333333333, \"#9c179e\"], [0.4444444444444444, \"#bd3786\"], [0.5555555555555556, \"#d8576b\"], [0.6666666666666666, \"#ed7953\"], [0.7777777777777778, \"#fb9f3a\"], [0.8888888888888888, \"#fdca26\"], [1.0, \"#f0f921\"]], \"sequentialminus\": [[0.0, \"#0d0887\"], [0.1111111111111111, \"#46039f\"], [0.2222222222222222, \"#7201a8\"], [0.3333333333333333, \"#9c179e\"], [0.4444444444444444, \"#bd3786\"], [0.5555555555555556, \"#d8576b\"], [0.6666666666666666, \"#ed7953\"], [0.7777777777777778, \"#fb9f3a\"], [0.8888888888888888, \"#fdca26\"], [1.0, \"#f0f921\"]]}, \"colorway\": [\"#636efa\", \"#EF553B\", \"#00cc96\", \"#ab63fa\", \"#FFA15A\", \"#19d3f3\", \"#FF6692\", \"#B6E880\", \"#FF97FF\", \"#FECB52\"], \"font\": {\"color\": \"#2a3f5f\"}, \"geo\": {\"bgcolor\": \"white\", \"lakecolor\": \"white\", \"landcolor\": \"#E5ECF6\", \"showlakes\": true, \"showland\": true, \"subunitcolor\": \"white\"}, \"hoverlabel\": {\"align\": \"left\"}, \"hovermode\": \"closest\", \"mapbox\": {\"style\": \"light\"}, \"paper_bgcolor\": \"white\", \"plot_bgcolor\": \"#E5ECF6\", \"polar\": {\"angularaxis\": {\"gridcolor\": \"white\", \"linecolor\": \"white\", \"ticks\": \"\"}, \"bgcolor\": \"#E5ECF6\", \"radialaxis\": {\"gridcolor\": \"white\", \"linecolor\": \"white\", \"ticks\": \"\"}}, \"scene\": {\"xaxis\": {\"backgroundcolor\": \"#E5ECF6\", \"gridcolor\": \"white\", \"gridwidth\": 2, \"linecolor\": \"white\", \"showbackground\": true, \"ticks\": \"\", \"zerolinecolor\": \"white\"}, \"yaxis\": {\"backgroundcolor\": \"#E5ECF6\", \"gridcolor\": \"white\", \"gridwidth\": 2, \"linecolor\": \"white\", \"showbackground\": true, \"ticks\": \"\", \"zerolinecolor\": \"white\"}, \"zaxis\": {\"backgroundcolor\": \"#E5ECF6\", \"gridcolor\": \"white\", \"gridwidth\": 2, \"linecolor\": \"white\", \"showbackground\": true, \"ticks\": \"\", \"zerolinecolor\": \"white\"}}, \"shapedefaults\": {\"line\": {\"color\": \"#2a3f5f\"}}, \"ternary\": {\"aaxis\": {\"gridcolor\": \"white\", \"linecolor\": \"white\", \"ticks\": \"\"}, \"baxis\": {\"gridcolor\": \"white\", \"linecolor\": \"white\", \"ticks\": \"\"}, \"bgcolor\": \"#E5ECF6\", \"caxis\": {\"gridcolor\": \"white\", \"linecolor\": \"white\", \"ticks\": \"\"}}, \"title\": {\"x\": 0.05}, \"xaxis\": {\"automargin\": true, \"gridcolor\": \"white\", \"linecolor\": \"white\", \"ticks\": \"\", \"title\": {\"standoff\": 15}, \"zerolinecolor\": \"white\", \"zerolinewidth\": 2}, \"yaxis\": {\"automargin\": true, \"gridcolor\": \"white\", \"linecolor\": \"white\", \"ticks\": \"\", \"title\": {\"standoff\": 15}, \"zerolinecolor\": \"white\", \"zerolinewidth\": 2}}}, \"title\": {\"text\": \"Has The Client Subscribed to a Term Deposit?\"}},\n",
       "                        {\"responsive\": true}\n",
       "                    ).then(function(){\n",
       "                            \n",
       "var gd = document.getElementById('444be6f1-b810-4660-bb5b-3102b9ae42be');\n",
       "var x = new MutationObserver(function (mutations, observer) {{\n",
       "        var display = window.getComputedStyle(gd).display;\n",
       "        if (!display || display === 'none') {{\n",
       "            console.log([gd, 'removed!']);\n",
       "            Plotly.purge(gd);\n",
       "            observer.disconnect();\n",
       "        }}\n",
       "}});\n",
       "\n",
       "// Listen for the removal of the full notebook cells\n",
       "var notebookContainer = gd.closest('#notebook-container');\n",
       "if (notebookContainer) {{\n",
       "    x.observe(notebookContainer, {childList: true});\n",
       "}}\n",
       "\n",
       "// Listen for the clearing of the current output cell\n",
       "var outputEl = gd.closest('.output');\n",
       "if (outputEl) {{\n",
       "    x.observe(outputEl, {childList: true});\n",
       "}}\n",
       "\n",
       "                        })\n",
       "                };\n",
       "                });\n",
       "            </script>\n",
       "        </div>"
      ]
     },
     "metadata": {},
     "output_type": "display_data"
    }
   ],
   "source": [
    "data = [go.Bar(\n",
    "    x=df.y.value_counts().index.tolist(),\n",
    "    y=df.y.value_counts().tolist(),\n",
    "    text=df.y.value_counts(normalize=True)*100,\n",
    "    textposition='auto'\n",
    ")]\n",
    "layout = go.Layout(\n",
    "    title='Has The Client Subscribed to a Term Deposit?'\n",
    ")\n",
    "fig = go.Figure(data=data, layout=layout)\n",
    "iplot(fig)"
   ]
  },
  {
   "cell_type": "markdown",
   "metadata": {},
   "source": [
    "<a id=\"5\"></a>\n",
    "## Visualizing — Numeric Variables"
   ]
  },
  {
   "cell_type": "code",
   "execution_count": 17,
   "metadata": {},
   "outputs": [],
   "source": [
    "from scipy import stats\n",
    "from scipy.stats import norm, skew"
   ]
  },
  {
   "cell_type": "code",
   "execution_count": 18,
   "metadata": {},
   "outputs": [
    {
     "data": {
      "image/png": "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\n",
      "text/plain": [
       "<Figure size 1440x504 with 1 Axes>"
      ]
     },
     "metadata": {
      "needs_background": "light"
     },
     "output_type": "display_data"
    }
   ],
   "source": [
    "f,ax = plt.subplots(figsize = (20,7))\n",
    "sns.distplot(df.age, fit=norm);"
   ]
  },
  {
   "cell_type": "code",
   "execution_count": 19,
   "metadata": {},
   "outputs": [
    {
     "data": {
      "image/png": "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\n",
      "text/plain": [
       "<Figure size 1440x504 with 1 Axes>"
      ]
     },
     "metadata": {
      "needs_background": "light"
     },
     "output_type": "display_data"
    }
   ],
   "source": [
    "f,ax = plt.subplots(figsize = (20,7))\n",
    "sns.distplot(df.balance, fit=norm);"
   ]
  },
  {
   "cell_type": "code",
   "execution_count": 20,
   "metadata": {},
   "outputs": [
    {
     "data": {
      "image/png": "iVBORw0KGgoAAAANSUhEUgAABIEAAAGpCAYAAAAa8SY9AAAAOXRFWHRTb2Z0d2FyZQBNYXRwbG90bGliIHZlcnNpb24zLjMuMCwgaHR0cHM6Ly9tYXRwbG90bGliLm9yZy86wFpkAAAACXBIWXMAAAsTAAALEwEAmpwYAABBqklEQVR4nO3deXxcZd338e9vtuxJ0zZNoVsAWSxrIZRNbxGhLKIFvGUXbhH7lNWNR7gFF5DVRxAfAREKyCKLgCCPgC13FQVEaItsZbOUlpbSJt0yWSaTyeR6/phJGUraTpIzc6Yzn/frlVfOnDk55zczx0i+/V3XZc45AQAAAAAAoLgF/C4AAAAAAAAAuUcIBAAAAAAAUAIIgQAAAAAAAEoAIRAAAAAAAEAJIAQCAAAAAAAoASG/Ljx69GjX1NTk1+UBAAAAAACKzoIFC1Y75xoGes63EKipqUnz58/36/IAAAAAAABFx8yWbuo5hoMBAAAAAACUAEIgAAAAAACAEkAIBAAAAAAAUAIIgQAAAAAAAEoAIRAAAAAAAEAJIAQCAAAAAAAoAYRAAAAAAAAAJYAQCAAAAAAAoAQQAgEAAAAAAJQAQiAAAAAAAIASQAgEAAAAAABQAgiBAAAAAAAASgAhEAAAAAAAQAkgBAIAAAAAACgBhEAAAAAAAAAlgBAIAAAAAACgBIT8LgAfufeF9z0938n7TfT0fAAAAAAAYOtFJxAAAAAAAEAJIAQCAAAAAAAoAYRAAAAAAAAAJYAQCAAAAAAAoAQQAgEAAAAAAJQAQiAAAAAAAIASQAgEAAAAAABQAgiBAAAAAAAASgAhEAAAAAAAQAkgBAIAAAAAACgBhEAAAAAAAAAlIKsQyMyOMLO3zWyRmV00wPMHm1mbmb2c/vqR96UCAAAAAABgqEJbOsDMgpJulHSYpOWS5pnZY865NzY69Bnn3NE5qBEAAAAAAADDlE0n0FRJi5xzi51zPZLulzQ9t2UBAAAAAADAS9mEQOMkLct4vDy9b2MHmNkrZvakme060InMbIaZzTez+a2trUMoFwAAAAAAAEORTQhkA+xzGz1+SdIk59yekn4l6dGBTuScu8U51+yca25oaBhUoQAAAAAAABi6bEKg5ZImZDweL2lF5gHOuahzriO9/YSksJmN9qxKAAAAAAAADEs2IdA8STua2XZmFpF0oqTHMg8ws7FmZuntqenzrvG6WAAAAAAAAAzNFlcHc871mtm5kmZLCkq63Tm30Mxmpp+/WdJ/SjrLzHolxSSd6JzbeMgYAAAAAAAAfLLFEEjaMMTriY323ZyxfYOkG7wtDQAAAAAAAF7JZjgYAAAAAAAAtnKEQAAAAAAAACWAEAgAAAAAAKAEEAIBAAAAAACUAEIgAAAAAACAEkAIBAAAAAAAUAIIgQAAAAAAAEoAIRAAAAAAAEAJIAQCAAAAAAAoAYRAAAAAAAAAJYAQCAAAAAAAoAQQAgEAAAAAAJQAQiAAAAAAAIASQAgEAAAAAABQAgiBAAAAAAAASgAhEAAAAAAAQAkgBAIAAAAAACgBhEAAAAAAAAAlgBAIAAAAAACgBBACAQAAAAAAlABCIAAAAAAAgBJACAQAAAAAAFACCIEAAAAAAABKACEQAAAAAABACSAEAgAAAAAAKAGEQAAAAAAAACWAEAgAAAAAAKAEEAIBAAAAAACUAEIgAAAAAACAEkAIBAAAAAAAUAIIgQAAAAAAAEoAIRAAAAAAAEAJIAQCAAAAAAAoAYRAAAAAAAAAJYAQCAAAAAAAoAQQAgEAAAAAAJQAQiAAAAAAAIASQAgEAAAAAABQAgiBAAAAAAAASgAhEAAAAAAAQAkgBAIAAAAAACgBhEAAAAAAAAAlgBAIAAAAAACgBBACAQAAAAAAlABCIAAAAAAAgBJACAQAAAAAAFACCIEAAAAAAABKACEQAAAAAABACSAEAgAAAAAAKAGEQAAAAAAAACWAEAgAAAAAAKAEEAIBAAAAAACUAEIgAAAAAACAEkAIBAAAAAAAUAIIgQAAAAAAAEoAIRAAAAAAAEAJIAQCAAAAAAAoAYRAAAAAAAAAJYAQCAAAAAAAoAQQAgEAAAAAAJQAQiAAAAAAAIASkFUIZGZHmNnbZrbIzC7azHH7mlnSzP7TuxIBAAAAAAAwXFsMgcwsKOlGSUdKmizpJDObvInjrpE02+siAQAAAAAAMDzZdAJNlbTIObfYOdcj6X5J0wc47jxJD0tq8bA+AAAAAAAAeCCbEGicpGUZj5en921gZuMkHSvp5s2dyMxmmNl8M5vf2to62FoBAAAAAAAwRNmEQDbAPrfR4+slXeicS27uRM65W5xzzc655oaGhixLBAAAAAAAwHCFsjhmuaQJGY/HS1qx0THNku43M0kaLekoM+t1zj3qRZEAAAAAAAAYnmxCoHmSdjSz7SR9IOlESSdnHuCc265/28x+K+lPBEAAAAAAAACFY4shkHOu18zOVWrVr6Ck251zC81sZvr5zc4DBAAAAAAAAP9l0wkk59wTkp7YaN+A4Y9z7r+GXxYAAAAAAAC8lM3E0AAAAAAAANjKEQIBAAAAAACUAEIgAAAAAACAEkAIBAAAAAAAUAIIgQAAAAAAAEoAIRAAAAAAAEAJIAQCAAAAAAAoAYRABWZNR1y3PbtYsZ6k36UAAAAAAIAiQghUYJau6dK7rZ1aurbT71IAAAAAAEARIQQqMLFEqgNoVVu3z5UAAAAAAIBiQghUYDaEQO1xnysBAAAAAADFhBCowPTPBbSSTiAAAAAAAOAhQqAC098J1NoeV7LP+VwNAAAAAAAoFoRABaY7HQIlndPqDoaEAQAAAAAAbxACFZhYT1KVkaAkaVWUIWEAAAAAAMAbhEAFJpZIakJ9pQImrSQEAgAAAAAAHiEEKjCxRFI15SGNqi5jmXgAAAAAAOAZQqACE+tJqiIc1NjacpaJBwAAAAAAniEEKiCJZJ96+5wqIkE11pZpbWeP4r1Jv8sCAAAAAABFgBCogPQvD1+e7gSSpJYo3UAAAAAAAGD4CIEKSHdPKgRKdQKlQiBWCAMAAAAAAF4gBCog/Z1AFeGg6qsiCgeNFcIAAAAAAIAnCIEKSGYIFDBTY205IRAAAAAAAPAEIVABifV8FAJJUmNtOcvEAwAAAAAATxACFZANE0NHUiHQ2NpydfYk1RHv9bMsAAAAAABQBAiBCkjmcDBJGyaHXkk3EAAAAAAAGCZCoALS3ZNUJBRQMGCSpMbaMkmsEAYAAAAAAIaPEKiAxBLJDV1AklRTHlZVJEgIBAAAAAAAho0QqIDEEn0fC4EkqbGOFcIAAAAAAMDwEQIVkFhPUhWRjUKg2nK1ROPqc86nqgAAAAAAQDEgBCog3RsNB5NSK4T1JPu0vivhU1UAAAAAAKAYEAIVkFgiqfIBQiCJFcIAAAAAAMDwEAIVkFhPUhXhj38kY2pSK4QxLxAAAAAAABgOQqACkUj2qSfZ94k5gcrCQdVXhlkhDAAAAAAADAshUIFoi6Xm/Nl4TiApNSSMEAgAAAAAAAwHIVCB2BACRT4ZAjXWlWt1R1y9yb58lwUAAAAAAIoEIVCBiG6mE6ixtlx9TmrtiOe7LAAAAAAAUCQIgQrEloaDSWJIGAAAAAAAGDJCoALRHwKVDzAcbHR1mYJmWtlGJxAAAAAAABgaQqACsbnhYMGAqaGmjE4gAAAAAAAwZIRABWJzw8EkqbG2TCsJgQAAAAAAwBARAhWItlhC4aApFBz4IxlbW662WELdiWSeKwMAAAAAAMWAEKhAtMUSm+wCklIrhElMDg0AAAAAAIaGEKhARGO9Kt9cCFSXCoEYEgYAAAAAAIaCEKhAtMUSqhhgZbB+IyrCKgsF6AQCAAAAAABDQghUILY0HMzM1FhbzjLxAAAAAABgSAiBCsSWQiApNS/Qqmi3nHN5qgoAAAAAABQLQqACEY0lVL6Z4WCSNLa2TLFEUtHu3jxVBQAAAAAAigUhUAFI9jm1x3u33AlUxwphAAAAAABgaAiBCkA0lpCkLYZAY2sIgQAAAAAAwNAQAhWAtv4QaAvDwSrLQqopD2llGyEQAAAAAAAYHEKgAhDtzq4TSJLG1pZrVTshEAAAAAAAGBxCoALQluVwMCm1QlhLNK4+VggDAAAAAACDQAhUALIdDialQqDePqc1HT25LgsAAAAAABQRQqACMJhOoLG1TA4NAAAAAAAGjxCoAPSHQOVZhEBjastkklYSAgEAAAAAgEEgBCoAbbGEIsGAwkHb4rHhYEAjqyJ0AgEAAAAAgEEhBCoA0VhCtRVhmW05BJKksXXlLBMPAAAAAAAGhRCoAERjvaqrCGV9fGNtudZ29iiR7MthVQAAAAAAoJgQAhWAtlhCdRXhrI8fW1suJ6klGs9dUQAAAAAAoKhkFQKZ2RFm9raZLTKziwZ4frqZvWpmL5vZfDP7jPelFq/BhkCN6RXCmBwaAAAAAABka4shkJkFJd0o6UhJkyWdZGaTNzpsrqQ9nXN7STpD0iyP6yxqgw2BRlVHFAoYk0MDAAAAAICsZdMJNFXSIufcYudcj6T7JU3PPMA51+Gcc+mHVZKckLW29MTQ2QqYaUxtGSEQAAAAAADIWjYh0DhJyzIeL0/v+xgzO9bM3pL0uFLdQJ9gZjPSw8Xmt7a2DqXeotPX5xTtHlwnkCQ11pQzHAwAAAAAAGQtmxBooHXLP9Hp45x7xDm3i6RjJP10oBM5525xzjU755obGhoGVWixao/3yjkNOgQaW1eu9u5edcV7c1QZAAAAAAAoJtmEQMslTch4PF7Sik0d7Jz7u6QdzGz0MGsrCdFYQpIGNRxMypgcup1uIAAAAAAAsGXZhEDzJO1oZtuZWUTSiZIeyzzAzD5lZpbe3ltSRNIar4stRm3pEGjQw8HSIdAqlokHAAAAAABZCG3pAOdcr5mdK2m2pKCk251zC81sZvr5myV9RdJpZpaQFJN0QsZE0diMaEYItKajJ+ufqy0PKRIKqLWdEAgAAAAAAGzZFkMgSXLOPSHpiY323ZyxfY2ka7wtrTQMtRPIzNRQXabVHYRAAAAAAABgy7IZDoYcGmoIJEmjqyNaTScQAAAAAADIAiGQz9qGODG0JI2uKdP6WEI9vX1elwUAAAAAAIoMIZDP2mIJBQOmqkhw0D/bUF0mSVrTSTcQAAAAAADYPEIgn7XFEqqrCCu9uNqgjE6HQEwODQAAAAAAtoQQyGf9IdBQ9IdATA4NAAAAAAC2hBDIZ9Hu3iHNByRJkVBAIyrCWj2IpeUBAAAAAEBpIgTy2XA6gaTU5NAMBwMAAAAAAFtCCOSz6HBDoOoyre6IyznnYVUAAAAAAKDYEAL5LNUJFBryzzdURxTv7VN7vNfDqgAAAAAAQLEhBPKRc05tsYRqy4c3HEySVjMkDAAAAAAAbAYhkI86e5JK9rlhDQdr6F8mnhXCAAAAAADAZhAC+agtlpCkYYVAtRVhhYNGJxAAAAAAANgsQiAfRT0IgQJm6cmhWSYeAAAAAABsGiGQj7zoBJJSK4QxHAwAAAAAAGwOIZCP+kOgWg9CoHWdPepN9nlRFgAAAAAAKEKEQD7yqhOooSYiJ2lNJ0PCAAAAAADAwAiBfLRhTqDK4XcCSdJqhoQBAAAAAIBNIATyUVssITOpOhIa1nk2hECsEAYAAAAAADaBEMhHbbGEasvDCgRsWOcpDwdVUx5SKyuEAQAAAACATSAE8lFbLDHs+YD6pZaJpxMIAAAAAAAMjBDIR1EPQ6CG6jK1MhwMAAAAAABsAiGQjzztBKopUyyRVGe815PzAQAAAACA4kII5CMvQ6CG6ogkVggDAAAAAAADIwTyUVusV7UezgkkiSFhAAAAAABgQIRAPnHOeTonUH1VRMGA0QkEAAAAAAAGRAjkk+5En3qSfaqtCHlyvoCZRlVFWCYeAAAAAAAMiBDIJ22xhCR51gkkpZeJZzgYAAAAAAAYACGQT3IRAjXUlGltZ4+Sfc6zcwIAAAAAgOJACOSTaHduOoGSzmldF0PCAAAAAADAxxEC+aStKwedQP3LxDMkDAAAAAAAbIQQyCc5mROoJr1MPCuEAQAAAACAjRAC+SQXIVBlJKTKSJBl4gEAAAAAwCcQAvmkPwSqKfcuBJKkhuoytbYzJxAAAAAAAPg4QiCftMUSqikLKRgwT887uqaMTiAAAAAAAPAJhEA+icYSqvVwKFi/huoydcR71Z1Ien5uAAAAAACw9SIE8km0O+HpfED9RlenJ4dmhTAAAAAAAJCBEMgnbbEchUA16WXiGRIGAAAAAAAyEAL5JFch0MiqiAJGJxAAAAAAAPg4QiCf5CoECgUCqq+MqJVOIAAAAAAAkIEQyCdtsYTqKr0PgSSpgRXCAAAAAADARgiBfBDvTao70ZeTTiApNTn0mo4eJftcTs4PAAAAAAC2PoRAPmiLJSRJteWhnJy/obpMvX1OK9bHcnJ+AAAAAACw9SEE8kG0PwTKVSdQTWqZ+HdbO3JyfgAAAAAAsPUhBPJBW6xXknI4HCy1TPzi1s6cnB8AAAAAAGx9CIF80N8JlKsQqLospPJwQItX0wkEAAAAAABSCIF80JbjEMjMNLq6jE4gAAAAAACwASGQD3IdAkmpyaEJgQAAAAAAQD9CIB+05XhiaElqqCnTymi3OuO9ObsGAAAAAADYehAC+aAtllBVJKhwMHdv/+jq1Aph762mGwgAAAAAABAC+aItlshpF5DEMvEAAAAAAODjCIF8EI0lcjofkCSNqorIjGXiAQAAAABACiGQD/LRCRQOBjS+vkKLGQ4GAAAAAABECOSLtjx0AknS9qOrtZjhYAAAAAAAQIRAvsjHcDBJ2r6hSu+t7pRzLufXAgAAAAAAhY0QyAd56wRqqFZXT1Iro905vxYAAAAAAChshEB5lkj2qbMnmZcQaIfRVZKYHBoAAAAAABAC5V00lpCkvHUCSWJeIAAAAAAAQAiUb23pEKi2IpTzazXWlqkqEtS7dAIBAAAAAFDyCIHyLNrdKyk/nUBmpu0aqlgmHgAAAAAAEALlW1seh4NJLBMPAAAAAABSCIHyLO8hUEOVPlgfU3cimZfrAQAAAACAwpRVCGRmR5jZ22a2yMwuGuD5U8zs1fTXP8xsT+9LLQ4fzQmUrxCoWs5JS9YwJAwAAAAAgFK2xRDIzIKSbpR0pKTJkk4ys8kbHfaepM855/aQ9FNJt3hdaLHI5+pgkrQ9y8QDAAAAAABl1wk0VdIi59xi51yPpPslTc88wDn3D+fcuvTDf0oa722ZxaMtllB5OKCyUDAv19u+oT8EYl4gAAAAAABKWTYh0DhJyzIeL0/v25RvSHpyoCfMbIaZzTez+a2trdlXWUTauhJ56wKSpMpISNvUlbNMPAAAAAAAJS6bEMgG2OcGPNDs80qFQBcO9Lxz7hbnXLNzrrmhoSH7KotIWyyh2vL8hUCStNu4Ov3r/XVbPhAAAAAAABStbEKg5ZImZDweL2nFxgeZ2R6SZkma7pxb4015xSfand9OIEnat6leS9Z0qaW9O6/XBQAAAAAAhSObEGiepB3NbDszi0g6UdJjmQeY2URJf5D0NefcO96XWTzaYvkPgZqbRkqSFiyhGwgAAAAAgFK1xRDIOdcr6VxJsyW9Ken3zrmFZjbTzGamD/uRpFGSbjKzl81sfs4q3sr5EQLttm2dysMBzSMEAgAAAACgZIWyOcg594SkJzbad3PG9pmSzvS2tOLUFkuoNs8hUCQU0F4TRmj+0rV5vS4AAAAAACgc2QwHg0eSfU7t3b157wSSpH2bRmrhiqg64715vzYAAAAAAPAfIVAetXcnJMmXEKi5aaSSfU4vL1uf92sDAAAAAAD/EQLlUVvMvxBo74kjFDBp3hKGhAEAAAAAUIoIgfIoGksNxcr3nECSVFMe1i5jazWfyaEBAAAAAChJhEB55GcnkCTt21Svl95fp95kny/XBwAAAAAA/iEEyiO/Q6DmppHq6knqjQ+jvlwfAAAAAAD4hxAoj/wPgeolSfMYEgYAAAAAQMkhBMojv0OgbeoqNL6+QvOZHBoAAAAAgJJDCJRHbbGEIsGAysP+ve37No3UvCXr5JzzrQYAAAAAAJB/hEB51BZLqLYiLDPzrYbmpnqt7ohr6Zou32oAAAAAAAD5RwiUR9FYQnUVIV9rmNo0UpI0jyFhAAAAAACUFEKgPIp2pzqB/LRDQ7VGVIY1n8mhAQAAAAAoKYRAedQWS/g2KXS/QMDUPKle85bSCQQAAAAAQCkhBMqjQgiBJKm5aaQWt3ZqTUfc71IAAAAAAECeEALlUaGEQPs21UuS5jEkDAAAAACAkkEIlCd9fS49MbT/IdBu4+oUCQU0n8mhAQAAAAAoGYRAedLR06s+p4IIgcpCQe01foTmLaUTCAAAAACAUkEIlCdtXQlJ8n11sH7NTfVa+EGbunp6/S4FAAAAAADkASFQnkS7UyFQIXQCSdK+TSPV2+f08rL1fpcCAAAAAADygBAoT9pi6U6g8sIIgfaeWC8zaT6TQwMAAAAAUBIIgfIkGiusTqC6yrB2bqzRPCaHBgAAAACgJBAC5Ul/J1BdZWGEQFJqSNhLS9epN9nndykAAAAAACDHCIHypK3AOoGk1OTQnT1JvbWy3e9SAAAAAABAjhEC5UlbLKFgwFQVCfpdygb7No2UJM1nSBgAAAAAAEWPEChP1nclNKIiLDPzu5QNth1RoXEjKjSPyaEBAAAAACh6hEB50tIeV0NNmd9lfEJzU73mLVkr55zfpQAAAAAAgBwiBMqTwg2BRqqlPa5la2N+lwIAAAAAAHKIEChPWqPdGlNT7ncZn7BvU70ksVQ8AAAAAABFjhAoD5xzau2Ia0xt4XUC7TSmRjXlIc1fSggEAAAAAEAxIwTKg/VdCSWSTg3VhRcCBQKm5kn1TA4NAAAAAECRIwTKg5b2uCQVZCeQlJoXaFFLh9Z29vhdCgAAAAAAyBFCoDxoae+WpIKcE0iS9m0aKUlasJRuIAAAAAAAihUhUB60RNOdQAW4Opgk7TG+TpFgQPOZHBoAAAAAgKJFCJQHhT4crDwc1B7j6/QiIRAAAAAAAEWLECgPWtq7VV0WUmUk5Hcpm9TcNFKvf9CmWE/S71IAAAAAAEAOEALlQUt7vGCHgvXbt6leiaTTK8vX+10KAAAAAADIAUKgPGhtj6uhwEOgfSbVSxLzAgEAAAAAUKQIgfJgawiBRlRGtFNjteYtYYUwAAAAAACKESFQHrREuwt2efhM+zaN1PwlaxXvZV4gAAAAAACKDSFQjnXGe9XZkyzYlcEyfeHTY9TZk9Tz767xuxQAAAAAAOAxQqAc27A8fIEPB5OkA3cYrcpIUHPeWOV3KQAAAAAAwGOEQDnWEu2WpK1iOFh5OKiDd27QU2+sUl+f87scAAAAAADgIUKgHNvQCbQVDAeTpGmTx6q1Pa6XWSoeAAAAAICiQgiUY1vTcDBJ+vzOYxQKmOYsZEgYAAAAAADFhBAox1rb44oEA6qrCPtdSlbqKsPaf/tRmvPGSr9LAQAAAAAAHiIEyrGW9m411JTJzPwuJWvTdm3U4tZOLWrp8LsUAAAAAADgkZDfBRS71va4GgpkKJhzTq2trXrvvff03nvvqbu7W8FgUIFAQIFAQMFgUA0NDdp97ETJOc15Y6U+NeZTfpcNAAAAAAA8QAiUYy3RuCaNqvTl2rFYTM8995yefvppvfPOO1q8eLE6Ozuz+tmqSIVmzRunlqf30d57761DDjlE1dXVOa4YAAAAAADkCiFQjrW0d2vf7erzdr1YZ7v+/fILeuulf+j/LFyg7u5u1dXVadddd9Uxxxyj7bbbbsNXVVWVksmknHNKJpNKJpP68MMP9c477+ihv7yoVxa+qcefeEIPPPCAIpGIPvvZz+rII4/UwQcfrKqqqry9JgAAAAAAMHyEQDnU09undV0Jjakpz/m11q76QM8/+ZBeefYpJXsTqhkxSscdd5wOPfRQNTc3KxzObmLqsWPHasqUKZpy8FGa9ou/6/wvT9ZuFev15JNPavbs2Zo7d67Kysp02GGH6Zvf/KZ22mmnHL8yAAAAAADgBUKgHGrtyP3y8B8u+bf+8cTv9ea8ZxUIBrXnZw7TXp89XNtut5NOOaBpyOfdcUy1mkZV6qm3WvW1M6ZqypQpuuiii/TSSy/pySef1KOPPqo//elPOuywwzRz5kxNnjzZuxcFAAAAAAA8RwiUQy3RbknSmFrvQ6BVyxbrfx6YpcWvL1BZRaUOOOqr2u+wY1Q9YqQn5zczTdt1rO547j1FuxOqLQ8rEAioublZzc3NOu+883T33Xfr7rvv1lNPPaWDDz5YZ599tnbffXdPrg8AAAAAALzFEvE51Nqe6gRqqPZuOFg81qU59/1Gt/74HH245N865Ktn6Pxr79EXvnqGZwFQv2mTG5VIOj39dusnnhsxYoTOO+88zZ07V+eff77+9a9/6fjjj9dPfvITtbW1eVoHAAAAAAAYPkKgHGpJh0BedAI557Twxb/p1/99pl6Y84im/McROufq23TQF09QeWVuJmmeMrFeo6sjmrNw5SaPqamp0VlnnaW5c+fq61//uh588EEdffTRevzxx+Wcy0ldAAAAAABg8AiBcqilPS4zaVRVZFjnWd+6Uvf+/Af6w01XqqquXmf88Hp98b++pYrqWo8qHVgwYDr00416+u1WxXuTmz22qqpK3//+9/Xggw9q7NixuuCCCzRjxgwtW7YspzUCAAAAAIDsEALlUGt7t0ZVlSkUHPrb/MaLf9ctPzpby999S0eceo6+8eP/q3Hb7+JhlZs3bddGdcR79fy7a7I6fvLkybr//vt18cUX66WXXtL06dP1yCOP5LhKAAAAAACwJYRAOdQSjQ95ZbBEvFt/uuN6PXzTFRq9zQTN+Omvte+hX1YgEPS4ys07cIfRqowENeeNVVn/TDAY1KmnnqrHH39ce+yxh37wgx/ooosuUmdnZw4rBQAAAAAAm0MIlEMt7fEhzQe0atl7mnXpefrX3/+sA794gk7/wbWqbxibgwq3rDwc1ME7N+ipN1apr29wc/yMHTtWt912m8455xw99thjOv744/XOO+/kqFIAAAAAALA5hEA51NLePehOoFeemaPbLj1P3Z0dOuWCK/WFr56hYCiUowqzM23yWLW2x/Xy8vWD/tlgMKhzzz1Xt99+u6LRqI4//nj9/ve/Z9JoAAAAAADyjBAoR5J9Tqs7etSQZQiUTCb11P236LHbrtXEnXbVjJ/+WtvvuneOq8zO53ceo1DANGdh9kPCNrb//vvrkUce0T777KMf//jHuvTSS5VIJDysEgAAAAAAbE5WIZCZHWFmb5vZIjO7aIDndzGz580sbmYXeF/m1mddV4+SfU5jasq3eGxHR4fOOecc/fPPD2vfL3xZJ3/vSlXVjsh9kVmqqwxr/+1Hac4bm14qPhujR4/Wrbfeqm984xt64IEHNHPmTEWjUY+qBAAAAAAAm7PFEMjMgpJulHSkpMmSTjKzyRsdtlbS+ZJ+7nmFW6mWaFyStjgcbNmyZTrppJP07LPP6sjTztURXztHgWB+J3/OxrRdG7W4tVOLWjqGdZ5AIKALLrhAV1xxhebNm6eTTjpJ77//vkdVAgAAAACATcmmE2iqpEXOucXOuR5J90uannmAc67FOTdPEuN70lrauyVpsxNDL1iwQMcff7xaW1s1a9YsNR/ypXyVN2iHfrpRkobdDdTvuOOO06xZs7RmzRqdcMIJmj9/vifnBQAAAAAAA8tmxuFxkpZlPF4uab+hXMzMZkiaIUkTJ04cyim2Gi3t/Z1AAw8H+8tf/qLvfve72mabbfTrX/9aTU1NWvyCtx0x93p4vpP3m6g9xtdpzsJVOvvgT3lyzqlTp+qBBx7QWWedpTPOOENXX321jjrqKE/ODQAAAAAAPi6bTiAbYN+QlnZyzt3inGt2zjU3NDQM5RRbjdZ0CDTQxNB/+MMfdP7552unnXbSvffeq6ampjxXNzTTJjfq5WXrtSra7dk5J02apPvuu0977LGHLrjgAt13332enRsAAAAAAHwkmxBouaQJGY/HS1qRm3KKR0u0W7XlIZWHP5rfxzmnW2+9VRdffLH2339/3XHHHaqvr/exysGZtutYSdJTbwx9lbCB1NXVadasWTr44IN12WWX6aabbmIJeQAAAAAAPJZNCDRP0o5mtp2ZRSSdKOmx3Ja19Wtpj2tM7UdDwfr6+nTNNdfouuuu0xe/+EXddNNNqqqq8rHCwdtxTLWaRlVqjschkCSVl5frl7/8paZPn65f/epXuuqqq9TX1+f5dQAAAAAAKFVbnBPIOddrZudKmi0pKOl259xCM5uZfv5mMxsrab6kWkl9ZvZtSZOdcyW7/ndre1wN1amhYL29vfrhD3+oRx99VF/72td00UUXKRDIJn8rLGamabuO1R3Pvadod0K15WFPzx8Oh3XllVdqxIgRuvPOO7V+/XpdccUVCoe9vQ4AAAAAAKUom4mh5Zx7QtITG+27OWN7pVLDxJDW0h7XlIkjlEgkdOGFF+rJJ5/Uueeeq7PPPltmA02ztHWYNrlRt/x9sZ5+u1Vf3nNbz88fCAR04YUXauTIkfrFL36hrq4uXXfddYpEIp5fCwAAAACAUrL1taNsBZxzamnv1qiKgL7zne/oySef1AUXXKBzzjlnqw6AJGnKxHqNro5ozkJvloofiJlpxowZuuSSSzR37lydd955isfjObseAAAAAAClgBAoB9rjverujuuf9/xcc+fO1cUXX6xvfOMbfpfliWDAdOinG/X0262K9yZzeq1TTjlFl156qZ555hmdffbZisViOb0eAAAAAADFjBAoB95ftV6RF27XkoULdOmll+rUU0/1uyRPHb3HtuqI9+ru55fm/FrHH3+8rrjiCj3//POaOXOmOjs7c35NAAAAAACKESGQx7q6unTJBecr0LpIX//2f+v444/3uyTPHfSpUTpklzH6xVPv6MO23HfnHHvssbrmmms0f/58zZgxQx0dHTm/JgAAAAAAxYYQyENdXV2aOXOm3ln4qhL7nKxjjznW75Jywsz0ky/tqt4+p8v/9GZervmlL31J1157rV599VWCIAAAAAAAhoAQyCNdXV0666yztGDBAh15xveUHD9FDTVlfpeVMxNHVercz39Kj7/2of72TmternnEEUfo2muv1WuvvUYQBAAAAADAIBECeaA/AJo/f76uueYajZp8gMpCAdWWh/wuLadmfG57bTe6Sj/+4+vqTuR2kuh+06ZNIwgCAAAAAGAICIGGKRaL6eyzz94QAB199NFqiXZrTG3ZVr8c/JaUhYK6bPquWrKmS7/52+K8XZcgCAAAAACAwSMEGoZEIqGzzjpL8+bN09VXX62jjz5aktTSHteYmnKfq8uPz+7YoKP32EY3Pr1IS9fkb+UugiAAAAAAAAaHEGgYwuGwpk6dqquuukpf+tKXNuxPhUDFOx/Qxn549GRFggH95LGFcs7l7boEQQAAAAAAZI8QaJjOPvtsffnLX/7YvpZod0mFQI215frOYTvpr2+3avbCVXm99sZBUGdn/rqRAAAAAADYmhACeaw7kVS0u1djaktjOFi/0w+YpF3G1uiy/7dQnfHevF67Pwh69dVX9c1vfpMgCAAAAACAARACeay1PS5JaqgunU4gSQoFA7ri2N20oq1b//cv/8779adNm6brrruOIAgAAAAAgE0gBPJYS3u3JKmhtrRCIEnaZ9JIHd88Xrc9857eWdWe9+sTBAEAAAAAsGmEQB7r7wQqpTmBMl105KdVXR7SJY++ntdJovsRBAEAAAAAMDBCII+1bAiBSmtOoH4jqyK68Ihd9OJ7a/Xoyx/4UgNBEAAAAAAAn0QI5LGWaFzBgGlUVcTvUnxzQvME7TVhhK54/E21xRK+1EAQBAAAAADAxxECeaylvVujqyMKBMzvUnwTCJguP2Y3re3s0bVz3vatDoIgAAAAAAA+EvK7gGLT0h4vyqFg977w/qB/Zr/tR+nu55eqKhLShJGVH3vu5P0melXaZvUHQd/97nc1Y8YM3XLLLaqqqsrLtQEAAAAAKCR0AnmsJRov2UmhN3bYpxtVVxHWfS++r454r291TJs2Tddee61eeeUVzZgxg44gAAAAAEBJIgTyWEt7XA2EQJKk8nBQp+w/SR3xXt3/4vtK9uV/tbB+hx9+OEEQAAAAAKCkEQJ5qDfZpzWddAJlGjeiQsdOGafFqzv159c/9LUWgiAAAAAAQCkjBPLQ2s4eOSc11BbfnEDDMWVivQ7YYZSee3eNXl62ztdaCIIAAAAAAKWKEMhDLe1xSaITaABH7baNthtdpT+89IFWrI/5WgtBEAAAAACgFBECeailvVsSIdBAggHTSVMnqqospHteWKq1nT2+1pMZBH3zm99UNBr1tR4AAAAAAHKNEMhDLdF0JxDDwQZUXRbSKftNVEd3r8677yX1Jvt8refwww/Xddddp9dff12nn366Vq9e7Ws9AAAAAADkEiGQh/qHg42ujvhcSeEaX1+p6XuN03OL1uiaP7/ldzmaNm2abrrpJi1dulSnnHKKPvjgA79LAgAAAAAgJwiBPNTS3q0RlWGVhYJ+l1LQ9plUr9MPmKRbn3lPf3zZ/9DlM5/5jG677TatX79ep5xyit59912/SwIAAAAAwHOEQB5qibI8fLYuOXqypjaN1IUPv6o3Vvg/H8+UKVN01113KZlM6mtf+5oWLlzod0kAAAAAAHiKEMhDrR1xjalhPqBshIMB3XjK3hpREdH/ume+1vk8UbQk7bzzzrr77rtVUVGh0047Tc8++6zfJQEAAAAA4BlCIA/RCTQ4DTVluvlr+2hVW1zn3/8v3yeKlqSmpibde++9mjBhgmbOnKmHH37Y75IAAAAAAPAEIZBHnHNqbY+roZYQaDD2mjBClx+zm57592pd9qc35JzzuyQ1Njbqnnvu0X777adLLrlEN9xwQ0HUBQAAAADAcBACeaQtllBPso/hYENw/L4T9M3Pbqe7nl+qSx59XX19/gcu1dXVuvnmm3Xcccfpxhtv1MUXX6xEIuF3WQAAAAAADFnI7wKKRf/y8AwHG5ofHPVphYIB/frpdxXv7dM1X9lDwYD5WlM4HNbll1+ubbfdVjfccINWrVql6667TnV1db7WBQAAAADAUNAJ5JGWKCHQcJiZvn/4zvrOoTvpoQXL9e0HXlaiAOYIMjOdc845uvLKKzVv3jydcMIJLCEPAAAAANgqEQJ5pKW9W1JqsmMMjZnpW4fuqIuO3EX/75UVOvfelxTvTfpdliTp2GOP1W9/+1t1dHTohBNO0F//+le/SwIAAAAAYFAIgTyyYThYLXMCDdfMz+2gn3xpsmYvXKWZdy9Qd6IwgqC9995bDz74oJqamnTOOefoN7/5DRNGAwAAAAC2GswJ5JHW9rgqI0FVl/GWeuG/DtpOZeGgfvDIazrjt/M06/RmVUY2/d7e+8L7nl375P0mbvK5bbbZRvfcc49++MMf6vrrr9dbb72lyy+/XFVVVZ5dHwAAAACAXKATyCMt7XHmA/LYSVMn6tqv7ql/Ll6j029/Ue3dhbE6V3l5uX72s5/pe9/7nubMmaP//M//1Jtvvul3WQAAAAAAbBYhkEdaot0sD58Dx+09Xr86aW/96/31OvW2F9XWVRhBkJnpzDPP1B133KGuri6deOKJuu+++xgeBgAAAAAoWIRAHmltj6uhlk6gXPjiHtvo16fuozdXRHXSrf/Umo643yVtMHXqVD3yyCPab7/9dNlll+k73/mOotGo32UBAAAAAPAJTGDjkZb2uD7HcLCsDWUOn5P3m6h7/rlUh1z7NzVPqteUifUaWRXJQXWDM3LkSN188826/fbbdf3112vhwoW66qqr1Nzc7HdpAAAAAABsQCeQB7p6etUR72V5+BzbqbFG3/jMdhpdHdFf3mrRz+e8rVnPLNZL769TT2+fr7UFAgGdeeaZuvvuuyVJp512mq666irFYjFf6wIAAAAAoB8hkAdaounl4ZkTKOcmjarSNz6zvS44fGcd+ulGrY8l9NCC5bryyTf18ILlem91p6/z8kyZMkWPPvqoTjzxRN1111069thj9dJLL/lWDwAAAAAA/QiBPNDS3h8C0QmUL/WVER2yyxh977CdNOOz22uPcXV6bUWbbn1msa596h3NfWuV1nX2+FJbVVWVfvSjH+mOO+5Qb2+vTj31VF199dXq6urypR4AAAAAACRCIE+09odATAydd2amptFVOm7v8frBkZ/WV/cZrxGVYc19MzVc7O7nl2hxa4cv3UH777+//vjHP+qEE07QnXfeqaOPPlqzZ89mBTEAAAAAgC8IgTzQ0t4tieFgfouEApoysV5nfmZ7/e/Dd9bndm7Q0rVdmvXse7rhr4u0YOk69SbzO3dQVVWVfvzjH+uee+5RbW2tvv3tb+uMM87QokWL8loHAAAAAACEQB5oaY8rHDTVV4b9LgVp9ZURTZs8VhcesYuOnTJOyT6nh19armtmv625b65SR7w3r/Xss88+euihh3TJJZfojTfe0LHHHquf/exnam9vz2sdAAAAAIDSRQjkgZZoXA3VZTIzv0vBRsLBgPZtGqlvfWFHff2gJo0fUaG5b7Xomj+/pYcXLNeHbflbvSsUCumUU07Rk08+qWOOOUa//e1vddhhh+nWW29lviAAAAAAQM4RAnmgpb1bDbUMBStkZqYdx9To9AOb9J1Dd1LzpHq9+sF6/eovizTr2cV6Y0VUfXmaq2fkyJH66U9/qoceekh77rmnrrvuOh1++OH63e9+p54efyazBgAAAAAUP0IgD7S2pzqBsHVoqCnT9L3G6cIjdtERu47Vmo4e3fPCUv18ztv62zutWpunVcUmT56s3/zmN7rnnnvU1NSkyy+/XEceeaTuv/9+dXd356UGAAAAAEDpIATyQEt7nJXBtkKVkZD+Y6cGXTBtZ508daJGVkY0e+FK7X/VXF3w4Ct6dfn6vNSxzz776K677tKsWbM0atQoXXrppTrkkEN0ww03aM2aNXmpAQAAAABQ/EJ+F7C16+nt09rOHo2pIQTaWgUDpt3G1Wm3cXVaFe3Wms64/vDSB3powXLtNWGETj9wko7afRuVhYI5q8HMdNBBB+nAAw/U/Pnzdccdd+jGG2/UrbfeqmOOOUannHKKdtppp5xdHwAAAABQ/MzlaR6UjTU3N7v58+f7cm0vfdgW0wFX/UVXHru7Tt5v4rDOde8L73tUFYbj5P0mKtqd0B8WLNddzy/V4tWdGlUV0UlTJ+rzuzRoTE25xtSW5TQUkqTFixfrzjvv1B//+EfF43Htscce+spXvqKjjjpK1dXVOb02AAAAAGDrZGYLnHPNAz5HCDQ8ryxbr+k3PqdZpzXr0MmNwzoXIVBhyAzz+vqcnnt3te78x1LNfWuVMv/nMqIyrMZ0IDSmplyNtWVqrE19H19fqZ0aaxQJDX/E5bp16/TYY4/poYce0qJFi1RRUaHDDz9cxxxzjJqbmxUM5jaMAgAAAABsPTYXAjEcbJha2uOSxJxARSoQMH12xwZ9dscGfdgW09sr29USjaulvVuronGtinZrVXtci1pWq7U9rt6+j1KiSDCgXbap0e7j6rTH+DrtPm6EdmysVjg4uGCovr5ep59+uk477TS9+uqrevjhh/XEE0/o0Ucf1ciRI3XooYdq2rRpmjp1qsLhsNdvAQAAAACgSNAJNEy/e2GpLn7kdf3zv7+gsXXDWyaeTqCtW59z6upJKhpLaHVHXB+sj+mDdTG1tsfVHu+VJJWFApq8ba32HD9Cu4+r0+7j67Td6KpBB0OxWEzPPPOMZs+eraefflpdXV2qq6vT5z73OR100EE64IAD1NDQkIuXCQAAAAAoYHQC5VBLNC4zaVR1xO9S4LOAmarLQqouC2nbERXaY/wISdKJ+07QkjWdeu2DNr26vE2vLW/T7+cv02//sUSSFA6ath9drR0bq7VzY412bKzRzmNrNHFkpYIBG/BaFRUVmjZtmqZNm6Z4PK7nnntOs2fP1t///nc99thjkqRddtlFBx54oPbff3/tueeeqq2tzcfbAAAAAAAoUHQCDdN//+E1zVm4Ugt+eNiwz0UnUHEaaMLwZJ/T4tYOvb6iTW+v7NC/V7Xr7VXtWr4utuGYslBAnxqTCoZ2GFOtqkhq7h8zS3+XNkRE6X3q69O6Fe/pg7df1r9fW6B/L3xVvb29MjPtsMMOmjJlivbaay/tueeeampqYj4hAAAAACgyTAydQ2feOU/L18X052//x7DPRQiEeG/yk3MORbsV7e4d2gl74wqse1+BtUsUXv++bO0SuZ5U0BQIRVQ+apxqx07SqPFNGjthe20zfpIaG0arIhLcEDZla7ir4wEAAAAAho/hYDnU0h7XmNrhzQUE9CsLBTVhZKUmjKz82P54b1LJpFN/ZJsZ3WYGuU5SordPsURSXT1JxRJJxXq2UyzxGcV6kuqMJxRtXaGOFe8q1rpMnWuWq/PNF7Xylae1sP8coXKperRCdY0qq29UVX2DQtUjFaoeqUDVSAVC4dT1XUY9TvqfN1cpHDSVh4MqCwVUFgqqPJz6XhYKqCwc2PBcVVlIteVh1VaEVVseUl1FWDXlYU9WUwMAAAAADCyrEMjMjpD0S0lBSbOcc1dv9Lylnz9KUpek/3LOveRxrQXpoE+NVkM1K4Mht8pCQQ8j24mS9t/wKJ5IauWqVVq+5F21fLhc61Z9oPbWD9W1dom6lr6kLn28W9DKqmUVNQqU18jKqxVIP+6qHSFFqpWMVCoRqlIiVKG4lSmelPqybDisCAdVW5EKhWrLwxs6kkypEW+BjG3JFLCP9oeDgfRXxnbIFA5svG0KpY8LBQIKhwIKBz7aFw4GFAqYnFLD9hLJPvUmnXr7nHr7UtuJZF/qufQLiwRNkVBgw3UjoYAi6e/hYP+2KRhInTscDCgYsA21hAKmUMAUDNigO7AAAAAAIFtb/LPSzIKSbpR0mKTlkuaZ2WPOuTcyDjtS0o7pr/0k/Tr9vehdeMQufpcADEtZOKhJ47fVpPHbfuK53kSP2tetUduaFrWtbVHb6hZF17aqM7peXe1t6mpfqc5VbeqOdap7E+evDIUVKa9UpLxC4bJyhcsqFIyUKRApVyBcLoXK5AJhJS2kPgsoaUF1KaiogkoqKAVDskBILhCSBYNyCkgWkAKB9LbJWUB9zpQ0S31X+nt621n6ZyRlzKT00VxKsozt/sfZHuutcNBk6ev3B14m2zAHlNlH2/0B0ifCr/4wK/hR4LThZzNfSsZ5+19in5P6+pz6nEttu/R2n5R0Ti69vz/ESoVmG10zkArdQoHMa390fX3iNaWCvIClgrBUGCYF04/79wcCqeAvmD62//Enti21LaW641LNcqnAzjl9rINtUzb1EQfs4+9b5nva/1nJUpfrc27D9frfNylzX+p8gYClXmvQPvaaQ8GM96T/c894jantVA0fD0g/+fo2fqn99bh0R1//Z9xfc//nvvHPfXSv2Cf29b/OzPc887X2P2fShs8zmPGZb/jK+Lwz782Prpdx7f7PObPmDdv9r+ej7dRnaBs+x/57xjK+f+wzlX3sOpm/FgZ8LuO92bj2DffGhnNn/G8i43q5+PViG9WcuS+z1sGf96PXuuEaBNkAABS0bHoLpkpa5JxbLElmdr+k6ZIyQ6Dpku5yqXEp/zSzEWa2jXPuQ88rBpA3oXBE9WO2Uf2YbTZ7XLI3oa72qDrb+8OhNnVG1yse61JPPKae7ph6YrH0dpfi3TF1R9em9nfHlOiJK9mb8LT2QPor7OlZB2CW8cdd/x+FGX/pbTjMPvqDepBTsWUOA8z80U/OFOUG+uY5G/Dcn/zDL7vr+zMv3eAV+x+2xf764JvB3lqD+ZXg0W2b7Wny/dsqs65C/U051I/Ai9eztf3WKsTPcGt6D718//x43V7VvzV9Zl7w43O/7Nob9NVpn/HwyoUnmxBonKRlGY+X65NdPgMdM07Sx0IgM5shaUb6YYeZvT2oarcOoyWt9rsIlBTuOfiB+w5+4L5DvnHPwQ/cd/AD952k4w//rN8leGXSpp7IJgQaKDTbVIf45o6Rc+4WSbdkcc2tlpnN39Qs3EAucM/BD9x38AP3HfKNew5+4L6DH7jvSkc2S/EslzQh4/F4SSuGcAwAAAAAAAB8kk0INE/Sjma2nZlFJJ0o6bGNjnlM0mmWsr+kNuYDAgAAAAAAKBxbHA7mnOs1s3MlzVZqifjbnXMLzWxm+vmbJT2h1PLwi5RaIv7ruSu54BX1cDcUJO45+IH7Dn7gvkO+cc/BD9x38AP3XYkwt7k1cgEAAAAAAFAUshkOBgAAAAAAgK0cIRAAAAAAAEAJIATyiJkdYWZvm9kiM7vI73pQnMzsdjNrMbPXM/aNNLOnzOzf6e/1ftaI4mJmE8zsr2b2ppktNLNvpfdz3yFnzKzczF40s1fS992l6f3cd8gpMwua2b/M7E/px9xzyCkzW2Jmr5nZy2Y2P72P+w45ZWYjzOwhM3sr/d94B3DflQ5CIA+YWVDSjZKOlDRZ0klmNtnfqlCkfivpiI32XSRprnNuR0lz048Br/RK+p5z7tOS9pd0Tvr3G/cdciku6RDn3J6S9pJ0RHr1Ue475Nq3JL2Z8Zh7DvnweefcXs655vRj7jvk2i8l/dk5t4ukPZX6vcd9VyIIgbwxVdIi59xi51yPpPslTfe5JhQh59zfJa3daPd0SXemt++UdEw+a0Jxc8596Jx7Kb3drtR/JIwT9x1yyKV0pB+G019O3HfIITMbL+mLkmZl7Oaegx+475AzZlYr6T8k3SZJzrke59x6cd+VDEIgb4yTtCzj8fL0PiAfGp1zH0qpP9gljfG5HhQpM2uSNEXSC+K+Q46lh+W8LKlF0lPOOe475Nr1kr4vqS9jH/cccs1JmmNmC8xsRnof9x1yaXtJrZLuSA9/nWVmVeK+KxmEQN6wAfa5vFcBADliZtWSHpb0bedc1O96UPycc0nn3F6Sxkuaama7+VwSipiZHS2pxTm3wO9aUHIOcs7trdS0EueY2X/4XRCKXkjS3pJ+7ZybIqlTDP0qKYRA3lguaULG4/GSVvhUC0rPKjPbRpLS31t8rgdFxszCSgVAv3PO/SG9m/sOeZFuUX9aqfnQuO+QKwdJ+rKZLVFqWP8hZnaPuOeQY865FenvLZIeUWqaCe475NJyScvTHbaS9JBSoRD3XYkgBPLGPEk7mtl2ZhaRdKKkx3yuCaXjMUmnp7dPl/RHH2tBkTEzU2rM+JvOuesynuK+Q86YWYOZjUhvV0g6VNJb4r5Djjjn/ts5N94516TUf8f9xTl3qrjnkENmVmVmNf3bkqZJel3cd8gh59xKScvMbOf0ri9IekPcdyXDnGPUkhfM7CilxpIHJd3unLvC34pQjMzsPkkHSxotaZWkH0t6VNLvJU2U9L6krzrnNp48GhgSM/uMpGckvaaP5sn4gVLzAnHfISfMbA+lJqUMKvUPVr93zl1mZqPEfYccM7ODJV3gnDuaew65ZGbbK9X9I6WG6NzrnLuC+w65ZmZ7KTUJfkTSYklfV/r/b8V9V/QIgQAAAAAAAEoAw8EAAAAAAABKACEQAAAAAABACSAEAgAAAAAAKAGEQAAAAAAAACWAEAgAAAAAAKAEEAIBAAB4wMy+bGYX+V0HAADAprBEPAAAAAAAQAmgEwgAABQFMzvNzF41s1fM7G4z+5KZvWBm/zKz/zGzxvRxPzGzO81sjpktMbPjzOxnZvaamf3ZzMLp45aY2TVm9mL661Pp/Zs673+Z2Q3p7R3M7J9mNs/MLjOzjvT+g83saTN7yMzeMrPfmZn5844BAIBSQwgEAAC2ema2q6SLJR3inNtT0rckPStpf+fcFEn3S/p+xo/sIOmLkqZLukfSX51zu0uKpff3izrnpkq6QdL16X2bO2+/X0r6pXNuX0krNnpuiqRvS5osaXtJBw3hJQMAAAxayO8CAAAAPHCIpIecc6slyTm31sx2l/SAmW0jKSLpvYzjn3TOJczsNUlBSX9O739NUlPGcfdlfP9Fenv8Zs7b7wBJx6S375X084znXnTOLZckM3s5fb1nB/FaAQAAhoROIAAAUAxM0sYTHf5K0g3pDp//Jak847m4JDnn+iQl3EeTJPbp4/9I5gbY3tx5sxHP2E6Kf5QDAAB5QggEAACKwVxJx5vZKEkys5GS6iR9kH7+9CGe94SM78+nt7M57z8lfSW9feIQrw0AAOAp/uUJAABs9ZxzC83sCkl/M7OkpH9J+omkB83sA6VCme2GcOoyM3tBqX84Oym9L5vzflvSPWb2PUmPS2obwrUBAAA8xRLxAAAAAzCzJZKa++cZGuTPVkqKOeecmZ0o6STn3HSvawQAABgMOoEAAAC8t4+kG9LLv6+XdIa/5QAAANAJBAAAAAAAUBKYGBoAAAAAAKAEEAIBAAAAAACUAEIgAAAAAACAEkAIBAAAAAAAUAIIgQAAAAAAAErA/wc7I4mnCJIw3gAAAABJRU5ErkJggg==\n",
      "text/plain": [
       "<Figure size 1440x504 with 1 Axes>"
      ]
     },
     "metadata": {
      "needs_background": "light"
     },
     "output_type": "display_data"
    }
   ],
   "source": [
    "f,ax = plt.subplots(figsize = (20,7))\n",
    "sns.distplot(df.campaign, fit=norm);"
   ]
  },
  {
   "cell_type": "code",
   "execution_count": 21,
   "metadata": {},
   "outputs": [
    {
     "data": {
      "image/png": "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\n",
      "text/plain": [
       "<Figure size 1440x504 with 1 Axes>"
      ]
     },
     "metadata": {
      "needs_background": "light"
     },
     "output_type": "display_data"
    }
   ],
   "source": [
    "f,ax = plt.subplots(figsize = (20,7))\n",
    "sns.distplot(df.duration, fit=norm);"
   ]
  },
  {
   "cell_type": "markdown",
   "metadata": {},
   "source": [
    "<a id=\"6\"></a>\n",
    "## Feature Engineering"
   ]
  },
  {
   "cell_type": "code",
   "execution_count": 22,
   "metadata": {},
   "outputs": [
    {
     "data": {
      "text/html": [
       "<div>\n",
       "<style scoped>\n",
       "    .dataframe tbody tr th:only-of-type {\n",
       "        vertical-align: middle;\n",
       "    }\n",
       "\n",
       "    .dataframe tbody tr th {\n",
       "        vertical-align: top;\n",
       "    }\n",
       "\n",
       "    .dataframe thead th {\n",
       "        text-align: right;\n",
       "    }\n",
       "</style>\n",
       "<table border=\"1\" class=\"dataframe\">\n",
       "  <thead>\n",
       "    <tr style=\"text-align: right;\">\n",
       "      <th></th>\n",
       "      <th>age</th>\n",
       "      <th>job</th>\n",
       "      <th>marital</th>\n",
       "      <th>education</th>\n",
       "      <th>default</th>\n",
       "      <th>balance</th>\n",
       "      <th>housing</th>\n",
       "      <th>loan</th>\n",
       "      <th>contact</th>\n",
       "      <th>day</th>\n",
       "      <th>month</th>\n",
       "      <th>duration</th>\n",
       "      <th>campaign</th>\n",
       "      <th>y</th>\n",
       "    </tr>\n",
       "  </thead>\n",
       "  <tbody>\n",
       "    <tr>\n",
       "      <th>0</th>\n",
       "      <td>58</td>\n",
       "      <td>management</td>\n",
       "      <td>married</td>\n",
       "      <td>tertiary</td>\n",
       "      <td>no</td>\n",
       "      <td>2143</td>\n",
       "      <td>yes</td>\n",
       "      <td>no</td>\n",
       "      <td>unknown</td>\n",
       "      <td>5</td>\n",
       "      <td>may</td>\n",
       "      <td>261</td>\n",
       "      <td>1</td>\n",
       "      <td>no</td>\n",
       "    </tr>\n",
       "    <tr>\n",
       "      <th>1</th>\n",
       "      <td>44</td>\n",
       "      <td>technician</td>\n",
       "      <td>single</td>\n",
       "      <td>secondary</td>\n",
       "      <td>no</td>\n",
       "      <td>29</td>\n",
       "      <td>yes</td>\n",
       "      <td>no</td>\n",
       "      <td>unknown</td>\n",
       "      <td>5</td>\n",
       "      <td>may</td>\n",
       "      <td>151</td>\n",
       "      <td>1</td>\n",
       "      <td>no</td>\n",
       "    </tr>\n",
       "    <tr>\n",
       "      <th>2</th>\n",
       "      <td>33</td>\n",
       "      <td>entrepreneur</td>\n",
       "      <td>married</td>\n",
       "      <td>secondary</td>\n",
       "      <td>no</td>\n",
       "      <td>2</td>\n",
       "      <td>yes</td>\n",
       "      <td>yes</td>\n",
       "      <td>unknown</td>\n",
       "      <td>5</td>\n",
       "      <td>may</td>\n",
       "      <td>76</td>\n",
       "      <td>1</td>\n",
       "      <td>no</td>\n",
       "    </tr>\n",
       "    <tr>\n",
       "      <th>3</th>\n",
       "      <td>47</td>\n",
       "      <td>blue-collar</td>\n",
       "      <td>married</td>\n",
       "      <td>unknown</td>\n",
       "      <td>no</td>\n",
       "      <td>1506</td>\n",
       "      <td>yes</td>\n",
       "      <td>no</td>\n",
       "      <td>unknown</td>\n",
       "      <td>5</td>\n",
       "      <td>may</td>\n",
       "      <td>92</td>\n",
       "      <td>1</td>\n",
       "      <td>no</td>\n",
       "    </tr>\n",
       "    <tr>\n",
       "      <th>4</th>\n",
       "      <td>33</td>\n",
       "      <td>unknown</td>\n",
       "      <td>single</td>\n",
       "      <td>unknown</td>\n",
       "      <td>no</td>\n",
       "      <td>1</td>\n",
       "      <td>no</td>\n",
       "      <td>no</td>\n",
       "      <td>unknown</td>\n",
       "      <td>5</td>\n",
       "      <td>may</td>\n",
       "      <td>198</td>\n",
       "      <td>1</td>\n",
       "      <td>no</td>\n",
       "    </tr>\n",
       "  </tbody>\n",
       "</table>\n",
       "</div>"
      ],
      "text/plain": [
       "   age           job  marital  education default  balance housing loan  \\\n",
       "0   58    management  married   tertiary      no     2143     yes   no   \n",
       "1   44    technician   single  secondary      no       29     yes   no   \n",
       "2   33  entrepreneur  married  secondary      no        2     yes  yes   \n",
       "3   47   blue-collar  married    unknown      no     1506     yes   no   \n",
       "4   33       unknown   single    unknown      no        1      no   no   \n",
       "\n",
       "   contact  day month  duration  campaign   y  \n",
       "0  unknown    5   may       261         1  no  \n",
       "1  unknown    5   may       151         1  no  \n",
       "2  unknown    5   may        76         1  no  \n",
       "3  unknown    5   may        92         1  no  \n",
       "4  unknown    5   may       198         1  no  "
      ]
     },
     "execution_count": 22,
     "metadata": {},
     "output_type": "execute_result"
    }
   ],
   "source": [
    "df.head()"
   ]
  },
  {
   "cell_type": "markdown",
   "metadata": {},
   "source": [
    "<a id=\"15\"></a>\n",
    "### Drop Outliers"
   ]
  },
  {
   "cell_type": "code",
   "execution_count": 23,
   "metadata": {},
   "outputs": [],
   "source": [
    "# For \"Age\"\n",
    "threshoold         = 1.5\n",
    "acceleration_desc  = df[\"age\"].describe()\n",
    "q3_age             = acceleration_desc[6]\n",
    "q1_age             = acceleration_desc[4]\n",
    "IQR_age            = q3_age - q1_age\n",
    "top_limit_age      = q3_age + threshoold * IQR_age\n",
    "bottom_limit_age   = q1_age - threshoold * IQR_age\n",
    "filter_age_bottom  = bottom_limit_age < df[\"age\"]\n",
    "filter_age_top     = df[\"age\"] < top_limit_age\n",
    "filter_age         = filter_age_bottom & filter_age_top"
   ]
  },
  {
   "cell_type": "code",
   "execution_count": 24,
   "metadata": {},
   "outputs": [
    {
     "data": {
      "text/plain": [
       "(40000, 14)"
      ]
     },
     "execution_count": 24,
     "metadata": {},
     "output_type": "execute_result"
    }
   ],
   "source": [
    "df.shape"
   ]
  },
  {
   "cell_type": "code",
   "execution_count": 25,
   "metadata": {},
   "outputs": [
    {
     "data": {
      "text/plain": [
       "(39921, 14)"
      ]
     },
     "execution_count": 25,
     "metadata": {},
     "output_type": "execute_result"
    }
   ],
   "source": [
    "df = df[filter_age]\n",
    "df.shape"
   ]
  },
  {
   "cell_type": "code",
   "execution_count": 26,
   "metadata": {},
   "outputs": [],
   "source": [
    "# For \"Duration\"\n",
    "threshoold         = 1.5\n",
    "acceleration_desc  = df[\"duration\"].describe()\n",
    "q3_dur             = acceleration_desc[6]\n",
    "q1_dur             = acceleration_desc[4]\n",
    "IQR_dur            = q3_dur - q1_dur\n",
    "top_limit_dur      = q3_dur + threshoold * IQR_dur\n",
    "bottom_limit_dur   = q1_dur - threshoold * IQR_dur\n",
    "filter_dur_bottom  = bottom_limit_dur < df[\"duration\"]\n",
    "filter_dur_top     = df[\"duration\"] < top_limit_dur\n",
    "filter_dur         = filter_dur_bottom & filter_dur_top"
   ]
  },
  {
   "cell_type": "code",
   "execution_count": 27,
   "metadata": {},
   "outputs": [
    {
     "data": {
      "text/plain": [
       "(39921, 14)"
      ]
     },
     "execution_count": 27,
     "metadata": {},
     "output_type": "execute_result"
    }
   ],
   "source": [
    "df = df[filter_age]\n",
    "df.shape"
   ]
  },
  {
   "cell_type": "markdown",
   "metadata": {},
   "source": [
    "<a id=\"7\"></a>\n",
    "### Define Inputs"
   ]
  },
  {
   "cell_type": "code",
   "execution_count": 28,
   "metadata": {},
   "outputs": [],
   "source": [
    "# Define Inputs:\n",
    "x = df.iloc[:,[0,1,2,3,4,6,7,8,11,12]]"
   ]
  },
  {
   "cell_type": "markdown",
   "metadata": {},
   "source": [
    "<a id=\"8\"></a>\n",
    "### Log Transformations\n",
    "* The log transformation can be used to make highly skewed distributions less skewed."
   ]
  },
  {
   "cell_type": "code",
   "execution_count": 29,
   "metadata": {},
   "outputs": [],
   "source": [
    "x[\"age\"] = np.log1p(x[\"age\"])"
   ]
  },
  {
   "cell_type": "code",
   "execution_count": 30,
   "metadata": {
    "scrolled": false
   },
   "outputs": [
    {
     "data": {
      "image/png": "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\n",
      "text/plain": [
       "<Figure size 1440x504 with 1 Axes>"
      ]
     },
     "metadata": {
      "needs_background": "light"
     },
     "output_type": "display_data"
    }
   ],
   "source": [
    "f,ax = plt.subplots(figsize = (20,7))\n",
    "sns.distplot(x.age, fit=norm);"
   ]
  },
  {
   "cell_type": "code",
   "execution_count": 31,
   "metadata": {},
   "outputs": [],
   "source": [
    "x[\"duration\"] = np.log1p(x[\"duration\"])"
   ]
  },
  {
   "cell_type": "code",
   "execution_count": 32,
   "metadata": {},
   "outputs": [
    {
     "data": {
      "image/png": "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\n",
      "text/plain": [
       "<Figure size 1440x504 with 1 Axes>"
      ]
     },
     "metadata": {
      "needs_background": "light"
     },
     "output_type": "display_data"
    }
   ],
   "source": [
    "f,ax = plt.subplots(figsize = (20,7))\n",
    "sns.distplot(x.duration, fit=norm);"
   ]
  },
  {
   "cell_type": "markdown",
   "metadata": {},
   "source": [
    "<a id=\"9\"></a>\n",
    "### One Hot Encoding"
   ]
  },
  {
   "cell_type": "code",
   "execution_count": 33,
   "metadata": {},
   "outputs": [
    {
     "data": {
      "text/html": [
       "<div>\n",
       "<style scoped>\n",
       "    .dataframe tbody tr th:only-of-type {\n",
       "        vertical-align: middle;\n",
       "    }\n",
       "\n",
       "    .dataframe tbody tr th {\n",
       "        vertical-align: top;\n",
       "    }\n",
       "\n",
       "    .dataframe thead th {\n",
       "        text-align: right;\n",
       "    }\n",
       "</style>\n",
       "<table border=\"1\" class=\"dataframe\">\n",
       "  <thead>\n",
       "    <tr style=\"text-align: right;\">\n",
       "      <th></th>\n",
       "      <th>age</th>\n",
       "      <th>duration</th>\n",
       "      <th>campaign</th>\n",
       "      <th>job_blue-collar</th>\n",
       "      <th>job_entrepreneur</th>\n",
       "      <th>job_housemaid</th>\n",
       "      <th>job_management</th>\n",
       "      <th>job_retired</th>\n",
       "      <th>job_self-employed</th>\n",
       "      <th>job_services</th>\n",
       "      <th>...</th>\n",
       "      <th>marital_married</th>\n",
       "      <th>marital_single</th>\n",
       "      <th>education_secondary</th>\n",
       "      <th>education_tertiary</th>\n",
       "      <th>education_unknown</th>\n",
       "      <th>default_yes</th>\n",
       "      <th>housing_yes</th>\n",
       "      <th>loan_yes</th>\n",
       "      <th>contact_telephone</th>\n",
       "      <th>contact_unknown</th>\n",
       "    </tr>\n",
       "  </thead>\n",
       "  <tbody>\n",
       "    <tr>\n",
       "      <th>0</th>\n",
       "      <td>4.077537</td>\n",
       "      <td>5.568345</td>\n",
       "      <td>1</td>\n",
       "      <td>0</td>\n",
       "      <td>0</td>\n",
       "      <td>0</td>\n",
       "      <td>1</td>\n",
       "      <td>0</td>\n",
       "      <td>0</td>\n",
       "      <td>0</td>\n",
       "      <td>...</td>\n",
       "      <td>1</td>\n",
       "      <td>0</td>\n",
       "      <td>0</td>\n",
       "      <td>1</td>\n",
       "      <td>0</td>\n",
       "      <td>0</td>\n",
       "      <td>1</td>\n",
       "      <td>0</td>\n",
       "      <td>0</td>\n",
       "      <td>1</td>\n",
       "    </tr>\n",
       "    <tr>\n",
       "      <th>1</th>\n",
       "      <td>3.806662</td>\n",
       "      <td>5.023881</td>\n",
       "      <td>1</td>\n",
       "      <td>0</td>\n",
       "      <td>0</td>\n",
       "      <td>0</td>\n",
       "      <td>0</td>\n",
       "      <td>0</td>\n",
       "      <td>0</td>\n",
       "      <td>0</td>\n",
       "      <td>...</td>\n",
       "      <td>0</td>\n",
       "      <td>1</td>\n",
       "      <td>1</td>\n",
       "      <td>0</td>\n",
       "      <td>0</td>\n",
       "      <td>0</td>\n",
       "      <td>1</td>\n",
       "      <td>0</td>\n",
       "      <td>0</td>\n",
       "      <td>1</td>\n",
       "    </tr>\n",
       "    <tr>\n",
       "      <th>2</th>\n",
       "      <td>3.526361</td>\n",
       "      <td>4.343805</td>\n",
       "      <td>1</td>\n",
       "      <td>0</td>\n",
       "      <td>1</td>\n",
       "      <td>0</td>\n",
       "      <td>0</td>\n",
       "      <td>0</td>\n",
       "      <td>0</td>\n",
       "      <td>0</td>\n",
       "      <td>...</td>\n",
       "      <td>1</td>\n",
       "      <td>0</td>\n",
       "      <td>1</td>\n",
       "      <td>0</td>\n",
       "      <td>0</td>\n",
       "      <td>0</td>\n",
       "      <td>1</td>\n",
       "      <td>1</td>\n",
       "      <td>0</td>\n",
       "      <td>1</td>\n",
       "    </tr>\n",
       "    <tr>\n",
       "      <th>3</th>\n",
       "      <td>3.871201</td>\n",
       "      <td>4.532599</td>\n",
       "      <td>1</td>\n",
       "      <td>1</td>\n",
       "      <td>0</td>\n",
       "      <td>0</td>\n",
       "      <td>0</td>\n",
       "      <td>0</td>\n",
       "      <td>0</td>\n",
       "      <td>0</td>\n",
       "      <td>...</td>\n",
       "      <td>1</td>\n",
       "      <td>0</td>\n",
       "      <td>0</td>\n",
       "      <td>0</td>\n",
       "      <td>1</td>\n",
       "      <td>0</td>\n",
       "      <td>1</td>\n",
       "      <td>0</td>\n",
       "      <td>0</td>\n",
       "      <td>1</td>\n",
       "    </tr>\n",
       "    <tr>\n",
       "      <th>4</th>\n",
       "      <td>3.526361</td>\n",
       "      <td>5.293305</td>\n",
       "      <td>1</td>\n",
       "      <td>0</td>\n",
       "      <td>0</td>\n",
       "      <td>0</td>\n",
       "      <td>0</td>\n",
       "      <td>0</td>\n",
       "      <td>0</td>\n",
       "      <td>0</td>\n",
       "      <td>...</td>\n",
       "      <td>0</td>\n",
       "      <td>1</td>\n",
       "      <td>0</td>\n",
       "      <td>0</td>\n",
       "      <td>1</td>\n",
       "      <td>0</td>\n",
       "      <td>0</td>\n",
       "      <td>0</td>\n",
       "      <td>0</td>\n",
       "      <td>1</td>\n",
       "    </tr>\n",
       "  </tbody>\n",
       "</table>\n",
       "<p>5 rows × 24 columns</p>\n",
       "</div>"
      ],
      "text/plain": [
       "        age  duration  campaign  job_blue-collar  job_entrepreneur  \\\n",
       "0  4.077537  5.568345         1                0                 0   \n",
       "1  3.806662  5.023881         1                0                 0   \n",
       "2  3.526361  4.343805         1                0                 1   \n",
       "3  3.871201  4.532599         1                1                 0   \n",
       "4  3.526361  5.293305         1                0                 0   \n",
       "\n",
       "   job_housemaid  job_management  job_retired  job_self-employed  \\\n",
       "0              0               1            0                  0   \n",
       "1              0               0            0                  0   \n",
       "2              0               0            0                  0   \n",
       "3              0               0            0                  0   \n",
       "4              0               0            0                  0   \n",
       "\n",
       "   job_services  ...  marital_married  marital_single  education_secondary  \\\n",
       "0             0  ...                1               0                    0   \n",
       "1             0  ...                0               1                    1   \n",
       "2             0  ...                1               0                    1   \n",
       "3             0  ...                1               0                    0   \n",
       "4             0  ...                0               1                    0   \n",
       "\n",
       "   education_tertiary  education_unknown  default_yes  housing_yes  loan_yes  \\\n",
       "0                   1                  0            0            1         0   \n",
       "1                   0                  0            0            1         0   \n",
       "2                   0                  0            0            1         1   \n",
       "3                   0                  1            0            1         0   \n",
       "4                   0                  1            0            0         0   \n",
       "\n",
       "   contact_telephone  contact_unknown  \n",
       "0                  0                1  \n",
       "1                  0                1  \n",
       "2                  0                1  \n",
       "3                  0                1  \n",
       "4                  0                1  \n",
       "\n",
       "[5 rows x 24 columns]"
      ]
     },
     "execution_count": 33,
     "metadata": {},
     "output_type": "execute_result"
    }
   ],
   "source": [
    "# One-Hot Enc. for Categoric Features\n",
    "X = pd.get_dummies(x,drop_first=True)\n",
    "X.head()"
   ]
  },
  {
   "cell_type": "markdown",
   "metadata": {},
   "source": [
    "<a id=\"10\"></a>\n",
    "### Define Target Feature and One Hot Encoding"
   ]
  },
  {
   "cell_type": "code",
   "execution_count": 34,
   "metadata": {},
   "outputs": [],
   "source": [
    "y = df.iloc[:,[13]]\n",
    "Y = pd.get_dummies(y,drop_first=True)"
   ]
  },
  {
   "cell_type": "markdown",
   "metadata": {},
   "source": [
    "<a id=\"11\"></a>\n",
    "## Prepare Imbalanced Dataset for Classification"
   ]
  },
  {
   "cell_type": "markdown",
   "metadata": {},
   "source": [
    "<a id=\"12\"></a>\n",
    "### Evaluate Data Oversampling Models"
   ]
  },
  {
   "cell_type": "code",
   "execution_count": 35,
   "metadata": {},
   "outputs": [],
   "source": [
    "models, names = list(), list()\n",
    "# RandomOverSampler\n",
    "models.append(RandomOverSampler())\n",
    "names.append('ROS')\n",
    "# SMOTE\n",
    "models.append(SMOTE())\n",
    "names.append('SMOTE')\n",
    "# BorderlineSMOTE\n",
    "models.append(BorderlineSMOTE())\n",
    "names.append('BLSMOTE')\n",
    "# SVMSMOTE\n",
    "models.append(SVMSMOTE())\n",
    "names.append('SVMSMOTE')\n",
    "# ADASYN\n",
    "models.append(ADASYN())\n",
    "names.append('ADASYN')"
   ]
  },
  {
   "cell_type": "markdown",
   "metadata": {},
   "source": [
    "<a id=\"13\"></a>\n",
    "### Evaluate Machine Learning Models"
   ]
  },
  {
   "cell_type": "code",
   "execution_count": 36,
   "metadata": {},
   "outputs": [],
   "source": [
    "models_class = [] \n",
    "models_class.append(('LR', LogisticRegression())) \n",
    "models_class.append(('KNN', KNeighborsClassifier()))\n",
    "models_class.append(('SVM', SVC())) \n",
    "models_class.append(('NB', GaussianNB()))\n",
    "models_class.append(('DTC', DecisionTreeClassifier()))\n",
    "models_class.append(('ABC', AdaBoostClassifier()))\n",
    "models_class.append(('GBC', GradientBoostingClassifier()))\n",
    "models_class.append(('RFC', RandomForestClassifier()))\n",
    "models_class.append(('ETC', ExtraTreesClassifier()))\n",
    "models_class.append(('XGB', XGBClassifier()))\n",
    "models_class.append(('MLP', MLPClassifier()))"
   ]
  },
  {
   "cell_type": "markdown",
   "metadata": {},
   "source": [
    "<a id=\"14\"></a>\n",
    "### Choose Best Models"
   ]
  },
  {
   "cell_type": "code",
   "execution_count": 37,
   "metadata": {
    "scrolled": false
   },
   "outputs": [
    {
     "name": "stdout",
     "output_type": "stream",
     "text": [
      "Model Name:LR Sample Name:ROS Model ROC:0.903 Model Std:0.070\n",
      "Model Name:KNN Sample Name:ROS Model ROC:0.734 Model Std:0.044\n",
      "Model Name:SVM Sample Name:ROS Model ROC:0.894 Model Std:0.067\n",
      "Model Name:NB Sample Name:ROS Model ROC:0.791 Model Std:0.052\n",
      "Model Name:DTC Sample Name:ROS Model ROC:0.643 Model Std:0.039\n",
      "Model Name:ABC Sample Name:ROS Model ROC:0.905 Model Std:0.066\n",
      "Model Name:GBC Sample Name:ROS Model ROC:0.907 Model Std:0.067\n",
      "Model Name:RFC Sample Name:ROS Model ROC:0.876 Model Std:0.076\n",
      "Model Name:ETC Sample Name:ROS Model ROC:0.848 Model Std:0.072\n",
      "Model Name:XGB Sample Name:ROS Model ROC:0.887 Model Std:0.069\n",
      "Model Name:MLP Sample Name:ROS Model ROC:0.881 Model Std:0.069\n",
      "Model Name:LR Sample Name:SMOTE Model ROC:0.902 Model Std:0.070\n",
      "Model Name:KNN Sample Name:SMOTE Model ROC:0.758 Model Std:0.048\n",
      "Model Name:SVM Sample Name:SMOTE Model ROC:0.891 Model Std:0.066\n",
      "Model Name:NB Sample Name:SMOTE Model ROC:0.768 Model Std:0.054\n",
      "Model Name:DTC Sample Name:SMOTE Model ROC:0.678 Model Std:0.034\n",
      "Model Name:ABC Sample Name:SMOTE Model ROC:0.897 Model Std:0.067\n",
      "Model Name:GBC Sample Name:SMOTE Model ROC:0.903 Model Std:0.069\n",
      "Model Name:RFC Sample Name:SMOTE Model ROC:0.879 Model Std:0.073\n",
      "Model Name:ETC Sample Name:SMOTE Model ROC:0.856 Model Std:0.071\n",
      "Model Name:XGB Sample Name:SMOTE Model ROC:0.890 Model Std:0.067\n",
      "Model Name:MLP Sample Name:SMOTE Model ROC:0.873 Model Std:0.067\n",
      "Model Name:LR Sample Name:BLSMOTE Model ROC:0.902 Model Std:0.070\n",
      "Model Name:KNN Sample Name:BLSMOTE Model ROC:0.758 Model Std:0.049\n",
      "Model Name:SVM Sample Name:BLSMOTE Model ROC:0.890 Model Std:0.066\n",
      "Model Name:NB Sample Name:BLSMOTE Model ROC:0.772 Model Std:0.054\n",
      "Model Name:DTC Sample Name:BLSMOTE Model ROC:0.683 Model Std:0.040\n",
      "Model Name:ABC Sample Name:BLSMOTE Model ROC:0.898 Model Std:0.068\n",
      "Model Name:GBC Sample Name:BLSMOTE Model ROC:0.903 Model Std:0.068\n",
      "Model Name:RFC Sample Name:BLSMOTE Model ROC:0.880 Model Std:0.073\n",
      "Model Name:ETC Sample Name:BLSMOTE Model ROC:0.859 Model Std:0.073\n",
      "Model Name:XGB Sample Name:BLSMOTE Model ROC:0.891 Model Std:0.066\n",
      "Model Name:MLP Sample Name:BLSMOTE Model ROC:0.878 Model Std:0.068\n",
      "Model Name:LR Sample Name:SVMSMOTE Model ROC:0.901 Model Std:0.072\n",
      "Model Name:KNN Sample Name:SVMSMOTE Model ROC:0.757 Model Std:0.049\n",
      "Model Name:SVM Sample Name:SVMSMOTE Model ROC:0.895 Model Std:0.068\n",
      "Model Name:NB Sample Name:SVMSMOTE Model ROC:0.737 Model Std:0.060\n",
      "Model Name:DTC Sample Name:SVMSMOTE Model ROC:0.681 Model Std:0.037\n",
      "Model Name:ABC Sample Name:SVMSMOTE Model ROC:0.899 Model Std:0.067\n",
      "Model Name:GBC Sample Name:SVMSMOTE Model ROC:0.902 Model Std:0.068\n",
      "Model Name:RFC Sample Name:SVMSMOTE Model ROC:0.885 Model Std:0.073\n",
      "Model Name:ETC Sample Name:SVMSMOTE Model ROC:0.858 Model Std:0.073\n",
      "Model Name:XGB Sample Name:SVMSMOTE Model ROC:0.891 Model Std:0.067\n",
      "Model Name:MLP Sample Name:SVMSMOTE Model ROC:0.881 Model Std:0.070\n",
      "Model Name:LR Sample Name:ADASYN Model ROC:0.901 Model Std:0.069\n",
      "Model Name:KNN Sample Name:ADASYN Model ROC:0.757 Model Std:0.046\n",
      "Model Name:SVM Sample Name:ADASYN Model ROC:0.889 Model Std:0.065\n",
      "Model Name:NB Sample Name:ADASYN Model ROC:0.772 Model Std:0.055\n",
      "Model Name:DTC Sample Name:ADASYN Model ROC:0.685 Model Std:0.038\n",
      "Model Name:ABC Sample Name:ADASYN Model ROC:0.896 Model Std:0.067\n",
      "Model Name:GBC Sample Name:ADASYN Model ROC:0.902 Model Std:0.071\n",
      "Model Name:RFC Sample Name:ADASYN Model ROC:0.876 Model Std:0.074\n",
      "Model Name:ETC Sample Name:ADASYN Model ROC:0.855 Model Std:0.070\n",
      "Model Name:XGB Sample Name:ADASYN Model ROC:0.890 Model Std:0.068\n",
      "Model Name:MLP Sample Name:ADASYN Model ROC:0.871 Model Std:0.064\n"
     ]
    }
   ],
   "source": [
    "results = []\n",
    "models_names = []\n",
    "for i in range(len(models)):\n",
    "    # define the model\n",
    "    for name_class, model_class in models_class:\n",
    "        #model = ExtraTreesClassifier(n_estimators=1000)\n",
    "        # define the pipeline steps\n",
    "        steps = [('s', MinMaxScaler()), ('o', models[i]), ('m', model_class)]\n",
    "        # define the pipeline\n",
    "        pipeline = Pipeline(steps=steps)\n",
    "        # evaluate the model and store results\n",
    "        kfold = KFold(n_splits=5, random_state=42) \n",
    "        # evaluate model\n",
    "        scores = cross_val_score(pipeline, X, Y, scoring='roc_auc', cv=kfold, n_jobs=-1)\n",
    "        results.append(scores)\n",
    "        models_names.append(names[i] + name_class)\n",
    "        # summarize and store\n",
    "        print(\"Model Name:{} Sample Name:{} Model ROC:{:.3f} Model Std:{:.3f}\".format(name_class,names[i], scores.mean(), scores.std()))"
   ]
  },
  {
   "cell_type": "markdown",
   "metadata": {},
   "source": [
    "<a id=\"16\"></a>\n",
    "### Results On Graph"
   ]
  },
  {
   "cell_type": "code",
   "execution_count": 41,
   "metadata": {},
   "outputs": [
    {
     "data": {
      "image/png": "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\n",
      "text/plain": [
       "<Figure size 1440x504 with 1 Axes>"
      ]
     },
     "metadata": {
      "needs_background": "light"
     },
     "output_type": "display_data"
    }
   ],
   "source": [
    "# plot the results\n",
    "from matplotlib import pyplot\n",
    "f,ax = plt.subplots(figsize = (20,7))\n",
    "pyplot.boxplot(results, showmeans=True)\n",
    "pyplot.show()"
   ]
  },
  {
   "cell_type": "markdown",
   "metadata": {},
   "source": [
    "<a id=\"17\"></a>\n",
    "### Choose The Best Models and Make Hyper Parameters Tuning\n",
    "* Model Name:GBC Sample Name:ROS Model ROC:0.907 Model Std:0.067"
   ]
  },
  {
   "cell_type": "markdown",
   "metadata": {},
   "source": [
    "#### ReSampling Model"
   ]
  },
  {
   "cell_type": "code",
   "execution_count": 43,
   "metadata": {},
   "outputs": [],
   "source": [
    "ros = RandomOverSampler(random_state=7)\n",
    "x_resampled, y_resampled = ros.fit_sample(X,Y)"
   ]
  },
  {
   "cell_type": "code",
   "execution_count": 45,
   "metadata": {},
   "outputs": [
    {
     "data": {
      "text/plain": [
       "((74124, 24), (74124, 1))"
      ]
     },
     "execution_count": 45,
     "metadata": {},
     "output_type": "execute_result"
    }
   ],
   "source": [
    "x_resampled.shape, y_resampled.shape"
   ]
  },
  {
   "cell_type": "code",
   "execution_count": 48,
   "metadata": {},
   "outputs": [],
   "source": [
    "# Creating Train and Test Datasets\n",
    "x_train, x_test, y_train, y_test = train_test_split(x_resampled, y_resampled, test_size=0.33, random_state=42)"
   ]
  },
  {
   "cell_type": "code",
   "execution_count": 49,
   "metadata": {},
   "outputs": [
    {
     "data": {
      "text/plain": [
       "((49663, 24), (24461, 24), (49663, 1), (24461, 1))"
      ]
     },
     "execution_count": 49,
     "metadata": {},
     "output_type": "execute_result"
    }
   ],
   "source": [
    "x_train.shape, x_test.shape, y_train.shape, y_test.shape"
   ]
  },
  {
   "cell_type": "markdown",
   "metadata": {},
   "source": [
    "#### Tuning Classification Model\n",
    "* it is taking a lot of time, so i will use default parameters."
   ]
  },
  {
   "cell_type": "code",
   "execution_count": null,
   "metadata": {},
   "outputs": [],
   "source": [
    "# Tuning Gradient Boosting Classifier\n",
    "losses = [\"deviance\",\"exponential\"]\n",
    "learning_rates = [0.001, 0.01, 0.1, 1]\n",
    "estimators = [10,50,100,150,200]\n",
    "subsamples = [0.01, 0.1, 1, 5, 10, 15]\n",
    "criterions = [\"friedman_mse\", \"mse\", \"mae\"]\n",
    "param_grid = dict(criterion=criterions, loss=losses) "
   ]
  },
  {
   "cell_type": "code",
   "execution_count": null,
   "metadata": {},
   "outputs": [],
   "source": [
    "gbc = GradientBoostingClassifier()\n",
    "gs = GridSearchCV(estimator=gbc, param_grid=param_grid, scoring=\"roc_auc\", cv=5)\n",
    "grid_search = gs.fit(x_train,y_train)\n",
    "best_score = grid_search.best_score_\n",
    "best_parameters = grid_search.best_params_\n",
    "print(\"Best Score:\",best_score)\n",
    "print(\"Best Parameters:\",best_parameters)"
   ]
  },
  {
   "cell_type": "markdown",
   "metadata": {},
   "source": [
    "#### Classification"
   ]
  },
  {
   "cell_type": "code",
   "execution_count": 58,
   "metadata": {},
   "outputs": [],
   "source": [
    "gbc = GradientBoostingClassifier()\n",
    "gbc.fit(x_train,y_train)\n",
    "y_pred = gbc.predict(x_test)"
   ]
  },
  {
   "cell_type": "code",
   "execution_count": 77,
   "metadata": {},
   "outputs": [
    {
     "name": "stdout",
     "output_type": "stream",
     "text": [
      "[[10248  2008]\n",
      " [ 1801 10404]]\n"
     ]
    }
   ],
   "source": [
    "#confussion matrix: \n",
    "from sklearn import metrics\n",
    "gbc_cm = confusion_matrix(y_test,y_pred)\n",
    "gbc_acc = metrics.accuracy_score(y_test, y_pred)\n",
    "print(gbc_cm)"
   ]
  },
  {
   "cell_type": "code",
   "execution_count": 78,
   "metadata": {},
   "outputs": [
    {
     "name": "stdout",
     "output_type": "stream",
     "text": [
      "0.8442827357834921\n"
     ]
    }
   ],
   "source": [
    "# Accuracy\n",
    "print(gbc_acc)"
   ]
  },
  {
   "cell_type": "code",
   "execution_count": 72,
   "metadata": {},
   "outputs": [
    {
     "data": {
      "text/html": [
       "<div>\n",
       "<style scoped>\n",
       "    .dataframe tbody tr th:only-of-type {\n",
       "        vertical-align: middle;\n",
       "    }\n",
       "\n",
       "    .dataframe tbody tr th {\n",
       "        vertical-align: top;\n",
       "    }\n",
       "\n",
       "    .dataframe thead th {\n",
       "        text-align: right;\n",
       "    }\n",
       "</style>\n",
       "<table border=\"1\" class=\"dataframe\">\n",
       "  <thead>\n",
       "    <tr style=\"text-align: right;\">\n",
       "      <th></th>\n",
       "      <th>age</th>\n",
       "      <th>duration</th>\n",
       "      <th>campaign</th>\n",
       "      <th>job_blue-collar</th>\n",
       "      <th>job_entrepreneur</th>\n",
       "      <th>job_housemaid</th>\n",
       "      <th>job_management</th>\n",
       "      <th>job_retired</th>\n",
       "      <th>job_self-employed</th>\n",
       "      <th>job_services</th>\n",
       "      <th>job_student</th>\n",
       "      <th>job_technician</th>\n",
       "      <th>job_unemployed</th>\n",
       "      <th>job_unknown</th>\n",
       "      <th>marital_married</th>\n",
       "      <th>marital_single</th>\n",
       "      <th>education_secondary</th>\n",
       "      <th>education_tertiary</th>\n",
       "      <th>education_unknown</th>\n",
       "      <th>default_yes</th>\n",
       "      <th>housing_yes</th>\n",
       "      <th>loan_yes</th>\n",
       "      <th>contact_telephone</th>\n",
       "      <th>contact_unknown</th>\n",
       "    </tr>\n",
       "  </thead>\n",
       "  <tbody>\n",
       "    <tr>\n",
       "      <th>0</th>\n",
       "      <td>0.02877</td>\n",
       "      <td>0.80791</td>\n",
       "      <td>0.019613</td>\n",
       "      <td>0.002417</td>\n",
       "      <td>0.00127</td>\n",
       "      <td>0.000474</td>\n",
       "      <td>0.000126</td>\n",
       "      <td>0.000108</td>\n",
       "      <td>0.00011</td>\n",
       "      <td>0.001047</td>\n",
       "      <td>0.002707</td>\n",
       "      <td>0.000207</td>\n",
       "      <td>0.0</td>\n",
       "      <td>0.000058</td>\n",
       "      <td>0.002388</td>\n",
       "      <td>0.0001</td>\n",
       "      <td>0.001194</td>\n",
       "      <td>0.010513</td>\n",
       "      <td>0.000088</td>\n",
       "      <td>0.000164</td>\n",
       "      <td>0.038984</td>\n",
       "      <td>0.009043</td>\n",
       "      <td>0.002531</td>\n",
       "      <td>0.070178</td>\n",
       "    </tr>\n",
       "  </tbody>\n",
       "</table>\n",
       "</div>"
      ],
      "text/plain": [
       "       age  duration  campaign  job_blue-collar  job_entrepreneur  \\\n",
       "0  0.02877   0.80791  0.019613         0.002417           0.00127   \n",
       "\n",
       "   job_housemaid  job_management  job_retired  job_self-employed  \\\n",
       "0       0.000474        0.000126     0.000108            0.00011   \n",
       "\n",
       "   job_services  job_student  job_technician  job_unemployed  job_unknown  \\\n",
       "0      0.001047     0.002707        0.000207             0.0     0.000058   \n",
       "\n",
       "   marital_married  marital_single  education_secondary  education_tertiary  \\\n",
       "0         0.002388          0.0001             0.001194            0.010513   \n",
       "\n",
       "   education_unknown  default_yes  housing_yes  loan_yes  contact_telephone  \\\n",
       "0           0.000088     0.000164     0.038984  0.009043           0.002531   \n",
       "\n",
       "   contact_unknown  \n",
       "0         0.070178  "
      ]
     },
     "execution_count": 72,
     "metadata": {},
     "output_type": "execute_result"
    }
   ],
   "source": [
    "# Feature Importance\n",
    "\n",
    "# You can see that we are given an importance score \n",
    "# for each attribute where the larger the score, \n",
    "# the more important the attribute.\n",
    "feature = pd.DataFrame(data=[gbc.feature_importances_], columns=X.columns)\n",
    "feature.head()"
   ]
  },
  {
   "cell_type": "code",
   "execution_count": 75,
   "metadata": {},
   "outputs": [
    {
     "name": "stdout",
     "output_type": "stream",
     "text": [
      "              precision    recall  f1-score   support\n",
      "\n",
      "           0       0.85      0.84      0.84     12256\n",
      "           1       0.84      0.85      0.85     12205\n",
      "\n",
      "    accuracy                           0.84     24461\n",
      "   macro avg       0.84      0.84      0.84     24461\n",
      "weighted avg       0.84      0.84      0.84     24461\n",
      "\n"
     ]
    }
   ],
   "source": [
    "# Classiﬁcation Report\n",
    "report = classification_report(y_test, y_pred) \n",
    "print(report)"
   ]
  },
  {
   "cell_type": "code",
   "execution_count": 76,
   "metadata": {},
   "outputs": [
    {
     "data": {
      "image/png": "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\n",
      "text/plain": [
       "<Figure size 432x288 with 1 Axes>"
      ]
     },
     "metadata": {
      "needs_background": "light"
     },
     "output_type": "display_data"
    }
   ],
   "source": [
    "# ROC Eğrisi:\n",
    "import sklearn.metrics as metrics\n",
    "# calculate the fpr and tpr for all thresholds of the classification\n",
    "probs = gbc.predict_proba(x_test)\n",
    "preds = probs[:,1]\n",
    "fpr, tpr, threshold = metrics.roc_curve(y_test, preds)\n",
    "roc_auc = metrics.auc(fpr, tpr)\n",
    "\n",
    "# method I: plt\n",
    "plt.title('Receiver Operating Characteristic')\n",
    "plt.plot(fpr, tpr, 'b', label = 'AUC = %0.3f' % roc_auc)\n",
    "plt.legend(loc = 'lower right')\n",
    "plt.plot([0, 1], [0, 1],'r--')\n",
    "plt.xlim([0, 1])\n",
    "plt.ylim([0, 1])\n",
    "plt.ylabel('True Positive Rate')\n",
    "plt.xlabel('False Positive Rate')\n",
    "plt.show()"
   ]
  },
  {
   "cell_type": "markdown",
   "metadata": {},
   "source": [
    "<a id = \"18\"></a><br>\n",
    "## Customer Segmentation"
   ]
  },
  {
   "cell_type": "markdown",
   "metadata": {},
   "source": [
    "* We are also interested in finding customers who are more likely to buy the investment product. Determine the segment(s) of customers our client should prioritize.\n",
    "\n",
    "* What makes the customers buy? Tell us which feature we should be focusing more on."
   ]
  },
  {
   "cell_type": "code",
   "execution_count": 137,
   "metadata": {},
   "outputs": [
    {
     "data": {
      "text/html": [
       "<div>\n",
       "<style scoped>\n",
       "    .dataframe tbody tr th:only-of-type {\n",
       "        vertical-align: middle;\n",
       "    }\n",
       "\n",
       "    .dataframe tbody tr th {\n",
       "        vertical-align: top;\n",
       "    }\n",
       "\n",
       "    .dataframe thead th {\n",
       "        text-align: right;\n",
       "    }\n",
       "</style>\n",
       "<table border=\"1\" class=\"dataframe\">\n",
       "  <thead>\n",
       "    <tr style=\"text-align: right;\">\n",
       "      <th></th>\n",
       "      <th>age</th>\n",
       "      <th>job</th>\n",
       "      <th>marital</th>\n",
       "      <th>education</th>\n",
       "      <th>default</th>\n",
       "      <th>balance</th>\n",
       "      <th>housing</th>\n",
       "      <th>loan</th>\n",
       "      <th>contact</th>\n",
       "      <th>day</th>\n",
       "      <th>month</th>\n",
       "      <th>duration</th>\n",
       "      <th>campaign</th>\n",
       "      <th>y</th>\n",
       "    </tr>\n",
       "  </thead>\n",
       "  <tbody>\n",
       "    <tr>\n",
       "      <th>0</th>\n",
       "      <td>58</td>\n",
       "      <td>management</td>\n",
       "      <td>married</td>\n",
       "      <td>tertiary</td>\n",
       "      <td>no</td>\n",
       "      <td>2143</td>\n",
       "      <td>yes</td>\n",
       "      <td>no</td>\n",
       "      <td>unknown</td>\n",
       "      <td>5</td>\n",
       "      <td>may</td>\n",
       "      <td>261</td>\n",
       "      <td>1</td>\n",
       "      <td>no</td>\n",
       "    </tr>\n",
       "    <tr>\n",
       "      <th>1</th>\n",
       "      <td>44</td>\n",
       "      <td>technician</td>\n",
       "      <td>single</td>\n",
       "      <td>secondary</td>\n",
       "      <td>no</td>\n",
       "      <td>29</td>\n",
       "      <td>yes</td>\n",
       "      <td>no</td>\n",
       "      <td>unknown</td>\n",
       "      <td>5</td>\n",
       "      <td>may</td>\n",
       "      <td>151</td>\n",
       "      <td>1</td>\n",
       "      <td>no</td>\n",
       "    </tr>\n",
       "    <tr>\n",
       "      <th>2</th>\n",
       "      <td>33</td>\n",
       "      <td>entrepreneur</td>\n",
       "      <td>married</td>\n",
       "      <td>secondary</td>\n",
       "      <td>no</td>\n",
       "      <td>2</td>\n",
       "      <td>yes</td>\n",
       "      <td>yes</td>\n",
       "      <td>unknown</td>\n",
       "      <td>5</td>\n",
       "      <td>may</td>\n",
       "      <td>76</td>\n",
       "      <td>1</td>\n",
       "      <td>no</td>\n",
       "    </tr>\n",
       "    <tr>\n",
       "      <th>3</th>\n",
       "      <td>47</td>\n",
       "      <td>blue-collar</td>\n",
       "      <td>married</td>\n",
       "      <td>unknown</td>\n",
       "      <td>no</td>\n",
       "      <td>1506</td>\n",
       "      <td>yes</td>\n",
       "      <td>no</td>\n",
       "      <td>unknown</td>\n",
       "      <td>5</td>\n",
       "      <td>may</td>\n",
       "      <td>92</td>\n",
       "      <td>1</td>\n",
       "      <td>no</td>\n",
       "    </tr>\n",
       "    <tr>\n",
       "      <th>4</th>\n",
       "      <td>33</td>\n",
       "      <td>unknown</td>\n",
       "      <td>single</td>\n",
       "      <td>unknown</td>\n",
       "      <td>no</td>\n",
       "      <td>1</td>\n",
       "      <td>no</td>\n",
       "      <td>no</td>\n",
       "      <td>unknown</td>\n",
       "      <td>5</td>\n",
       "      <td>may</td>\n",
       "      <td>198</td>\n",
       "      <td>1</td>\n",
       "      <td>no</td>\n",
       "    </tr>\n",
       "  </tbody>\n",
       "</table>\n",
       "</div>"
      ],
      "text/plain": [
       "   age           job  marital  education default  balance housing loan  \\\n",
       "0   58    management  married   tertiary      no     2143     yes   no   \n",
       "1   44    technician   single  secondary      no       29     yes   no   \n",
       "2   33  entrepreneur  married  secondary      no        2     yes  yes   \n",
       "3   47   blue-collar  married    unknown      no     1506     yes   no   \n",
       "4   33       unknown   single    unknown      no        1      no   no   \n",
       "\n",
       "   contact  day month  duration  campaign   y  \n",
       "0  unknown    5   may       261         1  no  \n",
       "1  unknown    5   may       151         1  no  \n",
       "2  unknown    5   may        76         1  no  \n",
       "3  unknown    5   may        92         1  no  \n",
       "4  unknown    5   may       198         1  no  "
      ]
     },
     "execution_count": 137,
     "metadata": {},
     "output_type": "execute_result"
    }
   ],
   "source": [
    "df.head()"
   ]
  },
  {
   "cell_type": "code",
   "execution_count": 138,
   "metadata": {},
   "outputs": [
    {
     "data": {
      "text/html": [
       "<div>\n",
       "<style scoped>\n",
       "    .dataframe tbody tr th:only-of-type {\n",
       "        vertical-align: middle;\n",
       "    }\n",
       "\n",
       "    .dataframe tbody tr th {\n",
       "        vertical-align: top;\n",
       "    }\n",
       "\n",
       "    .dataframe thead th {\n",
       "        text-align: right;\n",
       "    }\n",
       "</style>\n",
       "<table border=\"1\" class=\"dataframe\">\n",
       "  <thead>\n",
       "    <tr style=\"text-align: right;\">\n",
       "      <th></th>\n",
       "      <th>age</th>\n",
       "      <th>job</th>\n",
       "      <th>marital</th>\n",
       "      <th>education</th>\n",
       "      <th>default</th>\n",
       "      <th>balance</th>\n",
       "      <th>housing</th>\n",
       "      <th>loan</th>\n",
       "      <th>contact</th>\n",
       "      <th>day</th>\n",
       "      <th>month</th>\n",
       "      <th>duration</th>\n",
       "      <th>campaign</th>\n",
       "      <th>y</th>\n",
       "      <th>year</th>\n",
       "    </tr>\n",
       "  </thead>\n",
       "  <tbody>\n",
       "    <tr>\n",
       "      <th>0</th>\n",
       "      <td>58</td>\n",
       "      <td>management</td>\n",
       "      <td>married</td>\n",
       "      <td>tertiary</td>\n",
       "      <td>no</td>\n",
       "      <td>2143</td>\n",
       "      <td>yes</td>\n",
       "      <td>no</td>\n",
       "      <td>unknown</td>\n",
       "      <td>5</td>\n",
       "      <td>may</td>\n",
       "      <td>261</td>\n",
       "      <td>1</td>\n",
       "      <td>no</td>\n",
       "      <td>2019</td>\n",
       "    </tr>\n",
       "    <tr>\n",
       "      <th>1</th>\n",
       "      <td>44</td>\n",
       "      <td>technician</td>\n",
       "      <td>single</td>\n",
       "      <td>secondary</td>\n",
       "      <td>no</td>\n",
       "      <td>29</td>\n",
       "      <td>yes</td>\n",
       "      <td>no</td>\n",
       "      <td>unknown</td>\n",
       "      <td>5</td>\n",
       "      <td>may</td>\n",
       "      <td>151</td>\n",
       "      <td>1</td>\n",
       "      <td>no</td>\n",
       "      <td>2019</td>\n",
       "    </tr>\n",
       "    <tr>\n",
       "      <th>2</th>\n",
       "      <td>33</td>\n",
       "      <td>entrepreneur</td>\n",
       "      <td>married</td>\n",
       "      <td>secondary</td>\n",
       "      <td>no</td>\n",
       "      <td>2</td>\n",
       "      <td>yes</td>\n",
       "      <td>yes</td>\n",
       "      <td>unknown</td>\n",
       "      <td>5</td>\n",
       "      <td>may</td>\n",
       "      <td>76</td>\n",
       "      <td>1</td>\n",
       "      <td>no</td>\n",
       "      <td>2019</td>\n",
       "    </tr>\n",
       "    <tr>\n",
       "      <th>3</th>\n",
       "      <td>47</td>\n",
       "      <td>blue-collar</td>\n",
       "      <td>married</td>\n",
       "      <td>unknown</td>\n",
       "      <td>no</td>\n",
       "      <td>1506</td>\n",
       "      <td>yes</td>\n",
       "      <td>no</td>\n",
       "      <td>unknown</td>\n",
       "      <td>5</td>\n",
       "      <td>may</td>\n",
       "      <td>92</td>\n",
       "      <td>1</td>\n",
       "      <td>no</td>\n",
       "      <td>2019</td>\n",
       "    </tr>\n",
       "    <tr>\n",
       "      <th>4</th>\n",
       "      <td>33</td>\n",
       "      <td>unknown</td>\n",
       "      <td>single</td>\n",
       "      <td>unknown</td>\n",
       "      <td>no</td>\n",
       "      <td>1</td>\n",
       "      <td>no</td>\n",
       "      <td>no</td>\n",
       "      <td>unknown</td>\n",
       "      <td>5</td>\n",
       "      <td>may</td>\n",
       "      <td>198</td>\n",
       "      <td>1</td>\n",
       "      <td>no</td>\n",
       "      <td>2019</td>\n",
       "    </tr>\n",
       "  </tbody>\n",
       "</table>\n",
       "</div>"
      ],
      "text/plain": [
       "   age           job  marital  education default  balance housing loan  \\\n",
       "0   58    management  married   tertiary      no     2143     yes   no   \n",
       "1   44    technician   single  secondary      no       29     yes   no   \n",
       "2   33  entrepreneur  married  secondary      no        2     yes  yes   \n",
       "3   47   blue-collar  married    unknown      no     1506     yes   no   \n",
       "4   33       unknown   single    unknown      no        1      no   no   \n",
       "\n",
       "   contact  day month  duration  campaign   y  year  \n",
       "0  unknown    5   may       261         1  no  2019  \n",
       "1  unknown    5   may       151         1  no  2019  \n",
       "2  unknown    5   may        76         1  no  2019  \n",
       "3  unknown    5   may        92         1  no  2019  \n",
       "4  unknown    5   may       198         1  no  2019  "
      ]
     },
     "execution_count": 138,
     "metadata": {},
     "output_type": "execute_result"
    }
   ],
   "source": [
    "df_date = df.copy()\n",
    "df_date[\"year\"] = 2019\n",
    "df_date.head()"
   ]
  },
  {
   "cell_type": "code",
   "execution_count": 141,
   "metadata": {},
   "outputs": [],
   "source": [
    "# change months to numeric values\n",
    "df_date.month = df_date.month.replace(\"jan\",\"1\")\n",
    "df_date.month = df_date.month.replace(\"feb\",\"2\")\n",
    "df_date.month = df_date.month.replace(\"mar\",\"3\")\n",
    "df_date.month = df_date.month.replace(\"apr\",\"4\")\n",
    "df_date.month = df_date.month.replace(\"may\",\"5\")\n",
    "df_date.month = df_date.month.replace(\"jun\",\"6\")\n",
    "df_date.month = df_date.month.replace(\"jul\",\"7\")\n",
    "df_date.month = df_date.month.replace(\"aug\",\"8\")\n",
    "df_date.month = df_date.month.replace(\"oct\",\"10\")\n",
    "df_date.month = df_date.month.replace(\"nov\",\"11\")\n",
    "df_date.month = df_date.month.replace(\"dec\",\"12\")"
   ]
  },
  {
   "cell_type": "code",
   "execution_count": 142,
   "metadata": {},
   "outputs": [
    {
     "data": {
      "text/html": [
       "<div>\n",
       "<style scoped>\n",
       "    .dataframe tbody tr th:only-of-type {\n",
       "        vertical-align: middle;\n",
       "    }\n",
       "\n",
       "    .dataframe tbody tr th {\n",
       "        vertical-align: top;\n",
       "    }\n",
       "\n",
       "    .dataframe thead th {\n",
       "        text-align: right;\n",
       "    }\n",
       "</style>\n",
       "<table border=\"1\" class=\"dataframe\">\n",
       "  <thead>\n",
       "    <tr style=\"text-align: right;\">\n",
       "      <th></th>\n",
       "      <th>age</th>\n",
       "      <th>job</th>\n",
       "      <th>marital</th>\n",
       "      <th>education</th>\n",
       "      <th>default</th>\n",
       "      <th>balance</th>\n",
       "      <th>housing</th>\n",
       "      <th>loan</th>\n",
       "      <th>contact</th>\n",
       "      <th>day</th>\n",
       "      <th>month</th>\n",
       "      <th>duration</th>\n",
       "      <th>campaign</th>\n",
       "      <th>y</th>\n",
       "      <th>year</th>\n",
       "    </tr>\n",
       "  </thead>\n",
       "  <tbody>\n",
       "    <tr>\n",
       "      <th>0</th>\n",
       "      <td>58</td>\n",
       "      <td>management</td>\n",
       "      <td>married</td>\n",
       "      <td>tertiary</td>\n",
       "      <td>no</td>\n",
       "      <td>2143</td>\n",
       "      <td>yes</td>\n",
       "      <td>no</td>\n",
       "      <td>unknown</td>\n",
       "      <td>5</td>\n",
       "      <td>5</td>\n",
       "      <td>261</td>\n",
       "      <td>1</td>\n",
       "      <td>no</td>\n",
       "      <td>2019</td>\n",
       "    </tr>\n",
       "    <tr>\n",
       "      <th>1</th>\n",
       "      <td>44</td>\n",
       "      <td>technician</td>\n",
       "      <td>single</td>\n",
       "      <td>secondary</td>\n",
       "      <td>no</td>\n",
       "      <td>29</td>\n",
       "      <td>yes</td>\n",
       "      <td>no</td>\n",
       "      <td>unknown</td>\n",
       "      <td>5</td>\n",
       "      <td>5</td>\n",
       "      <td>151</td>\n",
       "      <td>1</td>\n",
       "      <td>no</td>\n",
       "      <td>2019</td>\n",
       "    </tr>\n",
       "    <tr>\n",
       "      <th>2</th>\n",
       "      <td>33</td>\n",
       "      <td>entrepreneur</td>\n",
       "      <td>married</td>\n",
       "      <td>secondary</td>\n",
       "      <td>no</td>\n",
       "      <td>2</td>\n",
       "      <td>yes</td>\n",
       "      <td>yes</td>\n",
       "      <td>unknown</td>\n",
       "      <td>5</td>\n",
       "      <td>5</td>\n",
       "      <td>76</td>\n",
       "      <td>1</td>\n",
       "      <td>no</td>\n",
       "      <td>2019</td>\n",
       "    </tr>\n",
       "    <tr>\n",
       "      <th>3</th>\n",
       "      <td>47</td>\n",
       "      <td>blue-collar</td>\n",
       "      <td>married</td>\n",
       "      <td>unknown</td>\n",
       "      <td>no</td>\n",
       "      <td>1506</td>\n",
       "      <td>yes</td>\n",
       "      <td>no</td>\n",
       "      <td>unknown</td>\n",
       "      <td>5</td>\n",
       "      <td>5</td>\n",
       "      <td>92</td>\n",
       "      <td>1</td>\n",
       "      <td>no</td>\n",
       "      <td>2019</td>\n",
       "    </tr>\n",
       "    <tr>\n",
       "      <th>4</th>\n",
       "      <td>33</td>\n",
       "      <td>unknown</td>\n",
       "      <td>single</td>\n",
       "      <td>unknown</td>\n",
       "      <td>no</td>\n",
       "      <td>1</td>\n",
       "      <td>no</td>\n",
       "      <td>no</td>\n",
       "      <td>unknown</td>\n",
       "      <td>5</td>\n",
       "      <td>5</td>\n",
       "      <td>198</td>\n",
       "      <td>1</td>\n",
       "      <td>no</td>\n",
       "      <td>2019</td>\n",
       "    </tr>\n",
       "  </tbody>\n",
       "</table>\n",
       "</div>"
      ],
      "text/plain": [
       "   age           job  marital  education default  balance housing loan  \\\n",
       "0   58    management  married   tertiary      no     2143     yes   no   \n",
       "1   44    technician   single  secondary      no       29     yes   no   \n",
       "2   33  entrepreneur  married  secondary      no        2     yes  yes   \n",
       "3   47   blue-collar  married    unknown      no     1506     yes   no   \n",
       "4   33       unknown   single    unknown      no        1      no   no   \n",
       "\n",
       "   contact  day month  duration  campaign   y  year  \n",
       "0  unknown    5     5       261         1  no  2019  \n",
       "1  unknown    5     5       151         1  no  2019  \n",
       "2  unknown    5     5        76         1  no  2019  \n",
       "3  unknown    5     5        92         1  no  2019  \n",
       "4  unknown    5     5       198         1  no  2019  "
      ]
     },
     "execution_count": 142,
     "metadata": {},
     "output_type": "execute_result"
    }
   ],
   "source": [
    "df_date.head()"
   ]
  },
  {
   "cell_type": "code",
   "execution_count": 143,
   "metadata": {},
   "outputs": [],
   "source": [
    "#create \"Date\" Feature\n",
    "df_date[\"date\"] = df_date['year'].map(str) + \"/\" + df_date['month'].map(str) + \"/\" + df_date['day'].map(str)"
   ]
  },
  {
   "cell_type": "code",
   "execution_count": 144,
   "metadata": {},
   "outputs": [
    {
     "data": {
      "text/html": [
       "<div>\n",
       "<style scoped>\n",
       "    .dataframe tbody tr th:only-of-type {\n",
       "        vertical-align: middle;\n",
       "    }\n",
       "\n",
       "    .dataframe tbody tr th {\n",
       "        vertical-align: top;\n",
       "    }\n",
       "\n",
       "    .dataframe thead th {\n",
       "        text-align: right;\n",
       "    }\n",
       "</style>\n",
       "<table border=\"1\" class=\"dataframe\">\n",
       "  <thead>\n",
       "    <tr style=\"text-align: right;\">\n",
       "      <th></th>\n",
       "      <th>age</th>\n",
       "      <th>job</th>\n",
       "      <th>marital</th>\n",
       "      <th>education</th>\n",
       "      <th>default</th>\n",
       "      <th>balance</th>\n",
       "      <th>housing</th>\n",
       "      <th>loan</th>\n",
       "      <th>contact</th>\n",
       "      <th>day</th>\n",
       "      <th>month</th>\n",
       "      <th>duration</th>\n",
       "      <th>campaign</th>\n",
       "      <th>y</th>\n",
       "      <th>year</th>\n",
       "      <th>date</th>\n",
       "    </tr>\n",
       "  </thead>\n",
       "  <tbody>\n",
       "    <tr>\n",
       "      <th>0</th>\n",
       "      <td>58</td>\n",
       "      <td>management</td>\n",
       "      <td>married</td>\n",
       "      <td>tertiary</td>\n",
       "      <td>no</td>\n",
       "      <td>2143</td>\n",
       "      <td>yes</td>\n",
       "      <td>no</td>\n",
       "      <td>unknown</td>\n",
       "      <td>5</td>\n",
       "      <td>5</td>\n",
       "      <td>261</td>\n",
       "      <td>1</td>\n",
       "      <td>no</td>\n",
       "      <td>2019</td>\n",
       "      <td>2019/5/5</td>\n",
       "    </tr>\n",
       "    <tr>\n",
       "      <th>1</th>\n",
       "      <td>44</td>\n",
       "      <td>technician</td>\n",
       "      <td>single</td>\n",
       "      <td>secondary</td>\n",
       "      <td>no</td>\n",
       "      <td>29</td>\n",
       "      <td>yes</td>\n",
       "      <td>no</td>\n",
       "      <td>unknown</td>\n",
       "      <td>5</td>\n",
       "      <td>5</td>\n",
       "      <td>151</td>\n",
       "      <td>1</td>\n",
       "      <td>no</td>\n",
       "      <td>2019</td>\n",
       "      <td>2019/5/5</td>\n",
       "    </tr>\n",
       "    <tr>\n",
       "      <th>2</th>\n",
       "      <td>33</td>\n",
       "      <td>entrepreneur</td>\n",
       "      <td>married</td>\n",
       "      <td>secondary</td>\n",
       "      <td>no</td>\n",
       "      <td>2</td>\n",
       "      <td>yes</td>\n",
       "      <td>yes</td>\n",
       "      <td>unknown</td>\n",
       "      <td>5</td>\n",
       "      <td>5</td>\n",
       "      <td>76</td>\n",
       "      <td>1</td>\n",
       "      <td>no</td>\n",
       "      <td>2019</td>\n",
       "      <td>2019/5/5</td>\n",
       "    </tr>\n",
       "    <tr>\n",
       "      <th>3</th>\n",
       "      <td>47</td>\n",
       "      <td>blue-collar</td>\n",
       "      <td>married</td>\n",
       "      <td>unknown</td>\n",
       "      <td>no</td>\n",
       "      <td>1506</td>\n",
       "      <td>yes</td>\n",
       "      <td>no</td>\n",
       "      <td>unknown</td>\n",
       "      <td>5</td>\n",
       "      <td>5</td>\n",
       "      <td>92</td>\n",
       "      <td>1</td>\n",
       "      <td>no</td>\n",
       "      <td>2019</td>\n",
       "      <td>2019/5/5</td>\n",
       "    </tr>\n",
       "    <tr>\n",
       "      <th>4</th>\n",
       "      <td>33</td>\n",
       "      <td>unknown</td>\n",
       "      <td>single</td>\n",
       "      <td>unknown</td>\n",
       "      <td>no</td>\n",
       "      <td>1</td>\n",
       "      <td>no</td>\n",
       "      <td>no</td>\n",
       "      <td>unknown</td>\n",
       "      <td>5</td>\n",
       "      <td>5</td>\n",
       "      <td>198</td>\n",
       "      <td>1</td>\n",
       "      <td>no</td>\n",
       "      <td>2019</td>\n",
       "      <td>2019/5/5</td>\n",
       "    </tr>\n",
       "  </tbody>\n",
       "</table>\n",
       "</div>"
      ],
      "text/plain": [
       "   age           job  marital  education default  balance housing loan  \\\n",
       "0   58    management  married   tertiary      no     2143     yes   no   \n",
       "1   44    technician   single  secondary      no       29     yes   no   \n",
       "2   33  entrepreneur  married  secondary      no        2     yes  yes   \n",
       "3   47   blue-collar  married    unknown      no     1506     yes   no   \n",
       "4   33       unknown   single    unknown      no        1      no   no   \n",
       "\n",
       "   contact  day month  duration  campaign   y  year      date  \n",
       "0  unknown    5     5       261         1  no  2019  2019/5/5  \n",
       "1  unknown    5     5       151         1  no  2019  2019/5/5  \n",
       "2  unknown    5     5        76         1  no  2019  2019/5/5  \n",
       "3  unknown    5     5        92         1  no  2019  2019/5/5  \n",
       "4  unknown    5     5       198         1  no  2019  2019/5/5  "
      ]
     },
     "execution_count": 144,
     "metadata": {},
     "output_type": "execute_result"
    }
   ],
   "source": [
    "df_date.head()"
   ]
  },
  {
   "cell_type": "code",
   "execution_count": 145,
   "metadata": {},
   "outputs": [],
   "source": [
    "# Change Format of Date\n",
    "df_date[\"date\"] = pd.to_datetime(df_date.date,format=\"%Y-%m-%d\")"
   ]
  },
  {
   "cell_type": "code",
   "execution_count": 146,
   "metadata": {},
   "outputs": [
    {
     "data": {
      "text/html": [
       "<div>\n",
       "<style scoped>\n",
       "    .dataframe tbody tr th:only-of-type {\n",
       "        vertical-align: middle;\n",
       "    }\n",
       "\n",
       "    .dataframe tbody tr th {\n",
       "        vertical-align: top;\n",
       "    }\n",
       "\n",
       "    .dataframe thead th {\n",
       "        text-align: right;\n",
       "    }\n",
       "</style>\n",
       "<table border=\"1\" class=\"dataframe\">\n",
       "  <thead>\n",
       "    <tr style=\"text-align: right;\">\n",
       "      <th></th>\n",
       "      <th>age</th>\n",
       "      <th>job</th>\n",
       "      <th>marital</th>\n",
       "      <th>education</th>\n",
       "      <th>default</th>\n",
       "      <th>balance</th>\n",
       "      <th>housing</th>\n",
       "      <th>loan</th>\n",
       "      <th>contact</th>\n",
       "      <th>day</th>\n",
       "      <th>month</th>\n",
       "      <th>duration</th>\n",
       "      <th>campaign</th>\n",
       "      <th>y</th>\n",
       "      <th>year</th>\n",
       "      <th>date</th>\n",
       "    </tr>\n",
       "  </thead>\n",
       "  <tbody>\n",
       "    <tr>\n",
       "      <th>0</th>\n",
       "      <td>58</td>\n",
       "      <td>management</td>\n",
       "      <td>married</td>\n",
       "      <td>tertiary</td>\n",
       "      <td>no</td>\n",
       "      <td>2143</td>\n",
       "      <td>yes</td>\n",
       "      <td>no</td>\n",
       "      <td>unknown</td>\n",
       "      <td>5</td>\n",
       "      <td>5</td>\n",
       "      <td>261</td>\n",
       "      <td>1</td>\n",
       "      <td>no</td>\n",
       "      <td>2019</td>\n",
       "      <td>2019-05-05</td>\n",
       "    </tr>\n",
       "    <tr>\n",
       "      <th>1</th>\n",
       "      <td>44</td>\n",
       "      <td>technician</td>\n",
       "      <td>single</td>\n",
       "      <td>secondary</td>\n",
       "      <td>no</td>\n",
       "      <td>29</td>\n",
       "      <td>yes</td>\n",
       "      <td>no</td>\n",
       "      <td>unknown</td>\n",
       "      <td>5</td>\n",
       "      <td>5</td>\n",
       "      <td>151</td>\n",
       "      <td>1</td>\n",
       "      <td>no</td>\n",
       "      <td>2019</td>\n",
       "      <td>2019-05-05</td>\n",
       "    </tr>\n",
       "    <tr>\n",
       "      <th>2</th>\n",
       "      <td>33</td>\n",
       "      <td>entrepreneur</td>\n",
       "      <td>married</td>\n",
       "      <td>secondary</td>\n",
       "      <td>no</td>\n",
       "      <td>2</td>\n",
       "      <td>yes</td>\n",
       "      <td>yes</td>\n",
       "      <td>unknown</td>\n",
       "      <td>5</td>\n",
       "      <td>5</td>\n",
       "      <td>76</td>\n",
       "      <td>1</td>\n",
       "      <td>no</td>\n",
       "      <td>2019</td>\n",
       "      <td>2019-05-05</td>\n",
       "    </tr>\n",
       "    <tr>\n",
       "      <th>3</th>\n",
       "      <td>47</td>\n",
       "      <td>blue-collar</td>\n",
       "      <td>married</td>\n",
       "      <td>unknown</td>\n",
       "      <td>no</td>\n",
       "      <td>1506</td>\n",
       "      <td>yes</td>\n",
       "      <td>no</td>\n",
       "      <td>unknown</td>\n",
       "      <td>5</td>\n",
       "      <td>5</td>\n",
       "      <td>92</td>\n",
       "      <td>1</td>\n",
       "      <td>no</td>\n",
       "      <td>2019</td>\n",
       "      <td>2019-05-05</td>\n",
       "    </tr>\n",
       "    <tr>\n",
       "      <th>4</th>\n",
       "      <td>33</td>\n",
       "      <td>unknown</td>\n",
       "      <td>single</td>\n",
       "      <td>unknown</td>\n",
       "      <td>no</td>\n",
       "      <td>1</td>\n",
       "      <td>no</td>\n",
       "      <td>no</td>\n",
       "      <td>unknown</td>\n",
       "      <td>5</td>\n",
       "      <td>5</td>\n",
       "      <td>198</td>\n",
       "      <td>1</td>\n",
       "      <td>no</td>\n",
       "      <td>2019</td>\n",
       "      <td>2019-05-05</td>\n",
       "    </tr>\n",
       "  </tbody>\n",
       "</table>\n",
       "</div>"
      ],
      "text/plain": [
       "   age           job  marital  education default  balance housing loan  \\\n",
       "0   58    management  married   tertiary      no     2143     yes   no   \n",
       "1   44    technician   single  secondary      no       29     yes   no   \n",
       "2   33  entrepreneur  married  secondary      no        2     yes  yes   \n",
       "3   47   blue-collar  married    unknown      no     1506     yes   no   \n",
       "4   33       unknown   single    unknown      no        1      no   no   \n",
       "\n",
       "   contact  day month  duration  campaign   y  year       date  \n",
       "0  unknown    5     5       261         1  no  2019 2019-05-05  \n",
       "1  unknown    5     5       151         1  no  2019 2019-05-05  \n",
       "2  unknown    5     5        76         1  no  2019 2019-05-05  \n",
       "3  unknown    5     5        92         1  no  2019 2019-05-05  \n",
       "4  unknown    5     5       198         1  no  2019 2019-05-05  "
      ]
     },
     "execution_count": 146,
     "metadata": {},
     "output_type": "execute_result"
    }
   ],
   "source": [
    "df_date.head()"
   ]
  },
  {
   "cell_type": "markdown",
   "metadata": {},
   "source": [
    "<a id = \"19\"></a><br>\n",
    "## Find Recency, Monetary and Frequency"
   ]
  },
  {
   "cell_type": "markdown",
   "metadata": {},
   "source": [
    "* Recency — How many days ago was their last purchase?\n",
    "* Frequency — How many times has the customer purchased from our store?\n",
    "* Monetary Value — How much do they spend?"
   ]
  },
  {
   "cell_type": "code",
   "execution_count": 148,
   "metadata": {},
   "outputs": [
    {
     "name": "stdout",
     "output_type": "stream",
     "text": [
      "2020-08-25 00:00:00\n"
     ]
    }
   ],
   "source": [
    "from datetime import date\n",
    "import datetime as dt\n",
    "today = dt.datetime(2020,8,25)\n",
    "print(today)"
   ]
  },
  {
   "cell_type": "code",
   "execution_count": 149,
   "metadata": {},
   "outputs": [
    {
     "data": {
      "text/html": [
       "<div>\n",
       "<style scoped>\n",
       "    .dataframe tbody tr th:only-of-type {\n",
       "        vertical-align: middle;\n",
       "    }\n",
       "\n",
       "    .dataframe tbody tr th {\n",
       "        vertical-align: top;\n",
       "    }\n",
       "\n",
       "    .dataframe thead th {\n",
       "        text-align: right;\n",
       "    }\n",
       "</style>\n",
       "<table border=\"1\" class=\"dataframe\">\n",
       "  <thead>\n",
       "    <tr style=\"text-align: right;\">\n",
       "      <th></th>\n",
       "      <th>date</th>\n",
       "    </tr>\n",
       "  </thead>\n",
       "  <tbody>\n",
       "    <tr>\n",
       "      <th>0</th>\n",
       "      <td>478</td>\n",
       "    </tr>\n",
       "    <tr>\n",
       "      <th>1</th>\n",
       "      <td>478</td>\n",
       "    </tr>\n",
       "    <tr>\n",
       "      <th>2</th>\n",
       "      <td>478</td>\n",
       "    </tr>\n",
       "    <tr>\n",
       "      <th>3</th>\n",
       "      <td>478</td>\n",
       "    </tr>\n",
       "    <tr>\n",
       "      <th>4</th>\n",
       "      <td>478</td>\n",
       "    </tr>\n",
       "  </tbody>\n",
       "</table>\n",
       "</div>"
      ],
      "text/plain": [
       "   date\n",
       "0   478\n",
       "1   478\n",
       "2   478\n",
       "3   478\n",
       "4   478"
      ]
     },
     "execution_count": 149,
     "metadata": {},
     "output_type": "execute_result"
    }
   ],
   "source": [
    "# Recency and Monetary \n",
    "data_x = df_date.groupby(df.index).agg({'date': lambda x: (today - x.max()).days})\n",
    "data_x.head()"
   ]
  },
  {
   "cell_type": "code",
   "execution_count": 159,
   "metadata": {},
   "outputs": [
    {
     "data": {
      "text/html": [
       "<div>\n",
       "<style scoped>\n",
       "    .dataframe tbody tr th:only-of-type {\n",
       "        vertical-align: middle;\n",
       "    }\n",
       "\n",
       "    .dataframe tbody tr th {\n",
       "        vertical-align: top;\n",
       "    }\n",
       "\n",
       "    .dataframe thead th {\n",
       "        text-align: right;\n",
       "    }\n",
       "</style>\n",
       "<table border=\"1\" class=\"dataframe\">\n",
       "  <thead>\n",
       "    <tr style=\"text-align: right;\">\n",
       "      <th></th>\n",
       "      <th>Recency</th>\n",
       "      <th>Frequency</th>\n",
       "      <th>Monetary</th>\n",
       "      <th>campaign</th>\n",
       "      <th>duration</th>\n",
       "    </tr>\n",
       "  </thead>\n",
       "  <tbody>\n",
       "    <tr>\n",
       "      <th>0</th>\n",
       "      <td>478</td>\n",
       "      <td>1</td>\n",
       "      <td>261</td>\n",
       "      <td>1</td>\n",
       "      <td>261</td>\n",
       "    </tr>\n",
       "    <tr>\n",
       "      <th>1</th>\n",
       "      <td>478</td>\n",
       "      <td>1</td>\n",
       "      <td>151</td>\n",
       "      <td>1</td>\n",
       "      <td>151</td>\n",
       "    </tr>\n",
       "    <tr>\n",
       "      <th>2</th>\n",
       "      <td>478</td>\n",
       "      <td>1</td>\n",
       "      <td>76</td>\n",
       "      <td>1</td>\n",
       "      <td>76</td>\n",
       "    </tr>\n",
       "    <tr>\n",
       "      <th>3</th>\n",
       "      <td>478</td>\n",
       "      <td>1</td>\n",
       "      <td>92</td>\n",
       "      <td>1</td>\n",
       "      <td>92</td>\n",
       "    </tr>\n",
       "    <tr>\n",
       "      <th>4</th>\n",
       "      <td>478</td>\n",
       "      <td>1</td>\n",
       "      <td>198</td>\n",
       "      <td>1</td>\n",
       "      <td>198</td>\n",
       "    </tr>\n",
       "  </tbody>\n",
       "</table>\n",
       "</div>"
      ],
      "text/plain": [
       "   Recency  Frequency  Monetary  campaign  duration\n",
       "0      478          1       261         1       261\n",
       "1      478          1       151         1       151\n",
       "2      478          1        76         1        76\n",
       "3      478          1        92         1        92\n",
       "4      478          1       198         1       198"
      ]
     },
     "execution_count": 159,
     "metadata": {},
     "output_type": "execute_result"
    }
   ],
   "source": [
    "data_x[\"campaign\"] = df_date.campaign\n",
    "data_x[\"duration\"] = df_date.duration\n",
    "data_x.head()"
   ]
  },
  {
   "cell_type": "code",
   "execution_count": 155,
   "metadata": {},
   "outputs": [
    {
     "data": {
      "text/html": [
       "<div>\n",
       "<style scoped>\n",
       "    .dataframe tbody tr th:only-of-type {\n",
       "        vertical-align: middle;\n",
       "    }\n",
       "\n",
       "    .dataframe tbody tr th {\n",
       "        vertical-align: top;\n",
       "    }\n",
       "\n",
       "    .dataframe thead th {\n",
       "        text-align: right;\n",
       "    }\n",
       "</style>\n",
       "<table border=\"1\" class=\"dataframe\">\n",
       "  <thead>\n",
       "    <tr style=\"text-align: right;\">\n",
       "      <th></th>\n",
       "      <th>Recency</th>\n",
       "      <th>Frequency</th>\n",
       "      <th>Monetary</th>\n",
       "    </tr>\n",
       "  </thead>\n",
       "  <tbody>\n",
       "    <tr>\n",
       "      <th>0</th>\n",
       "      <td>478</td>\n",
       "      <td>1</td>\n",
       "      <td>261</td>\n",
       "    </tr>\n",
       "    <tr>\n",
       "      <th>1</th>\n",
       "      <td>478</td>\n",
       "      <td>1</td>\n",
       "      <td>151</td>\n",
       "    </tr>\n",
       "    <tr>\n",
       "      <th>2</th>\n",
       "      <td>478</td>\n",
       "      <td>1</td>\n",
       "      <td>76</td>\n",
       "    </tr>\n",
       "    <tr>\n",
       "      <th>3</th>\n",
       "      <td>478</td>\n",
       "      <td>1</td>\n",
       "      <td>92</td>\n",
       "    </tr>\n",
       "    <tr>\n",
       "      <th>4</th>\n",
       "      <td>478</td>\n",
       "      <td>1</td>\n",
       "      <td>198</td>\n",
       "    </tr>\n",
       "  </tbody>\n",
       "</table>\n",
       "</div>"
      ],
      "text/plain": [
       "   Recency  Frequency  Monetary\n",
       "0      478          1       261\n",
       "1      478          1       151\n",
       "2      478          1        76\n",
       "3      478          1        92\n",
       "4      478          1       198"
      ]
     },
     "execution_count": 155,
     "metadata": {},
     "output_type": "execute_result"
    }
   ],
   "source": [
    "# Change Column Name\n",
    "data_x.rename(columns= {'date': 'Recency',\n",
    "                        'campaign': 'Frequency',\n",
    "                        'duration': 'Monetary'}, inplace= True)\n",
    "data_x.head()"
   ]
  },
  {
   "cell_type": "markdown",
   "metadata": {},
   "source": [
    "<a id = \"20\"></a><br>\n",
    "## RFM Segmentation\n",
    "\n",
    "* Customers with the lowest recency, highest frequency and monetary amounts considered as top customers."
   ]
  },
  {
   "cell_type": "code",
   "execution_count": 156,
   "metadata": {},
   "outputs": [],
   "source": [
    "rfm_table = data_x.copy()"
   ]
  },
  {
   "cell_type": "code",
   "execution_count": 157,
   "metadata": {},
   "outputs": [
    {
     "data": {
      "text/html": [
       "<div>\n",
       "<style scoped>\n",
       "    .dataframe tbody tr th:only-of-type {\n",
       "        vertical-align: middle;\n",
       "    }\n",
       "\n",
       "    .dataframe tbody tr th {\n",
       "        vertical-align: top;\n",
       "    }\n",
       "\n",
       "    .dataframe thead th {\n",
       "        text-align: right;\n",
       "    }\n",
       "</style>\n",
       "<table border=\"1\" class=\"dataframe\">\n",
       "  <thead>\n",
       "    <tr style=\"text-align: right;\">\n",
       "      <th></th>\n",
       "      <th>Recency</th>\n",
       "      <th>Frequency</th>\n",
       "      <th>Monetary</th>\n",
       "      <th>Freq_Tile</th>\n",
       "      <th>Rec_Tile</th>\n",
       "      <th>Mone_Tile</th>\n",
       "      <th>RFM Score</th>\n",
       "    </tr>\n",
       "  </thead>\n",
       "  <tbody>\n",
       "    <tr>\n",
       "      <th>27728</th>\n",
       "      <td>242</td>\n",
       "      <td>1</td>\n",
       "      <td>333</td>\n",
       "      <td>1</td>\n",
       "      <td>1</td>\n",
       "      <td>4</td>\n",
       "      <td>114</td>\n",
       "    </tr>\n",
       "    <tr>\n",
       "      <th>27727</th>\n",
       "      <td>247</td>\n",
       "      <td>1</td>\n",
       "      <td>119</td>\n",
       "      <td>1</td>\n",
       "      <td>1</td>\n",
       "      <td>2</td>\n",
       "      <td>112</td>\n",
       "    </tr>\n",
       "    <tr>\n",
       "      <th>27726</th>\n",
       "      <td>256</td>\n",
       "      <td>1</td>\n",
       "      <td>232</td>\n",
       "      <td>1</td>\n",
       "      <td>1</td>\n",
       "      <td>4</td>\n",
       "      <td>114</td>\n",
       "    </tr>\n",
       "    <tr>\n",
       "      <th>27725</th>\n",
       "      <td>257</td>\n",
       "      <td>1</td>\n",
       "      <td>136</td>\n",
       "      <td>1</td>\n",
       "      <td>1</td>\n",
       "      <td>2</td>\n",
       "      <td>112</td>\n",
       "    </tr>\n",
       "    <tr>\n",
       "      <th>27723</th>\n",
       "      <td>258</td>\n",
       "      <td>1</td>\n",
       "      <td>234</td>\n",
       "      <td>1</td>\n",
       "      <td>1</td>\n",
       "      <td>4</td>\n",
       "      <td>114</td>\n",
       "    </tr>\n",
       "  </tbody>\n",
       "</table>\n",
       "</div>"
      ],
      "text/plain": [
       "       Recency  Frequency  Monetary  Freq_Tile  Rec_Tile  Mone_Tile RFM Score\n",
       "27728      242          1       333          1         1          4       114\n",
       "27727      247          1       119          1         1          2       112\n",
       "27726      256          1       232          1         1          4       114\n",
       "27725      257          1       136          1         1          2       112\n",
       "27723      258          1       234          1         1          4       114"
      ]
     },
     "execution_count": 157,
     "metadata": {},
     "output_type": "execute_result"
    }
   ],
   "source": [
    "#Frequency bulma\n",
    "def FScore(x,p,d):\n",
    "    if x <= d[p][0.20]:\n",
    "        return 0\n",
    "    elif x <= d[p][0.40]:\n",
    "        return 1\n",
    "    elif x <= d[p][0.60]: \n",
    "        return 2\n",
    "    elif x <= d[p][0.80]:\n",
    "        return 3\n",
    "    else:\n",
    "        return 4\n",
    "\n",
    "quantiles = rfm_table.quantile(q=[0.20,0.40,0.60,0.80])\n",
    "quantiles = quantiles.to_dict()\n",
    "rfm_table['Freq_Tile'] = rfm_table['Frequency'].apply(FScore, args=('Frequency',quantiles,))\n",
    "\n",
    "#Recency \n",
    "rfm_table = rfm_table.sort_values('Recency',ascending=True)\n",
    "rfm_table['Rec_Tile'] = pd.qcut(rfm_table['Recency'],5,labels=False)\n",
    "\n",
    "#Monetary \n",
    "rfm_table['Mone_Tile'] = pd.qcut(rfm_table['Monetary'],5,labels=False)\n",
    "\n",
    "# instead of zero, plus 1 \n",
    "rfm_table['Rec_Tile'] = rfm_table['Rec_Tile'] + 1\n",
    "rfm_table['Freq_Tile'] = rfm_table['Freq_Tile'] + 1\n",
    "rfm_table['Mone_Tile'] = rfm_table['Mone_Tile'] + 1\n",
    "\n",
    "# Add to dataframe\n",
    "rfm_table['RFM Score'] = rfm_table['Rec_Tile'].map(str) + rfm_table['Freq_Tile'].map(str) + rfm_table['Mone_Tile'].map(str)\n",
    "rfm_table.head()"
   ]
  },
  {
   "cell_type": "markdown",
   "metadata": {},
   "source": [
    "<a id = \"21\"></a><br>\n",
    "## Who are my best customers?"
   ]
  },
  {
   "cell_type": "code",
   "execution_count": 158,
   "metadata": {},
   "outputs": [
    {
     "data": {
      "text/html": [
       "<div>\n",
       "<style scoped>\n",
       "    .dataframe tbody tr th:only-of-type {\n",
       "        vertical-align: middle;\n",
       "    }\n",
       "\n",
       "    .dataframe tbody tr th {\n",
       "        vertical-align: top;\n",
       "    }\n",
       "\n",
       "    .dataframe thead th {\n",
       "        text-align: right;\n",
       "    }\n",
       "</style>\n",
       "<table border=\"1\" class=\"dataframe\">\n",
       "  <thead>\n",
       "    <tr style=\"text-align: right;\">\n",
       "      <th></th>\n",
       "      <th>Recency</th>\n",
       "      <th>Frequency</th>\n",
       "      <th>Monetary</th>\n",
       "      <th>Freq_Tile</th>\n",
       "      <th>Rec_Tile</th>\n",
       "      <th>Mone_Tile</th>\n",
       "      <th>RFM Score</th>\n",
       "    </tr>\n",
       "  </thead>\n",
       "  <tbody>\n",
       "    <tr>\n",
       "      <th>31325</th>\n",
       "      <td>532</td>\n",
       "      <td>5</td>\n",
       "      <td>2330</td>\n",
       "      <td>5</td>\n",
       "      <td>5</td>\n",
       "      <td>5</td>\n",
       "      <td>555</td>\n",
       "    </tr>\n",
       "    <tr>\n",
       "      <th>33629</th>\n",
       "      <td>493</td>\n",
       "      <td>5</td>\n",
       "      <td>1333</td>\n",
       "      <td>5</td>\n",
       "      <td>5</td>\n",
       "      <td>5</td>\n",
       "      <td>555</td>\n",
       "    </tr>\n",
       "    <tr>\n",
       "      <th>34352</th>\n",
       "      <td>479</td>\n",
       "      <td>5</td>\n",
       "      <td>1063</td>\n",
       "      <td>5</td>\n",
       "      <td>5</td>\n",
       "      <td>5</td>\n",
       "      <td>555</td>\n",
       "    </tr>\n",
       "    <tr>\n",
       "      <th>30524</th>\n",
       "      <td>567</td>\n",
       "      <td>6</td>\n",
       "      <td>985</td>\n",
       "      <td>5</td>\n",
       "      <td>5</td>\n",
       "      <td>5</td>\n",
       "      <td>555</td>\n",
       "    </tr>\n",
       "    <tr>\n",
       "      <th>29376</th>\n",
       "      <td>570</td>\n",
       "      <td>5</td>\n",
       "      <td>981</td>\n",
       "      <td>5</td>\n",
       "      <td>5</td>\n",
       "      <td>5</td>\n",
       "      <td>555</td>\n",
       "    </tr>\n",
       "  </tbody>\n",
       "</table>\n",
       "</div>"
      ],
      "text/plain": [
       "       Recency  Frequency  Monetary  Freq_Tile  Rec_Tile  Mone_Tile RFM Score\n",
       "31325      532          5      2330          5         5          5       555\n",
       "33629      493          5      1333          5         5          5       555\n",
       "34352      479          5      1063          5         5          5       555\n",
       "30524      567          6       985          5         5          5       555\n",
       "29376      570          5       981          5         5          5       555"
      ]
     },
     "execution_count": 158,
     "metadata": {},
     "output_type": "execute_result"
    }
   ],
   "source": [
    "rfm_table[rfm_table['RFM Score'] == '555'].sort_values('Monetary', ascending=False).head()"
   ]
  },
  {
   "cell_type": "markdown",
   "metadata": {},
   "source": [
    "<a id = \"22\"></a><br>\n",
    "## Summing the RFM Score\n",
    "* One of the most straightforward methods is to sum our scores to a single number and define RFM levels for each score range."
   ]
  },
  {
   "cell_type": "code",
   "execution_count": 160,
   "metadata": {},
   "outputs": [
    {
     "data": {
      "text/html": [
       "<div>\n",
       "<style scoped>\n",
       "    .dataframe tbody tr th:only-of-type {\n",
       "        vertical-align: middle;\n",
       "    }\n",
       "\n",
       "    .dataframe tbody tr th {\n",
       "        vertical-align: top;\n",
       "    }\n",
       "\n",
       "    .dataframe thead th {\n",
       "        text-align: right;\n",
       "    }\n",
       "</style>\n",
       "<table border=\"1\" class=\"dataframe\">\n",
       "  <thead>\n",
       "    <tr style=\"text-align: right;\">\n",
       "      <th></th>\n",
       "      <th>Recency</th>\n",
       "      <th>Frequency</th>\n",
       "      <th>Monetary</th>\n",
       "      <th>Freq_Tile</th>\n",
       "      <th>Rec_Tile</th>\n",
       "      <th>Mone_Tile</th>\n",
       "      <th>RFM Score</th>\n",
       "      <th>RFM_Sum</th>\n",
       "    </tr>\n",
       "  </thead>\n",
       "  <tbody>\n",
       "    <tr>\n",
       "      <th>27728</th>\n",
       "      <td>242</td>\n",
       "      <td>1</td>\n",
       "      <td>333</td>\n",
       "      <td>1</td>\n",
       "      <td>1</td>\n",
       "      <td>4</td>\n",
       "      <td>114</td>\n",
       "      <td>6</td>\n",
       "    </tr>\n",
       "    <tr>\n",
       "      <th>27727</th>\n",
       "      <td>247</td>\n",
       "      <td>1</td>\n",
       "      <td>119</td>\n",
       "      <td>1</td>\n",
       "      <td>1</td>\n",
       "      <td>2</td>\n",
       "      <td>112</td>\n",
       "      <td>4</td>\n",
       "    </tr>\n",
       "    <tr>\n",
       "      <th>27726</th>\n",
       "      <td>256</td>\n",
       "      <td>1</td>\n",
       "      <td>232</td>\n",
       "      <td>1</td>\n",
       "      <td>1</td>\n",
       "      <td>4</td>\n",
       "      <td>114</td>\n",
       "      <td>6</td>\n",
       "    </tr>\n",
       "    <tr>\n",
       "      <th>27725</th>\n",
       "      <td>257</td>\n",
       "      <td>1</td>\n",
       "      <td>136</td>\n",
       "      <td>1</td>\n",
       "      <td>1</td>\n",
       "      <td>2</td>\n",
       "      <td>112</td>\n",
       "      <td>4</td>\n",
       "    </tr>\n",
       "    <tr>\n",
       "      <th>27723</th>\n",
       "      <td>258</td>\n",
       "      <td>1</td>\n",
       "      <td>234</td>\n",
       "      <td>1</td>\n",
       "      <td>1</td>\n",
       "      <td>4</td>\n",
       "      <td>114</td>\n",
       "      <td>6</td>\n",
       "    </tr>\n",
       "  </tbody>\n",
       "</table>\n",
       "</div>"
      ],
      "text/plain": [
       "       Recency  Frequency  Monetary  Freq_Tile  Rec_Tile  Mone_Tile RFM Score  \\\n",
       "27728      242          1       333          1         1          4       114   \n",
       "27727      247          1       119          1         1          2       112   \n",
       "27726      256          1       232          1         1          4       114   \n",
       "27725      257          1       136          1         1          2       112   \n",
       "27723      258          1       234          1         1          4       114   \n",
       "\n",
       "       RFM_Sum  \n",
       "27728        6  \n",
       "27727        4  \n",
       "27726        6  \n",
       "27725        4  \n",
       "27723        6  "
      ]
     },
     "execution_count": 160,
     "metadata": {},
     "output_type": "execute_result"
    }
   ],
   "source": [
    "# Calculate RFM_Score\n",
    "rfm_table['RFM_Sum'] = rfm_table[['Freq_Tile','Rec_Tile','Mone_Tile']].sum(axis=1)\n",
    "rfm_table.head()"
   ]
  },
  {
   "cell_type": "markdown",
   "metadata": {},
   "source": [
    "<a id = \"23\"></a><br>\n",
    "## Making Segmentation For Customers Depends On RFM Sum Score\n",
    "* We can get creative and hypothesize about what each score range entails, but for this exercise I will take inspiration from some common segment names."
   ]
  },
  {
   "cell_type": "code",
   "execution_count": 162,
   "metadata": {},
   "outputs": [
    {
     "data": {
      "text/html": [
       "<div>\n",
       "<style scoped>\n",
       "    .dataframe tbody tr th:only-of-type {\n",
       "        vertical-align: middle;\n",
       "    }\n",
       "\n",
       "    .dataframe tbody tr th {\n",
       "        vertical-align: top;\n",
       "    }\n",
       "\n",
       "    .dataframe thead th {\n",
       "        text-align: right;\n",
       "    }\n",
       "</style>\n",
       "<table border=\"1\" class=\"dataframe\">\n",
       "  <thead>\n",
       "    <tr style=\"text-align: right;\">\n",
       "      <th></th>\n",
       "      <th>Recency</th>\n",
       "      <th>Frequency</th>\n",
       "      <th>Monetary</th>\n",
       "      <th>Freq_Tile</th>\n",
       "      <th>Rec_Tile</th>\n",
       "      <th>Mone_Tile</th>\n",
       "      <th>RFM Score</th>\n",
       "      <th>RFM_Sum</th>\n",
       "      <th>RFM_Level</th>\n",
       "    </tr>\n",
       "  </thead>\n",
       "  <tbody>\n",
       "    <tr>\n",
       "      <th>27728</th>\n",
       "      <td>242</td>\n",
       "      <td>1</td>\n",
       "      <td>333</td>\n",
       "      <td>1</td>\n",
       "      <td>1</td>\n",
       "      <td>4</td>\n",
       "      <td>114</td>\n",
       "      <td>6</td>\n",
       "      <td>Potential</td>\n",
       "    </tr>\n",
       "    <tr>\n",
       "      <th>27727</th>\n",
       "      <td>247</td>\n",
       "      <td>1</td>\n",
       "      <td>119</td>\n",
       "      <td>1</td>\n",
       "      <td>1</td>\n",
       "      <td>2</td>\n",
       "      <td>112</td>\n",
       "      <td>4</td>\n",
       "      <td>Needs Attention</td>\n",
       "    </tr>\n",
       "    <tr>\n",
       "      <th>27726</th>\n",
       "      <td>256</td>\n",
       "      <td>1</td>\n",
       "      <td>232</td>\n",
       "      <td>1</td>\n",
       "      <td>1</td>\n",
       "      <td>4</td>\n",
       "      <td>114</td>\n",
       "      <td>6</td>\n",
       "      <td>Potential</td>\n",
       "    </tr>\n",
       "    <tr>\n",
       "      <th>27725</th>\n",
       "      <td>257</td>\n",
       "      <td>1</td>\n",
       "      <td>136</td>\n",
       "      <td>1</td>\n",
       "      <td>1</td>\n",
       "      <td>2</td>\n",
       "      <td>112</td>\n",
       "      <td>4</td>\n",
       "      <td>Needs Attention</td>\n",
       "    </tr>\n",
       "    <tr>\n",
       "      <th>27723</th>\n",
       "      <td>258</td>\n",
       "      <td>1</td>\n",
       "      <td>234</td>\n",
       "      <td>1</td>\n",
       "      <td>1</td>\n",
       "      <td>4</td>\n",
       "      <td>114</td>\n",
       "      <td>6</td>\n",
       "      <td>Potential</td>\n",
       "    </tr>\n",
       "  </tbody>\n",
       "</table>\n",
       "</div>"
      ],
      "text/plain": [
       "       Recency  Frequency  Monetary  Freq_Tile  Rec_Tile  Mone_Tile RFM Score  \\\n",
       "27728      242          1       333          1         1          4       114   \n",
       "27727      247          1       119          1         1          2       112   \n",
       "27726      256          1       232          1         1          4       114   \n",
       "27725      257          1       136          1         1          2       112   \n",
       "27723      258          1       234          1         1          4       114   \n",
       "\n",
       "       RFM_Sum        RFM_Level  \n",
       "27728        6        Potential  \n",
       "27727        4  Needs Attention  \n",
       "27726        6        Potential  \n",
       "27725        4  Needs Attention  \n",
       "27723        6        Potential  "
      ]
     },
     "execution_count": 162,
     "metadata": {},
     "output_type": "execute_result"
    }
   ],
   "source": [
    "# Define rfm_level function\n",
    "def rfm_level(df):\n",
    "    if df['RFM_Sum'] >= 9:\n",
    "        return 'Can\\'t Loose Them'\n",
    "    elif ((df['RFM_Sum'] >= 8) and (df['RFM_Sum'] < 9)):\n",
    "        return 'Champions'\n",
    "    elif ((df['RFM_Sum'] >= 7) and (df['RFM_Sum'] < 8)):\n",
    "        return 'Loyal'\n",
    "    elif ((df['RFM_Sum'] >= 6) and (df['RFM_Sum'] < 7)):\n",
    "        return 'Potential'\n",
    "    elif ((df['RFM_Sum'] >= 5) and (df['RFM_Sum'] < 6)):\n",
    "        return 'Promising'\n",
    "    elif ((df['RFM_Sum'] >= 4) and (df['RFM_Sum'] < 5)):\n",
    "        return 'Needs Attention'\n",
    "    else:\n",
    "        return 'Require Activation'\n",
    "# Create a new variable RFM_Level\n",
    "rfm_table['RFM_Level'] = rfm_table.apply(rfm_level, axis=1)\n",
    "# Print the header with top 5 rows to the console\n",
    "rfm_table.head()"
   ]
  },
  {
   "cell_type": "code",
   "execution_count": 167,
   "metadata": {},
   "outputs": [
    {
     "data": {
      "text/html": [
       "<div>\n",
       "<style scoped>\n",
       "    .dataframe tbody tr th:only-of-type {\n",
       "        vertical-align: middle;\n",
       "    }\n",
       "\n",
       "    .dataframe tbody tr th {\n",
       "        vertical-align: top;\n",
       "    }\n",
       "\n",
       "    .dataframe thead th {\n",
       "        text-align: right;\n",
       "    }\n",
       "</style>\n",
       "<table border=\"1\" class=\"dataframe\">\n",
       "  <thead>\n",
       "    <tr style=\"text-align: right;\">\n",
       "      <th></th>\n",
       "      <th>Recency</th>\n",
       "      <th>Frequency</th>\n",
       "      <th>Monetary</th>\n",
       "      <th>Freq_Tile</th>\n",
       "      <th>Rec_Tile</th>\n",
       "      <th>Mone_Tile</th>\n",
       "      <th>RFM Score</th>\n",
       "      <th>RFM_Sum</th>\n",
       "      <th>RFM_Level</th>\n",
       "    </tr>\n",
       "  </thead>\n",
       "  <tbody>\n",
       "    <tr>\n",
       "      <th>31325</th>\n",
       "      <td>532</td>\n",
       "      <td>5</td>\n",
       "      <td>2330</td>\n",
       "      <td>5</td>\n",
       "      <td>5</td>\n",
       "      <td>5</td>\n",
       "      <td>555</td>\n",
       "      <td>15</td>\n",
       "      <td>Can't Loose Them</td>\n",
       "    </tr>\n",
       "    <tr>\n",
       "      <th>33629</th>\n",
       "      <td>493</td>\n",
       "      <td>5</td>\n",
       "      <td>1333</td>\n",
       "      <td>5</td>\n",
       "      <td>5</td>\n",
       "      <td>5</td>\n",
       "      <td>555</td>\n",
       "      <td>15</td>\n",
       "      <td>Can't Loose Them</td>\n",
       "    </tr>\n",
       "    <tr>\n",
       "      <th>34352</th>\n",
       "      <td>479</td>\n",
       "      <td>5</td>\n",
       "      <td>1063</td>\n",
       "      <td>5</td>\n",
       "      <td>5</td>\n",
       "      <td>5</td>\n",
       "      <td>555</td>\n",
       "      <td>15</td>\n",
       "      <td>Can't Loose Them</td>\n",
       "    </tr>\n",
       "    <tr>\n",
       "      <th>30524</th>\n",
       "      <td>567</td>\n",
       "      <td>6</td>\n",
       "      <td>985</td>\n",
       "      <td>5</td>\n",
       "      <td>5</td>\n",
       "      <td>5</td>\n",
       "      <td>555</td>\n",
       "      <td>15</td>\n",
       "      <td>Can't Loose Them</td>\n",
       "    </tr>\n",
       "    <tr>\n",
       "      <th>29376</th>\n",
       "      <td>570</td>\n",
       "      <td>5</td>\n",
       "      <td>981</td>\n",
       "      <td>5</td>\n",
       "      <td>5</td>\n",
       "      <td>5</td>\n",
       "      <td>555</td>\n",
       "      <td>15</td>\n",
       "      <td>Can't Loose Them</td>\n",
       "    </tr>\n",
       "  </tbody>\n",
       "</table>\n",
       "</div>"
      ],
      "text/plain": [
       "       Recency  Frequency  Monetary  Freq_Tile  Rec_Tile  Mone_Tile RFM Score  \\\n",
       "31325      532          5      2330          5         5          5       555   \n",
       "33629      493          5      1333          5         5          5       555   \n",
       "34352      479          5      1063          5         5          5       555   \n",
       "30524      567          6       985          5         5          5       555   \n",
       "29376      570          5       981          5         5          5       555   \n",
       "\n",
       "       RFM_Sum         RFM_Level  \n",
       "31325       15  Can't Loose Them  \n",
       "33629       15  Can't Loose Them  \n",
       "34352       15  Can't Loose Them  \n",
       "30524       15  Can't Loose Them  \n",
       "29376       15  Can't Loose Them  "
      ]
     },
     "execution_count": 167,
     "metadata": {},
     "output_type": "execute_result"
    }
   ],
   "source": [
    "rfm_table[rfm_table['RFM Score'] == '555'].sort_values('Monetary', ascending=False).head()"
   ]
  },
  {
   "cell_type": "code",
   "execution_count": 163,
   "metadata": {},
   "outputs": [
    {
     "data": {
      "text/plain": [
       "Can't Loose Them      19541\n",
       "Champions              6572\n",
       "Loyal                  5840\n",
       "Potential              3721\n",
       "Promising              2475\n",
       "Needs Attention        1273\n",
       "Require Activation      499\n",
       "Name: RFM_Level, dtype: int64"
      ]
     },
     "execution_count": 163,
     "metadata": {},
     "output_type": "execute_result"
    }
   ],
   "source": [
    "rfm_table[\"RFM_Level\"].value_counts()"
   ]
  },
  {
   "cell_type": "code",
   "execution_count": 164,
   "metadata": {},
   "outputs": [
    {
     "name": "stdout",
     "output_type": "stream",
     "text": [
      "                   Recency Frequency Monetary       \n",
      "                      mean      mean     mean  count\n",
      "RFM_Level                                           \n",
      "Can't Loose Them     466.1       3.5    351.9  19541\n",
      "Champions            435.8       3.1    216.4   6572\n",
      "Loyal                414.3       2.6    172.1   5840\n",
      "Needs Attention      339.2       1.4     80.1   1273\n",
      "Potential            398.0       1.6    130.1   3721\n",
      "Promising            379.8       1.4    102.6   2475\n",
      "Require Activation   287.3       1.0     58.1    499\n"
     ]
    }
   ],
   "source": [
    "# Calculate average values for each RFM_Level, and return a size of each segment \n",
    "rfm_level_agg = rfm_table.groupby('RFM_Level').agg({\n",
    "    'Recency': 'mean',\n",
    "    'Frequency': 'mean',\n",
    "    'Monetary': ['mean', 'count']}).round(1)\n",
    "# Print the aggregated dataset\n",
    "print(rfm_level_agg)"
   ]
  },
  {
   "cell_type": "code",
   "execution_count": null,
   "metadata": {},
   "outputs": [],
   "source": []
  }
 ],
 "metadata": {
  "kernelspec": {
   "display_name": "Python 3",
   "language": "python",
   "name": "python3"
  },
  "language_info": {
   "codemirror_mode": {
    "name": "ipython",
    "version": 3
   },
   "file_extension": ".py",
   "mimetype": "text/x-python",
   "name": "python",
   "nbconvert_exporter": "python",
   "pygments_lexer": "ipython3",
   "version": "3.7.7"
  }
 },
 "nbformat": 4,
 "nbformat_minor": 4
}
